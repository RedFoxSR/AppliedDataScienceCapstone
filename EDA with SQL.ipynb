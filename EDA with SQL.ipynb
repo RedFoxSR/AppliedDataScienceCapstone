





<!DOCTYPE html>
<html lang="en" data-color-mode="auto" data-light-theme="light" data-dark-theme="dark"  data-a11y-animated-images="system">
  <head>
    <meta charset="utf-8">
  <link rel="dns-prefetch" href="https://github.githubassets.com">
  <link rel="dns-prefetch" href="https://avatars.githubusercontent.com">
  <link rel="dns-prefetch" href="https://github-cloud.s3.amazonaws.com">
  <link rel="dns-prefetch" href="https://user-images.githubusercontent.com/">
  <link rel="preconnect" href="https://github.githubassets.com" crossorigin>
  <link rel="preconnect" href="https://avatars.githubusercontent.com">

  


  <link crossorigin="anonymous" media="all" rel="stylesheet" href="https://github.githubassets.com/assets/light-8cafbcbd78f4.css" /><link crossorigin="anonymous" media="all" rel="stylesheet" href="https://github.githubassets.com/assets/dark-31dc14e38457.css" /><link data-color-theme="dark_dimmed" crossorigin="anonymous" media="all" rel="stylesheet" data-href="https://github.githubassets.com/assets/dark_dimmed-71414d661fe2.css" /><link data-color-theme="dark_high_contrast" crossorigin="anonymous" media="all" rel="stylesheet" data-href="https://github.githubassets.com/assets/dark_high_contrast-ba96c7f1d660.css" /><link data-color-theme="dark_colorblind" crossorigin="anonymous" media="all" rel="stylesheet" data-href="https://github.githubassets.com/assets/dark_colorblind-7471c22cdb6a.css" /><link data-color-theme="light_colorblind" crossorigin="anonymous" media="all" rel="stylesheet" data-href="https://github.githubassets.com/assets/light_colorblind-80180bed15ed.css" /><link data-color-theme="light_high_contrast" crossorigin="anonymous" media="all" rel="stylesheet" data-href="https://github.githubassets.com/assets/light_high_contrast-e89b9cdecb75.css" /><link data-color-theme="light_tritanopia" crossorigin="anonymous" media="all" rel="stylesheet" data-href="https://github.githubassets.com/assets/light_tritanopia-77f15e9154df.css" /><link data-color-theme="dark_tritanopia" crossorigin="anonymous" media="all" rel="stylesheet" data-href="https://github.githubassets.com/assets/dark_tritanopia-f598f8dd18ae.css" />
  
    <link crossorigin="anonymous" media="all" rel="stylesheet" href="https://github.githubassets.com/assets/primer-primitives-fb1d51d1ef66.css" />
    <link crossorigin="anonymous" media="all" rel="stylesheet" href="https://github.githubassets.com/assets/primer-05fec56eb582.css" />
    <link crossorigin="anonymous" media="all" rel="stylesheet" href="https://github.githubassets.com/assets/global-280e28c4e8be.css" />
    <link crossorigin="anonymous" media="all" rel="stylesheet" href="https://github.githubassets.com/assets/github-21dc4e5af19d.css" />
  <link crossorigin="anonymous" media="all" rel="stylesheet" href="https://github.githubassets.com/assets/code-ca6467096a82.css" />

  

  <script type="application/json" id="client-env">{"locale":"en","featureFlags":["failbot_handle_non_errors","fix_react_title","geojson_azure_maps","image_metric_tracking","remove_react_base_styles","turbo_experiment_risky","use_scroll_restoration"]}</script>
<script crossorigin="anonymous" defer="defer" type="application/javascript" src="https://github.githubassets.com/assets/wp-runtime-314e46461dd0.js"></script>
<script crossorigin="anonymous" defer="defer" type="application/javascript" src="https://github.githubassets.com/assets/vendors-node_modules_dompurify_dist_purify_js-64d590970fa6.js"></script>
<script crossorigin="anonymous" defer="defer" type="application/javascript" src="https://github.githubassets.com/assets/vendors-node_modules_stacktrace-parser_dist_stack-trace-parser_esm_js-node_modules_github_bro-a4c183-ae93d3fba59c.js"></script>
<script crossorigin="anonymous" defer="defer" type="application/javascript" src="https://github.githubassets.com/assets/ui_packages_soft-nav_soft-nav_ts-78d5d34f4891.js"></script>
<script crossorigin="anonymous" defer="defer" type="application/javascript" src="https://github.githubassets.com/assets/environment-c2140938ffde.js"></script>
<script crossorigin="anonymous" defer="defer" type="application/javascript" src="https://github.githubassets.com/assets/vendors-node_modules_github_selector-observer_dist_index_esm_js-2646a2c533e3.js"></script>
<script crossorigin="anonymous" defer="defer" type="application/javascript" src="https://github.githubassets.com/assets/vendors-node_modules_primer_behaviors_dist_esm_focus-zone_js-d55308df5023.js"></script>
<script crossorigin="anonymous" defer="defer" type="application/javascript" src="https://github.githubassets.com/assets/vendors-node_modules_github_relative-time-element_dist_index_js-99e288659d4f.js"></script>
<script crossorigin="anonymous" defer="defer" type="application/javascript" src="https://github.githubassets.com/assets/vendors-node_modules_fzy_js_index_js-node_modules_github_markdown-toolbar-element_dist_index_js-d2119e75298d.js"></script>
<script crossorigin="anonymous" defer="defer" type="application/javascript" src="https://github.githubassets.com/assets/vendors-node_modules_delegated-events_dist_index_js-node_modules_github_auto-complete-element-5b3870-9b38c0812424.js"></script>
<script crossorigin="anonymous" defer="defer" type="application/javascript" src="https://github.githubassets.com/assets/vendors-node_modules_github_filter-input-element_dist_index_js-node_modules_github_remote-inp-8873b7-5771678648e0.js"></script>
<script crossorigin="anonymous" defer="defer" type="application/javascript" src="https://github.githubassets.com/assets/vendors-node_modules_github_file-attachment-element_dist_index_js-node_modules_github_text-ex-3415a8-7ecc10fb88d0.js"></script>
<script crossorigin="anonymous" defer="defer" type="application/javascript" src="https://github.githubassets.com/assets/vendors-node_modules_primer_view-components_app_components_primer_primer_js-node_modules_gith-e7a1e2-0c753046063c.js"></script>
<script crossorigin="anonymous" defer="defer" type="application/javascript" src="https://github.githubassets.com/assets/github-elements-82e8d1a2fb81.js"></script>
<script crossorigin="anonymous" defer="defer" type="application/javascript" src="https://github.githubassets.com/assets/element-registry-0c082928b31c.js"></script>
<script crossorigin="anonymous" defer="defer" type="application/javascript" src="https://github.githubassets.com/assets/vendors-node_modules_lit-html_lit-html_js-9d9fe1859ce5.js"></script>
<script crossorigin="anonymous" defer="defer" type="application/javascript" src="https://github.githubassets.com/assets/vendors-node_modules_github_hydro-analytics-client_dist_analytics-client_js-node_modules_gith-f3aee1-fd3c22610e40.js"></script>
<script crossorigin="anonymous" defer="defer" type="application/javascript" src="https://github.githubassets.com/assets/vendors-node_modules_morphdom_dist_morphdom-esm_js-b1fdd7158cf0.js"></script>
<script crossorigin="anonymous" defer="defer" type="application/javascript" src="https://github.githubassets.com/assets/vendors-node_modules_github_mini-throttle_dist_index_js-node_modules_github_alive-client_dist-bf5aa2-4aefce0fc3c8.js"></script>
<script crossorigin="anonymous" defer="defer" type="application/javascript" src="https://github.githubassets.com/assets/vendors-node_modules_github_turbo_dist_turbo_es2017-esm_js-1f4793023fcd.js"></script>
<script crossorigin="anonymous" defer="defer" type="application/javascript" src="https://github.githubassets.com/assets/vendors-node_modules_github_remote-form_dist_index_js-node_modules_scroll-anchoring_dist_scro-52dc4b-e1e33bfc0b7e.js"></script>
<script crossorigin="anonymous" defer="defer" type="application/javascript" src="https://github.githubassets.com/assets/vendors-node_modules_color-convert_index_js-35b3ae68c408.js"></script>
<script crossorigin="anonymous" defer="defer" type="application/javascript" src="https://github.githubassets.com/assets/vendors-node_modules_github_paste-markdown_dist_index_esm_js-node_modules_github_quote-select-7a8e2b-f036384374ea.js"></script>
<script crossorigin="anonymous" defer="defer" type="application/javascript" src="https://github.githubassets.com/assets/app_assets_modules_github_updatable-content_ts-126aeb5c22c9.js"></script>
<script crossorigin="anonymous" defer="defer" type="application/javascript" src="https://github.githubassets.com/assets/app_assets_modules_github_behaviors_task-list_ts-app_assets_modules_github_onfocus_ts-app_ass-079b43-c46fa3ecf26e.js"></script>
<script crossorigin="anonymous" defer="defer" type="application/javascript" src="https://github.githubassets.com/assets/app_assets_modules_github_sticky-scroll-into-view_ts-050ad6637d58.js"></script>
<script crossorigin="anonymous" defer="defer" type="application/javascript" src="https://github.githubassets.com/assets/app_assets_modules_github_blob-anchor_ts-app_assets_modules_github_cookies_ts-app_assets_modu-4c025d-7e5d24b6e472.js"></script>
<script crossorigin="anonymous" defer="defer" type="application/javascript" src="https://github.githubassets.com/assets/app_assets_modules_github_behaviors_commenting_edit_ts-app_assets_modules_github_behaviors_ht-83c235-f22ac6b94445.js"></script>
<script crossorigin="anonymous" defer="defer" type="application/javascript" src="https://github.githubassets.com/assets/app_assets_modules_github_behaviors_ajax-error_ts-app_assets_modules_github_behaviors_include-2e2258-113626c1b575.js"></script>
<script crossorigin="anonymous" defer="defer" type="application/javascript" src="https://github.githubassets.com/assets/behaviors-dd3089ddb7d6.js"></script>
<script crossorigin="anonymous" defer="defer" type="application/javascript" src="https://github.githubassets.com/assets/vendors-node_modules_delegated-events_dist_index_js-node_modules_github_catalyst_lib_index_js-06ff531-fe0b8ccc90a5.js"></script>
<script crossorigin="anonymous" defer="defer" type="application/javascript" src="https://github.githubassets.com/assets/notifications-global-f57687007bfc.js"></script>
<script crossorigin="anonymous" defer="defer" type="application/javascript" src="https://github.githubassets.com/assets/code-menu-7eb31ccaaf48.js"></script>
  
  <script crossorigin="anonymous" defer="defer" type="application/javascript" src="https://github.githubassets.com/assets/react-lib-210c4b5934c3.js"></script>
<script crossorigin="anonymous" defer="defer" type="application/javascript" src="https://github.githubassets.com/assets/vendors-node_modules_primer_octicons-react_dist_index_esm_js-node_modules_primer_react_lib-es-4edbf7-ca2c3bc7a680.js"></script>
<script crossorigin="anonymous" defer="defer" type="application/javascript" src="https://github.githubassets.com/assets/vendors-node_modules_primer_react_lib-esm_Button_index_js-de75df76800b.js"></script>
<script crossorigin="anonymous" defer="defer" type="application/javascript" src="https://github.githubassets.com/assets/vendors-node_modules_primer_react_lib-esm_ActionList_index_js-cf279ec390fe.js"></script>
<script crossorigin="anonymous" defer="defer" type="application/javascript" src="https://github.githubassets.com/assets/vendors-node_modules_primer_react_lib-esm_Overlay_Overlay_js-node_modules_primer_react_lib-es-c25505-7256d09cc6de.js"></script>
<script crossorigin="anonymous" defer="defer" type="application/javascript" src="https://github.githubassets.com/assets/vendors-node_modules_primer_react_lib-esm_TextInput_TextInput_js-bda16ad5f5c0.js"></script>
<script crossorigin="anonymous" defer="defer" type="application/javascript" src="https://github.githubassets.com/assets/vendors-node_modules_primer_react_lib-esm_ActionMenu_js-fb2356b308cf.js"></script>
<script crossorigin="anonymous" defer="defer" type="application/javascript" src="https://github.githubassets.com/assets/vendors-node_modules_primer_behaviors_dist_esm_scroll-into-view_js-node_modules_primer_react_-04bb1b-f1078ffd63d6.js"></script>
<script crossorigin="anonymous" defer="defer" type="application/javascript" src="https://github.githubassets.com/assets/vendors-node_modules_primer_react_lib-esm_FormControl_FormControl_js-3ec7b5d8c7d7.js"></script>
<script crossorigin="anonymous" defer="defer" type="application/javascript" src="https://github.githubassets.com/assets/vendors-node_modules_react-router-dom_dist_index_js-4a785319b497.js"></script>
<script crossorigin="anonymous" defer="defer" type="application/javascript" src="https://github.githubassets.com/assets/vendors-node_modules_primer_react_lib-esm_Heading_Heading_js-node_modules_primer_react_lib-es-20c766-3952b4d6d547.js"></script>
<script crossorigin="anonymous" defer="defer" type="application/javascript" src="https://github.githubassets.com/assets/vendors-node_modules_primer_react_lib-esm_Dialog_ConfirmationDialog_js-a160e95ee1e8.js"></script>
<script crossorigin="anonymous" defer="defer" type="application/javascript" src="https://github.githubassets.com/assets/vendors-node_modules_primer_react_lib-esm_Dialog_js-node_modules_primer_react_lib-esm_TabNav_-8321f5-f6c3aa4bc5a3.js"></script>
<script crossorigin="anonymous" defer="defer" type="application/javascript" src="https://github.githubassets.com/assets/vendors-node_modules_primer_react_lib-esm_TreeView_TreeView_js-2d5a3fb3b8ec.js"></script>
<script crossorigin="anonymous" defer="defer" type="application/javascript" src="https://github.githubassets.com/assets/vendors-node_modules_primer_react_lib-esm_Label_Label_js-node_modules_primer_react_lib-esm_Na-46dd9b-87cea263d02a.js"></script>
<script crossorigin="anonymous" defer="defer" type="application/javascript" src="https://github.githubassets.com/assets/vendors-node_modules_primer_react_lib-esm_AvatarStack_AvatarStack_js-node_modules_primer_reac-0b4173-d8ba3894d9e9.js"></script>
<script crossorigin="anonymous" defer="defer" type="application/javascript" src="https://github.githubassets.com/assets/vendors-node_modules_primer_react_lib-esm_Avatar_Avatar_js-node_modules_primer_react_lib-esm_-df8a0c-dd641d38ef01.js"></script>
<script crossorigin="anonymous" defer="defer" type="application/javascript" src="https://github.githubassets.com/assets/ui_packages_react-core_create-browser-history_ts-ui_packages_react-core_deferred-registry_ts--ebbb92-50880bdc5744.js"></script>
<script crossorigin="anonymous" defer="defer" type="application/javascript" src="https://github.githubassets.com/assets/ui_packages_react-core_register-app_ts-93cc6fb20bd5.js"></script>
<script crossorigin="anonymous" defer="defer" type="application/javascript" src="https://github.githubassets.com/assets/ui_packages_ref-selector_RefSelector_tsx-ui_packages_safe-html_SafeHTML_tsx-5e5aa97558ac.js"></script>
<script crossorigin="anonymous" defer="defer" type="application/javascript" src="https://github.githubassets.com/assets/app_assets_modules_blackbird-monolith_utilities_append-and-focus-search-bar_ts-app_assets_mod-a1e934-d2871ae49f44.js"></script>
<script crossorigin="anonymous" defer="defer" type="application/javascript" src="https://github.githubassets.com/assets/ui_packages_trusted-types-policies_policy_ts-ui_packages_trusted-types_trusted-types_ts-app_a-af1c83-8cd0d1b59838.js"></script>
<script crossorigin="anonymous" defer="defer" type="application/javascript" src="https://github.githubassets.com/assets/react-code-view-69c93727396c.js"></script>


  <title>IBM_Data_Science_Professional_Certification/10.Applied_Data_Science_Capstone/Week 2 EDA/EDA with SQL.ipynb at master · navassherif98/IBM_Data_Science_Professional_Certification</title>



  <meta name="route-pattern" content="/:user_id/:repository/blob/*name(/*path)">

    
  <meta name="current-catalog-service-hash" content="82c569b93da5c18ed649ebd4c2c79437db4611a6a1373e805a3cb001c64130b7">


  <meta name="request-id" content="205D:27FD9:3E949A:42AC6B:64C8F3B3" data-turbo-transient="true" /><meta name="html-safe-nonce" content="e3b803e51122aedd8a424112e111f4af306058d8700d86aa4258d664195ad4fb" data-turbo-transient="true" /><meta name="visitor-payload" content="eyJyZWZlcnJlciI6Imh0dHBzOi8vZ2l0aHViLmNvbS9uYXZhc3NoZXJpZjk4L0lCTV9EYXRhX1NjaWVuY2VfUHJvZmVzc2lvbmFsX0NlcnRpZmljYXRpb24vdHJlZS9tYXN0ZXIvMTAuQXBwbGllZF9EYXRhX1NjaWVuY2VfQ2Fwc3RvbmUvV2VlayUyMDIlMjBFREEiLCJyZXF1ZXN0X2lkIjoiMjA1RDoyN0ZEOTozRTk0OUE6NDJBQzZCOjY0QzhGM0IzIiwidmlzaXRvcl9pZCI6IjE3NDg2NTExMzU0NTE5NzY2NjkiLCJyZWdpb25fZWRnZSI6ImNlbnRyYWxpbmRpYSIsInJlZ2lvbl9yZW5kZXIiOiJpYWQifQ==" data-turbo-transient="true" /><meta name="visitor-hmac" content="2781d8c4f65b44fc1d3c5f5b252c56ccb161c8e800163eeffa024dfda46e0f2e" data-turbo-transient="true" />


    <meta name="hovercard-subject-tag" content="repository:398720371" data-turbo-transient>


  <meta name="github-keyboard-shortcuts" content="repository,source-code,file-tree" data-turbo-transient="true" />
  

  <meta name="selected-link" value="repo_source" data-turbo-transient>
  <link rel="assets" href="https://github.githubassets.com/">

    <meta name="google-site-verification" content="c1kuD-K2HIVF635lypcsWPoD4kilo5-jA_wBFyT4uMY">
  <meta name="google-site-verification" content="KT5gs8h0wvaagLKAVWq8bbeNwnZZK1r1XQysX3xurLU">
  <meta name="google-site-verification" content="ZzhVyEFwb7w3e0-uOTltm8Jsck2F5StVihD0exw2fsA">
  <meta name="google-site-verification" content="GXs5KoUUkNCoaAZn7wPN-t01Pywp9M3sEjnt_3_ZWPc">
  <meta name="google-site-verification" content="Apib7-x98H0j5cPqHWwSMm6dNU4GmODRoqxLiDzdx9I">

<meta name="octolytics-url" content="https://collector.github.com/github/collect" /><meta name="octolytics-actor-id" content="139646021" /><meta name="octolytics-actor-login" content="RedFoxSR" /><meta name="octolytics-actor-hash" content="c73f24ff7e5167ed6762459e0d94ba1140b7f2646e2f14e88ac77c681ca00a44" />

  <meta name="analytics-location" content="/&lt;user-name&gt;/&lt;repo-name&gt;/blob/show" data-turbo-transient="true" />

  




  

    <meta name="user-login" content="RedFoxSR">

  <link rel="sudo-modal" href="/sessions/sudo_modal">

    <meta name="viewport" content="width=device-width">
    
      <meta name="description" content="This repository contains all the resources and solution to quizzes given and asked in IBM Data Science Professional Certification. - IBM_Data_Science_Professional_Certification/10.Applied_Data_Science_Capstone/Week 2 EDA/EDA with SQL.ipynb at master · navassherif98/IBM_Data_Science_Professional_Certification">
      <link rel="search" type="application/opensearchdescription+xml" href="/opensearch.xml" title="GitHub">
    <link rel="fluid-icon" href="https://github.com/fluidicon.png" title="GitHub">
    <meta property="fb:app_id" content="1401488693436528">
    <meta name="apple-itunes-app" content="app-id=1477376905, app-argument=https://github.com/navassherif98/IBM_Data_Science_Professional_Certification/blob/master/10.Applied_Data_Science_Capstone/Week%202%20EDA/EDA%20with%20SQL.ipynb" />
      <meta name="twitter:image:src" content="https://opengraph.githubassets.com/eed0a8f83e2495ad386b9fa4a900f89c25274e513078f3702c0a244f93aa8d80/navassherif98/IBM_Data_Science_Professional_Certification" /><meta name="twitter:site" content="@github" /><meta name="twitter:card" content="summary_large_image" /><meta name="twitter:title" content="IBM_Data_Science_Professional_Certification/10.Applied_Data_Science_Capstone/Week 2 EDA/EDA with SQL.ipynb at master · navassherif98/IBM_Data_Science_Professional_Certification" /><meta name="twitter:description" content="This repository contains all the resources and solution to quizzes given and asked in IBM Data Science Professional Certification. - navassherif98/IBM_Data_Science_Professional_Certification" />
      <meta property="og:image" content="https://opengraph.githubassets.com/eed0a8f83e2495ad386b9fa4a900f89c25274e513078f3702c0a244f93aa8d80/navassherif98/IBM_Data_Science_Professional_Certification" /><meta property="og:image:alt" content="This repository contains all the resources and solution to quizzes given and asked in IBM Data Science Professional Certification. - navassherif98/IBM_Data_Science_Professional_Certification" /><meta property="og:image:width" content="1200" /><meta property="og:image:height" content="600" /><meta property="og:site_name" content="GitHub" /><meta property="og:type" content="object" /><meta property="og:title" content="IBM_Data_Science_Professional_Certification/10.Applied_Data_Science_Capstone/Week 2 EDA/EDA with SQL.ipynb at master · navassherif98/IBM_Data_Science_Professional_Certification" /><meta property="og:url" content="https://github.com/navassherif98/IBM_Data_Science_Professional_Certification/blob/master/10.Applied_Data_Science_Capstone/Week%202%20EDA/EDA%20with%20SQL.ipynb" /><meta property="og:description" content="This repository contains all the resources and solution to quizzes given and asked in IBM Data Science Professional Certification. - navassherif98/IBM_Data_Science_Professional_Certification" />
      

      <link rel="shared-web-socket" href="wss://alive.github.com/_sockets/u/139646021/ws?session=eyJ2IjoiVjMiLCJ1IjoxMzk2NDYwMjEsInMiOjExNTk5NTE3NDEsImMiOjIzMTU5OTg1MDcsInQiOjE2OTA4OTExODl9--dfe8de399a949bcee20fc0040587379f425d4109c25473f50eb4904743b17c7b" data-refresh-url="/_alive" data-session-id="c5a22c9e63a841c773d636cac18d5e174aabbe85c0de6d39c3d62f4f2ddea942">
      <link rel="shared-web-socket-src" href="/assets-cdn/worker/socket-worker-71e98f781d79.js">


        <meta name="hostname" content="github.com">


      <meta name="keyboard-shortcuts-preference" content="all">

        <meta name="expected-hostname" content="github.com">

    <meta name="enabled-features" content="FAILBOT_HANDLE_NON_ERRORS,FIX_REACT_TITLE,GEOJSON_AZURE_MAPS,IMAGE_METRIC_TRACKING,REMOVE_REACT_BASE_STYLES,TURBO_EXPERIMENT_RISKY,USE_SCROLL_RESTORATION">


  <meta http-equiv="x-pjax-version" content="5d674ace59197e45f30b3dc940bbd3105acce8f8602918223f02a19b59c98206" data-turbo-track="reload">
  <meta http-equiv="x-pjax-csp-version" content="d578db686ab50f6f79f53006983acd122464dfeec8531d38fe12d520f9cbf1bc" data-turbo-track="reload">
  <meta http-equiv="x-pjax-css-version" content="47de9ea4ba354274ad6fb00f07b40f43b45df955eb0f7b9cfe16932b5e192042" data-turbo-track="reload">
  <meta http-equiv="x-pjax-js-version" content="970388cd6ab9eecc98b57395f0f5f49df60565456b944b0da471e69800614203" data-turbo-track="reload">

  <meta name="turbo-cache-control" content="no-preview" data-turbo-transient="">

      <meta name="turbo-cache-control" content="no-cache" data-turbo-transient>
    <meta data-hydrostats="publish">

  <meta name="go-import" content="github.com/navassherif98/IBM_Data_Science_Professional_Certification git https://github.com/navassherif98/IBM_Data_Science_Professional_Certification.git">

  <meta name="octolytics-dimension-user_id" content="55757415" /><meta name="octolytics-dimension-user_login" content="navassherif98" /><meta name="octolytics-dimension-repository_id" content="398720371" /><meta name="octolytics-dimension-repository_nwo" content="navassherif98/IBM_Data_Science_Professional_Certification" /><meta name="octolytics-dimension-repository_public" content="true" /><meta name="octolytics-dimension-repository_is_fork" content="false" /><meta name="octolytics-dimension-repository_network_root_id" content="398720371" /><meta name="octolytics-dimension-repository_network_root_nwo" content="navassherif98/IBM_Data_Science_Professional_Certification" />



  <meta name="turbo-body-classes" content="logged-in env-production page-responsive">


  <meta name="browser-stats-url" content="https://api.github.com/_private/browser/stats">

  <meta name="browser-errors-url" content="https://api.github.com/_private/browser/errors">

  <meta name="browser-optimizely-client-errors-url" content="https://api.github.com/_private/browser/optimizely_client/errors">

  <link rel="mask-icon" href="https://github.githubassets.com/pinned-octocat.svg" color="#000000">
  <link rel="alternate icon" class="js-site-favicon" type="image/png" href="https://github.githubassets.com/favicons/favicon.png">
  <link rel="icon" class="js-site-favicon" type="image/svg+xml" href="https://github.githubassets.com/favicons/favicon.svg">

<meta name="theme-color" content="#1e2327">
<meta name="color-scheme" content="light dark" />


  <link rel="manifest" href="/manifest.json" crossOrigin="use-credentials">

  </head>

  <body class="logged-in env-production page-responsive" style="word-wrap: break-word;">
    <div data-turbo-body class="logged-in env-production page-responsive" style="word-wrap: break-word;">
      


    <div class="position-relative js-header-wrapper ">
      <a href="#start-of-content" class="p-3 color-bg-accent-emphasis color-fg-on-emphasis show-on-focus js-skip-to-content">Skip to content</a>
      <span data-view-component="true" class="progress-pjax-loader Progress position-fixed width-full">
    <span style="width: 0%;" data-view-component="true" class="Progress-item progress-pjax-loader-bar left-0 top-0 color-bg-accent-emphasis"></span>
</span>      
      


      

        <script crossorigin="anonymous" defer="defer" type="application/javascript" src="https://github.githubassets.com/assets/vendors-node_modules_allex_crc32_lib_crc32_esm_js-node_modules_github_clipboard-copy-element_-2da1d5-ca2e742c29fb.js"></script>
<script crossorigin="anonymous" defer="defer" type="application/javascript" src="https://github.githubassets.com/assets/app_assets_modules_github_command-palette_items_help-item_ts-app_assets_modules_github_comman-48ad9d-8ba961365e27.js"></script>
<script crossorigin="anonymous" defer="defer" type="application/javascript" src="https://github.githubassets.com/assets/command-palette-afa8aec97e66.js"></script>

            <header class="AppHeader">
    <div class="AppHeader-globalBar pb-2 js-global-bar">
      <div class="AppHeader-globalBar-start">
          <deferred-side-panel data-url="/_side-panels/global">
  <include-fragment data-target="deferred-side-panel.fragment">
      
  <button aria-label="Open global navigation menu" data-action="click:deferred-side-panel#loadPanel click:deferred-side-panel#panelOpened" data-show-dialog-id="dialog-a3d1f992-5fe5-4736-bf42-1ae7a3437185" id="dialog-show-dialog-a3d1f992-5fe5-4736-bf42-1ae7a3437185" type="button" data-view-component="true" class="Button Button--iconOnly Button--secondary Button--medium AppHeader-button color-bg-transparent p-0 color-fg-muted">    <svg aria-hidden="true" height="16" viewBox="0 0 16 16" version="1.1" width="16" data-view-component="true" class="octicon octicon-three-bars Button-visual">
    <path d="M1 2.75A.75.75 0 0 1 1.75 2h12.5a.75.75 0 0 1 0 1.5H1.75A.75.75 0 0 1 1 2.75Zm0 5A.75.75 0 0 1 1.75 7h12.5a.75.75 0 0 1 0 1.5H1.75A.75.75 0 0 1 1 7.75ZM1.75 12h12.5a.75.75 0 0 1 0 1.5H1.75a.75.75 0 0 1 0-1.5Z"></path>
</svg>
</button>  

<div class="Overlay--hidden Overlay-backdrop--side Overlay-backdrop--placement-left" data-modal-dialog-overlay>
  <modal-dialog data-target="deferred-side-panel.panel" role="dialog" id="dialog-a3d1f992-5fe5-4736-bf42-1ae7a3437185" aria-modal="true" aria-disabled="true" aria-describedby="dialog-a3d1f992-5fe5-4736-bf42-1ae7a3437185-title dialog-a3d1f992-5fe5-4736-bf42-1ae7a3437185-description" data-view-component="true" class="Overlay Overlay-whenNarrow Overlay--size-small-portrait Overlay--motion-scaleFade SidePanel">
    <div styles="flex-direction: row;" data-view-component="true" class="Overlay-header">
  <div class="Overlay-headerContentWrap">
    <div class="Overlay-titleWrap">
      <h1 class="Overlay-title sr-only" id="dialog-a3d1f992-5fe5-4736-bf42-1ae7a3437185-title">
        Global navigation
      </h1>
            <div data-view-component="true" class="d-flex">
      <div data-view-component="true" class="AppHeader-logo position-relative">
        <svg aria-hidden="true" height="24" viewBox="0 0 16 16" version="1.1" width="24" data-view-component="true" class="octicon octicon-mark-github">
    <path d="M8 0c4.42 0 8 3.58 8 8a8.013 8.013 0 0 1-5.45 7.59c-.4.08-.55-.17-.55-.38 0-.27.01-1.13.01-2.2 0-.75-.25-1.23-.54-1.48 1.78-.2 3.65-.88 3.65-3.95 0-.88-.31-1.59-.82-2.15.08-.2.36-1.02-.08-2.12 0 0-.67-.22-2.2.82-.64-.18-1.32-.27-2-.27-.68 0-1.36.09-2 .27-1.53-1.03-2.2-.82-2.2-.82-.44 1.1-.16 1.92-.08 2.12-.51.56-.82 1.28-.82 2.15 0 3.06 1.86 3.75 3.64 3.95-.23.2-.44.55-.51 1.07-.46.21-1.61.55-2.33-.66-.15-.24-.6-.83-1.23-.82-.67.01-.27.38.01.53.34.19.73.9.82 1.13.16.45.68 1.31 2.69.94 0 .67.01 1.3.01 1.49 0 .21-.15.45-.55.38A7.995 7.995 0 0 1 0 8c0-4.42 3.58-8 8-8Z"></path>
</svg>
</div></div>
    </div>
    <div class="Overlay-actionWrap">
      <button data-close-dialog-id="dialog-a3d1f992-5fe5-4736-bf42-1ae7a3437185" aria-label="Close" type="button" data-view-component="true" class="close-button Overlay-closeButton"><svg aria-hidden="true" height="16" viewBox="0 0 16 16" version="1.1" width="16" data-view-component="true" class="octicon octicon-x">
    <path d="M3.72 3.72a.75.75 0 0 1 1.06 0L8 6.94l3.22-3.22a.749.749 0 0 1 1.275.326.749.749 0 0 1-.215.734L9.06 8l3.22 3.22a.749.749 0 0 1-.326 1.275.749.749 0 0 1-.734-.215L8 9.06l-3.22 3.22a.751.751 0 0 1-1.042-.018.751.751 0 0 1-.018-1.042L6.94 8 3.72 4.78a.75.75 0 0 1 0-1.06Z"></path>
</svg></button>
    </div>
  </div>
</div>
      <div data-view-component="true" class="Overlay-body d-flex flex-column height-full px-2">      <nav aria-label="Site navigation" data-view-component="true" class="ActionList">
  
  <nav-list>
    <ul data-view-component="true" class="ActionListWrap">
        
          
<li item_id="general" data-item-id="" data-targets="nav-list.items" data-view-component="true" class="ActionListItem">
    
    <a data-hotkey="g d" hydro-click="{&quot;event_type&quot;:&quot;global_header.user_menu_dropdown.click&quot;,&quot;payload&quot;:{&quot;request_url&quot;:&quot;https://github.com/navassherif98/IBM_Data_Science_Professional_Certification/blob/master/10.Applied_Data_Science_Capstone/Week%202%20EDA/EDA%20with%20SQL.ipynb&quot;,&quot;target&quot;:&quot;HOME&quot;,&quot;originating_url&quot;:&quot;https://github.com/navassherif98/IBM_Data_Science_Professional_Certification/blob/master/10.Applied_Data_Science_Capstone/Week%202%20EDA/EDA%20with%20SQL.ipynb&quot;,&quot;user_id&quot;:139646021}}" hydro-click-hmac="b38bc17eee0c1b2d2abd7fb35acc49621422e6d4384c91c466c040063faea3b5" id="item-6aacd367-a656-4248-bfbb-6b46aaedecff" href="/dashboard" data-view-component="true" class="ActionListContent ActionListContent--visual16">
        <span class="ActionListItem-visual ActionListItem-visual--leading">
          <svg aria-hidden="true" height="16" viewBox="0 0 16 16" version="1.1" width="16" data-view-component="true" class="octicon octicon-home">
    <path d="M6.906.664a1.749 1.749 0 0 1 2.187 0l5.25 4.2c.415.332.657.835.657 1.367v7.019A1.75 1.75 0 0 1 13.25 15h-3.5a.75.75 0 0 1-.75-.75V9H7v5.25a.75.75 0 0 1-.75.75h-3.5A1.75 1.75 0 0 1 1 13.25V6.23c0-.531.242-1.034.657-1.366l5.25-4.2Zm1.25 1.171a.25.25 0 0 0-.312 0l-5.25 4.2a.25.25 0 0 0-.094.196v7.019c0 .138.112.25.25.25H5.5V8.25a.75.75 0 0 1 .75-.75h3.5a.75.75 0 0 1 .75.75v5.25h2.75a.25.25 0 0 0 .25-.25V6.23a.25.25 0 0 0-.094-.195Z"></path>
</svg>
        </span>
      
        <span data-view-component="true" class="ActionListItem-label">
          Home
</span></a>
  
  
</li>

        
          
<li item_id="personal_info" data-item-id="" data-targets="nav-list.items" data-view-component="true" class="ActionListItem">
    
    <a data-hotkey="g i" hydro-click="{&quot;event_type&quot;:&quot;global_header.user_menu_dropdown.click&quot;,&quot;payload&quot;:{&quot;request_url&quot;:&quot;https://github.com/navassherif98/IBM_Data_Science_Professional_Certification/blob/master/10.Applied_Data_Science_Capstone/Week%202%20EDA/EDA%20with%20SQL.ipynb&quot;,&quot;target&quot;:&quot;ISSUES&quot;,&quot;originating_url&quot;:&quot;https://github.com/navassherif98/IBM_Data_Science_Professional_Certification/blob/master/10.Applied_Data_Science_Capstone/Week%202%20EDA/EDA%20with%20SQL.ipynb&quot;,&quot;user_id&quot;:139646021}}" hydro-click-hmac="aecc77f900e71c9a92b9acf05a2bbd72aa44ea60b7e976547fb45bee6ac0bc97" id="item-2323d47a-ffac-4c39-9a49-ac0cd364cfc9" href="/issues" data-view-component="true" class="ActionListContent ActionListContent--visual16">
        <span class="ActionListItem-visual ActionListItem-visual--leading">
          <svg aria-hidden="true" height="16" viewBox="0 0 16 16" version="1.1" width="16" data-view-component="true" class="octicon octicon-issue-opened">
    <path d="M8 9.5a1.5 1.5 0 1 0 0-3 1.5 1.5 0 0 0 0 3Z"></path><path d="M8 0a8 8 0 1 1 0 16A8 8 0 0 1 8 0ZM1.5 8a6.5 6.5 0 1 0 13 0 6.5 6.5 0 0 0-13 0Z"></path>
</svg>
        </span>
      
        <span data-view-component="true" class="ActionListItem-label">
          Issues
</span></a>
  
  
</li>

        
          
<li item_id="password" data-item-id="" data-targets="nav-list.items" data-view-component="true" class="ActionListItem">
    
    <a data-hotkey="g p" hydro-click="{&quot;event_type&quot;:&quot;global_header.user_menu_dropdown.click&quot;,&quot;payload&quot;:{&quot;request_url&quot;:&quot;https://github.com/navassherif98/IBM_Data_Science_Professional_Certification/blob/master/10.Applied_Data_Science_Capstone/Week%202%20EDA/EDA%20with%20SQL.ipynb&quot;,&quot;target&quot;:&quot;PULL_REQUESTS&quot;,&quot;originating_url&quot;:&quot;https://github.com/navassherif98/IBM_Data_Science_Professional_Certification/blob/master/10.Applied_Data_Science_Capstone/Week%202%20EDA/EDA%20with%20SQL.ipynb&quot;,&quot;user_id&quot;:139646021}}" hydro-click-hmac="f2d1f00baa77cc32e6ce050495ff1a80bcf24e9c4546eea5224f4c85fdd0777c" id="item-d10c22ed-b554-4185-a215-eeabcf06d55b" href="/pulls" data-view-component="true" class="ActionListContent ActionListContent--visual16">
        <span class="ActionListItem-visual ActionListItem-visual--leading">
          <svg aria-hidden="true" height="16" viewBox="0 0 16 16" version="1.1" width="16" data-view-component="true" class="octicon octicon-git-pull-request">
    <path d="M1.5 3.25a2.25 2.25 0 1 1 3 2.122v5.256a2.251 2.251 0 1 1-1.5 0V5.372A2.25 2.25 0 0 1 1.5 3.25Zm5.677-.177L9.573.677A.25.25 0 0 1 10 .854V2.5h1A2.5 2.5 0 0 1 13.5 5v5.628a2.251 2.251 0 1 1-1.5 0V5a1 1 0 0 0-1-1h-1v1.646a.25.25 0 0 1-.427.177L7.177 3.427a.25.25 0 0 1 0-.354ZM3.75 2.5a.75.75 0 1 0 0 1.5.75.75 0 0 0 0-1.5Zm0 9.5a.75.75 0 1 0 0 1.5.75.75 0 0 0 0-1.5Zm8.25.75a.75.75 0 1 0 1.5 0 .75.75 0 0 0-1.5 0Z"></path>
</svg>
        </span>
      
        <span data-view-component="true" class="ActionListItem-label">
          Pull requests
</span></a>
  
  
</li>

        
          
<li item_id="billing" data-item-id="" data-targets="nav-list.items" data-view-component="true" class="ActionListItem">
    
    <a hydro-click="{&quot;event_type&quot;:&quot;global_header.user_menu_dropdown.click&quot;,&quot;payload&quot;:{&quot;request_url&quot;:&quot;https://github.com/navassherif98/IBM_Data_Science_Professional_Certification/blob/master/10.Applied_Data_Science_Capstone/Week%202%20EDA/EDA%20with%20SQL.ipynb&quot;,&quot;target&quot;:&quot;DISCUSSIONS&quot;,&quot;originating_url&quot;:&quot;https://github.com/navassherif98/IBM_Data_Science_Professional_Certification/blob/master/10.Applied_Data_Science_Capstone/Week%202%20EDA/EDA%20with%20SQL.ipynb&quot;,&quot;user_id&quot;:139646021}}" hydro-click-hmac="5ce9c027bd4ee4b7e06e36676b71e303acaf117d9375c5555c22e37702c242d5" id="item-513715b3-84fe-4827-bb58-6f27997086f0" href="/discussions" data-view-component="true" class="ActionListContent ActionListContent--visual16">
        <span class="ActionListItem-visual ActionListItem-visual--leading">
          <svg aria-hidden="true" height="16" viewBox="0 0 16 16" version="1.1" width="16" data-view-component="true" class="octicon octicon-comment-discussion">
    <path d="M1.75 1h8.5c.966 0 1.75.784 1.75 1.75v5.5A1.75 1.75 0 0 1 10.25 10H7.061l-2.574 2.573A1.458 1.458 0 0 1 2 11.543V10h-.25A1.75 1.75 0 0 1 0 8.25v-5.5C0 1.784.784 1 1.75 1ZM1.5 2.75v5.5c0 .138.112.25.25.25h1a.75.75 0 0 1 .75.75v2.19l2.72-2.72a.749.749 0 0 1 .53-.22h3.5a.25.25 0 0 0 .25-.25v-5.5a.25.25 0 0 0-.25-.25h-8.5a.25.25 0 0 0-.25.25Zm13 2a.25.25 0 0 0-.25-.25h-.5a.75.75 0 0 1 0-1.5h.5c.966 0 1.75.784 1.75 1.75v5.5A1.75 1.75 0 0 1 14.25 12H14v1.543a1.458 1.458 0 0 1-2.487 1.03L9.22 12.28a.749.749 0 0 1 .326-1.275.749.749 0 0 1 .734.215l2.22 2.22v-2.19a.75.75 0 0 1 .75-.75h1a.25.25 0 0 0 .25-.25Z"></path>
</svg>
        </span>
      
        <span data-view-component="true" class="ActionListItem-label">
          Discussions
</span></a>
  
  
</li>

</ul>  </nav-list>
</nav>

      <div data-view-component="true" class="my-3 d-flex flex-justify-center height-full">
        <svg style="box-sizing: content-box; color: var(--color-icon-primary);" width="16" height="16" viewBox="0 0 16 16" fill="none" data-view-component="true" class="anim-rotate">
  <circle cx="8" cy="8" r="7" stroke="currentColor" stroke-opacity="0.25" stroke-width="2" vector-effect="non-scaling-stroke" />
  <path d="M15 8a7.002 7.002 0 00-7-7" stroke="currentColor" stroke-width="2" stroke-linecap="round" vector-effect="non-scaling-stroke" />
</svg>
</div>
</div>
      <div data-view-component="true" class="Overlay-footer Overlay-footer--alignEnd d-block pt-0">      <li role="presentation" aria-hidden="true" data-view-component="true" class="ActionList-sectionDivider mt-0 mb-1"></li>

        <nav aria-label="Additional navigation" data-view-component="true" class="ActionList px-0 flex-1">
  
  <nav-list>
    <ul data-view-component="true" class="ActionListWrap">
        
          
<li item_id="general" data-item-id="" data-targets="nav-list.items" data-view-component="true" class="ActionListItem">
    
    <a hydro-click="{&quot;event_type&quot;:&quot;global_header.user_menu_dropdown.click&quot;,&quot;payload&quot;:{&quot;request_url&quot;:&quot;https://github.com/navassherif98/IBM_Data_Science_Professional_Certification/blob/master/10.Applied_Data_Science_Capstone/Week%202%20EDA/EDA%20with%20SQL.ipynb&quot;,&quot;target&quot;:&quot;EXPLORE&quot;,&quot;originating_url&quot;:&quot;https://github.com/navassherif98/IBM_Data_Science_Professional_Certification/blob/master/10.Applied_Data_Science_Capstone/Week%202%20EDA/EDA%20with%20SQL.ipynb&quot;,&quot;user_id&quot;:139646021}}" hydro-click-hmac="280763d752d5bddf1d3f1daf2495aa6061a745d7a444c872f29496f382169f8f" id="item-8d90cbee-d6cd-4e7c-84a5-13c8360eeef7" href="/explore" data-view-component="true" class="ActionListContent ActionListContent--visual16">
        <span class="ActionListItem-visual ActionListItem-visual--leading">
          <svg aria-hidden="true" height="16" viewBox="0 0 16 16" version="1.1" width="16" data-view-component="true" class="octicon octicon-telescope">
    <path d="M14.184 1.143v-.001l1.422 2.464a1.75 1.75 0 0 1-.757 2.451L3.104 11.713a1.75 1.75 0 0 1-2.275-.702l-.447-.775a1.75 1.75 0 0 1 .53-2.32L11.682.573a1.748 1.748 0 0 1 2.502.57Zm-4.709 9.32h-.001l2.644 3.863a.75.75 0 1 1-1.238.848l-1.881-2.75v2.826a.75.75 0 0 1-1.5 0v-2.826l-1.881 2.75a.75.75 0 1 1-1.238-.848l2.049-2.992a.746.746 0 0 1 .293-.253l1.809-.87a.749.749 0 0 1 .944.252ZM9.436 3.92h-.001l-4.97 3.39.942 1.63 5.42-2.61Zm3.091-2.108h.001l-1.85 1.26 1.505 2.605 2.016-.97a.247.247 0 0 0 .13-.151.247.247 0 0 0-.022-.199l-1.422-2.464a.253.253 0 0 0-.161-.119.254.254 0 0 0-.197.038ZM1.756 9.157a.25.25 0 0 0-.075.33l.447.775a.25.25 0 0 0 .325.1l1.598-.769-.83-1.436-1.465 1Z"></path>
</svg>
        </span>
      
        <span data-view-component="true" class="ActionListItem-label">
          Explore
</span></a>
  
  
</li>

        
          
<li item_id="general" data-item-id="" data-targets="nav-list.items" data-view-component="true" class="ActionListItem">
    
    <a hydro-click="{&quot;event_type&quot;:&quot;global_header.user_menu_dropdown.click&quot;,&quot;payload&quot;:{&quot;request_url&quot;:&quot;https://github.com/navassherif98/IBM_Data_Science_Professional_Certification/blob/master/10.Applied_Data_Science_Capstone/Week%202%20EDA/EDA%20with%20SQL.ipynb&quot;,&quot;target&quot;:&quot;MARKETPLACE&quot;,&quot;originating_url&quot;:&quot;https://github.com/navassherif98/IBM_Data_Science_Professional_Certification/blob/master/10.Applied_Data_Science_Capstone/Week%202%20EDA/EDA%20with%20SQL.ipynb&quot;,&quot;user_id&quot;:139646021}}" hydro-click-hmac="80bd941f3e3b13a2d13f24b6e6745a9d43285538b5cc61f210b5138219b8bc02" id="item-237b1f2d-614b-46e7-8ddd-f41a2d858e8f" href="/marketplace" data-view-component="true" class="ActionListContent ActionListContent--visual16">
        <span class="ActionListItem-visual ActionListItem-visual--leading">
          <svg aria-hidden="true" height="16" viewBox="0 0 16 16" version="1.1" width="16" data-view-component="true" class="octicon octicon-gift">
    <path d="M2 2.75A2.75 2.75 0 0 1 4.75 0c.983 0 1.873.42 2.57 1.232.268.318.497.668.68 1.042.183-.375.411-.725.68-1.044C9.376.42 10.266 0 11.25 0a2.75 2.75 0 0 1 2.45 4h.55c.966 0 1.75.784 1.75 1.75v2c0 .698-.409 1.301-1 1.582v4.918A1.75 1.75 0 0 1 13.25 16H2.75A1.75 1.75 0 0 1 1 14.25V9.332C.409 9.05 0 8.448 0 7.75v-2C0 4.784.784 4 1.75 4h.55c-.192-.375-.3-.8-.3-1.25ZM7.25 9.5H2.5v4.75c0 .138.112.25.25.25h4.5Zm1.5 0v5h4.5a.25.25 0 0 0 .25-.25V9.5Zm0-4V8h5.5a.25.25 0 0 0 .25-.25v-2a.25.25 0 0 0-.25-.25Zm-7 0a.25.25 0 0 0-.25.25v2c0 .138.112.25.25.25h5.5V5.5h-5.5Zm3-4a1.25 1.25 0 0 0 0 2.5h2.309c-.233-.818-.542-1.401-.878-1.793-.43-.502-.915-.707-1.431-.707ZM8.941 4h2.309a1.25 1.25 0 0 0 0-2.5c-.516 0-1 .205-1.43.707-.337.392-.646.975-.879 1.793Z"></path>
</svg>
        </span>
      
        <span data-view-component="true" class="ActionListItem-label">
          Marketplace
</span></a>
  
  
</li>

        
          
<li item_id="feedback" data-item-id="" data-targets="nav-list.items" data-view-component="true" class="ActionListItem">
    
    <a id="item-d4b46cc3-5ba4-4c64-aaaa-d31212c59c34" href="https://gh.io/navigation-update" data-view-component="true" class="ActionListContent ActionListContent--visual16">
        <span class="ActionListItem-visual ActionListItem-visual--leading">
          <svg aria-hidden="true" height="16" viewBox="0 0 16 16" version="1.1" width="16" data-view-component="true" class="octicon octicon-comment-discussion">
    <path d="M1.75 1h8.5c.966 0 1.75.784 1.75 1.75v5.5A1.75 1.75 0 0 1 10.25 10H7.061l-2.574 2.573A1.458 1.458 0 0 1 2 11.543V10h-.25A1.75 1.75 0 0 1 0 8.25v-5.5C0 1.784.784 1 1.75 1ZM1.5 2.75v5.5c0 .138.112.25.25.25h1a.75.75 0 0 1 .75.75v2.19l2.72-2.72a.749.749 0 0 1 .53-.22h3.5a.25.25 0 0 0 .25-.25v-5.5a.25.25 0 0 0-.25-.25h-8.5a.25.25 0 0 0-.25.25Zm13 2a.25.25 0 0 0-.25-.25h-.5a.75.75 0 0 1 0-1.5h.5c.966 0 1.75.784 1.75 1.75v5.5A1.75 1.75 0 0 1 14.25 12H14v1.543a1.458 1.458 0 0 1-2.487 1.03L9.22 12.28a.749.749 0 0 1 .326-1.275.749.749 0 0 1 .734.215l2.22 2.22v-2.19a.75.75 0 0 1 .75-.75h1a.25.25 0 0 0 .25-.25Z"></path>
</svg>
        </span>
      
        <span data-view-component="true" class="ActionListItem-label">
          Give new navigation feedback
</span>        <span class="ActionListItem-visual ActionListItem-visual--trailing">
          <span title="Beta" data-view-component="true" class="Counter color-bg-default color-border-success-emphasis color-fg-success">Beta</span>
        </span>
</a>
  
  
</li>

</ul>  </nav-list>
</nav>

      <div data-view-component="true" class="px-2">      <p class="color-fg-subtle text-small text-light">&copy; 2023 GitHub, Inc.</p>

      <div data-view-component="true" class="d-flex text-small text-light">
          <a target="_blank" href="/about" data-view-component="true" class="Link no-underline mr-2">About</a>
          <a target="_blank" href="https://github.blog" data-view-component="true" class="Link no-underline mr-2">Blog</a>
          <a target="_blank" href="https://docs.github.com/site-policy/github-terms/github-terms-of-service" data-view-component="true" class="Link no-underline mr-2">Terms</a>
          <a target="_blank" href="https://docs.github.com/site-policy/privacy-policies/github-privacy-statement" data-view-component="true" class="Link no-underline mr-2">Privacy</a>
          <a target="_blank" href="/security" data-view-component="true" class="Link no-underline mr-2">Security</a>
        <a target="_blank" href="https://www.githubstatus.com/" data-view-component="true" class="Link no-underline mr-3">Status</a>
</div></div>
</div>
</modal-dialog></div>

  </include-fragment>
</deferred-side-panel>

        <a
          class="AppHeader-logo ml-2"
          href="https://github.com/"
          data-hotkey="g d"
          aria-label="Homepage "
          data-turbo="false"
          data-analytics-event="{&quot;category&quot;:&quot;Header&quot;,&quot;action&quot;:&quot;go to dashboard&quot;,&quot;label&quot;:&quot;icon:logo&quot;}"
        >
          <svg height="32" aria-hidden="true" viewBox="0 0 16 16" version="1.1" width="32" data-view-component="true" class="octicon octicon-mark-github v-align-middle color-fg-default">
    <path d="M8 0c4.42 0 8 3.58 8 8a8.013 8.013 0 0 1-5.45 7.59c-.4.08-.55-.17-.55-.38 0-.27.01-1.13.01-2.2 0-.75-.25-1.23-.54-1.48 1.78-.2 3.65-.88 3.65-3.95 0-.88-.31-1.59-.82-2.15.08-.2.36-1.02-.08-2.12 0 0-.67-.22-2.2.82-.64-.18-1.32-.27-2-.27-.68 0-1.36.09-2 .27-1.53-1.03-2.2-.82-2.2-.82-.44 1.1-.16 1.92-.08 2.12-.51.56-.82 1.28-.82 2.15 0 3.06 1.86 3.75 3.64 3.95-.23.2-.44.55-.51 1.07-.46.21-1.61.55-2.33-.66-.15-.24-.6-.83-1.23-.82-.67.01-.27.38.01.53.34.19.73.9.82 1.13.16.45.68 1.31 2.69.94 0 .67.01 1.3.01 1.49 0 .21-.15.45-.55.38A7.995 7.995 0 0 1 0 8c0-4.42 3.58-8 8-8Z"></path>
</svg>
        </a>

          <div class="AppHeader-context" >
  <div class="AppHeader-context-compact">
        <button aria-expanded="false" aria-haspopup="dialog" aria-label="Page context: navassherif98 / IBM_Data_Science_Professional_Certification" id="dialog-show-context-region-dialog" data-show-dialog-id="context-region-dialog" type="button" data-view-component="true" class="AppHeader-context-compact-trigger Truncate Button--secondary Button--medium Button box-shadow-none">    <span class="Button-content">
      <span class="Button-label"><span class="AppHeader-context-compact-lead">
                <span class="AppHeader-context-compact-parentItem">navassherif98</span>
                <span class="AppHeader-context-compact-separator">&nbsp;/</span>

            </span>

            <strong class="AppHeader-context-compact-mainItem d-flex flex-items-center Truncate" >
  <span class="Truncate-text ">IBM_Data_Science_Professional_Certification</span>

</strong></span>
    </span>
</button>  

<div class="Overlay--hidden Overlay-backdrop--center" data-modal-dialog-overlay>
  <modal-dialog role="dialog" id="context-region-dialog" aria-modal="true" aria-disabled="true" aria-describedby="context-region-dialog-title context-region-dialog-description" data-view-component="true" class="Overlay Overlay-whenNarrow Overlay--size-medium Overlay--motion-scaleFade">
    <div data-view-component="true" class="Overlay-header">
  <div class="Overlay-headerContentWrap">
    <div class="Overlay-titleWrap">
      <h1 class="Overlay-title " id="context-region-dialog-title">
        Navigate back to
      </h1>
    </div>
    <div class="Overlay-actionWrap">
      <button data-close-dialog-id="context-region-dialog" aria-label="Close" type="button" data-view-component="true" class="close-button Overlay-closeButton"><svg aria-hidden="true" height="16" viewBox="0 0 16 16" version="1.1" width="16" data-view-component="true" class="octicon octicon-x">
    <path d="M3.72 3.72a.75.75 0 0 1 1.06 0L8 6.94l3.22-3.22a.749.749 0 0 1 1.275.326.749.749 0 0 1-.215.734L9.06 8l3.22 3.22a.749.749 0 0 1-.326 1.275.749.749 0 0 1-.734-.215L8 9.06l-3.22 3.22a.751.751 0 0 1-1.042-.018.751.751 0 0 1-.018-1.042L6.94 8 3.72 4.78a.75.75 0 0 1 0-1.06Z"></path>
</svg></button>
    </div>
  </div>
</div>
      <div data-view-component="true" class="Overlay-body">          <ul role="list" class="list-style-none" >
    <li>
      <a data-analytics-event="{&quot;category&quot;:&quot;SiteHeaderComponent&quot;,&quot;action&quot;:&quot;context_region_crumb&quot;,&quot;label&quot;:&quot;navassherif98&quot;,&quot;screen_size&quot;:&quot;compact&quot;}" href="/navassherif98" data-view-component="true" class="Link--primary Truncate d-flex flex-items-center py-1">
        <span class="AppHeader-context-item-label Truncate-text ">
          navassherif98
        </span>

</a>
    </li>
    <li>
      <a data-analytics-event="{&quot;category&quot;:&quot;SiteHeaderComponent&quot;,&quot;action&quot;:&quot;context_region_crumb&quot;,&quot;label&quot;:&quot;IBM_Data_Science_Professional_Certification&quot;,&quot;screen_size&quot;:&quot;compact&quot;}" href="/navassherif98/IBM_Data_Science_Professional_Certification" data-view-component="true" class="Link--primary Truncate d-flex flex-items-center py-1">
        <span class="AppHeader-context-item-label Truncate-text ">
          IBM_Data_Science_Professional_Certification
        </span>

</a>
    </li>
</ul>

</div>
      
</modal-dialog></div>
  </div>

  <div class="AppHeader-context-full">
    <nav role="navigation" aria-label="Page context">
      <ul role="list" class="list-style-none" >
    <li>
      <a data-analytics-event="{&quot;category&quot;:&quot;SiteHeaderComponent&quot;,&quot;action&quot;:&quot;context_region_crumb&quot;,&quot;label&quot;:&quot;navassherif98&quot;,&quot;screen_size&quot;:&quot;full&quot;}" data-hovercard-type="user" data-hovercard-url="/users/navassherif98/hovercard" data-octo-click="hovercard-link-click" data-octo-dimensions="link_type:self" href="/navassherif98" data-view-component="true" class="AppHeader-context-item">
        <span class="AppHeader-context-item-label  ">
          navassherif98
        </span>

</a>
        <span class="AppHeader-context-item-separator">/</span>
    </li>
    <li>
      <a data-analytics-event="{&quot;category&quot;:&quot;SiteHeaderComponent&quot;,&quot;action&quot;:&quot;context_region_crumb&quot;,&quot;label&quot;:&quot;IBM_Data_Science_Professional_Certification&quot;,&quot;screen_size&quot;:&quot;full&quot;}" href="/navassherif98/IBM_Data_Science_Professional_Certification" data-view-component="true" class="AppHeader-context-item">
        <span class="AppHeader-context-item-label  ">
          IBM_Data_Science_Professional_Certification
        </span>

</a>
    </li>
</ul>

    </nav>
  </div>
</div>

      </div>
      <div class="AppHeader-globalBar-end">
          <div class="AppHeader-search" >
              


<qbsearch-input class="search-input" data-scope="repo:navassherif98/IBM_Data_Science_Professional_Certification" data-custom-scopes-path="/search/custom_scopes" data-delete-custom-scopes-csrf="3CxT-vBfiqVABBmzLb7dZBW9KeI_YEhhamhTyJwp0Hs9p_Zqx_3xvPUclPi1rPBtuaySFt5axL8qht8_2VJfvg" data-max-custom-scopes="10" data-header-redesign-enabled="true" data-initial-value="" data-blackbird-suggestions-path="/search/suggestions" data-jump-to-suggestions-path="/_graphql/GetSuggestedNavigationDestinations" data-current-repository="navassherif98/IBM_Data_Science_Professional_Certification" data-current-org="" data-current-owner="navassherif98" data-logged-in="true">
  <div
    class="search-input-container search-with-dialog position-relative d-flex flex-row flex-items-center height-auto color-bg-transparent border-0 color-fg-subtle mx-0"
    data-action="click:qbsearch-input#searchInputContainerClicked"
  >
      
            <button type="button" data-action="click:qbsearch-input#handleExpand" class="AppHeader-button AppHeader-search-whenNarrow" aria-label="Search or jump to…" aria-expanded="false" aria-haspopup="dialog">
            <svg aria-hidden="true" height="16" viewBox="0 0 16 16" version="1.1" width="16" data-view-component="true" class="octicon octicon-search">
    <path d="M10.68 11.74a6 6 0 0 1-7.922-8.982 6 6 0 0 1 8.982 7.922l3.04 3.04a.749.749 0 0 1-.326 1.275.749.749 0 0 1-.734-.215ZM11.5 7a4.499 4.499 0 1 0-8.997 0A4.499 4.499 0 0 0 11.5 7Z"></path>
</svg>
          </button>


<div class="AppHeader-search-whenRegular">
  <div class="AppHeader-search-wrap AppHeader-search-wrap--hasTrailing">
    <div class="AppHeader-search-control">
      <label
        for="AppHeader-searchInput"
        aria-label="Search or jump to…"
        class="AppHeader-search-visual--leading"
      >
        <svg aria-hidden="true" height="16" viewBox="0 0 16 16" version="1.1" width="16" data-view-component="true" class="octicon octicon-search">
    <path d="M10.68 11.74a6 6 0 0 1-7.922-8.982 6 6 0 0 1 8.982 7.922l3.04 3.04a.749.749 0 0 1-.326 1.275.749.749 0 0 1-.734-.215ZM11.5 7a4.499 4.499 0 1 0-8.997 0A4.499 4.499 0 0 0 11.5 7Z"></path>
</svg>
      </label>

                <button
            type="button"
            data-target="qbsearch-input.inputButton"
            data-action="click:qbsearch-input#handleExpand"
            class="AppHeader-searchButton form-control input-contrast text-left color-fg-subtle no-wrap"
            data-hotkey="s,/"
          >
            <div class="overflow-hidden">
              <span data-target="qbsearch-input.inputButtonText">
                  Type <kbd class="AppHeader-search-kbd">/</kbd> to search
              </span>
            </div>
          </button>

    </div>


      <button type="button" id="AppHeader-commandPalette-button" class="AppHeader-search-action--trailing js-activate-command-palette" data-analytics-event="{&quot;category&quot;:&quot;SiteHeaderComponent&quot;,&quot;action&quot;:&quot;command_palette&quot;,&quot;label&quot;:&quot;open command palette&quot;}">
        <svg aria-hidden="true" height="16" viewBox="0 0 16 16" version="1.1" width="16" data-view-component="true" class="octicon octicon-command-palette">
    <path d="m6.354 8.04-4.773 4.773a.75.75 0 1 0 1.061 1.06L7.945 8.57a.75.75 0 0 0 0-1.06L2.642 2.206a.75.75 0 0 0-1.06 1.061L6.353 8.04ZM8.75 11.5a.75.75 0 0 0 0 1.5h5.5a.75.75 0 0 0 0-1.5h-5.5Z"></path>
</svg>
      </button>

      <tool-tip id="tooltip-28939211-9557-4731-9202-cc2f2b937fbb" for="AppHeader-commandPalette-button" popover="manual" data-direction="s" data-type="label" data-view-component="true" class="sr-only position-absolute">Command palette</tool-tip>
  </div>
</div>

    <input type="hidden" name="type" class="js-site-search-type-field">

    
<div class="Overlay--hidden " data-modal-dialog-overlay>
  <modal-dialog data-action="close:qbsearch-input#handleClose cancel:qbsearch-input#handleClose" data-target="qbsearch-input.searchSuggestionsDialog" role="dialog" id="search-suggestions-dialog" aria-modal="true" aria-labelledby="search-suggestions-dialog-header" data-view-component="true" class="Overlay Overlay--width-medium Overlay--height-auto">
      <h1 id="search-suggestions-dialog-header" class="sr-only">Search code, repositories, users, issues, pull requests...</h1>
    <div class="Overlay-body Overlay-body--paddingNone">
      
          <div data-view-component="true">        <div class="search-suggestions position-absolute width-full color-shadow-large border color-fg-default color-bg-default overflow-hidden d-flex flex-column query-builder-container"
          style="border-radius: 12px;"
          data-target="qbsearch-input.queryBuilderContainer"
          hidden
        >
          <!-- '"` --><!-- </textarea></xmp> --></option></form><form id="query-builder-test-form" action="" accept-charset="UTF-8" method="get">
  <query-builder data-target="qbsearch-input.queryBuilder" id="query-builder-query-builder-test" data-filter-key=":" data-view-component="true" class="QueryBuilder search-query-builder">
    <div class="FormControl FormControl--fullWidth">
      <label id="query-builder-test-label" for="query-builder-test" class="FormControl-label sr-only">
        Search
      </label>
      <div class="QueryBuilder-StyledInput width-fit" data-target="query-builder.styledInput">
          <span id="query-builder-test-leadingvisual-wrap" class="FormControl-input-leadingVisualWrap QueryBuilder-leadingVisualWrap">
            <svg aria-hidden="true" height="16" viewBox="0 0 16 16" version="1.1" width="16" data-view-component="true" class="octicon octicon-search FormControl-input-leadingVisual">
    <path d="M10.68 11.74a6 6 0 0 1-7.922-8.982 6 6 0 0 1 8.982 7.922l3.04 3.04a.749.749 0 0 1-.326 1.275.749.749 0 0 1-.734-.215ZM11.5 7a4.499 4.499 0 1 0-8.997 0A4.499 4.499 0 0 0 11.5 7Z"></path>
</svg>
          </span>
        <div data-target="query-builder.styledInputContainer" class="QueryBuilder-StyledInputContainer">
          <div
            aria-hidden="true"
            class="QueryBuilder-StyledInputContent"
            data-target="query-builder.styledInputContent"
          ></div>
          <div class="QueryBuilder-InputWrapper">
            <div aria-hidden="true" class="QueryBuilder-Sizer" data-target="query-builder.sizer"></div>
            <input id="query-builder-test" name="query-builder-test" value="" autocomplete="off" type="text" role="combobox" spellcheck="false" aria-expanded="false" data-target="query-builder.input" data-action="
          input:query-builder#inputChange
          blur:query-builder#inputBlur
          keydown:query-builder#inputKeydown
          focus:query-builder#inputFocus
        " data-view-component="true" class="FormControl-input QueryBuilder-Input FormControl-medium" />
          </div>
        </div>
          <span class="sr-only" id="query-builder-test-clear">Clear</span>
          
  <button role="button" id="query-builder-test-clear-button" aria-labelledby="query-builder-test-clear query-builder-test-label" data-target="query-builder.clearButton" data-action="
                click:query-builder#clear
                focus:query-builder#clearButtonFocus
                blur:query-builder#clearButtonBlur
              " variant="small" hidden="hidden" type="button" data-view-component="true" class="Button Button--iconOnly Button--invisible Button--medium mr-1 px-2 py-0 d-flex flex-items-center rounded-1 color-fg-muted">    <svg aria-hidden="true" height="16" viewBox="0 0 16 16" version="1.1" width="16" data-view-component="true" class="octicon octicon-x-circle-fill Button-visual">
    <path d="M2.343 13.657A8 8 0 1 1 13.658 2.343 8 8 0 0 1 2.343 13.657ZM6.03 4.97a.751.751 0 0 0-1.042.018.751.751 0 0 0-.018 1.042L6.94 8 4.97 9.97a.749.749 0 0 0 .326 1.275.749.749 0 0 0 .734-.215L8 9.06l1.97 1.97a.749.749 0 0 0 1.275-.326.749.749 0 0 0-.215-.734L9.06 8l1.97-1.97a.749.749 0 0 0-.326-1.275.749.749 0 0 0-.734.215L8 6.94Z"></path>
</svg>
</button>  

      </div>
      <template id="search-icon">
  <svg aria-hidden="true" height="16" viewBox="0 0 16 16" version="1.1" width="16" data-view-component="true" class="octicon octicon-search">
    <path d="M10.68 11.74a6 6 0 0 1-7.922-8.982 6 6 0 0 1 8.982 7.922l3.04 3.04a.749.749 0 0 1-.326 1.275.749.749 0 0 1-.734-.215ZM11.5 7a4.499 4.499 0 1 0-8.997 0A4.499 4.499 0 0 0 11.5 7Z"></path>
</svg>
</template>

<template id="code-icon">
  <svg aria-hidden="true" height="16" viewBox="0 0 16 16" version="1.1" width="16" data-view-component="true" class="octicon octicon-code">
    <path d="m11.28 3.22 4.25 4.25a.75.75 0 0 1 0 1.06l-4.25 4.25a.749.749 0 0 1-1.275-.326.749.749 0 0 1 .215-.734L13.94 8l-3.72-3.72a.749.749 0 0 1 .326-1.275.749.749 0 0 1 .734.215Zm-6.56 0a.751.751 0 0 1 1.042.018.751.751 0 0 1 .018 1.042L2.06 8l3.72 3.72a.749.749 0 0 1-.326 1.275.749.749 0 0 1-.734-.215L.47 8.53a.75.75 0 0 1 0-1.06Z"></path>
</svg>
</template>

<template id="file-code-icon">
  <svg aria-hidden="true" height="16" viewBox="0 0 16 16" version="1.1" width="16" data-view-component="true" class="octicon octicon-file-code">
    <path d="M4 1.75C4 .784 4.784 0 5.75 0h5.586c.464 0 .909.184 1.237.513l2.914 2.914c.329.328.513.773.513 1.237v8.586A1.75 1.75 0 0 1 14.25 15h-9a.75.75 0 0 1 0-1.5h9a.25.25 0 0 0 .25-.25V6h-2.75A1.75 1.75 0 0 1 10 4.25V1.5H5.75a.25.25 0 0 0-.25.25v2.5a.75.75 0 0 1-1.5 0Zm1.72 4.97a.75.75 0 0 1 1.06 0l2 2a.75.75 0 0 1 0 1.06l-2 2a.749.749 0 0 1-1.275-.326.749.749 0 0 1 .215-.734l1.47-1.47-1.47-1.47a.75.75 0 0 1 0-1.06ZM3.28 7.78 1.81 9.25l1.47 1.47a.751.751 0 0 1-.018 1.042.751.751 0 0 1-1.042.018l-2-2a.75.75 0 0 1 0-1.06l2-2a.751.751 0 0 1 1.042.018.751.751 0 0 1 .018 1.042Zm8.22-6.218V4.25c0 .138.112.25.25.25h2.688l-.011-.013-2.914-2.914-.013-.011Z"></path>
</svg>
</template>

<template id="history-icon">
  <svg aria-hidden="true" height="16" viewBox="0 0 16 16" version="1.1" width="16" data-view-component="true" class="octicon octicon-history">
    <path d="m.427 1.927 1.215 1.215a8.002 8.002 0 1 1-1.6 5.685.75.75 0 1 1 1.493-.154 6.5 6.5 0 1 0 1.18-4.458l1.358 1.358A.25.25 0 0 1 3.896 6H.25A.25.25 0 0 1 0 5.75V2.104a.25.25 0 0 1 .427-.177ZM7.75 4a.75.75 0 0 1 .75.75v2.992l2.028.812a.75.75 0 0 1-.557 1.392l-2.5-1A.751.751 0 0 1 7 8.25v-3.5A.75.75 0 0 1 7.75 4Z"></path>
</svg>
</template>

<template id="repo-icon">
  <svg aria-hidden="true" height="16" viewBox="0 0 16 16" version="1.1" width="16" data-view-component="true" class="octicon octicon-repo">
    <path d="M2 2.5A2.5 2.5 0 0 1 4.5 0h8.75a.75.75 0 0 1 .75.75v12.5a.75.75 0 0 1-.75.75h-2.5a.75.75 0 0 1 0-1.5h1.75v-2h-8a1 1 0 0 0-.714 1.7.75.75 0 1 1-1.072 1.05A2.495 2.495 0 0 1 2 11.5Zm10.5-1h-8a1 1 0 0 0-1 1v6.708A2.486 2.486 0 0 1 4.5 9h8ZM5 12.25a.25.25 0 0 1 .25-.25h3.5a.25.25 0 0 1 .25.25v3.25a.25.25 0 0 1-.4.2l-1.45-1.087a.249.249 0 0 0-.3 0L5.4 15.7a.25.25 0 0 1-.4-.2Z"></path>
</svg>
</template>

<template id="bookmark-icon">
  <svg aria-hidden="true" height="16" viewBox="0 0 16 16" version="1.1" width="16" data-view-component="true" class="octicon octicon-bookmark">
    <path d="M3 2.75C3 1.784 3.784 1 4.75 1h6.5c.966 0 1.75.784 1.75 1.75v11.5a.75.75 0 0 1-1.227.579L8 11.722l-3.773 3.107A.751.751 0 0 1 3 14.25Zm1.75-.25a.25.25 0 0 0-.25.25v9.91l3.023-2.489a.75.75 0 0 1 .954 0l3.023 2.49V2.75a.25.25 0 0 0-.25-.25Z"></path>
</svg>
</template>

<template id="plus-circle-icon">
  <svg aria-hidden="true" height="16" viewBox="0 0 16 16" version="1.1" width="16" data-view-component="true" class="octicon octicon-plus-circle">
    <path d="M8 0a8 8 0 1 1 0 16A8 8 0 0 1 8 0ZM1.5 8a6.5 6.5 0 1 0 13 0 6.5 6.5 0 0 0-13 0Zm7.25-3.25v2.5h2.5a.75.75 0 0 1 0 1.5h-2.5v2.5a.75.75 0 0 1-1.5 0v-2.5h-2.5a.75.75 0 0 1 0-1.5h2.5v-2.5a.75.75 0 0 1 1.5 0Z"></path>
</svg>
</template>

<template id="circle-icon">
  <svg aria-hidden="true" height="16" viewBox="0 0 16 16" version="1.1" width="16" data-view-component="true" class="octicon octicon-dot-fill">
    <path d="M8 4a4 4 0 1 1 0 8 4 4 0 0 1 0-8Z"></path>
</svg>
</template>

<template id="trash-icon">
  <svg aria-hidden="true" height="16" viewBox="0 0 16 16" version="1.1" width="16" data-view-component="true" class="octicon octicon-trash">
    <path d="M11 1.75V3h2.25a.75.75 0 0 1 0 1.5H2.75a.75.75 0 0 1 0-1.5H5V1.75C5 .784 5.784 0 6.75 0h2.5C10.216 0 11 .784 11 1.75ZM4.496 6.675l.66 6.6a.25.25 0 0 0 .249.225h5.19a.25.25 0 0 0 .249-.225l.66-6.6a.75.75 0 0 1 1.492.149l-.66 6.6A1.748 1.748 0 0 1 10.595 15h-5.19a1.75 1.75 0 0 1-1.741-1.575l-.66-6.6a.75.75 0 1 1 1.492-.15ZM6.5 1.75V3h3V1.75a.25.25 0 0 0-.25-.25h-2.5a.25.25 0 0 0-.25.25Z"></path>
</svg>
</template>

<template id="team-icon">
  <svg aria-hidden="true" height="16" viewBox="0 0 16 16" version="1.1" width="16" data-view-component="true" class="octicon octicon-people">
    <path d="M2 5.5a3.5 3.5 0 1 1 5.898 2.549 5.508 5.508 0 0 1 3.034 4.084.75.75 0 1 1-1.482.235 4 4 0 0 0-7.9 0 .75.75 0 0 1-1.482-.236A5.507 5.507 0 0 1 3.102 8.05 3.493 3.493 0 0 1 2 5.5ZM11 4a3.001 3.001 0 0 1 2.22 5.018 5.01 5.01 0 0 1 2.56 3.012.749.749 0 0 1-.885.954.752.752 0 0 1-.549-.514 3.507 3.507 0 0 0-2.522-2.372.75.75 0 0 1-.574-.73v-.352a.75.75 0 0 1 .416-.672A1.5 1.5 0 0 0 11 5.5.75.75 0 0 1 11 4Zm-5.5-.5a2 2 0 1 0-.001 3.999A2 2 0 0 0 5.5 3.5Z"></path>
</svg>
</template>

<template id="project-icon">
  <svg aria-hidden="true" height="16" viewBox="0 0 16 16" version="1.1" width="16" data-view-component="true" class="octicon octicon-project">
    <path d="M1.75 0h12.5C15.216 0 16 .784 16 1.75v12.5A1.75 1.75 0 0 1 14.25 16H1.75A1.75 1.75 0 0 1 0 14.25V1.75C0 .784.784 0 1.75 0ZM1.5 1.75v12.5c0 .138.112.25.25.25h12.5a.25.25 0 0 0 .25-.25V1.75a.25.25 0 0 0-.25-.25H1.75a.25.25 0 0 0-.25.25ZM11.75 3a.75.75 0 0 1 .75.75v7.5a.75.75 0 0 1-1.5 0v-7.5a.75.75 0 0 1 .75-.75Zm-8.25.75a.75.75 0 0 1 1.5 0v5.5a.75.75 0 0 1-1.5 0ZM8 3a.75.75 0 0 1 .75.75v3.5a.75.75 0 0 1-1.5 0v-3.5A.75.75 0 0 1 8 3Z"></path>
</svg>
</template>

<template id="pencil-icon">
  <svg aria-hidden="true" height="16" viewBox="0 0 16 16" version="1.1" width="16" data-view-component="true" class="octicon octicon-pencil">
    <path d="M11.013 1.427a1.75 1.75 0 0 1 2.474 0l1.086 1.086a1.75 1.75 0 0 1 0 2.474l-8.61 8.61c-.21.21-.47.364-.756.445l-3.251.93a.75.75 0 0 1-.927-.928l.929-3.25c.081-.286.235-.547.445-.758l8.61-8.61Zm.176 4.823L9.75 4.81l-6.286 6.287a.253.253 0 0 0-.064.108l-.558 1.953 1.953-.558a.253.253 0 0 0 .108-.064Zm1.238-3.763a.25.25 0 0 0-.354 0L10.811 3.75l1.439 1.44 1.263-1.263a.25.25 0 0 0 0-.354Z"></path>
</svg>
</template>

        <div class="position-relative">
                <ul
                  role="listbox"
                  class="ActionListWrap QueryBuilder-ListWrap"
                  aria-label="Suggestions"
                  data-action="
                    combobox-commit:query-builder#comboboxCommit
                    mousedown:query-builder#resultsMousedown
                  "
                  data-target="query-builder.resultsList"
                  data-persist-list=false
                  id="query-builder-test-results"
                ></ul>
        </div>
    </div>
    <div data-target="query-builder.screenReaderFeedback" aria-live="polite" aria-atomic="true" class="sr-only"></div>
</query-builder></form>
          <div class="d-flex flex-row color-fg-muted px-3 text-small color-bg-default search-feedback-prompt">
            <a target="_blank" href="https://docs.github.com/en/search-github/github-code-search/understanding-github-code-search-syntax" data-view-component="true" class="Link color-fg-accent text-normal ml-2">
              Search syntax tips
</a>            <div class="d-flex flex-1"></div>
                <button data-action="click:qbsearch-input#showFeedbackDialog" type="button" data-view-component="true" class="Button--link Button--medium Button color-fg-accent text-normal ml-2">    <span class="Button-content">
      <span class="Button-label">Give feedback</span>
    </span>
</button>  
          </div>
        </div>
</div>

    </div>
</modal-dialog></div>
  </div>
  <div data-action="click:qbsearch-input#retract" class="dark-backdrop position-fixed" hidden data-target="qbsearch-input.darkBackdrop"></div>
  <div class="color-fg-default">
    
<div class="Overlay--hidden Overlay-backdrop--center" data-modal-dialog-overlay>
  <modal-dialog data-target="qbsearch-input.feedbackDialog" data-action="close:qbsearch-input#handleDialogClose cancel:qbsearch-input#handleDialogClose" role="dialog" id="feedback-dialog" aria-modal="true" aria-disabled="true" aria-describedby="feedback-dialog-title feedback-dialog-description" data-view-component="true" class="Overlay Overlay-whenNarrow Overlay--size-medium Overlay--motion-scaleFade">
    <div data-view-component="true" class="Overlay-header">
  <div class="Overlay-headerContentWrap">
    <div class="Overlay-titleWrap">
      <h1 class="Overlay-title " id="feedback-dialog-title">
        Provide feedback
      </h1>
    </div>
    <div class="Overlay-actionWrap">
      <button data-close-dialog-id="feedback-dialog" aria-label="Close" type="button" data-view-component="true" class="close-button Overlay-closeButton"><svg aria-hidden="true" height="16" viewBox="0 0 16 16" version="1.1" width="16" data-view-component="true" class="octicon octicon-x">
    <path d="M3.72 3.72a.75.75 0 0 1 1.06 0L8 6.94l3.22-3.22a.749.749 0 0 1 1.275.326.749.749 0 0 1-.215.734L9.06 8l3.22 3.22a.749.749 0 0 1-.326 1.275.749.749 0 0 1-.734-.215L8 9.06l-3.22 3.22a.751.751 0 0 1-1.042-.018.751.751 0 0 1-.018-1.042L6.94 8 3.72 4.78a.75.75 0 0 1 0-1.06Z"></path>
</svg></button>
    </div>
  </div>
</div>
      <div data-view-component="true" class="Overlay-body">        <!-- '"` --><!-- </textarea></xmp> --></option></form><form id="code-search-feedback-form" data-turbo="false" action="/search/feedback" accept-charset="UTF-8" method="post"><input type="hidden" name="authenticity_token" value="g0_wgGzLXCjfF-z663zPj56vCqsguDZEHyuh80NvzoJ-eu8ZlfNXFavQTWuFSak8FZP_9Sm8c57J1r9wCIWi1w" />
          <p>We read every piece of feedback, and take your input very seriously.</p>
          <textarea name="feedback" class="form-control width-full mb-2" style="height: 120px" id="feedback"></textarea>
          <input name="include_email" id="include_email" aria-label="Include my email address so I can be contacted" class="form-control mr-2" type="checkbox">
          <label for="include_email" style="font-weight: normal">Include my email address so I can be contacted</label>
</form></div>
      <div data-view-component="true" class="Overlay-footer Overlay-footer--alignEnd">          <button data-close-dialog-id="feedback-dialog" type="button" data-view-component="true" class="btn">    Cancel
</button>
          <button form="code-search-feedback-form" data-action="click:qbsearch-input#submitFeedback" type="submit" data-view-component="true" class="btn-primary btn">    Submit feedback
</button>
</div>
</modal-dialog></div>

    <custom-scopes data-target="qbsearch-input.customScopesManager">
    
<div class="Overlay--hidden Overlay-backdrop--center" data-modal-dialog-overlay>
  <modal-dialog data-target="custom-scopes.customScopesModalDialog" data-action="close:qbsearch-input#handleDialogClose cancel:qbsearch-input#handleDialogClose" role="dialog" id="custom-scopes-dialog" aria-modal="true" aria-disabled="true" aria-describedby="custom-scopes-dialog-title custom-scopes-dialog-description" data-view-component="true" class="Overlay Overlay-whenNarrow Overlay--size-medium Overlay--motion-scaleFade">
    <div data-view-component="true" class="Overlay-header Overlay-header--divided">
  <div class="Overlay-headerContentWrap">
    <div class="Overlay-titleWrap">
      <h1 class="Overlay-title " id="custom-scopes-dialog-title">
        Saved searches
      </h1>
        <h2 id="custom-scopes-dialog-description" class="Overlay-description">Use saved searches to filter your results more quickly</h2>
    </div>
    <div class="Overlay-actionWrap">
      <button data-close-dialog-id="custom-scopes-dialog" aria-label="Close" type="button" data-view-component="true" class="close-button Overlay-closeButton"><svg aria-hidden="true" height="16" viewBox="0 0 16 16" version="1.1" width="16" data-view-component="true" class="octicon octicon-x">
    <path d="M3.72 3.72a.75.75 0 0 1 1.06 0L8 6.94l3.22-3.22a.749.749 0 0 1 1.275.326.749.749 0 0 1-.215.734L9.06 8l3.22 3.22a.749.749 0 0 1-.326 1.275.749.749 0 0 1-.734-.215L8 9.06l-3.22 3.22a.751.751 0 0 1-1.042-.018.751.751 0 0 1-.018-1.042L6.94 8 3.72 4.78a.75.75 0 0 1 0-1.06Z"></path>
</svg></button>
    </div>
  </div>
</div>
      <div data-view-component="true" class="Overlay-body">        <div data-target="custom-scopes.customScopesModalDialogFlash"></div>

        <div hidden class="create-custom-scope-form" data-target="custom-scopes.createCustomScopeForm">
        <!-- '"` --><!-- </textarea></xmp> --></option></form><form id="custom-scopes-dialog-form" data-turbo="false" action="/search/custom_scopes" accept-charset="UTF-8" method="post"><input type="hidden" name="authenticity_token" value="J_d54Og071in_XUWVCYicXg_jWsg8UG8JgLSltXFuKudp56pvFzVn2Vm_doR6sNKp7HJY6_TCh9LnXu-1P8j_g" />
          <div data-target="custom-scopes.customScopesModalDialogFlash"></div>

          <input type="hidden" id="custom_scope_id" name="custom_scope_id" data-target="custom-scopes.customScopesIdField">

          <div class="form-group">
            <label for="custom_scope_name">Name</label>
            <auto-check src="/search/custom_scopes/check_name" required>
              <input
                type="text"
                name="custom_scope_name"
                id="custom_scope_name"
                data-target="custom-scopes.customScopesNameField"
                class="form-control"
                autocomplete="off"
                placeholder="github-ruby"
                required
                maxlength="50">
              <input type="hidden" value="hfpFMGmIt8TJCj54y-DuWC6MaPkLlKn3myjWCuViU5DcNLkRpwRwYKTEryg6R1qpnHV8SHr_07lLWN-zD7wW2A" data-csrf="true" />
            </auto-check>
          </div>

          <div class="form-group">
            <label for="custom_scope_query">Query</label>
            <input
              type="text"
              name="custom_scope_query"
              id="custom_scope_query"
              data-target="custom-scopes.customScopesQueryField"
              class="form-control"
              autocomplete="off"
              placeholder="(repo:mona/a OR repo:mona/b) AND lang:python"
              required
              maxlength="500">
          </div>

          <p class="text-small color-fg-muted">
            To see all available qualifiers, see our <a href="https://docs.github.com/en/search-github/github-code-search/understanding-github-code-search-syntax">documentation</a>.
          </p>
</form>        </div>

        <div data-target="custom-scopes.manageCustomScopesForm">
          <div data-target="custom-scopes.list"></div>
        </div>

</div>
      <div data-view-component="true" class="Overlay-footer Overlay-footer--alignEnd Overlay-footer--divided">          <button data-action="click:custom-scopes#customScopesCancel" type="button" data-view-component="true" class="btn">    Cancel
</button>
          <button form="custom-scopes-dialog-form" data-action="click:custom-scopes#customScopesSubmit" data-target="custom-scopes.customScopesSubmitButton" type="submit" data-view-component="true" class="btn-primary btn">    Create saved search
</button>
</div>
</modal-dialog></div>
    </custom-scopes>
  </div>
</qbsearch-input><input type="hidden" value="3bDDUSyGQiooU5FE-lajLW0yRVNfMYxNO0v6zo92O9Y-s7LUdIwaJWxPiFwHkOy7ds01hQFGwMwYlODvoZnAaA" data-csrf="true" class="js-data-jump-to-suggestions-path-csrf" />

          </div>

        <div class="AppHeader-actions">
          <action-menu data-select-variant="none" data-view-component="true">
  <focus-group direction="vertical" mnemonics retain>
    <div data-view-component="true" class="Button-withTooltip">  <button id="global-create-menu-button" popovertarget="global-create-menu-overlay" aria-label="Create something new" aria-controls="global-create-menu-list" aria-haspopup="true" type="button" data-view-component="true" class="AppHeader-button Button--secondary Button--small Button width-auto color-fg-muted box-shadow-none">    <span class="Button-content">
        <span class="Button-visual Button-leadingVisual">
          <svg aria-hidden="true" height="16" viewBox="0 0 16 16" version="1.1" width="16" data-view-component="true" class="octicon octicon-plus">
    <path d="M7.75 2a.75.75 0 0 1 .75.75V7h4.25a.75.75 0 0 1 0 1.5H8.5v4.25a.75.75 0 0 1-1.5 0V8.5H2.75a.75.75 0 0 1 0-1.5H7V2.75A.75.75 0 0 1 7.75 2Z"></path>
</svg>
        </span>
      <span class="Button-label"><svg aria-hidden="true" height="16" viewBox="0 0 16 16" version="1.1" width="16" data-view-component="true" class="octicon octicon-triangle-down">
    <path d="m4.427 7.427 3.396 3.396a.25.25 0 0 0 .354 0l3.396-3.396A.25.25 0 0 0 11.396 7H4.604a.25.25 0 0 0-.177.427Z"></path>
</svg></span>
    </span>
</button>  <tool-tip id="tooltip-46cb1ec3-28ba-4ad6-9ca6-46f086f788cb" for="global-create-menu-button" popover="manual" data-direction="s" data-type="description" data-view-component="true" class="sr-only position-absolute">Create new...</tool-tip>
</div>

<anchored-position id="global-create-menu-overlay" anchor="global-create-menu-button" align="end" side="outside-bottom" anchor-offset="normal" popover="auto" aria-label="Menu" data-view-component="true">
  <div data-view-component="true" class="Overlay Overlay--size-auto">
    
      
        <div data-view-component="true">
  <ul aria-labelledby="global-create-menu-button" id="global-create-menu-list" role="menu" data-view-component="true" class="ActionListWrap--inset ActionListWrap">
      <li data-analytics-event="{&quot;category&quot;:&quot;SiteHeaderComponent&quot;,&quot;action&quot;:&quot;add_dropdown&quot;,&quot;label&quot;:&quot;new repository&quot;}" data-targets="action-list.items" role="none" data-view-component="true" class="ActionListItem">
    
    <a href="/new" tabindex="-1" id="item-629d505d-6ab7-40ad-bea5-920277e6dcd4" role="menuitem" data-view-component="true" class="ActionListContent ActionListContent--visual16">
        <span class="ActionListItem-visual ActionListItem-visual--leading">
          <svg aria-hidden="true" height="16" viewBox="0 0 16 16" version="1.1" width="16" data-view-component="true" class="octicon octicon-repo">
    <path d="M2 2.5A2.5 2.5 0 0 1 4.5 0h8.75a.75.75 0 0 1 .75.75v12.5a.75.75 0 0 1-.75.75h-2.5a.75.75 0 0 1 0-1.5h1.75v-2h-8a1 1 0 0 0-.714 1.7.75.75 0 1 1-1.072 1.05A2.495 2.495 0 0 1 2 11.5Zm10.5-1h-8a1 1 0 0 0-1 1v6.708A2.486 2.486 0 0 1 4.5 9h8ZM5 12.25a.25.25 0 0 1 .25-.25h3.5a.25.25 0 0 1 .25.25v3.25a.25.25 0 0 1-.4.2l-1.45-1.087a.249.249 0 0 0-.3 0L5.4 15.7a.25.25 0 0 1-.4-.2Z"></path>
</svg>
        </span>
      
        <span data-view-component="true" class="ActionListItem-label">
              New repository

</span></a>
  
  
</li>
      <li data-analytics-event="{&quot;category&quot;:&quot;SiteHeaderComponent&quot;,&quot;action&quot;:&quot;add_dropdown&quot;,&quot;label&quot;:&quot;import repository&quot;}" data-targets="action-list.items" role="none" data-view-component="true" class="ActionListItem">
    
    <a href="/new/import" tabindex="-1" id="item-be276a25-b9a9-419d-a4f7-ddb2aed0af2c" role="menuitem" data-view-component="true" class="ActionListContent ActionListContent--visual16">
        <span class="ActionListItem-visual ActionListItem-visual--leading">
          <svg aria-hidden="true" height="16" viewBox="0 0 16 16" version="1.1" width="16" data-view-component="true" class="octicon octicon-repo-push">
    <path d="M1 2.5A2.5 2.5 0 0 1 3.5 0h8.75a.75.75 0 0 1 .75.75v3.5a.75.75 0 0 1-1.5 0V1.5h-8a1 1 0 0 0-1 1v6.708A2.493 2.493 0 0 1 3.5 9h3.25a.75.75 0 0 1 0 1.5H3.5a1 1 0 0 0 0 2h5.75a.75.75 0 0 1 0 1.5H3.5A2.5 2.5 0 0 1 1 11.5Zm13.23 7.79h-.001l-1.224-1.224v6.184a.75.75 0 0 1-1.5 0V9.066L10.28 10.29a.75.75 0 0 1-1.06-1.061l2.505-2.504a.75.75 0 0 1 1.06 0L15.29 9.23a.751.751 0 0 1-.018 1.042.751.751 0 0 1-1.042.018Z"></path>
</svg>
        </span>
      
        <span data-view-component="true" class="ActionListItem-label">
                Import repository

</span></a>
  
  
</li>
      <li role="presentation" aria-hidden="true" data-view-component="true" class="ActionList-sectionDivider"></li>
      <li data-analytics-event="{&quot;category&quot;:&quot;SiteHeaderComponent&quot;,&quot;action&quot;:&quot;add_dropdown&quot;,&quot;label&quot;:&quot;new codespace&quot;}" data-targets="action-list.items" role="none" data-view-component="true" class="ActionListItem">
    
    <a href="/codespaces/new" tabindex="-1" id="item-9abd1c44-8839-463d-8cc0-1fb4b18ab300" role="menuitem" data-view-component="true" class="ActionListContent ActionListContent--visual16">
        <span class="ActionListItem-visual ActionListItem-visual--leading">
          <svg aria-hidden="true" height="16" viewBox="0 0 16 16" version="1.1" width="16" data-view-component="true" class="octicon octicon-codespaces">
    <path d="M0 11.25c0-.966.784-1.75 1.75-1.75h12.5c.966 0 1.75.784 1.75 1.75v3A1.75 1.75 0 0 1 14.25 16H1.75A1.75 1.75 0 0 1 0 14.25Zm2-9.5C2 .784 2.784 0 3.75 0h8.5C13.216 0 14 .784 14 1.75v5a1.75 1.75 0 0 1-1.75 1.75h-8.5A1.75 1.75 0 0 1 2 6.75Zm1.75-.25a.25.25 0 0 0-.25.25v5c0 .138.112.25.25.25h8.5a.25.25 0 0 0 .25-.25v-5a.25.25 0 0 0-.25-.25Zm-2 9.5a.25.25 0 0 0-.25.25v3c0 .138.112.25.25.25h12.5a.25.25 0 0 0 .25-.25v-3a.25.25 0 0 0-.25-.25Z"></path><path d="M7 12.75a.75.75 0 0 1 .75-.75h4.5a.75.75 0 0 1 0 1.5h-4.5a.75.75 0 0 1-.75-.75Zm-4 0a.75.75 0 0 1 .75-.75h.5a.75.75 0 0 1 0 1.5h-.5a.75.75 0 0 1-.75-.75Z"></path>
</svg>
        </span>
      
        <span data-view-component="true" class="ActionListItem-label">
                New codespace

</span></a>
  
  
</li>
      <li data-analytics-event="{&quot;category&quot;:&quot;SiteHeaderComponent&quot;,&quot;action&quot;:&quot;add_dropdown&quot;,&quot;label&quot;:&quot;new gist&quot;}" data-targets="action-list.items" role="none" data-view-component="true" class="ActionListItem">
    
    <a href="https://gist.github.com/" tabindex="-1" id="item-51bca50a-6735-40ee-b558-16623211103c" role="menuitem" data-view-component="true" class="ActionListContent ActionListContent--visual16">
        <span class="ActionListItem-visual ActionListItem-visual--leading">
          <svg aria-hidden="true" height="16" viewBox="0 0 16 16" version="1.1" width="16" data-view-component="true" class="octicon octicon-code">
    <path d="m11.28 3.22 4.25 4.25a.75.75 0 0 1 0 1.06l-4.25 4.25a.749.749 0 0 1-1.275-.326.749.749 0 0 1 .215-.734L13.94 8l-3.72-3.72a.749.749 0 0 1 .326-1.275.749.749 0 0 1 .734.215Zm-6.56 0a.751.751 0 0 1 1.042.018.751.751 0 0 1 .018 1.042L2.06 8l3.72 3.72a.749.749 0 0 1-.326 1.275.749.749 0 0 1-.734-.215L.47 8.53a.75.75 0 0 1 0-1.06Z"></path>
</svg>
        </span>
      
        <span data-view-component="true" class="ActionListItem-label">
              New gist

</span></a>
  
  
</li>
      <li role="presentation" aria-hidden="true" data-view-component="true" class="ActionList-sectionDivider"></li>
      <li data-analytics-event="{&quot;category&quot;:&quot;SiteHeaderComponent&quot;,&quot;action&quot;:&quot;add_dropdown&quot;,&quot;label&quot;:&quot;new organization&quot;}" data-targets="action-list.items" role="none" data-view-component="true" class="ActionListItem">
    
    <a href="/account/organizations/new" tabindex="-1" id="item-72f029df-7f6d-44e0-bdcc-00330cc9694f" role="menuitem" data-view-component="true" class="ActionListContent ActionListContent--visual16">
        <span class="ActionListItem-visual ActionListItem-visual--leading">
          <svg aria-hidden="true" height="16" viewBox="0 0 16 16" version="1.1" width="16" data-view-component="true" class="octicon octicon-organization">
    <path d="M1.75 16A1.75 1.75 0 0 1 0 14.25V1.75C0 .784.784 0 1.75 0h8.5C11.216 0 12 .784 12 1.75v12.5c0 .085-.006.168-.018.25h2.268a.25.25 0 0 0 .25-.25V8.285a.25.25 0 0 0-.111-.208l-1.055-.703a.749.749 0 1 1 .832-1.248l1.055.703c.487.325.779.871.779 1.456v5.965A1.75 1.75 0 0 1 14.25 16h-3.5a.766.766 0 0 1-.197-.026c-.099.017-.2.026-.303.026h-3a.75.75 0 0 1-.75-.75V14h-1v1.25a.75.75 0 0 1-.75.75Zm-.25-1.75c0 .138.112.25.25.25H4v-1.25a.75.75 0 0 1 .75-.75h2.5a.75.75 0 0 1 .75.75v1.25h2.25a.25.25 0 0 0 .25-.25V1.75a.25.25 0 0 0-.25-.25h-8.5a.25.25 0 0 0-.25.25ZM3.75 6h.5a.75.75 0 0 1 0 1.5h-.5a.75.75 0 0 1 0-1.5ZM3 3.75A.75.75 0 0 1 3.75 3h.5a.75.75 0 0 1 0 1.5h-.5A.75.75 0 0 1 3 3.75Zm4 3A.75.75 0 0 1 7.75 6h.5a.75.75 0 0 1 0 1.5h-.5A.75.75 0 0 1 7 6.75ZM7.75 3h.5a.75.75 0 0 1 0 1.5h-.5a.75.75 0 0 1 0-1.5ZM3 9.75A.75.75 0 0 1 3.75 9h.5a.75.75 0 0 1 0 1.5h-.5A.75.75 0 0 1 3 9.75ZM7.75 9h.5a.75.75 0 0 1 0 1.5h-.5a.75.75 0 0 1 0-1.5Z"></path>
</svg>
        </span>
      
        <span data-view-component="true" class="ActionListItem-label">
                New organization

</span></a>
  
  
</li>
</ul>  
</div>

</div></anchored-position>  </focus-group>
</action-menu>

          <div data-view-component="true" class="Button-withTooltip">
  <a href="/issues" id="icon-button-d64e9e55-b6bb-4372-b5ee-f84564e80f5b" data-view-component="true" class="Button Button--iconOnly Button--secondary Button--medium AppHeader-button color-fg-muted">    <svg aria-hidden="true" height="16" viewBox="0 0 16 16" version="1.1" width="16" data-view-component="true" class="octicon octicon-issue-opened Button-visual">
    <path d="M8 9.5a1.5 1.5 0 1 0 0-3 1.5 1.5 0 0 0 0 3Z"></path><path d="M8 0a8 8 0 1 1 0 16A8 8 0 0 1 8 0ZM1.5 8a6.5 6.5 0 1 0 13 0 6.5 6.5 0 0 0-13 0Z"></path>
</svg>
</a>  <tool-tip id="tooltip-47ea7215-dd36-44bf-b638-575f986ba598" for="icon-button-d64e9e55-b6bb-4372-b5ee-f84564e80f5b" popover="manual" data-direction="s" data-type="label" data-view-component="true" class="sr-only position-absolute">Issues</tool-tip>
</div>
          <div data-view-component="true" class="Button-withTooltip">
  <a href="/pulls" id="icon-button-21982df8-5e7e-4a4c-b435-91dfca6ba4cd" data-view-component="true" class="Button Button--iconOnly Button--secondary Button--medium AppHeader-button color-fg-muted">    <svg aria-hidden="true" height="16" viewBox="0 0 16 16" version="1.1" width="16" data-view-component="true" class="octicon octicon-git-pull-request Button-visual">
    <path d="M1.5 3.25a2.25 2.25 0 1 1 3 2.122v5.256a2.251 2.251 0 1 1-1.5 0V5.372A2.25 2.25 0 0 1 1.5 3.25Zm5.677-.177L9.573.677A.25.25 0 0 1 10 .854V2.5h1A2.5 2.5 0 0 1 13.5 5v5.628a2.251 2.251 0 1 1-1.5 0V5a1 1 0 0 0-1-1h-1v1.646a.25.25 0 0 1-.427.177L7.177 3.427a.25.25 0 0 1 0-.354ZM3.75 2.5a.75.75 0 1 0 0 1.5.75.75 0 0 0 0-1.5Zm0 9.5a.75.75 0 1 0 0 1.5.75.75 0 0 0 0-1.5Zm8.25.75a.75.75 0 1 0 1.5 0 .75.75 0 0 0-1.5 0Z"></path>
</svg>
</a>  <tool-tip id="tooltip-a101e1bb-b3b4-42e4-a83e-e2ed66491427" for="icon-button-21982df8-5e7e-4a4c-b435-91dfca6ba4cd" popover="manual" data-direction="s" data-type="label" data-view-component="true" class="sr-only position-absolute">Pull requests</tool-tip>
</div>
        </div>

        <div class="mr-0">
          

<notification-indicator data-channel="eyJjIjoibm90aWZpY2F0aW9uLWNoYW5nZWQ6MTM5NjQ2MDIxIiwidCI6MTY5MDg5MTE4OX0=--1047a3eda0dac01a60776276578861deba4df897836e8f4852b9cbd26736df29" data-indicator-mode="none" data-tooltip-global="You have unread notifications" data-tooltip-unavailable="Notifications are unavailable at the moment." data-tooltip-none="You have no unread notifications" data-header-redesign-enabled="true" data-fetch-indicator-src="/notifications/indicator" data-fetch-indicator-enabled="true" data-view-component="true" class="js-socket-channel">
  <a id="AppHeader-notifications-button" href="/notifications"
    class="AppHeader-button"

    style="width:32px;height:32px;"

    data-hotkey="g n"
    data-target="notification-indicator.link"
    aria-label="Notifications"

      data-analytics-event="{&quot;category&quot;:&quot;SiteHeaderComponent&quot;,&quot;action&quot;:&quot;notifications&quot;,&quot;label&quot;:null}"
  >

    <span
      data-target="notification-indicator.badge"
      class="mail-status unread d-none" hidden>
    </span>

      <svg aria-hidden="true" height="16" viewBox="0 0 16 16" version="1.1" width="16" data-view-component="true" class="octicon octicon-inbox color-fg-muted mr-0">
    <path d="M2.8 2.06A1.75 1.75 0 0 1 4.41 1h7.18c.7 0 1.333.417 1.61 1.06l2.74 6.395c.04.093.06.194.06.295v4.5A1.75 1.75 0 0 1 14.25 15H1.75A1.75 1.75 0 0 1 0 13.25v-4.5c0-.101.02-.202.06-.295Zm1.61.44a.25.25 0 0 0-.23.152L1.887 8H4.75a.75.75 0 0 1 .6.3L6.625 10h2.75l1.275-1.7a.75.75 0 0 1 .6-.3h2.863L11.82 2.652a.25.25 0 0 0-.23-.152Zm10.09 7h-2.875l-1.275 1.7a.75.75 0 0 1-.6.3h-3.5a.75.75 0 0 1-.6-.3L4.375 9.5H1.5v3.75c0 .138.112.25.25.25h12.5a.25.25 0 0 0 .25-.25Z"></path>
</svg>
  </a>

    <tool-tip data-target="notification-indicator.tooltip" id="tooltip-e9b8b818-20c8-49a0-b855-f6f4ed2d866f" for="AppHeader-notifications-button" popover="manual" data-direction="s" data-type="description" data-view-component="true" class="sr-only position-absolute">Notifications</tool-tip>
</notification-indicator>
        </div>

        

        <div class="AppHeader-user">
          <deferred-side-panel data-url="/_side-panels/user?memex_enabled=true&amp;repository=IBM_Data_Science_Professional_Certification&amp;user=RedFoxSR&amp;user_can_create_organizations=true&amp;user_id=139646021">
  <include-fragment data-target="deferred-side-panel.fragment">
      <user-drawer-side-panel>
      <button aria-label="Open user account menu" data-action="click:deferred-side-panel#loadPanel click:deferred-side-panel#panelOpened" data-show-dialog-id="dialog-12d77e35-cc92-423f-bc49-1c37f56ab8f8" id="dialog-show-dialog-12d77e35-cc92-423f-bc49-1c37f56ab8f8" type="button" data-view-component="true" class="AppHeader-logo Button--invisible Button--medium Button Button--invisible-noVisuals color-bg-transparent p-0">    <span class="Button-content">
      <span class="Button-label"><img src="https://avatars.githubusercontent.com/u/139646021?v=4" alt="" size="32" height="32" width="32" data-view-component="true" class="avatar circle" /></span>
    </span>
</button>  

<div class="Overlay--hidden Overlay-backdrop--side Overlay-backdrop--placement-right" data-modal-dialog-overlay>
  <modal-dialog data-target="deferred-side-panel.panel" role="dialog" id="dialog-12d77e35-cc92-423f-bc49-1c37f56ab8f8" aria-modal="true" aria-disabled="true" aria-describedby="dialog-12d77e35-cc92-423f-bc49-1c37f56ab8f8-title dialog-12d77e35-cc92-423f-bc49-1c37f56ab8f8-description" data-view-component="true" class="Overlay Overlay-whenNarrow Overlay--size-small-portrait Overlay--motion-scaleFade SidePanel">
    <div styles="flex-direction: row;" data-view-component="true" class="Overlay-header">
  <div class="Overlay-headerContentWrap">
    <div class="Overlay-titleWrap">
      <h1 class="Overlay-title sr-only" id="dialog-12d77e35-cc92-423f-bc49-1c37f56ab8f8-title">
        Account menu
      </h1>
            <div data-view-component="true" class="d-flex">
      <div data-view-component="true" class="AppHeader-logo position-relative">
        <img src="https://avatars.githubusercontent.com/u/139646021?v=4" alt="" size="32" height="32" width="32" data-view-component="true" class="avatar circle" />
</div>        <div data-view-component="true" class="d-flex width-full">        <div data-view-component="true" class="lh-condensed d-flex flex-column flex-justify-center ml-2 f5 mr-auto">
          <span data-view-component="true" class="Truncate d-block text-bold">
    <span data-view-component="true" class="Truncate-text">
            RedFoxSR
</span>
</span>          </div>
</div>
</div>
    </div>
    <div class="Overlay-actionWrap">
      <button data-close-dialog-id="dialog-12d77e35-cc92-423f-bc49-1c37f56ab8f8" aria-label="Close" type="button" data-view-component="true" class="close-button Overlay-closeButton"><svg aria-hidden="true" height="16" viewBox="0 0 16 16" version="1.1" width="16" data-view-component="true" class="octicon octicon-x">
    <path d="M3.72 3.72a.75.75 0 0 1 1.06 0L8 6.94l3.22-3.22a.749.749 0 0 1 1.275.326.749.749 0 0 1-.215.734L9.06 8l3.22 3.22a.749.749 0 0 1-.326 1.275.749.749 0 0 1-.734-.215L8 9.06l-3.22 3.22a.751.751 0 0 1-1.042-.018.751.751 0 0 1-.018-1.042L6.94 8 3.72 4.78a.75.75 0 0 1 0-1.06Z"></path>
</svg></button>
    </div>
  </div>
</div>
      <div data-view-component="true" class="Overlay-body d-flex flex-column height-full px-2">      <nav aria-label="User navigation" data-view-component="true" class="ActionList">
  
  <nav-list>
    <ul data-view-component="true" class="ActionListWrap">
        
          
<li data-item-id="" data-targets="nav-list.items" data-view-component="true" class="ActionListItem">
    
    <button id="item-ddab0499-1e57-4178-b861-de092427c3f6" type="button" data-view-component="true" class="ActionListContent ActionListContent--visual16">
        <span class="ActionListItem-visual ActionListItem-visual--leading">
          <span data-view-component="true" class="d-flex flex-items-center">    <svg style="box-sizing: content-box; color: var(--color-icon-primary);" width="16" height="16" viewBox="0 0 16 16" fill="none" data-view-component="true" class="anim-rotate">
  <circle cx="8" cy="8" r="7" stroke="currentColor" stroke-opacity="0.25" stroke-width="2" vector-effect="non-scaling-stroke" />
  <path d="M15 8a7.002 7.002 0 00-7-7" stroke="currentColor" stroke-width="2" stroke-linecap="round" vector-effect="non-scaling-stroke" />
</svg>
</span>
        </span>
      
        <span data-view-component="true" class="ActionListItem-label">
          

  <span class="color-fg-muted">
    Loading...
  </span>

</span></button>
  
  
</li>

        
          <li role="presentation" aria-hidden="true" data-view-component="true" class="ActionList-sectionDivider"></li>
        
          
<li data-item-id="" data-targets="nav-list.items" data-view-component="true" class="ActionListItem">
    
    <a id="item-e670ae16-f168-4b1d-ac84-f9722987d2ef" href="https://github.com/RedFoxSR" data-view-component="true" class="ActionListContent ActionListContent--visual16">
        <span class="ActionListItem-visual ActionListItem-visual--leading">
          <svg aria-hidden="true" height="16" viewBox="0 0 16 16" version="1.1" width="16" data-view-component="true" class="octicon octicon-person">
    <path d="M10.561 8.073a6.005 6.005 0 0 1 3.432 5.142.75.75 0 1 1-1.498.07 4.5 4.5 0 0 0-8.99 0 .75.75 0 0 1-1.498-.07 6.004 6.004 0 0 1 3.431-5.142 3.999 3.999 0 1 1 5.123 0ZM10.5 5a2.5 2.5 0 1 0-5 0 2.5 2.5 0 0 0 5 0Z"></path>
</svg>
        </span>
      
        <span data-view-component="true" class="ActionListItem-label">
          Your profile
</span></a>
  
  
</li>

        
          <li role="presentation" aria-hidden="true" data-view-component="true" class="ActionList-sectionDivider"></li>
        
          
<li data-item-id="" data-targets="nav-list.items" data-view-component="true" class="ActionListItem">
    
    <a id="item-1a74fe0a-caa6-4325-8296-9b81bfe0cf3e" href="/RedFoxSR?tab=repositories" data-view-component="true" class="ActionListContent ActionListContent--visual16">
        <span class="ActionListItem-visual ActionListItem-visual--leading">
          <svg aria-hidden="true" height="16" viewBox="0 0 16 16" version="1.1" width="16" data-view-component="true" class="octicon octicon-repo">
    <path d="M2 2.5A2.5 2.5 0 0 1 4.5 0h8.75a.75.75 0 0 1 .75.75v12.5a.75.75 0 0 1-.75.75h-2.5a.75.75 0 0 1 0-1.5h1.75v-2h-8a1 1 0 0 0-.714 1.7.75.75 0 1 1-1.072 1.05A2.495 2.495 0 0 1 2 11.5Zm10.5-1h-8a1 1 0 0 0-1 1v6.708A2.486 2.486 0 0 1 4.5 9h8ZM5 12.25a.25.25 0 0 1 .25-.25h3.5a.25.25 0 0 1 .25.25v3.25a.25.25 0 0 1-.4.2l-1.45-1.087a.249.249 0 0 0-.3 0L5.4 15.7a.25.25 0 0 1-.4-.2Z"></path>
</svg>
        </span>
      
        <span data-view-component="true" class="ActionListItem-label">
          Your repositories
</span></a>
  
  
</li>

        
          
<li data-item-id="" data-targets="nav-list.items" data-view-component="true" class="ActionListItem">
    
    <a id="item-71e6bcd5-0a66-489e-9f19-ebcd45aa6b03" href="/RedFoxSR?tab=projects" data-view-component="true" class="ActionListContent ActionListContent--visual16">
        <span class="ActionListItem-visual ActionListItem-visual--leading">
          <svg aria-hidden="true" height="16" viewBox="0 0 16 16" version="1.1" width="16" data-view-component="true" class="octicon octicon-project">
    <path d="M1.75 0h12.5C15.216 0 16 .784 16 1.75v12.5A1.75 1.75 0 0 1 14.25 16H1.75A1.75 1.75 0 0 1 0 14.25V1.75C0 .784.784 0 1.75 0ZM1.5 1.75v12.5c0 .138.112.25.25.25h12.5a.25.25 0 0 0 .25-.25V1.75a.25.25 0 0 0-.25-.25H1.75a.25.25 0 0 0-.25.25ZM11.75 3a.75.75 0 0 1 .75.75v7.5a.75.75 0 0 1-1.5 0v-7.5a.75.75 0 0 1 .75-.75Zm-8.25.75a.75.75 0 0 1 1.5 0v5.5a.75.75 0 0 1-1.5 0ZM8 3a.75.75 0 0 1 .75.75v3.5a.75.75 0 0 1-1.5 0v-3.5A.75.75 0 0 1 8 3Z"></path>
</svg>
        </span>
      
        <span data-view-component="true" class="ActionListItem-label">
          Your projects
</span></a>
  
  
</li>

        
          
<li data-item-id="" data-targets="nav-list.items" data-view-component="true" class="ActionListItem">
    
    <a id="item-766b3187-e9b0-4e76-8428-69dee536f1a5" href="/codespaces" data-view-component="true" class="ActionListContent ActionListContent--visual16">
        <span class="ActionListItem-visual ActionListItem-visual--leading">
          <svg aria-hidden="true" height="16" viewBox="0 0 16 16" version="1.1" width="16" data-view-component="true" class="octicon octicon-codespaces">
    <path d="M0 11.25c0-.966.784-1.75 1.75-1.75h12.5c.966 0 1.75.784 1.75 1.75v3A1.75 1.75 0 0 1 14.25 16H1.75A1.75 1.75 0 0 1 0 14.25Zm2-9.5C2 .784 2.784 0 3.75 0h8.5C13.216 0 14 .784 14 1.75v5a1.75 1.75 0 0 1-1.75 1.75h-8.5A1.75 1.75 0 0 1 2 6.75Zm1.75-.25a.25.25 0 0 0-.25.25v5c0 .138.112.25.25.25h8.5a.25.25 0 0 0 .25-.25v-5a.25.25 0 0 0-.25-.25Zm-2 9.5a.25.25 0 0 0-.25.25v3c0 .138.112.25.25.25h12.5a.25.25 0 0 0 .25-.25v-3a.25.25 0 0 0-.25-.25Z"></path><path d="M7 12.75a.75.75 0 0 1 .75-.75h4.5a.75.75 0 0 1 0 1.5h-4.5a.75.75 0 0 1-.75-.75Zm-4 0a.75.75 0 0 1 .75-.75h.5a.75.75 0 0 1 0 1.5h-.5a.75.75 0 0 1-.75-.75Z"></path>
</svg>
        </span>
      
        <span data-view-component="true" class="ActionListItem-label">
          Your codespaces
</span></a>
  
  
</li>

        
          
<li data-item-id="" data-targets="nav-list.items" data-view-component="true" class="ActionListItem">
    
    <button id="item-8199560f-b4d7-4550-a443-22b6b6bad564" type="button" data-view-component="true" class="ActionListContent ActionListContent--visual16">
        <span class="ActionListItem-visual ActionListItem-visual--leading">
          <span data-view-component="true" class="d-flex flex-items-center">    <svg style="box-sizing: content-box; color: var(--color-icon-primary);" width="16" height="16" viewBox="0 0 16 16" fill="none" data-view-component="true" class="anim-rotate">
  <circle cx="8" cy="8" r="7" stroke="currentColor" stroke-opacity="0.25" stroke-width="2" vector-effect="non-scaling-stroke" />
  <path d="M15 8a7.002 7.002 0 00-7-7" stroke="currentColor" stroke-width="2" stroke-linecap="round" vector-effect="non-scaling-stroke" />
</svg>
</span>
        </span>
      
        <span data-view-component="true" class="ActionListItem-label">
          

  <span class="color-fg-muted">
    Loading...
  </span>

</span></button>
  
  
</li>

        
          
<li data-item-id="" data-targets="nav-list.items" data-view-component="true" class="ActionListItem">
    
    <a id="item-e610c7c3-aaba-4b98-8590-7adde7174d8c" href="/RedFoxSR?tab=stars" data-view-component="true" class="ActionListContent ActionListContent--visual16">
        <span class="ActionListItem-visual ActionListItem-visual--leading">
          <svg aria-hidden="true" height="16" viewBox="0 0 16 16" version="1.1" width="16" data-view-component="true" class="octicon octicon-star">
    <path d="M8 .25a.75.75 0 0 1 .673.418l1.882 3.815 4.21.612a.75.75 0 0 1 .416 1.279l-3.046 2.97.719 4.192a.751.751 0 0 1-1.088.791L8 12.347l-3.766 1.98a.75.75 0 0 1-1.088-.79l.72-4.194L.818 6.374a.75.75 0 0 1 .416-1.28l4.21-.611L7.327.668A.75.75 0 0 1 8 .25Zm0 2.445L6.615 5.5a.75.75 0 0 1-.564.41l-3.097.45 2.24 2.184a.75.75 0 0 1 .216.664l-.528 3.084 2.769-1.456a.75.75 0 0 1 .698 0l2.77 1.456-.53-3.084a.75.75 0 0 1 .216-.664l2.24-2.183-3.096-.45a.75.75 0 0 1-.564-.41L8 2.694Z"></path>
</svg>
        </span>
      
        <span data-view-component="true" class="ActionListItem-label">
          Your stars
</span></a>
  
  
</li>

        
          
<li data-item-id="" data-targets="nav-list.items" data-view-component="true" class="ActionListItem">
    
    <a id="item-841bda96-8b80-472c-80c8-353ac3b02ce7" href="/sponsors/accounts" data-view-component="true" class="ActionListContent ActionListContent--visual16">
        <span class="ActionListItem-visual ActionListItem-visual--leading">
          <svg aria-hidden="true" height="16" viewBox="0 0 16 16" version="1.1" width="16" data-view-component="true" class="octicon octicon-heart">
    <path d="m8 14.25.345.666a.75.75 0 0 1-.69 0l-.008-.004-.018-.01a7.152 7.152 0 0 1-.31-.17 22.055 22.055 0 0 1-3.434-2.414C2.045 10.731 0 8.35 0 5.5 0 2.836 2.086 1 4.25 1 5.797 1 7.153 1.802 8 3.02 8.847 1.802 10.203 1 11.75 1 13.914 1 16 2.836 16 5.5c0 2.85-2.045 5.231-3.885 6.818a22.066 22.066 0 0 1-3.744 2.584l-.018.01-.006.003h-.002ZM4.25 2.5c-1.336 0-2.75 1.164-2.75 3 0 2.15 1.58 4.144 3.365 5.682A20.58 20.58 0 0 0 8 13.393a20.58 20.58 0 0 0 3.135-2.211C12.92 9.644 14.5 7.65 14.5 5.5c0-1.836-1.414-3-2.75-3-1.373 0-2.609.986-3.029 2.456a.749.749 0 0 1-1.442 0C6.859 3.486 5.623 2.5 4.25 2.5Z"></path>
</svg>
        </span>
      
        <span data-view-component="true" class="ActionListItem-label">
          Your sponsors
</span></a>
  
  
</li>

        
          
<li data-item-id="" data-targets="nav-list.items" data-view-component="true" class="ActionListItem">
    
    <a id="item-16ad0163-c6ba-41a0-8b14-5cfb15a6f369" href="https://gist.github.com/mine" data-view-component="true" class="ActionListContent ActionListContent--visual16">
        <span class="ActionListItem-visual ActionListItem-visual--leading">
          <svg aria-hidden="true" height="16" viewBox="0 0 16 16" version="1.1" width="16" data-view-component="true" class="octicon octicon-code-square">
    <path d="M0 1.75C0 .784.784 0 1.75 0h12.5C15.216 0 16 .784 16 1.75v12.5A1.75 1.75 0 0 1 14.25 16H1.75A1.75 1.75 0 0 1 0 14.25Zm1.75-.25a.25.25 0 0 0-.25.25v12.5c0 .138.112.25.25.25h12.5a.25.25 0 0 0 .25-.25V1.75a.25.25 0 0 0-.25-.25Zm7.47 3.97a.75.75 0 0 1 1.06 0l2 2a.75.75 0 0 1 0 1.06l-2 2a.749.749 0 0 1-1.275-.326.749.749 0 0 1 .215-.734L10.69 8 9.22 6.53a.75.75 0 0 1 0-1.06ZM6.78 6.53 5.31 8l1.47 1.47a.749.749 0 0 1-.326 1.275.749.749 0 0 1-.734-.215l-2-2a.75.75 0 0 1 0-1.06l2-2a.751.751 0 0 1 1.042.018.751.751 0 0 1 .018 1.042Z"></path>
</svg>
        </span>
      
        <span data-view-component="true" class="ActionListItem-label">
          Your gists
</span></a>
  
  
</li>

        
          <li role="presentation" aria-hidden="true" data-view-component="true" class="ActionList-sectionDivider"></li>
        
          
<li data-item-id="" data-targets="nav-list.items" data-view-component="true" class="ActionListItem">
    
    <button id="item-86b02780-0589-4a28-ab61-b5b7c361d016" type="button" data-view-component="true" class="ActionListContent ActionListContent--visual16">
        <span class="ActionListItem-visual ActionListItem-visual--leading">
          <span data-view-component="true" class="d-flex flex-items-center">    <svg style="box-sizing: content-box; color: var(--color-icon-primary);" width="16" height="16" viewBox="0 0 16 16" fill="none" data-view-component="true" class="anim-rotate">
  <circle cx="8" cy="8" r="7" stroke="currentColor" stroke-opacity="0.25" stroke-width="2" vector-effect="non-scaling-stroke" />
  <path d="M15 8a7.002 7.002 0 00-7-7" stroke="currentColor" stroke-width="2" stroke-linecap="round" vector-effect="non-scaling-stroke" />
</svg>
</span>
        </span>
      
        <span data-view-component="true" class="ActionListItem-label">
          

  <span class="color-fg-muted">
    Loading...
  </span>

</span></button>
  
  
</li>

        
          
<li data-item-id="" data-targets="nav-list.items" data-view-component="true" class="ActionListItem">
    
    <button id="item-a0eb542e-4efa-4c68-adab-9641d0b15e84" type="button" data-view-component="true" class="ActionListContent ActionListContent--visual16">
        <span class="ActionListItem-visual ActionListItem-visual--leading">
          <span data-view-component="true" class="d-flex flex-items-center">    <svg style="box-sizing: content-box; color: var(--color-icon-primary);" width="16" height="16" viewBox="0 0 16 16" fill="none" data-view-component="true" class="anim-rotate">
  <circle cx="8" cy="8" r="7" stroke="currentColor" stroke-opacity="0.25" stroke-width="2" vector-effect="non-scaling-stroke" />
  <path d="M15 8a7.002 7.002 0 00-7-7" stroke="currentColor" stroke-width="2" stroke-linecap="round" vector-effect="non-scaling-stroke" />
</svg>
</span>
        </span>
      
        <span data-view-component="true" class="ActionListItem-label">
          

  <span class="color-fg-muted">
    Loading...
  </span>

</span></button>
  
  
</li>

        
          
<li data-item-id="" data-targets="nav-list.items" data-view-component="true" class="ActionListItem">
    
    <button id="item-147e17d6-7416-478e-8136-12c49b1e3006" type="button" data-view-component="true" class="ActionListContent ActionListContent--visual16">
        <span class="ActionListItem-visual ActionListItem-visual--leading">
          <span data-view-component="true" class="d-flex flex-items-center">    <svg style="box-sizing: content-box; color: var(--color-icon-primary);" width="16" height="16" viewBox="0 0 16 16" fill="none" data-view-component="true" class="anim-rotate">
  <circle cx="8" cy="8" r="7" stroke="currentColor" stroke-opacity="0.25" stroke-width="2" vector-effect="non-scaling-stroke" />
  <path d="M15 8a7.002 7.002 0 00-7-7" stroke="currentColor" stroke-width="2" stroke-linecap="round" vector-effect="non-scaling-stroke" />
</svg>
</span>
        </span>
      
        <span data-view-component="true" class="ActionListItem-label">
          

  <span class="color-fg-muted">
    Loading...
  </span>

</span></button>
  
  
</li>

        
          
<li data-item-id="" data-targets="nav-list.items" data-view-component="true" class="ActionListItem">
    
    <a id="item-0b95f7f6-5697-4fc7-98c5-1d0161f2385c" href="/settings/profile" data-view-component="true" class="ActionListContent ActionListContent--visual16">
        <span class="ActionListItem-visual ActionListItem-visual--leading">
          <svg aria-hidden="true" height="16" viewBox="0 0 16 16" version="1.1" width="16" data-view-component="true" class="octicon octicon-gear">
    <path d="M8 0a8.2 8.2 0 0 1 .701.031C9.444.095 9.99.645 10.16 1.29l.288 1.107c.018.066.079.158.212.224.231.114.454.243.668.386.123.082.233.09.299.071l1.103-.303c.644-.176 1.392.021 1.82.63.27.385.506.792.704 1.218.315.675.111 1.422-.364 1.891l-.814.806c-.049.048-.098.147-.088.294.016.257.016.515 0 .772-.01.147.038.246.088.294l.814.806c.475.469.679 1.216.364 1.891a7.977 7.977 0 0 1-.704 1.217c-.428.61-1.176.807-1.82.63l-1.102-.302c-.067-.019-.177-.011-.3.071a5.909 5.909 0 0 1-.668.386c-.133.066-.194.158-.211.224l-.29 1.106c-.168.646-.715 1.196-1.458 1.26a8.006 8.006 0 0 1-1.402 0c-.743-.064-1.289-.614-1.458-1.26l-.289-1.106c-.018-.066-.079-.158-.212-.224a5.738 5.738 0 0 1-.668-.386c-.123-.082-.233-.09-.299-.071l-1.103.303c-.644.176-1.392-.021-1.82-.63a8.12 8.12 0 0 1-.704-1.218c-.315-.675-.111-1.422.363-1.891l.815-.806c.05-.048.098-.147.088-.294a6.214 6.214 0 0 1 0-.772c.01-.147-.038-.246-.088-.294l-.815-.806C.635 6.045.431 5.298.746 4.623a7.92 7.92 0 0 1 .704-1.217c.428-.61 1.176-.807 1.82-.63l1.102.302c.067.019.177.011.3-.071.214-.143.437-.272.668-.386.133-.066.194-.158.211-.224l.29-1.106C6.009.645 6.556.095 7.299.03 7.53.01 7.764 0 8 0Zm-.571 1.525c-.036.003-.108.036-.137.146l-.289 1.105c-.147.561-.549.967-.998 1.189-.173.086-.34.183-.5.29-.417.278-.97.423-1.529.27l-1.103-.303c-.109-.03-.175.016-.195.045-.22.312-.412.644-.573.99-.014.031-.021.11.059.19l.815.806c.411.406.562.957.53 1.456a4.709 4.709 0 0 0 0 .582c.032.499-.119 1.05-.53 1.456l-.815.806c-.081.08-.073.159-.059.19.162.346.353.677.573.989.02.03.085.076.195.046l1.102-.303c.56-.153 1.113-.008 1.53.27.161.107.328.204.501.29.447.222.85.629.997 1.189l.289 1.105c.029.109.101.143.137.146a6.6 6.6 0 0 0 1.142 0c.036-.003.108-.036.137-.146l.289-1.105c.147-.561.549-.967.998-1.189.173-.086.34-.183.5-.29.417-.278.97-.423 1.529-.27l1.103.303c.109.029.175-.016.195-.045.22-.313.411-.644.573-.99.014-.031.021-.11-.059-.19l-.815-.806c-.411-.406-.562-.957-.53-1.456a4.709 4.709 0 0 0 0-.582c-.032-.499.119-1.05.53-1.456l.815-.806c.081-.08.073-.159.059-.19a6.464 6.464 0 0 0-.573-.989c-.02-.03-.085-.076-.195-.046l-1.102.303c-.56.153-1.113.008-1.53-.27a4.44 4.44 0 0 0-.501-.29c-.447-.222-.85-.629-.997-1.189l-.289-1.105c-.029-.11-.101-.143-.137-.146a6.6 6.6 0 0 0-1.142 0ZM11 8a3 3 0 1 1-6 0 3 3 0 0 1 6 0ZM9.5 8a1.5 1.5 0 1 0-3.001.001A1.5 1.5 0 0 0 9.5 8Z"></path>
</svg>
        </span>
      
        <span data-view-component="true" class="ActionListItem-label">
          Settings
</span></a>
  
  
</li>

        
          <li role="presentation" aria-hidden="true" data-view-component="true" class="ActionList-sectionDivider"></li>
        
          
<li data-item-id="" data-targets="nav-list.items" data-view-component="true" class="ActionListItem">
    
    <a id="item-8c3944e6-833e-43f0-b264-b3eb127dc13a" href="https://docs.github.com" data-view-component="true" class="ActionListContent ActionListContent--visual16">
        <span class="ActionListItem-visual ActionListItem-visual--leading">
          <svg aria-hidden="true" height="16" viewBox="0 0 16 16" version="1.1" width="16" data-view-component="true" class="octicon octicon-book">
    <path d="M0 1.75A.75.75 0 0 1 .75 1h4.253c1.227 0 2.317.59 3 1.501A3.743 3.743 0 0 1 11.006 1h4.245a.75.75 0 0 1 .75.75v10.5a.75.75 0 0 1-.75.75h-4.507a2.25 2.25 0 0 0-1.591.659l-.622.621a.75.75 0 0 1-1.06 0l-.622-.621A2.25 2.25 0 0 0 5.258 13H.75a.75.75 0 0 1-.75-.75Zm7.251 10.324.004-5.073-.002-2.253A2.25 2.25 0 0 0 5.003 2.5H1.5v9h3.757a3.75 3.75 0 0 1 1.994.574ZM8.755 4.75l-.004 7.322a3.752 3.752 0 0 1 1.992-.572H14.5v-9h-3.495a2.25 2.25 0 0 0-2.25 2.25Z"></path>
</svg>
        </span>
      
        <span data-view-component="true" class="ActionListItem-label">
          GitHub Docs
</span></a>
  
  
</li>

        
          
<li data-item-id="" data-targets="nav-list.items" data-view-component="true" class="ActionListItem">
    
    <a id="item-1c36a00a-1614-4141-a3a3-bc715ab06f8c" href="https://support.github.com" data-view-component="true" class="ActionListContent ActionListContent--visual16">
        <span class="ActionListItem-visual ActionListItem-visual--leading">
          <svg aria-hidden="true" height="16" viewBox="0 0 16 16" version="1.1" width="16" data-view-component="true" class="octicon octicon-people">
    <path d="M2 5.5a3.5 3.5 0 1 1 5.898 2.549 5.508 5.508 0 0 1 3.034 4.084.75.75 0 1 1-1.482.235 4 4 0 0 0-7.9 0 .75.75 0 0 1-1.482-.236A5.507 5.507 0 0 1 3.102 8.05 3.493 3.493 0 0 1 2 5.5ZM11 4a3.001 3.001 0 0 1 2.22 5.018 5.01 5.01 0 0 1 2.56 3.012.749.749 0 0 1-.885.954.752.752 0 0 1-.549-.514 3.507 3.507 0 0 0-2.522-2.372.75.75 0 0 1-.574-.73v-.352a.75.75 0 0 1 .416-.672A1.5 1.5 0 0 0 11 5.5.75.75 0 0 1 11 4Zm-5.5-.5a2 2 0 1 0-.001 3.999A2 2 0 0 0 5.5 3.5Z"></path>
</svg>
        </span>
      
        <span data-view-component="true" class="ActionListItem-label">
          GitHub Support
</span></a>
  
  
</li>

        
          <li role="presentation" aria-hidden="true" data-view-component="true" class="ActionList-sectionDivider"></li>
        
          
<li data-item-id="" data-targets="nav-list.items" data-view-component="true" class="ActionListItem">
    
    <a id="item-681f10a7-79cf-4ef0-a957-5509d3e7183b" href="/logout" data-view-component="true" class="ActionListContent">
      
        <span data-view-component="true" class="ActionListItem-label">
          Sign out
</span></a>
  
  
</li>

</ul>  </nav-list>
</nav>


</div>
      
</modal-dialog></div>
  </user-drawer-side-panel>

  </include-fragment>
</deferred-side-panel>
        </div>

        <div class="Header-item position-relative mr-2 mt-2">
            
<site-header-logged-in-user-menu>

</site-header-logged-in-user-menu>

        </div>
      </div>
    </div>


      <div class="AppHeader-localBar" >
        <nav data-pjax="#js-repo-pjax-container" aria-label="Repository" data-view-component="true" class="js-repo-nav js-sidenav-container-pjax js-responsive-underlinenav overflow-hidden UnderlineNav">

  <ul data-view-component="true" class="UnderlineNav-body list-style-none">
      <li data-view-component="true" class="d-inline-flex">
  <a id="code-tab" href="/navassherif98/IBM_Data_Science_Professional_Certification" data-tab-item="i0code-tab" data-selected-links="repo_source repo_downloads repo_commits repo_releases repo_tags repo_branches repo_packages repo_deployments /navassherif98/IBM_Data_Science_Professional_Certification" data-pjax="#repo-content-pjax-container" data-turbo-frame="repo-content-turbo-frame" data-hotkey="g c" data-analytics-event="{&quot;category&quot;:&quot;Underline navbar&quot;,&quot;action&quot;:&quot;Click tab&quot;,&quot;label&quot;:&quot;Code&quot;,&quot;target&quot;:&quot;UNDERLINE_NAV.TAB&quot;}" data-view-component="true" class="UnderlineNav-item no-wrap js-responsive-underlinenav-item js-selected-navigation-item">
    
              <svg aria-hidden="true" height="16" viewBox="0 0 16 16" version="1.1" width="16" data-view-component="true" class="octicon octicon-code UnderlineNav-octicon d-none d-sm-inline">
    <path d="m11.28 3.22 4.25 4.25a.75.75 0 0 1 0 1.06l-4.25 4.25a.749.749 0 0 1-1.275-.326.749.749 0 0 1 .215-.734L13.94 8l-3.72-3.72a.749.749 0 0 1 .326-1.275.749.749 0 0 1 .734.215Zm-6.56 0a.751.751 0 0 1 1.042.018.751.751 0 0 1 .018 1.042L2.06 8l3.72 3.72a.749.749 0 0 1-.326 1.275.749.749 0 0 1-.734-.215L.47 8.53a.75.75 0 0 1 0-1.06Z"></path>
</svg>
        <span data-content="Code">Code</span>
          <span id="code-repo-tab-count" data-pjax-replace="" data-turbo-replace="" title="Not available" data-view-component="true" class="Counter"></span>


    
</a></li>
      <li data-view-component="true" class="d-inline-flex">
  <a id="issues-tab" href="/navassherif98/IBM_Data_Science_Professional_Certification/issues" data-tab-item="i1issues-tab" data-selected-links="repo_issues repo_labels repo_milestones /navassherif98/IBM_Data_Science_Professional_Certification/issues" data-pjax="#repo-content-pjax-container" data-turbo-frame="repo-content-turbo-frame" data-hotkey="g i" data-analytics-event="{&quot;category&quot;:&quot;Underline navbar&quot;,&quot;action&quot;:&quot;Click tab&quot;,&quot;label&quot;:&quot;Issues&quot;,&quot;target&quot;:&quot;UNDERLINE_NAV.TAB&quot;}" data-view-component="true" class="UnderlineNav-item no-wrap js-responsive-underlinenav-item js-selected-navigation-item">
    
              <svg aria-hidden="true" height="16" viewBox="0 0 16 16" version="1.1" width="16" data-view-component="true" class="octicon octicon-issue-opened UnderlineNav-octicon d-none d-sm-inline">
    <path d="M8 9.5a1.5 1.5 0 1 0 0-3 1.5 1.5 0 0 0 0 3Z"></path><path d="M8 0a8 8 0 1 1 0 16A8 8 0 0 1 8 0ZM1.5 8a6.5 6.5 0 1 0 13 0 6.5 6.5 0 0 0-13 0Z"></path>
</svg>
        <span data-content="Issues">Issues</span>
          <span id="issues-repo-tab-count" data-pjax-replace="" data-turbo-replace="" title="1" data-view-component="true" class="Counter">1</span>


    
</a></li>
      <li data-view-component="true" class="d-inline-flex">
  <a id="pull-requests-tab" href="/navassherif98/IBM_Data_Science_Professional_Certification/pulls" data-tab-item="i2pull-requests-tab" data-selected-links="repo_pulls checks /navassherif98/IBM_Data_Science_Professional_Certification/pulls" data-pjax="#repo-content-pjax-container" data-turbo-frame="repo-content-turbo-frame" data-hotkey="g p" data-analytics-event="{&quot;category&quot;:&quot;Underline navbar&quot;,&quot;action&quot;:&quot;Click tab&quot;,&quot;label&quot;:&quot;Pull requests&quot;,&quot;target&quot;:&quot;UNDERLINE_NAV.TAB&quot;}" data-view-component="true" class="UnderlineNav-item no-wrap js-responsive-underlinenav-item js-selected-navigation-item">
    
              <svg aria-hidden="true" height="16" viewBox="0 0 16 16" version="1.1" width="16" data-view-component="true" class="octicon octicon-git-pull-request UnderlineNav-octicon d-none d-sm-inline">
    <path d="M1.5 3.25a2.25 2.25 0 1 1 3 2.122v5.256a2.251 2.251 0 1 1-1.5 0V5.372A2.25 2.25 0 0 1 1.5 3.25Zm5.677-.177L9.573.677A.25.25 0 0 1 10 .854V2.5h1A2.5 2.5 0 0 1 13.5 5v5.628a2.251 2.251 0 1 1-1.5 0V5a1 1 0 0 0-1-1h-1v1.646a.25.25 0 0 1-.427.177L7.177 3.427a.25.25 0 0 1 0-.354ZM3.75 2.5a.75.75 0 1 0 0 1.5.75.75 0 0 0 0-1.5Zm0 9.5a.75.75 0 1 0 0 1.5.75.75 0 0 0 0-1.5Zm8.25.75a.75.75 0 1 0 1.5 0 .75.75 0 0 0-1.5 0Z"></path>
</svg>
        <span data-content="Pull requests">Pull requests</span>
          <span id="pull-requests-repo-tab-count" data-pjax-replace="" data-turbo-replace="" title="0" hidden="hidden" data-view-component="true" class="Counter">0</span>


    
</a></li>
      <li data-view-component="true" class="d-inline-flex">
  <a id="actions-tab" href="/navassherif98/IBM_Data_Science_Professional_Certification/actions" data-tab-item="i3actions-tab" data-selected-links="repo_actions /navassherif98/IBM_Data_Science_Professional_Certification/actions" data-pjax="#repo-content-pjax-container" data-turbo-frame="repo-content-turbo-frame" data-hotkey="g a" data-analytics-event="{&quot;category&quot;:&quot;Underline navbar&quot;,&quot;action&quot;:&quot;Click tab&quot;,&quot;label&quot;:&quot;Actions&quot;,&quot;target&quot;:&quot;UNDERLINE_NAV.TAB&quot;}" data-view-component="true" class="UnderlineNav-item no-wrap js-responsive-underlinenav-item js-selected-navigation-item">
    
              <svg aria-hidden="true" height="16" viewBox="0 0 16 16" version="1.1" width="16" data-view-component="true" class="octicon octicon-play UnderlineNav-octicon d-none d-sm-inline">
    <path d="M8 0a8 8 0 1 1 0 16A8 8 0 0 1 8 0ZM1.5 8a6.5 6.5 0 1 0 13 0 6.5 6.5 0 0 0-13 0Zm4.879-2.773 4.264 2.559a.25.25 0 0 1 0 .428l-4.264 2.559A.25.25 0 0 1 6 10.559V5.442a.25.25 0 0 1 .379-.215Z"></path>
</svg>
        <span data-content="Actions">Actions</span>
          <span id="actions-repo-tab-count" data-pjax-replace="" data-turbo-replace="" title="Not available" data-view-component="true" class="Counter"></span>


    
</a></li>
      <li data-view-component="true" class="d-inline-flex">
  <a id="projects-tab" href="/navassherif98/IBM_Data_Science_Professional_Certification/projects" data-tab-item="i4projects-tab" data-selected-links="repo_projects new_repo_project repo_project /navassherif98/IBM_Data_Science_Professional_Certification/projects" data-pjax="#repo-content-pjax-container" data-turbo-frame="repo-content-turbo-frame" data-hotkey="g b" data-analytics-event="{&quot;category&quot;:&quot;Underline navbar&quot;,&quot;action&quot;:&quot;Click tab&quot;,&quot;label&quot;:&quot;Projects&quot;,&quot;target&quot;:&quot;UNDERLINE_NAV.TAB&quot;}" data-view-component="true" class="UnderlineNav-item no-wrap js-responsive-underlinenav-item js-selected-navigation-item">
    
              <svg aria-hidden="true" height="16" viewBox="0 0 16 16" version="1.1" width="16" data-view-component="true" class="octicon octicon-table UnderlineNav-octicon d-none d-sm-inline">
    <path d="M0 1.75C0 .784.784 0 1.75 0h12.5C15.216 0 16 .784 16 1.75v12.5A1.75 1.75 0 0 1 14.25 16H1.75A1.75 1.75 0 0 1 0 14.25ZM6.5 6.5v8h7.75a.25.25 0 0 0 .25-.25V6.5Zm8-1.5V1.75a.25.25 0 0 0-.25-.25H6.5V5Zm-13 1.5v7.75c0 .138.112.25.25.25H5v-8ZM5 5V1.5H1.75a.25.25 0 0 0-.25.25V5Z"></path>
</svg>
        <span data-content="Projects">Projects</span>
          <span id="projects-repo-tab-count" data-pjax-replace="" data-turbo-replace="" title="0" hidden="hidden" data-view-component="true" class="Counter">0</span>


    
</a></li>
      <li data-view-component="true" class="d-inline-flex">
  <a id="security-tab" href="/navassherif98/IBM_Data_Science_Professional_Certification/security" data-tab-item="i5security-tab" data-selected-links="security overview alerts policy token_scanning code_scanning /navassherif98/IBM_Data_Science_Professional_Certification/security" data-pjax="#repo-content-pjax-container" data-turbo-frame="repo-content-turbo-frame" data-hotkey="g s" data-analytics-event="{&quot;category&quot;:&quot;Underline navbar&quot;,&quot;action&quot;:&quot;Click tab&quot;,&quot;label&quot;:&quot;Security&quot;,&quot;target&quot;:&quot;UNDERLINE_NAV.TAB&quot;}" data-view-component="true" class="UnderlineNav-item no-wrap js-responsive-underlinenav-item js-selected-navigation-item">
    
              <svg aria-hidden="true" height="16" viewBox="0 0 16 16" version="1.1" width="16" data-view-component="true" class="octicon octicon-shield UnderlineNav-octicon d-none d-sm-inline">
    <path d="M7.467.133a1.748 1.748 0 0 1 1.066 0l5.25 1.68A1.75 1.75 0 0 1 15 3.48V7c0 1.566-.32 3.182-1.303 4.682-.983 1.498-2.585 2.813-5.032 3.855a1.697 1.697 0 0 1-1.33 0c-2.447-1.042-4.049-2.357-5.032-3.855C1.32 10.182 1 8.566 1 7V3.48a1.75 1.75 0 0 1 1.217-1.667Zm.61 1.429a.25.25 0 0 0-.153 0l-5.25 1.68a.25.25 0 0 0-.174.238V7c0 1.358.275 2.666 1.057 3.86.784 1.194 2.121 2.34 4.366 3.297a.196.196 0 0 0 .154 0c2.245-.956 3.582-2.104 4.366-3.298C13.225 9.666 13.5 8.36 13.5 7V3.48a.251.251 0 0 0-.174-.237l-5.25-1.68ZM8.75 4.75v3a.75.75 0 0 1-1.5 0v-3a.75.75 0 0 1 1.5 0ZM9 10.5a1 1 0 1 1-2 0 1 1 0 0 1 2 0Z"></path>
</svg>
        <span data-content="Security">Security</span>
          <include-fragment src="/navassherif98/IBM_Data_Science_Professional_Certification/security/overall-count" accept="text/fragment+html"></include-fragment>

    
</a></li>
      <li data-view-component="true" class="d-inline-flex">
  <a id="insights-tab" href="/navassherif98/IBM_Data_Science_Professional_Certification/pulse" data-tab-item="i6insights-tab" data-selected-links="repo_graphs repo_contributors dependency_graph dependabot_updates pulse people community /navassherif98/IBM_Data_Science_Professional_Certification/pulse" data-pjax="#repo-content-pjax-container" data-turbo-frame="repo-content-turbo-frame" data-analytics-event="{&quot;category&quot;:&quot;Underline navbar&quot;,&quot;action&quot;:&quot;Click tab&quot;,&quot;label&quot;:&quot;Insights&quot;,&quot;target&quot;:&quot;UNDERLINE_NAV.TAB&quot;}" data-view-component="true" class="UnderlineNav-item no-wrap js-responsive-underlinenav-item js-selected-navigation-item">
    
              <svg aria-hidden="true" height="16" viewBox="0 0 16 16" version="1.1" width="16" data-view-component="true" class="octicon octicon-graph UnderlineNav-octicon d-none d-sm-inline">
    <path d="M1.5 1.75V13.5h13.75a.75.75 0 0 1 0 1.5H.75a.75.75 0 0 1-.75-.75V1.75a.75.75 0 0 1 1.5 0Zm14.28 2.53-5.25 5.25a.75.75 0 0 1-1.06 0L7 7.06 4.28 9.78a.751.751 0 0 1-1.042-.018.751.751 0 0 1-.018-1.042l3.25-3.25a.75.75 0 0 1 1.06 0L10 7.94l4.72-4.72a.751.751 0 0 1 1.042.018.751.751 0 0 1 .018 1.042Z"></path>
</svg>
        <span data-content="Insights">Insights</span>
          <span id="insights-repo-tab-count" data-pjax-replace="" data-turbo-replace="" title="Not available" data-view-component="true" class="Counter"></span>


    
</a></li>
</ul>
    <div style="visibility:hidden;" data-view-component="true" class="UnderlineNav-actions js-responsive-underlinenav-overflow position-absolute pr-3 pr-md-4 pr-lg-5 right-0">        <details data-view-component="true" class="details-overlay details-reset position-relative">
    <summary role="button" data-view-component="true">          <div class="UnderlineNav-item mr-0 border-0">
            <svg aria-hidden="true" height="16" viewBox="0 0 16 16" version="1.1" width="16" data-view-component="true" class="octicon octicon-kebab-horizontal">
    <path d="M8 9a1.5 1.5 0 1 0 0-3 1.5 1.5 0 0 0 0 3ZM1.5 9a1.5 1.5 0 1 0 0-3 1.5 1.5 0 0 0 0 3Zm13 0a1.5 1.5 0 1 0 0-3 1.5 1.5 0 0 0 0 3Z"></path>
</svg>
            <span class="sr-only">More</span>
          </div>
</summary>
    <details-menu role="menu" data-view-component="true" class="dropdown-menu dropdown-menu-sw">
          <ul>
              <li data-menu-item="i0code-tab" hidden>
                <a role="menuitem" class="js-selected-navigation-item dropdown-item" data-selected-links="repo_source repo_downloads repo_commits repo_releases repo_tags repo_branches repo_packages repo_deployments /navassherif98/IBM_Data_Science_Professional_Certification" href="/navassherif98/IBM_Data_Science_Professional_Certification">
                  Code
</a>              </li>
              <li data-menu-item="i1issues-tab" hidden>
                <a role="menuitem" class="js-selected-navigation-item dropdown-item" data-selected-links="repo_issues repo_labels repo_milestones /navassherif98/IBM_Data_Science_Professional_Certification/issues" href="/navassherif98/IBM_Data_Science_Professional_Certification/issues">
                  Issues
</a>              </li>
              <li data-menu-item="i2pull-requests-tab" hidden>
                <a role="menuitem" class="js-selected-navigation-item dropdown-item" data-selected-links="repo_pulls checks /navassherif98/IBM_Data_Science_Professional_Certification/pulls" href="/navassherif98/IBM_Data_Science_Professional_Certification/pulls">
                  Pull requests
</a>              </li>
              <li data-menu-item="i3actions-tab" hidden>
                <a role="menuitem" class="js-selected-navigation-item dropdown-item" data-selected-links="repo_actions /navassherif98/IBM_Data_Science_Professional_Certification/actions" href="/navassherif98/IBM_Data_Science_Professional_Certification/actions">
                  Actions
</a>              </li>
              <li data-menu-item="i4projects-tab" hidden>
                <a role="menuitem" class="js-selected-navigation-item dropdown-item" data-selected-links="repo_projects new_repo_project repo_project /navassherif98/IBM_Data_Science_Professional_Certification/projects" href="/navassherif98/IBM_Data_Science_Professional_Certification/projects">
                  Projects
</a>              </li>
              <li data-menu-item="i5security-tab" hidden>
                <a role="menuitem" class="js-selected-navigation-item dropdown-item" data-selected-links="security overview alerts policy token_scanning code_scanning /navassherif98/IBM_Data_Science_Professional_Certification/security" href="/navassherif98/IBM_Data_Science_Professional_Certification/security">
                  Security
</a>              </li>
              <li data-menu-item="i6insights-tab" hidden>
                <a role="menuitem" class="js-selected-navigation-item dropdown-item" data-selected-links="repo_graphs repo_contributors dependency_graph dependabot_updates pulse people community /navassherif98/IBM_Data_Science_Professional_Certification/pulse" href="/navassherif98/IBM_Data_Science_Professional_Certification/pulse">
                  Insights
</a>              </li>
          </ul>
</details-menu>
</details></div>
</nav>
      </div>
</header>


      <div hidden="hidden" data-view-component="true" class="js-stale-session-flash flash flash-warn mb-3">
  
        <svg aria-hidden="true" height="16" viewBox="0 0 16 16" version="1.1" width="16" data-view-component="true" class="octicon octicon-alert">
    <path d="M6.457 1.047c.659-1.234 2.427-1.234 3.086 0l6.082 11.378A1.75 1.75 0 0 1 14.082 15H1.918a1.75 1.75 0 0 1-1.543-2.575Zm1.763.707a.25.25 0 0 0-.44 0L1.698 13.132a.25.25 0 0 0 .22.368h12.164a.25.25 0 0 0 .22-.368Zm.53 3.996v2.5a.75.75 0 0 1-1.5 0v-2.5a.75.75 0 0 1 1.5 0ZM9 11a1 1 0 1 1-2 0 1 1 0 0 1 2 0Z"></path>
</svg>
        <span class="js-stale-session-flash-signed-in" hidden>You signed in with another tab or window. <a href="">Reload</a> to refresh your session.</span>
        <span class="js-stale-session-flash-signed-out" hidden>You signed out in another tab or window. <a href="">Reload</a> to refresh your session.</span>
        <span class="js-stale-session-flash-switched" hidden>You switched accounts on another tab or window. <a href="">Reload</a> to refresh your session.</span>

    <button class="flash-close js-flash-close" type="button" aria-label="Close">
      <svg aria-hidden="true" height="16" viewBox="0 0 16 16" version="1.1" width="16" data-view-component="true" class="octicon octicon-x">
    <path d="M3.72 3.72a.75.75 0 0 1 1.06 0L8 6.94l3.22-3.22a.749.749 0 0 1 1.275.326.749.749 0 0 1-.215.734L9.06 8l3.22 3.22a.749.749 0 0 1-.326 1.275.749.749 0 0 1-.734-.215L8 9.06l-3.22 3.22a.751.751 0 0 1-1.042-.018.751.751 0 0 1-.018-1.042L6.94 8 3.72 4.78a.75.75 0 0 1 0-1.06Z"></path>
</svg>
    </button>

  
</div>
          
    </div>

  <div id="start-of-content" class="show-on-focus"></div>








    <div id="js-flash-container" data-turbo-replace>





  <template class="js-flash-template">
    
<div class="flash flash-full   {{ className }}">
  <div class="px-2" >
    <button autofocus class="flash-close js-flash-close" type="button" aria-label="Dismiss this message">
      <svg aria-hidden="true" height="16" viewBox="0 0 16 16" version="1.1" width="16" data-view-component="true" class="octicon octicon-x">
    <path d="M3.72 3.72a.75.75 0 0 1 1.06 0L8 6.94l3.22-3.22a.749.749 0 0 1 1.275.326.749.749 0 0 1-.215.734L9.06 8l3.22 3.22a.749.749 0 0 1-.326 1.275.749.749 0 0 1-.734-.215L8 9.06l-3.22 3.22a.751.751 0 0 1-1.042-.018.751.751 0 0 1-.018-1.042L6.94 8 3.72 4.78a.75.75 0 0 1 0-1.06Z"></path>
</svg>
    </button>
    <div aria-atomic="true" role="alert" class="js-flash-alert">
      
      <div>{{ message }}</div>

    </div>
  </div>
</div>
  </template>
</div>


    
    <notification-shelf-watcher data-base-url="https://github.com/notifications/beta/shelf" data-channel="eyJjIjoibm90aWZpY2F0aW9uLWNoYW5nZWQ6MTM5NjQ2MDIxIiwidCI6MTY5MDg5MTE5MH0=--414032d40cc65f07fb721e66c3f3b60a62ef154433fbb056420d546332bfaeda" data-view-component="true" class="js-socket-channel"></notification-shelf-watcher>
  <div hidden data-initial data-target="notification-shelf-watcher.placeholder"></div>






      <details
  class="details-reset details-overlay details-overlay-dark js-command-palette-dialog"
  id="command-palette-pjax-container"
  data-turbo-replace
>
  <summary aria-label="command palette trigger" tabindex="-1"></summary>
  <details-dialog class="command-palette-details-dialog d-flex flex-column flex-justify-center height-fit" aria-label="command palette">
    <command-palette
      class="command-palette color-bg-default rounded-3 border color-shadow-small"
      return-to=/navassherif98/IBM_Data_Science_Professional_Certification/blob/master/10.Applied_Data_Science_Capstone/Week%202%20EDA/EDA%20with%20SQL.ipynb
      user-id="139646021"
      activation-hotkey="Mod+k,Mod+Alt+k"
      command-mode-hotkey="Mod+Shift+k"
      data-action="
        command-palette-input-ready:command-palette#inputReady
        command-palette-page-stack-updated:command-palette#updateInputScope
        itemsUpdated:command-palette#itemsUpdated
        keydown:command-palette#onKeydown
        loadingStateChanged:command-palette#loadingStateChanged
        selectedItemChanged:command-palette#selectedItemChanged
        pageFetchError:command-palette#pageFetchError
      ">

        <command-palette-mode
          data-char="#"
            data-scope-types="[&quot;&quot;]"
            data-placeholder="Search issues and pull requests"
        ></command-palette-mode>
        <command-palette-mode
          data-char="#"
            data-scope-types="[&quot;owner&quot;,&quot;repository&quot;]"
            data-placeholder="Search issues, pull requests, discussions, and projects"
        ></command-palette-mode>
        <command-palette-mode
          data-char="!"
            data-scope-types="[&quot;owner&quot;,&quot;repository&quot;]"
            data-placeholder="Search projects"
        ></command-palette-mode>
        <command-palette-mode
          data-char="@"
            data-scope-types="[&quot;&quot;]"
            data-placeholder="Search or jump to a user, organization, or repository"
        ></command-palette-mode>
        <command-palette-mode
          data-char="@"
            data-scope-types="[&quot;owner&quot;]"
            data-placeholder="Search or jump to a repository"
        ></command-palette-mode>
        <command-palette-mode
          data-char="/"
            data-scope-types="[&quot;repository&quot;]"
            data-placeholder="Search files"
        ></command-palette-mode>
        <command-palette-mode
          data-char="?"
        ></command-palette-mode>
        <command-palette-mode
          data-char="&gt;"
            data-placeholder="Run a command"
        ></command-palette-mode>
        <command-palette-mode
          data-char=""
            data-scope-types="[&quot;&quot;]"
            data-placeholder="Search or jump to..."
        ></command-palette-mode>
        <command-palette-mode
          data-char=""
            data-scope-types="[&quot;owner&quot;]"
            data-placeholder="Search or jump to..."
        ></command-palette-mode>
      <command-palette-mode
        class="js-command-palette-default-mode"
        data-char=""
        data-placeholder="Search or jump to..."
      ></command-palette-mode>

      <command-palette-input placeholder="Search or jump to..."

        data-action="
          command-palette-input:command-palette#onInput
          command-palette-select:command-palette#onSelect
          command-palette-descope:command-palette#onDescope
          command-palette-cleared:command-palette#onInputClear
        "
      >
        <div class="js-search-icon d-flex flex-items-center mr-2" style="height: 26px">
          <svg aria-hidden="true" height="16" viewBox="0 0 16 16" version="1.1" width="16" data-view-component="true" class="octicon octicon-search color-fg-muted">
    <path d="M10.68 11.74a6 6 0 0 1-7.922-8.982 6 6 0 0 1 8.982 7.922l3.04 3.04a.749.749 0 0 1-.326 1.275.749.749 0 0 1-.734-.215ZM11.5 7a4.499 4.499 0 1 0-8.997 0A4.499 4.499 0 0 0 11.5 7Z"></path>
</svg>
        </div>
        <div class="js-spinner d-flex flex-items-center mr-2 color-fg-muted" hidden>
          <svg aria-label="Loading" class="anim-rotate" viewBox="0 0 16 16" fill="none" width="16" height="16">
            <circle
              cx="8"
              cy="8"
              r="7"
              stroke="currentColor"
              stroke-opacity="0.25"
              stroke-width="2"
              vector-effect="non-scaling-stroke"
            ></circle>
            <path
              d="M15 8a7.002 7.002 0 00-7-7"
              stroke="currentColor"
              stroke-width="2"
              stroke-linecap="round"
              vector-effect="non-scaling-stroke"
            ></path>
          </svg>
        </div>
        <command-palette-scope >
          <div data-target="command-palette-scope.placeholder" hidden class="color-fg-subtle">/&nbsp;&nbsp;<span class="text-semibold color-fg-default">...</span>&nbsp;&nbsp;/&nbsp;&nbsp;</div>
              <command-palette-token
                data-text="navassherif98"
                data-id="MDQ6VXNlcjU1NzU3NDE1"
                data-type="owner"
                data-value="navassherif98"
                data-targets="command-palette-scope.tokens"
                class="color-fg-default text-semibold"
                style="white-space:nowrap;line-height:20px;"
                >navassherif98<span class="color-fg-subtle text-normal">&nbsp;&nbsp;/&nbsp;&nbsp;</span></command-palette-token>
              <command-palette-token
                data-text="IBM_Data_Science_Professional_Certification"
                data-id="MDEwOlJlcG9zaXRvcnkzOTg3MjAzNzE="
                data-type="repository"
                data-value="IBM_Data_Science_Professional_Certification"
                data-targets="command-palette-scope.tokens"
                class="color-fg-default text-semibold"
                style="white-space:nowrap;line-height:20px;"
                >IBM_Data_Science_...<span class="color-fg-subtle text-normal">&nbsp;&nbsp;/&nbsp;&nbsp;</span></command-palette-token>
        </command-palette-scope>
        <div class="command-palette-input-group flex-1 form-control border-0 box-shadow-none" style="z-index: 0">
          <div class="command-palette-typeahead position-absolute d-flex flex-items-center Truncate">
            <span class="typeahead-segment input-mirror" data-target="command-palette-input.mirror"></span>
            <span class="Truncate-text" data-target="command-palette-input.typeaheadText"></span>
            <span class="typeahead-segment" data-target="command-palette-input.typeaheadPlaceholder"></span>
          </div>
          <input
            class="js-overlay-input typeahead-input d-none"
            disabled
            tabindex="-1"
            aria-label="Hidden input for typeahead"
          >
          <input
            type="text"
            autocomplete="off"
            autocorrect="off"
            autocapitalize="off"
            spellcheck="false"
            class="js-input typeahead-input form-control border-0 box-shadow-none input-block width-full no-focus-indicator"
            aria-label="Command palette input"
            aria-haspopup="listbox"
            aria-expanded="false"
            aria-autocomplete="list"
            aria-controls="command-palette-page-stack"
            role="combobox"
            data-action="
              input:command-palette-input#onInput
              keydown:command-palette-input#onKeydown
            "
          >
        </div>
          <div data-view-component="true" class="position-relative d-inline-block">
    <button aria-keyshortcuts="Control+Backspace" data-action="click:command-palette-input#onClear keypress:command-palette-input#onClear" data-target="command-palette-input.clearButton" id="command-palette-clear-button" hidden="hidden" type="button" data-view-component="true" class="btn-octicon command-palette-input-clear-button">      <svg aria-hidden="true" height="16" viewBox="0 0 16 16" version="1.1" width="16" data-view-component="true" class="octicon octicon-x-circle-fill">
    <path d="M2.343 13.657A8 8 0 1 1 13.658 2.343 8 8 0 0 1 2.343 13.657ZM6.03 4.97a.751.751 0 0 0-1.042.018.751.751 0 0 0-.018 1.042L6.94 8 4.97 9.97a.749.749 0 0 0 .326 1.275.749.749 0 0 0 .734-.215L8 9.06l1.97 1.97a.749.749 0 0 0 1.275-.326.749.749 0 0 0-.215-.734L9.06 8l1.97-1.97a.749.749 0 0 0-.326-1.275.749.749 0 0 0-.734.215L8 6.94Z"></path>
</svg>
</button>    <tool-tip id="tooltip-bad8269b-755b-4ed9-acb3-da225e338970" for="command-palette-clear-button" popover="manual" data-direction="w" data-type="label" data-view-component="true" class="sr-only position-absolute">Clear Command Palette</tool-tip>
</div>
      </command-palette-input>

      <command-palette-page-stack
        data-default-scope-id="MDEwOlJlcG9zaXRvcnkzOTg3MjAzNzE="
        data-default-scope-type="Repository"
        data-action="command-palette-page-octicons-cached:command-palette-page-stack#cacheOcticons"
      >
          <command-palette-tip
            class="color-fg-muted f6 px-3 py-1 my-2"
              data-scope-types="[&quot;&quot;,&quot;owner&quot;,&quot;repository&quot;]"
            data-mode=""
            data-value="">
            <div class="d-flex flex-items-start flex-justify-between">
              <div>
                <span class="text-bold">Tip:</span>
                  Type <kbd class="hx_kbd">#</kbd> to search pull requests
              </div>
              <div class="ml-2 flex-shrink-0">
                Type <kbd class="hx_kbd">?</kbd> for help and tips
              </div>
            </div>
          </command-palette-tip>
          <command-palette-tip
            class="color-fg-muted f6 px-3 py-1 my-2"
              data-scope-types="[&quot;&quot;,&quot;owner&quot;,&quot;repository&quot;]"
            data-mode=""
            data-value="">
            <div class="d-flex flex-items-start flex-justify-between">
              <div>
                <span class="text-bold">Tip:</span>
                  Type <kbd class="hx_kbd">#</kbd> to search issues
              </div>
              <div class="ml-2 flex-shrink-0">
                Type <kbd class="hx_kbd">?</kbd> for help and tips
              </div>
            </div>
          </command-palette-tip>
          <command-palette-tip
            class="color-fg-muted f6 px-3 py-1 my-2"
              data-scope-types="[&quot;owner&quot;,&quot;repository&quot;]"
            data-mode=""
            data-value="">
            <div class="d-flex flex-items-start flex-justify-between">
              <div>
                <span class="text-bold">Tip:</span>
                  Type <kbd class="hx_kbd">#</kbd> to search discussions
              </div>
              <div class="ml-2 flex-shrink-0">
                Type <kbd class="hx_kbd">?</kbd> for help and tips
              </div>
            </div>
          </command-palette-tip>
          <command-palette-tip
            class="color-fg-muted f6 px-3 py-1 my-2"
              data-scope-types="[&quot;owner&quot;,&quot;repository&quot;]"
            data-mode=""
            data-value="">
            <div class="d-flex flex-items-start flex-justify-between">
              <div>
                <span class="text-bold">Tip:</span>
                  Type <kbd class="hx_kbd">!</kbd> to search projects
              </div>
              <div class="ml-2 flex-shrink-0">
                Type <kbd class="hx_kbd">?</kbd> for help and tips
              </div>
            </div>
          </command-palette-tip>
          <command-palette-tip
            class="color-fg-muted f6 px-3 py-1 my-2"
              data-scope-types="[&quot;owner&quot;]"
            data-mode=""
            data-value="">
            <div class="d-flex flex-items-start flex-justify-between">
              <div>
                <span class="text-bold">Tip:</span>
                  Type <kbd class="hx_kbd">@</kbd> to search teams
              </div>
              <div class="ml-2 flex-shrink-0">
                Type <kbd class="hx_kbd">?</kbd> for help and tips
              </div>
            </div>
          </command-palette-tip>
          <command-palette-tip
            class="color-fg-muted f6 px-3 py-1 my-2"
              data-scope-types="[&quot;&quot;]"
            data-mode=""
            data-value="">
            <div class="d-flex flex-items-start flex-justify-between">
              <div>
                <span class="text-bold">Tip:</span>
                  Type <kbd class="hx_kbd">@</kbd> to search people and organizations
              </div>
              <div class="ml-2 flex-shrink-0">
                Type <kbd class="hx_kbd">?</kbd> for help and tips
              </div>
            </div>
          </command-palette-tip>
          <command-palette-tip
            class="color-fg-muted f6 px-3 py-1 my-2"
              data-scope-types="[&quot;&quot;,&quot;owner&quot;,&quot;repository&quot;]"
            data-mode=""
            data-value="">
            <div class="d-flex flex-items-start flex-justify-between">
              <div>
                <span class="text-bold">Tip:</span>
                  Type <kbd class="hx_kbd">&gt;</kbd> to activate command mode
              </div>
              <div class="ml-2 flex-shrink-0">
                Type <kbd class="hx_kbd">?</kbd> for help and tips
              </div>
            </div>
          </command-palette-tip>
          <command-palette-tip
            class="color-fg-muted f6 px-3 py-1 my-2"
              data-scope-types="[&quot;&quot;,&quot;owner&quot;,&quot;repository&quot;]"
            data-mode=""
            data-value="">
            <div class="d-flex flex-items-start flex-justify-between">
              <div>
                <span class="text-bold">Tip:</span>
                  Go to your accessibility settings to change your keyboard shortcuts
              </div>
              <div class="ml-2 flex-shrink-0">
                Type <kbd class="hx_kbd">?</kbd> for help and tips
              </div>
            </div>
          </command-palette-tip>
          <command-palette-tip
            class="color-fg-muted f6 px-3 py-1 my-2"
              data-scope-types="[&quot;&quot;,&quot;owner&quot;,&quot;repository&quot;]"
            data-mode="#"
            data-value="">
            <div class="d-flex flex-items-start flex-justify-between">
              <div>
                <span class="text-bold">Tip:</span>
                  Type author:@me to search your content
              </div>
              <div class="ml-2 flex-shrink-0">
                Type <kbd class="hx_kbd">?</kbd> for help and tips
              </div>
            </div>
          </command-palette-tip>
          <command-palette-tip
            class="color-fg-muted f6 px-3 py-1 my-2"
              data-scope-types="[&quot;&quot;,&quot;owner&quot;,&quot;repository&quot;]"
            data-mode="#"
            data-value="">
            <div class="d-flex flex-items-start flex-justify-between">
              <div>
                <span class="text-bold">Tip:</span>
                  Type is:pr to filter to pull requests
              </div>
              <div class="ml-2 flex-shrink-0">
                Type <kbd class="hx_kbd">?</kbd> for help and tips
              </div>
            </div>
          </command-palette-tip>
          <command-palette-tip
            class="color-fg-muted f6 px-3 py-1 my-2"
              data-scope-types="[&quot;&quot;,&quot;owner&quot;,&quot;repository&quot;]"
            data-mode="#"
            data-value="">
            <div class="d-flex flex-items-start flex-justify-between">
              <div>
                <span class="text-bold">Tip:</span>
                  Type is:issue to filter to issues
              </div>
              <div class="ml-2 flex-shrink-0">
                Type <kbd class="hx_kbd">?</kbd> for help and tips
              </div>
            </div>
          </command-palette-tip>
          <command-palette-tip
            class="color-fg-muted f6 px-3 py-1 my-2"
              data-scope-types="[&quot;owner&quot;,&quot;repository&quot;]"
            data-mode="#"
            data-value="">
            <div class="d-flex flex-items-start flex-justify-between">
              <div>
                <span class="text-bold">Tip:</span>
                  Type is:project to filter to projects
              </div>
              <div class="ml-2 flex-shrink-0">
                Type <kbd class="hx_kbd">?</kbd> for help and tips
              </div>
            </div>
          </command-palette-tip>
          <command-palette-tip
            class="color-fg-muted f6 px-3 py-1 my-2"
              data-scope-types="[&quot;&quot;,&quot;owner&quot;,&quot;repository&quot;]"
            data-mode="#"
            data-value="">
            <div class="d-flex flex-items-start flex-justify-between">
              <div>
                <span class="text-bold">Tip:</span>
                  Type is:open to filter to open content
              </div>
              <div class="ml-2 flex-shrink-0">
                Type <kbd class="hx_kbd">?</kbd> for help and tips
              </div>
            </div>
          </command-palette-tip>
        <command-palette-tip class="mx-3 my-2 flash flash-error d-flex flex-items-center" data-scope-types="*" data-on-error>
          <div>
            <svg aria-hidden="true" height="16" viewBox="0 0 16 16" version="1.1" width="16" data-view-component="true" class="octicon octicon-alert">
    <path d="M6.457 1.047c.659-1.234 2.427-1.234 3.086 0l6.082 11.378A1.75 1.75 0 0 1 14.082 15H1.918a1.75 1.75 0 0 1-1.543-2.575Zm1.763.707a.25.25 0 0 0-.44 0L1.698 13.132a.25.25 0 0 0 .22.368h12.164a.25.25 0 0 0 .22-.368Zm.53 3.996v2.5a.75.75 0 0 1-1.5 0v-2.5a.75.75 0 0 1 1.5 0ZM9 11a1 1 0 1 1-2 0 1 1 0 0 1 2 0Z"></path>
</svg>
          </div>
          <div class="px-2">
            We’ve encountered an error and some results aren't available at this time. Type a new search or try again later.
          </div>
        </command-palette-tip>
        <command-palette-tip class="h4 color-fg-default pl-3 pb-2 pt-3" data-on-empty data-scope-types="*" data-match-mode="[^?]|^$">
          No results matched your search
        </command-palette-tip>

        <div hidden>

            <div data-targets="command-palette-page-stack.localOcticons" data-octicon-id="arrow-right-color-fg-muted">
              <svg height="16" class="octicon octicon-arrow-right color-fg-muted" viewBox="0 0 16 16" version="1.1" width="16" aria-hidden="true"><path d="M8.22 2.97a.75.75 0 0 1 1.06 0l4.25 4.25a.75.75 0 0 1 0 1.06l-4.25 4.25a.751.751 0 0 1-1.042-.018.751.751 0 0 1-.018-1.042l2.97-2.97H3.75a.75.75 0 0 1 0-1.5h7.44L8.22 4.03a.75.75 0 0 1 0-1.06Z"></path></svg>
            </div>
            <div data-targets="command-palette-page-stack.localOcticons" data-octicon-id="arrow-right-color-fg-default">
              <svg height="16" class="octicon octicon-arrow-right color-fg-default" viewBox="0 0 16 16" version="1.1" width="16" aria-hidden="true"><path d="M8.22 2.97a.75.75 0 0 1 1.06 0l4.25 4.25a.75.75 0 0 1 0 1.06l-4.25 4.25a.751.751 0 0 1-1.042-.018.751.751 0 0 1-.018-1.042l2.97-2.97H3.75a.75.75 0 0 1 0-1.5h7.44L8.22 4.03a.75.75 0 0 1 0-1.06Z"></path></svg>
            </div>
            <div data-targets="command-palette-page-stack.localOcticons" data-octicon-id="codespaces-color-fg-muted">
              <svg height="16" class="octicon octicon-codespaces color-fg-muted" viewBox="0 0 16 16" version="1.1" width="16" aria-hidden="true"><path d="M0 11.25c0-.966.784-1.75 1.75-1.75h12.5c.966 0 1.75.784 1.75 1.75v3A1.75 1.75 0 0 1 14.25 16H1.75A1.75 1.75 0 0 1 0 14.25Zm2-9.5C2 .784 2.784 0 3.75 0h8.5C13.216 0 14 .784 14 1.75v5a1.75 1.75 0 0 1-1.75 1.75h-8.5A1.75 1.75 0 0 1 2 6.75Zm1.75-.25a.25.25 0 0 0-.25.25v5c0 .138.112.25.25.25h8.5a.25.25 0 0 0 .25-.25v-5a.25.25 0 0 0-.25-.25Zm-2 9.5a.25.25 0 0 0-.25.25v3c0 .138.112.25.25.25h12.5a.25.25 0 0 0 .25-.25v-3a.25.25 0 0 0-.25-.25Z"></path><path d="M7 12.75a.75.75 0 0 1 .75-.75h4.5a.75.75 0 0 1 0 1.5h-4.5a.75.75 0 0 1-.75-.75Zm-4 0a.75.75 0 0 1 .75-.75h.5a.75.75 0 0 1 0 1.5h-.5a.75.75 0 0 1-.75-.75Z"></path></svg>
            </div>
            <div data-targets="command-palette-page-stack.localOcticons" data-octicon-id="copy-color-fg-muted">
              <svg height="16" class="octicon octicon-copy color-fg-muted" viewBox="0 0 16 16" version="1.1" width="16" aria-hidden="true"><path d="M0 6.75C0 5.784.784 5 1.75 5h1.5a.75.75 0 0 1 0 1.5h-1.5a.25.25 0 0 0-.25.25v7.5c0 .138.112.25.25.25h7.5a.25.25 0 0 0 .25-.25v-1.5a.75.75 0 0 1 1.5 0v1.5A1.75 1.75 0 0 1 9.25 16h-7.5A1.75 1.75 0 0 1 0 14.25Z"></path><path d="M5 1.75C5 .784 5.784 0 6.75 0h7.5C15.216 0 16 .784 16 1.75v7.5A1.75 1.75 0 0 1 14.25 11h-7.5A1.75 1.75 0 0 1 5 9.25Zm1.75-.25a.25.25 0 0 0-.25.25v7.5c0 .138.112.25.25.25h7.5a.25.25 0 0 0 .25-.25v-7.5a.25.25 0 0 0-.25-.25Z"></path></svg>
            </div>
            <div data-targets="command-palette-page-stack.localOcticons" data-octicon-id="dash-color-fg-muted">
              <svg height="16" class="octicon octicon-dash color-fg-muted" viewBox="0 0 16 16" version="1.1" width="16" aria-hidden="true"><path d="M2 7.75A.75.75 0 0 1 2.75 7h10a.75.75 0 0 1 0 1.5h-10A.75.75 0 0 1 2 7.75Z"></path></svg>
            </div>
            <div data-targets="command-palette-page-stack.localOcticons" data-octicon-id="file-color-fg-muted">
              <svg height="16" class="octicon octicon-file color-fg-muted" viewBox="0 0 16 16" version="1.1" width="16" aria-hidden="true"><path d="M2 1.75C2 .784 2.784 0 3.75 0h6.586c.464 0 .909.184 1.237.513l2.914 2.914c.329.328.513.773.513 1.237v9.586A1.75 1.75 0 0 1 13.25 16h-9.5A1.75 1.75 0 0 1 2 14.25Zm1.75-.25a.25.25 0 0 0-.25.25v12.5c0 .138.112.25.25.25h9.5a.25.25 0 0 0 .25-.25V6h-2.75A1.75 1.75 0 0 1 9 4.25V1.5Zm6.75.062V4.25c0 .138.112.25.25.25h2.688l-.011-.013-2.914-2.914-.013-.011Z"></path></svg>
            </div>
            <div data-targets="command-palette-page-stack.localOcticons" data-octicon-id="gear-color-fg-muted">
              <svg height="16" class="octicon octicon-gear color-fg-muted" viewBox="0 0 16 16" version="1.1" width="16" aria-hidden="true"><path d="M8 0a8.2 8.2 0 0 1 .701.031C9.444.095 9.99.645 10.16 1.29l.288 1.107c.018.066.079.158.212.224.231.114.454.243.668.386.123.082.233.09.299.071l1.103-.303c.644-.176 1.392.021 1.82.63.27.385.506.792.704 1.218.315.675.111 1.422-.364 1.891l-.814.806c-.049.048-.098.147-.088.294.016.257.016.515 0 .772-.01.147.038.246.088.294l.814.806c.475.469.679 1.216.364 1.891a7.977 7.977 0 0 1-.704 1.217c-.428.61-1.176.807-1.82.63l-1.102-.302c-.067-.019-.177-.011-.3.071a5.909 5.909 0 0 1-.668.386c-.133.066-.194.158-.211.224l-.29 1.106c-.168.646-.715 1.196-1.458 1.26a8.006 8.006 0 0 1-1.402 0c-.743-.064-1.289-.614-1.458-1.26l-.289-1.106c-.018-.066-.079-.158-.212-.224a5.738 5.738 0 0 1-.668-.386c-.123-.082-.233-.09-.299-.071l-1.103.303c-.644.176-1.392-.021-1.82-.63a8.12 8.12 0 0 1-.704-1.218c-.315-.675-.111-1.422.363-1.891l.815-.806c.05-.048.098-.147.088-.294a6.214 6.214 0 0 1 0-.772c.01-.147-.038-.246-.088-.294l-.815-.806C.635 6.045.431 5.298.746 4.623a7.92 7.92 0 0 1 .704-1.217c.428-.61 1.176-.807 1.82-.63l1.102.302c.067.019.177.011.3-.071.214-.143.437-.272.668-.386.133-.066.194-.158.211-.224l.29-1.106C6.009.645 6.556.095 7.299.03 7.53.01 7.764 0 8 0Zm-.571 1.525c-.036.003-.108.036-.137.146l-.289 1.105c-.147.561-.549.967-.998 1.189-.173.086-.34.183-.5.29-.417.278-.97.423-1.529.27l-1.103-.303c-.109-.03-.175.016-.195.045-.22.312-.412.644-.573.99-.014.031-.021.11.059.19l.815.806c.411.406.562.957.53 1.456a4.709 4.709 0 0 0 0 .582c.032.499-.119 1.05-.53 1.456l-.815.806c-.081.08-.073.159-.059.19.162.346.353.677.573.989.02.03.085.076.195.046l1.102-.303c.56-.153 1.113-.008 1.53.27.161.107.328.204.501.29.447.222.85.629.997 1.189l.289 1.105c.029.109.101.143.137.146a6.6 6.6 0 0 0 1.142 0c.036-.003.108-.036.137-.146l.289-1.105c.147-.561.549-.967.998-1.189.173-.086.34-.183.5-.29.417-.278.97-.423 1.529-.27l1.103.303c.109.029.175-.016.195-.045.22-.313.411-.644.573-.99.014-.031.021-.11-.059-.19l-.815-.806c-.411-.406-.562-.957-.53-1.456a4.709 4.709 0 0 0 0-.582c-.032-.499.119-1.05.53-1.456l.815-.806c.081-.08.073-.159.059-.19a6.464 6.464 0 0 0-.573-.989c-.02-.03-.085-.076-.195-.046l-1.102.303c-.56.153-1.113.008-1.53-.27a4.44 4.44 0 0 0-.501-.29c-.447-.222-.85-.629-.997-1.189l-.289-1.105c-.029-.11-.101-.143-.137-.146a6.6 6.6 0 0 0-1.142 0ZM11 8a3 3 0 1 1-6 0 3 3 0 0 1 6 0ZM9.5 8a1.5 1.5 0 1 0-3.001.001A1.5 1.5 0 0 0 9.5 8Z"></path></svg>
            </div>
            <div data-targets="command-palette-page-stack.localOcticons" data-octicon-id="lock-color-fg-muted">
              <svg height="16" class="octicon octicon-lock color-fg-muted" viewBox="0 0 16 16" version="1.1" width="16" aria-hidden="true"><path d="M4 4a4 4 0 0 1 8 0v2h.25c.966 0 1.75.784 1.75 1.75v5.5A1.75 1.75 0 0 1 12.25 15h-8.5A1.75 1.75 0 0 1 2 13.25v-5.5C2 6.784 2.784 6 3.75 6H4Zm8.25 3.5h-8.5a.25.25 0 0 0-.25.25v5.5c0 .138.112.25.25.25h8.5a.25.25 0 0 0 .25-.25v-5.5a.25.25 0 0 0-.25-.25ZM10.5 6V4a2.5 2.5 0 1 0-5 0v2Z"></path></svg>
            </div>
            <div data-targets="command-palette-page-stack.localOcticons" data-octicon-id="moon-color-fg-muted">
              <svg height="16" class="octicon octicon-moon color-fg-muted" viewBox="0 0 16 16" version="1.1" width="16" aria-hidden="true"><path d="M9.598 1.591a.749.749 0 0 1 .785-.175 7.001 7.001 0 1 1-8.967 8.967.75.75 0 0 1 .961-.96 5.5 5.5 0 0 0 7.046-7.046.75.75 0 0 1 .175-.786Zm1.616 1.945a7 7 0 0 1-7.678 7.678 5.499 5.499 0 1 0 7.678-7.678Z"></path></svg>
            </div>
            <div data-targets="command-palette-page-stack.localOcticons" data-octicon-id="person-color-fg-muted">
              <svg height="16" class="octicon octicon-person color-fg-muted" viewBox="0 0 16 16" version="1.1" width="16" aria-hidden="true"><path d="M10.561 8.073a6.005 6.005 0 0 1 3.432 5.142.75.75 0 1 1-1.498.07 4.5 4.5 0 0 0-8.99 0 .75.75 0 0 1-1.498-.07 6.004 6.004 0 0 1 3.431-5.142 3.999 3.999 0 1 1 5.123 0ZM10.5 5a2.5 2.5 0 1 0-5 0 2.5 2.5 0 0 0 5 0Z"></path></svg>
            </div>
            <div data-targets="command-palette-page-stack.localOcticons" data-octicon-id="pencil-color-fg-muted">
              <svg height="16" class="octicon octicon-pencil color-fg-muted" viewBox="0 0 16 16" version="1.1" width="16" aria-hidden="true"><path d="M11.013 1.427a1.75 1.75 0 0 1 2.474 0l1.086 1.086a1.75 1.75 0 0 1 0 2.474l-8.61 8.61c-.21.21-.47.364-.756.445l-3.251.93a.75.75 0 0 1-.927-.928l.929-3.25c.081-.286.235-.547.445-.758l8.61-8.61Zm.176 4.823L9.75 4.81l-6.286 6.287a.253.253 0 0 0-.064.108l-.558 1.953 1.953-.558a.253.253 0 0 0 .108-.064Zm1.238-3.763a.25.25 0 0 0-.354 0L10.811 3.75l1.439 1.44 1.263-1.263a.25.25 0 0 0 0-.354Z"></path></svg>
            </div>
            <div data-targets="command-palette-page-stack.localOcticons" data-octicon-id="issue-opened-open">
              <svg height="16" class="octicon octicon-issue-opened open" viewBox="0 0 16 16" version="1.1" width="16" aria-hidden="true"><path d="M8 9.5a1.5 1.5 0 1 0 0-3 1.5 1.5 0 0 0 0 3Z"></path><path d="M8 0a8 8 0 1 1 0 16A8 8 0 0 1 8 0ZM1.5 8a6.5 6.5 0 1 0 13 0 6.5 6.5 0 0 0-13 0Z"></path></svg>
            </div>
            <div data-targets="command-palette-page-stack.localOcticons" data-octicon-id="git-pull-request-draft-color-fg-muted">
              <svg height="16" class="octicon octicon-git-pull-request-draft color-fg-muted" viewBox="0 0 16 16" version="1.1" width="16" aria-hidden="true"><path d="M3.25 1A2.25 2.25 0 0 1 4 5.372v5.256a2.251 2.251 0 1 1-1.5 0V5.372A2.251 2.251 0 0 1 3.25 1Zm9.5 14a2.25 2.25 0 1 1 0-4.5 2.25 2.25 0 0 1 0 4.5ZM2.5 3.25a.75.75 0 1 0 1.5 0 .75.75 0 0 0-1.5 0ZM3.25 12a.75.75 0 1 0 0 1.5.75.75 0 0 0 0-1.5Zm9.5 0a.75.75 0 1 0 0 1.5.75.75 0 0 0 0-1.5ZM14 7.5a1.25 1.25 0 1 1-2.5 0 1.25 1.25 0 0 1 2.5 0Zm0-4.25a1.25 1.25 0 1 1-2.5 0 1.25 1.25 0 0 1 2.5 0Z"></path></svg>
            </div>
            <div data-targets="command-palette-page-stack.localOcticons" data-octicon-id="search-color-fg-muted">
              <svg height="16" class="octicon octicon-search color-fg-muted" viewBox="0 0 16 16" version="1.1" width="16" aria-hidden="true"><path d="M10.68 11.74a6 6 0 0 1-7.922-8.982 6 6 0 0 1 8.982 7.922l3.04 3.04a.749.749 0 0 1-.326 1.275.749.749 0 0 1-.734-.215ZM11.5 7a4.499 4.499 0 1 0-8.997 0A4.499 4.499 0 0 0 11.5 7Z"></path></svg>
            </div>
            <div data-targets="command-palette-page-stack.localOcticons" data-octicon-id="sun-color-fg-muted">
              <svg height="16" class="octicon octicon-sun color-fg-muted" viewBox="0 0 16 16" version="1.1" width="16" aria-hidden="true"><path d="M8 12a4 4 0 1 1 0-8 4 4 0 0 1 0 8Zm0-1.5a2.5 2.5 0 1 0 0-5 2.5 2.5 0 0 0 0 5Zm5.657-8.157a.75.75 0 0 1 0 1.061l-1.061 1.06a.749.749 0 0 1-1.275-.326.749.749 0 0 1 .215-.734l1.06-1.06a.75.75 0 0 1 1.06 0Zm-9.193 9.193a.75.75 0 0 1 0 1.06l-1.06 1.061a.75.75 0 1 1-1.061-1.06l1.06-1.061a.75.75 0 0 1 1.061 0ZM8 0a.75.75 0 0 1 .75.75v1.5a.75.75 0 0 1-1.5 0V.75A.75.75 0 0 1 8 0ZM3 8a.75.75 0 0 1-.75.75H.75a.75.75 0 0 1 0-1.5h1.5A.75.75 0 0 1 3 8Zm13 0a.75.75 0 0 1-.75.75h-1.5a.75.75 0 0 1 0-1.5h1.5A.75.75 0 0 1 16 8Zm-8 5a.75.75 0 0 1 .75.75v1.5a.75.75 0 0 1-1.5 0v-1.5A.75.75 0 0 1 8 13Zm3.536-1.464a.75.75 0 0 1 1.06 0l1.061 1.06a.75.75 0 0 1-1.06 1.061l-1.061-1.06a.75.75 0 0 1 0-1.061ZM2.343 2.343a.75.75 0 0 1 1.061 0l1.06 1.061a.751.751 0 0 1-.018 1.042.751.751 0 0 1-1.042.018l-1.06-1.06a.75.75 0 0 1 0-1.06Z"></path></svg>
            </div>
            <div data-targets="command-palette-page-stack.localOcticons" data-octicon-id="sync-color-fg-muted">
              <svg height="16" class="octicon octicon-sync color-fg-muted" viewBox="0 0 16 16" version="1.1" width="16" aria-hidden="true"><path d="M1.705 8.005a.75.75 0 0 1 .834.656 5.5 5.5 0 0 0 9.592 2.97l-1.204-1.204a.25.25 0 0 1 .177-.427h3.646a.25.25 0 0 1 .25.25v3.646a.25.25 0 0 1-.427.177l-1.38-1.38A7.002 7.002 0 0 1 1.05 8.84a.75.75 0 0 1 .656-.834ZM8 2.5a5.487 5.487 0 0 0-4.131 1.869l1.204 1.204A.25.25 0 0 1 4.896 6H1.25A.25.25 0 0 1 1 5.75V2.104a.25.25 0 0 1 .427-.177l1.38 1.38A7.002 7.002 0 0 1 14.95 7.16a.75.75 0 0 1-1.49.178A5.5 5.5 0 0 0 8 2.5Z"></path></svg>
            </div>
            <div data-targets="command-palette-page-stack.localOcticons" data-octicon-id="trash-color-fg-muted">
              <svg height="16" class="octicon octicon-trash color-fg-muted" viewBox="0 0 16 16" version="1.1" width="16" aria-hidden="true"><path d="M11 1.75V3h2.25a.75.75 0 0 1 0 1.5H2.75a.75.75 0 0 1 0-1.5H5V1.75C5 .784 5.784 0 6.75 0h2.5C10.216 0 11 .784 11 1.75ZM4.496 6.675l.66 6.6a.25.25 0 0 0 .249.225h5.19a.25.25 0 0 0 .249-.225l.66-6.6a.75.75 0 0 1 1.492.149l-.66 6.6A1.748 1.748 0 0 1 10.595 15h-5.19a1.75 1.75 0 0 1-1.741-1.575l-.66-6.6a.75.75 0 1 1 1.492-.15ZM6.5 1.75V3h3V1.75a.25.25 0 0 0-.25-.25h-2.5a.25.25 0 0 0-.25.25Z"></path></svg>
            </div>
            <div data-targets="command-palette-page-stack.localOcticons" data-octicon-id="key-color-fg-muted">
              <svg height="16" class="octicon octicon-key color-fg-muted" viewBox="0 0 16 16" version="1.1" width="16" aria-hidden="true"><path d="M10.5 0a5.499 5.499 0 1 1-1.288 10.848l-.932.932a.749.749 0 0 1-.53.22H7v.75a.749.749 0 0 1-.22.53l-.5.5a.749.749 0 0 1-.53.22H5v.75a.749.749 0 0 1-.22.53l-.5.5a.749.749 0 0 1-.53.22h-2A1.75 1.75 0 0 1 0 14.25v-2c0-.199.079-.389.22-.53l4.932-4.932A5.5 5.5 0 0 1 10.5 0Zm-4 5.5c-.001.431.069.86.205 1.269a.75.75 0 0 1-.181.768L1.5 12.56v1.69c0 .138.112.25.25.25h1.69l.06-.06v-1.19a.75.75 0 0 1 .75-.75h1.19l.06-.06v-1.19a.75.75 0 0 1 .75-.75h1.19l1.023-1.025a.75.75 0 0 1 .768-.18A4 4 0 1 0 6.5 5.5ZM11 6a1 1 0 1 1 0-2 1 1 0 0 1 0 2Z"></path></svg>
            </div>
            <div data-targets="command-palette-page-stack.localOcticons" data-octicon-id="comment-discussion-color-fg-muted">
              <svg height="16" class="octicon octicon-comment-discussion color-fg-muted" viewBox="0 0 16 16" version="1.1" width="16" aria-hidden="true"><path d="M1.75 1h8.5c.966 0 1.75.784 1.75 1.75v5.5A1.75 1.75 0 0 1 10.25 10H7.061l-2.574 2.573A1.458 1.458 0 0 1 2 11.543V10h-.25A1.75 1.75 0 0 1 0 8.25v-5.5C0 1.784.784 1 1.75 1ZM1.5 2.75v5.5c0 .138.112.25.25.25h1a.75.75 0 0 1 .75.75v2.19l2.72-2.72a.749.749 0 0 1 .53-.22h3.5a.25.25 0 0 0 .25-.25v-5.5a.25.25 0 0 0-.25-.25h-8.5a.25.25 0 0 0-.25.25Zm13 2a.25.25 0 0 0-.25-.25h-.5a.75.75 0 0 1 0-1.5h.5c.966 0 1.75.784 1.75 1.75v5.5A1.75 1.75 0 0 1 14.25 12H14v1.543a1.458 1.458 0 0 1-2.487 1.03L9.22 12.28a.749.749 0 0 1 .326-1.275.749.749 0 0 1 .734.215l2.22 2.22v-2.19a.75.75 0 0 1 .75-.75h1a.25.25 0 0 0 .25-.25Z"></path></svg>
            </div>
            <div data-targets="command-palette-page-stack.localOcticons" data-octicon-id="bell-color-fg-muted">
              <svg height="16" class="octicon octicon-bell color-fg-muted" viewBox="0 0 16 16" version="1.1" width="16" aria-hidden="true"><path d="M8 16a2 2 0 0 0 1.985-1.75c.017-.137-.097-.25-.235-.25h-3.5c-.138 0-.252.113-.235.25A2 2 0 0 0 8 16ZM3 5a5 5 0 0 1 10 0v2.947c0 .05.015.098.042.139l1.703 2.555A1.519 1.519 0 0 1 13.482 13H2.518a1.516 1.516 0 0 1-1.263-2.36l1.703-2.554A.255.255 0 0 0 3 7.947Zm5-3.5A3.5 3.5 0 0 0 4.5 5v2.947c0 .346-.102.683-.294.97l-1.703 2.556a.017.017 0 0 0-.003.01l.001.006c0 .002.002.004.004.006l.006.004.007.001h10.964l.007-.001.006-.004.004-.006.001-.007a.017.017 0 0 0-.003-.01l-1.703-2.554a1.745 1.745 0 0 1-.294-.97V5A3.5 3.5 0 0 0 8 1.5Z"></path></svg>
            </div>
            <div data-targets="command-palette-page-stack.localOcticons" data-octicon-id="bell-slash-color-fg-muted">
              <svg height="16" class="octicon octicon-bell-slash color-fg-muted" viewBox="0 0 16 16" version="1.1" width="16" aria-hidden="true"><path d="m4.182 4.31.016.011 10.104 7.316.013.01 1.375.996a.75.75 0 1 1-.88 1.214L13.626 13H2.518a1.516 1.516 0 0 1-1.263-2.36l1.703-2.554A.255.255 0 0 0 3 7.947V5.305L.31 3.357a.75.75 0 1 1 .88-1.214Zm7.373 7.19L4.5 6.391v1.556c0 .346-.102.683-.294.97l-1.703 2.556a.017.017 0 0 0-.003.01c0 .005.002.009.005.012l.006.004.007.001ZM8 1.5c-.997 0-1.895.416-2.534 1.086A.75.75 0 1 1 4.38 1.55 5 5 0 0 1 13 5v2.373a.75.75 0 0 1-1.5 0V5A3.5 3.5 0 0 0 8 1.5ZM8 16a2 2 0 0 1-1.985-1.75c-.017-.137.097-.25.235-.25h3.5c.138 0 .252.113.235.25A2 2 0 0 1 8 16Z"></path></svg>
            </div>
            <div data-targets="command-palette-page-stack.localOcticons" data-octicon-id="paintbrush-color-fg-muted">
              <svg height="16" class="octicon octicon-paintbrush color-fg-muted" viewBox="0 0 16 16" version="1.1" width="16" aria-hidden="true"><path d="M11.134 1.535c.7-.509 1.416-.942 2.076-1.155.649-.21 1.463-.267 2.069.34.603.601.568 1.411.368 2.07-.202.668-.624 1.39-1.125 2.096-1.011 1.424-2.496 2.987-3.775 4.249-1.098 1.084-2.132 1.839-3.04 2.3a3.744 3.744 0 0 1-1.055 3.217c-.431.431-1.065.691-1.657.861-.614.177-1.294.287-1.914.357A21.151 21.151 0 0 1 .797 16H.743l.007-.75H.749L.742 16a.75.75 0 0 1-.743-.742l.743-.008-.742.007v-.054a21.25 21.25 0 0 1 .13-2.284c.067-.647.187-1.287.358-1.914.17-.591.43-1.226.86-1.657a3.746 3.746 0 0 1 3.227-1.054c.466-.893 1.225-1.907 2.314-2.982 1.271-1.255 2.833-2.75 4.245-3.777ZM1.62 13.089c-.051.464-.086.929-.104 1.395.466-.018.932-.053 1.396-.104a10.511 10.511 0 0 0 1.668-.309c.526-.151.856-.325 1.011-.48a2.25 2.25 0 1 0-3.182-3.182c-.155.155-.329.485-.48 1.01a10.515 10.515 0 0 0-.309 1.67Zm10.396-10.34c-1.224.89-2.605 2.189-3.822 3.384l1.718 1.718c1.21-1.205 2.51-2.597 3.387-3.833.47-.662.78-1.227.912-1.662.134-.444.032-.551.009-.575h-.001V1.78c-.014-.014-.113-.113-.548.027-.432.14-.995.462-1.655.942Zm-4.832 7.266-.001.001a9.859 9.859 0 0 0 1.63-1.142L7.155 7.216a9.7 9.7 0 0 0-1.161 1.607c.482.302.889.71 1.19 1.192Z"></path></svg>
            </div>

            <command-palette-item-group
              data-group-id="top"
              data-group-title="Top result"
              data-group-hint=""
              data-group-limits="{}"
              data-default-priority="0"
            >
            </command-palette-item-group>
            <command-palette-item-group
              data-group-id="commands"
              data-group-title="Commands"
              data-group-hint="Type &gt; to filter"
              data-group-limits="{&quot;static_items_page&quot;:50,&quot;issue&quot;:50,&quot;pull_request&quot;:50,&quot;discussion&quot;:50}"
              data-default-priority="1"
            >
            </command-palette-item-group>
            <command-palette-item-group
              data-group-id="global_commands"
              data-group-title="Global Commands"
              data-group-hint="Type &gt; to filter"
              data-group-limits="{&quot;issue&quot;:0,&quot;pull_request&quot;:0,&quot;discussion&quot;:0}"
              data-default-priority="2"
            >
            </command-palette-item-group>
            <command-palette-item-group
              data-group-id="this_page"
              data-group-title="This Page"
              data-group-hint=""
              data-group-limits="{}"
              data-default-priority="3"
            >
            </command-palette-item-group>
            <command-palette-item-group
              data-group-id="files"
              data-group-title="Files"
              data-group-hint=""
              data-group-limits="{}"
              data-default-priority="4"
            >
            </command-palette-item-group>
            <command-palette-item-group
              data-group-id="default"
              data-group-title="Default"
              data-group-hint=""
              data-group-limits="{&quot;static_items_page&quot;:50}"
              data-default-priority="5"
            >
            </command-palette-item-group>
            <command-palette-item-group
              data-group-id="pages"
              data-group-title="Pages"
              data-group-hint=""
              data-group-limits="{&quot;repository&quot;:10}"
              data-default-priority="6"
            >
            </command-palette-item-group>
            <command-palette-item-group
              data-group-id="access_policies"
              data-group-title="Access Policies"
              data-group-hint=""
              data-group-limits="{}"
              data-default-priority="7"
            >
            </command-palette-item-group>
            <command-palette-item-group
              data-group-id="organizations"
              data-group-title="Organizations"
              data-group-hint=""
              data-group-limits="{}"
              data-default-priority="8"
            >
            </command-palette-item-group>
            <command-palette-item-group
              data-group-id="repositories"
              data-group-title="Repositories"
              data-group-hint=""
              data-group-limits="{}"
              data-default-priority="9"
            >
            </command-palette-item-group>
            <command-palette-item-group
              data-group-id="references"
              data-group-title="Issues, pull requests, and discussions"
              data-group-hint="Type # to filter"
              data-group-limits="{}"
              data-default-priority="10"
            >
            </command-palette-item-group>
            <command-palette-item-group
              data-group-id="teams"
              data-group-title="Teams"
              data-group-hint=""
              data-group-limits="{}"
              data-default-priority="11"
            >
            </command-palette-item-group>
            <command-palette-item-group
              data-group-id="users"
              data-group-title="Users"
              data-group-hint=""
              data-group-limits="{}"
              data-default-priority="12"
            >
            </command-palette-item-group>
            <command-palette-item-group
              data-group-id="memex_projects"
              data-group-title="Projects"
              data-group-hint=""
              data-group-limits="{}"
              data-default-priority="13"
            >
            </command-palette-item-group>
            <command-palette-item-group
              data-group-id="projects"
              data-group-title="Projects (classic)"
              data-group-hint=""
              data-group-limits="{}"
              data-default-priority="14"
            >
            </command-palette-item-group>
            <command-palette-item-group
              data-group-id="footer"
              data-group-title="Footer"
              data-group-hint=""
              data-group-limits="{}"
              data-default-priority="15"
            >
            </command-palette-item-group>
            <command-palette-item-group
              data-group-id="modes_help"
              data-group-title="Modes"
              data-group-hint=""
              data-group-limits="{}"
              data-default-priority="16"
            >
            </command-palette-item-group>
            <command-palette-item-group
              data-group-id="filters_help"
              data-group-title="Use filters in issues, pull requests, discussions, and projects"
              data-group-hint=""
              data-group-limits="{}"
              data-default-priority="17"
            >
            </command-palette-item-group>

            <command-palette-page
              data-page-title="navassherif98"
              data-scope-id="MDQ6VXNlcjU1NzU3NDE1"
              data-scope-type="owner"
              data-targets="command-palette-page-stack.defaultPages"
              hidden
            >
            </command-palette-page>
            <command-palette-page
              data-page-title="IBM_Data_Science_Professional_Certification"
              data-scope-id="MDEwOlJlcG9zaXRvcnkzOTg3MjAzNzE="
              data-scope-type="repository"
              data-targets="command-palette-page-stack.defaultPages"
              hidden
            >
            </command-palette-page>
        </div>

        <command-palette-page data-is-root>
        </command-palette-page>
          <command-palette-page
            data-page-title="navassherif98"
            data-scope-id="MDQ6VXNlcjU1NzU3NDE1"
            data-scope-type="owner"
          >
          </command-palette-page>
          <command-palette-page
            data-page-title="IBM_Data_Science_Professional_Certification"
            data-scope-id="MDEwOlJlcG9zaXRvcnkzOTg3MjAzNzE="
            data-scope-type="repository"
          >
          </command-palette-page>
      </command-palette-page-stack>

      <server-defined-provider data-type="search-links" data-targets="command-palette.serverDefinedProviderElements"></server-defined-provider>
      <server-defined-provider data-type="help" data-targets="command-palette.serverDefinedProviderElements">
          <command-palette-help
            data-group="modes_help"
              data-prefix="#"
              data-scope-types="[&quot;&quot;]"
          >
            <span data-target="command-palette-help.titleElement">Search for <strong>issues</strong> and <strong>pull requests</strong></span>
              <span data-target="command-palette-help.hintElement">
                <kbd class="hx_kbd">#</kbd>
              </span>
          </command-palette-help>
          <command-palette-help
            data-group="modes_help"
              data-prefix="#"
              data-scope-types="[&quot;owner&quot;,&quot;repository&quot;]"
          >
            <span data-target="command-palette-help.titleElement">Search for <strong>issues, pull requests, discussions,</strong> and <strong>projects</strong></span>
              <span data-target="command-palette-help.hintElement">
                <kbd class="hx_kbd">#</kbd>
              </span>
          </command-palette-help>
          <command-palette-help
            data-group="modes_help"
              data-prefix="@"
              data-scope-types="[&quot;&quot;]"
          >
            <span data-target="command-palette-help.titleElement">Search for <strong>organizations, repositories,</strong> and <strong>users</strong></span>
              <span data-target="command-palette-help.hintElement">
                <kbd class="hx_kbd">@</kbd>
              </span>
          </command-palette-help>
          <command-palette-help
            data-group="modes_help"
              data-prefix="!"
              data-scope-types="[&quot;owner&quot;,&quot;repository&quot;]"
          >
            <span data-target="command-palette-help.titleElement">Search for <strong>projects</strong></span>
              <span data-target="command-palette-help.hintElement">
                <kbd class="hx_kbd">!</kbd>
              </span>
          </command-palette-help>
          <command-palette-help
            data-group="modes_help"
              data-prefix="/"
              data-scope-types="[&quot;repository&quot;]"
          >
            <span data-target="command-palette-help.titleElement">Search for <strong>files</strong></span>
              <span data-target="command-palette-help.hintElement">
                <kbd class="hx_kbd">/</kbd>
              </span>
          </command-palette-help>
          <command-palette-help
            data-group="modes_help"
              data-prefix="&gt;"
          >
            <span data-target="command-palette-help.titleElement">Activate <strong>command mode</strong></span>
              <span data-target="command-palette-help.hintElement">
                <kbd class="hx_kbd">&gt;</kbd>
              </span>
          </command-palette-help>
          <command-palette-help
            data-group="filters_help"
              data-prefix="# author:@me"
          >
            <span data-target="command-palette-help.titleElement">Search your issues, pull requests, and discussions</span>
              <span data-target="command-palette-help.hintElement">
                <kbd class="hx_kbd"># author:@me</kbd>
              </span>
          </command-palette-help>
          <command-palette-help
            data-group="filters_help"
              data-prefix="# author:@me"
          >
            <span data-target="command-palette-help.titleElement">Search your issues, pull requests, and discussions</span>
              <span data-target="command-palette-help.hintElement">
                <kbd class="hx_kbd"># author:@me</kbd>
              </span>
          </command-palette-help>
          <command-palette-help
            data-group="filters_help"
              data-prefix="# is:pr"
          >
            <span data-target="command-palette-help.titleElement">Filter to pull requests</span>
              <span data-target="command-palette-help.hintElement">
                <kbd class="hx_kbd"># is:pr</kbd>
              </span>
          </command-palette-help>
          <command-palette-help
            data-group="filters_help"
              data-prefix="# is:issue"
          >
            <span data-target="command-palette-help.titleElement">Filter to issues</span>
              <span data-target="command-palette-help.hintElement">
                <kbd class="hx_kbd"># is:issue</kbd>
              </span>
          </command-palette-help>
          <command-palette-help
            data-group="filters_help"
              data-prefix="# is:discussion"
              data-scope-types="[&quot;owner&quot;,&quot;repository&quot;]"
          >
            <span data-target="command-palette-help.titleElement">Filter to discussions</span>
              <span data-target="command-palette-help.hintElement">
                <kbd class="hx_kbd"># is:discussion</kbd>
              </span>
          </command-palette-help>
          <command-palette-help
            data-group="filters_help"
              data-prefix="# is:project"
              data-scope-types="[&quot;owner&quot;,&quot;repository&quot;]"
          >
            <span data-target="command-palette-help.titleElement">Filter to projects</span>
              <span data-target="command-palette-help.hintElement">
                <kbd class="hx_kbd"># is:project</kbd>
              </span>
          </command-palette-help>
          <command-palette-help
            data-group="filters_help"
              data-prefix="# is:open"
          >
            <span data-target="command-palette-help.titleElement">Filter to open issues, pull requests, and discussions</span>
              <span data-target="command-palette-help.hintElement">
                <kbd class="hx_kbd"># is:open</kbd>
              </span>
          </command-palette-help>
      </server-defined-provider>

        <server-defined-provider
          data-type="commands"
          data-fetch-debounce="0"
            data-src="/command_palette/commands"
          data-supported-modes="[]"
            data-supports-commands
          
          data-targets="command-palette.serverDefinedProviderElements"
          ></server-defined-provider>
        <server-defined-provider
          data-type="prefetched"
          data-fetch-debounce="0"
            data-src="/command_palette/jump_to_page_navigation"
          data-supported-modes="[&quot;&quot;]"
            data-supported-scope-types="[&quot;&quot;,&quot;owner&quot;,&quot;repository&quot;]"
          
          data-targets="command-palette.serverDefinedProviderElements"
          ></server-defined-provider>
        <server-defined-provider
          data-type="remote"
          data-fetch-debounce="200"
            data-src="/command_palette/issues"
          data-supported-modes="[&quot;#&quot;,&quot;#&quot;]"
            data-supported-scope-types="[&quot;owner&quot;,&quot;repository&quot;,&quot;&quot;]"
          
          data-targets="command-palette.serverDefinedProviderElements"
          ></server-defined-provider>
        <server-defined-provider
          data-type="remote"
          data-fetch-debounce="200"
            data-src="/command_palette/jump_to"
          data-supported-modes="[&quot;@&quot;,&quot;@&quot;]"
            data-supported-scope-types="[&quot;&quot;,&quot;owner&quot;]"
          
          data-targets="command-palette.serverDefinedProviderElements"
          ></server-defined-provider>
        <server-defined-provider
          data-type="remote"
          data-fetch-debounce="200"
            data-src="/command_palette/jump_to_members_only"
          data-supported-modes="[&quot;@&quot;,&quot;@&quot;,&quot;&quot;,&quot;&quot;]"
            data-supported-scope-types="[&quot;&quot;,&quot;owner&quot;]"
          
          data-targets="command-palette.serverDefinedProviderElements"
          ></server-defined-provider>
        <server-defined-provider
          data-type="prefetched"
          data-fetch-debounce="0"
            data-src="/command_palette/jump_to_members_only_prefetched"
          data-supported-modes="[&quot;@&quot;,&quot;@&quot;,&quot;&quot;,&quot;&quot;]"
            data-supported-scope-types="[&quot;&quot;,&quot;owner&quot;]"
          
          data-targets="command-palette.serverDefinedProviderElements"
          ></server-defined-provider>
        <server-defined-provider
          data-type="files"
          data-fetch-debounce="0"
            data-src="/command_palette/files"
          data-supported-modes="[&quot;/&quot;]"
            data-supported-scope-types="[&quot;repository&quot;]"
          
          data-targets="command-palette.serverDefinedProviderElements"
          ></server-defined-provider>
        <server-defined-provider
          data-type="remote"
          data-fetch-debounce="200"
            data-src="/command_palette/discussions"
          data-supported-modes="[&quot;#&quot;]"
            data-supported-scope-types="[&quot;owner&quot;,&quot;repository&quot;]"
          
          data-targets="command-palette.serverDefinedProviderElements"
          ></server-defined-provider>
        <server-defined-provider
          data-type="remote"
          data-fetch-debounce="200"
            data-src="/command_palette/projects"
          data-supported-modes="[&quot;#&quot;,&quot;!&quot;]"
            data-supported-scope-types="[&quot;owner&quot;,&quot;repository&quot;]"
          
          data-targets="command-palette.serverDefinedProviderElements"
          ></server-defined-provider>
        <server-defined-provider
          data-type="prefetched"
          data-fetch-debounce="0"
            data-src="/command_palette/recent_issues"
          data-supported-modes="[&quot;#&quot;,&quot;#&quot;]"
            data-supported-scope-types="[&quot;owner&quot;,&quot;repository&quot;,&quot;&quot;]"
          
          data-targets="command-palette.serverDefinedProviderElements"
          ></server-defined-provider>
        <server-defined-provider
          data-type="remote"
          data-fetch-debounce="200"
            data-src="/command_palette/teams"
          data-supported-modes="[&quot;@&quot;,&quot;&quot;]"
            data-supported-scope-types="[&quot;owner&quot;]"
          
          data-targets="command-palette.serverDefinedProviderElements"
          ></server-defined-provider>
        <server-defined-provider
          data-type="remote"
          data-fetch-debounce="200"
            data-src="/command_palette/name_with_owner_repository"
          data-supported-modes="[&quot;@&quot;,&quot;@&quot;,&quot;&quot;,&quot;&quot;]"
            data-supported-scope-types="[&quot;&quot;,&quot;owner&quot;]"
          
          data-targets="command-palette.serverDefinedProviderElements"
          ></server-defined-provider>
    </command-palette>
  </details-dialog>
</details>

<div class="position-fixed bottom-0 left-0 ml-5 mb-5 js-command-palette-toasts" style="z-index: 1000">
  <div hidden class="Toast Toast--loading">
    <span class="Toast-icon">
      <svg class="Toast--spinner" viewBox="0 0 32 32" width="18" height="18" aria-hidden="true">
        <path
          fill="#959da5"
          d="M16 0 A16 16 0 0 0 16 32 A16 16 0 0 0 16 0 M16 4 A12 12 0 0 1 16 28 A12 12 0 0 1 16 4"
        />
        <path fill="#ffffff" d="M16 0 A16 16 0 0 1 32 16 L28 16 A12 12 0 0 0 16 4z"></path>
      </svg>
    </span>
    <span class="Toast-content"></span>
  </div>

  <div hidden class="anim-fade-in fast Toast Toast--error">
    <span class="Toast-icon">
      <svg aria-hidden="true" height="16" viewBox="0 0 16 16" version="1.1" width="16" data-view-component="true" class="octicon octicon-stop">
    <path d="M4.47.22A.749.749 0 0 1 5 0h6c.199 0 .389.079.53.22l4.25 4.25c.141.14.22.331.22.53v6a.749.749 0 0 1-.22.53l-4.25 4.25A.749.749 0 0 1 11 16H5a.749.749 0 0 1-.53-.22L.22 11.53A.749.749 0 0 1 0 11V5c0-.199.079-.389.22-.53Zm.84 1.28L1.5 5.31v5.38l3.81 3.81h5.38l3.81-3.81V5.31L10.69 1.5ZM8 4a.75.75 0 0 1 .75.75v3.5a.75.75 0 0 1-1.5 0v-3.5A.75.75 0 0 1 8 4Zm0 8a1 1 0 1 1 0-2 1 1 0 0 1 0 2Z"></path>
</svg>
    </span>
    <span class="Toast-content"></span>
  </div>

  <div hidden class="anim-fade-in fast Toast Toast--warning">
    <span class="Toast-icon">
      <svg aria-hidden="true" height="16" viewBox="0 0 16 16" version="1.1" width="16" data-view-component="true" class="octicon octicon-alert">
    <path d="M6.457 1.047c.659-1.234 2.427-1.234 3.086 0l6.082 11.378A1.75 1.75 0 0 1 14.082 15H1.918a1.75 1.75 0 0 1-1.543-2.575Zm1.763.707a.25.25 0 0 0-.44 0L1.698 13.132a.25.25 0 0 0 .22.368h12.164a.25.25 0 0 0 .22-.368Zm.53 3.996v2.5a.75.75 0 0 1-1.5 0v-2.5a.75.75 0 0 1 1.5 0ZM9 11a1 1 0 1 1-2 0 1 1 0 0 1 2 0Z"></path>
</svg>
    </span>
    <span class="Toast-content"></span>
  </div>


  <div hidden class="anim-fade-in fast Toast Toast--success">
    <span class="Toast-icon">
      <svg aria-hidden="true" height="16" viewBox="0 0 16 16" version="1.1" width="16" data-view-component="true" class="octicon octicon-check">
    <path d="M13.78 4.22a.75.75 0 0 1 0 1.06l-7.25 7.25a.75.75 0 0 1-1.06 0L2.22 9.28a.751.751 0 0 1 .018-1.042.751.751 0 0 1 1.042-.018L6 10.94l6.72-6.72a.75.75 0 0 1 1.06 0Z"></path>
</svg>
    </span>
    <span class="Toast-content"></span>
  </div>

  <div hidden class="anim-fade-in fast Toast">
    <span class="Toast-icon">
      <svg aria-hidden="true" height="16" viewBox="0 0 16 16" version="1.1" width="16" data-view-component="true" class="octicon octicon-info">
    <path d="M0 8a8 8 0 1 1 16 0A8 8 0 0 1 0 8Zm8-6.5a6.5 6.5 0 1 0 0 13 6.5 6.5 0 0 0 0-13ZM6.5 7.75A.75.75 0 0 1 7.25 7h1a.75.75 0 0 1 .75.75v2.75h.25a.75.75 0 0 1 0 1.5h-2a.75.75 0 0 1 0-1.5h.25v-2h-.25a.75.75 0 0 1-.75-.75ZM8 6a1 1 0 1 1 0-2 1 1 0 0 1 0 2Z"></path>
</svg>
    </span>
    <span class="Toast-content"></span>
  </div>
</div>


  <div
    class="application-main "
    data-commit-hovercards-enabled
    data-discussion-hovercards-enabled
    data-issue-and-pr-hovercards-enabled
  >
        <div itemscope itemtype="http://schema.org/SoftwareSourceCode" class="">
    <main id="js-repo-pjax-container" >
      
      






    
  <div id="repository-container-header" data-turbo-replace hidden></div>




<turbo-frame id="repo-content-turbo-frame" target="_top" data-turbo-action="advance" class="">
    <div id="repo-content-pjax-container" class="repository-content " >
      <a href="https://github.dev/" class="d-none js-github-dev-shortcut" data-hotkey=".,Meta+Shift+/">Open in github.dev</a>
  <a href="https://github.dev/" class="d-none js-github-dev-new-tab-shortcut" data-hotkey="Shift+.,Shift+&gt;,&gt;" target="_blank" rel="noopener noreferrer">Open in a new github.dev tab</a>
    <a class="d-none" data-hotkey=",,Meta+Shift+&#39;" target="_blank" href="/codespaces/new/navassherif98/IBM_Data_Science_Professional_Certification/tree/master?resume=1">Open in codespace</a>



    
      
    





<react-app
  app-name="react-code-view"
  initial-path="/navassherif98/IBM_Data_Science_Professional_Certification/blob/master/10.Applied_Data_Science_Capstone/Week%202%20EDA/EDA%20with%20SQL.ipynb"
  style="min-height: calc(100vh - 62px)"
  data-ssr="false"
  data-lazy="false"
  data-alternate="false"
>
  
  <script type="application/json" data-target="react-app.embeddedData">{"payload":{"allShortcutsEnabled":true,"fileTree":{"10.Applied_Data_Science_Capstone/Week 2 EDA":{"items":[{"name":".ipynb_checkpoints","path":"10.Applied_Data_Science_Capstone/Week 2 EDA/.ipynb_checkpoints","contentType":"directory"},{"name":"Graded Quiz","path":"10.Applied_Data_Science_Capstone/Week 2 EDA/Graded Quiz","contentType":"directory"},{"name":"EDA with SQL.ipynb","path":"10.Applied_Data_Science_Capstone/Week 2 EDA/EDA with SQL.ipynb","contentType":"file"},{"name":"EDA with Visualization.ipynb","path":"10.Applied_Data_Science_Capstone/Week 2 EDA/EDA with Visualization.ipynb","contentType":"file"}],"totalCount":4},"10.Applied_Data_Science_Capstone":{"items":[{"name":"Week 1 Introduction","path":"10.Applied_Data_Science_Capstone/Week 1 Introduction","contentType":"directory"},{"name":"Week 2 EDA","path":"10.Applied_Data_Science_Capstone/Week 2 EDA","contentType":"directory"},{"name":"Week 3 Interactive Visual Analytics and Dashboard","path":"10.Applied_Data_Science_Capstone/Week 3 Interactive Visual Analytics and Dashboard","contentType":"directory"},{"name":"Week 4 Predictive Analysis (Classification)","path":"10.Applied_Data_Science_Capstone/Week 4 Predictive Analysis (Classification)","contentType":"directory"},{"name":"Week 5 Present Your Data-Driven Insights","path":"10.Applied_Data_Science_Capstone/Week 5 Present Your Data-Driven Insights","contentType":"directory"}],"totalCount":5},"":{"items":[{"name":"1.What is Data Science","path":"1.What is Data Science","contentType":"directory"},{"name":"10.Applied_Data_Science_Capstone","path":"10.Applied_Data_Science_Capstone","contentType":"directory"},{"name":"2.Tools for Data Science","path":"2.Tools for Data Science","contentType":"directory"},{"name":"3.Data Science Methodology","path":"3.Data Science Methodology","contentType":"directory"},{"name":"4.Python for Data Science, AI \u0026 Development","path":"4.Python for Data Science, AI \u0026 Development","contentType":"directory"},{"name":"5.Python Project for Data Science","path":"5.Python Project for Data Science","contentType":"directory"},{"name":"6.Databases and SQL for Data Science with Python","path":"6.Databases and SQL for Data Science with Python","contentType":"directory"},{"name":"7.Data Analysis with Python","path":"7.Data Analysis with Python","contentType":"directory"},{"name":"8.Data Visualization with Python","path":"8.Data Visualization with Python","contentType":"directory"},{"name":"9.Machine Learning with Python","path":"9.Machine Learning with Python","contentType":"directory"},{"name":"assets","path":"assets","contentType":"directory"},{"name":"Financial Aid.pdf","path":"Financial Aid.pdf","contentType":"file"},{"name":"README.md","path":"README.md","contentType":"file"},{"name":"index.html","path":"index.html","contentType":"file"}],"totalCount":14}},"fileTreeProcessingTime":7.234983000000001,"foldersToFetch":[],"reducedMotionEnabled":"system","repo":{"id":398720371,"defaultBranch":"master","name":"IBM_Data_Science_Professional_Certification","ownerLogin":"navassherif98","currentUserCanPush":false,"isFork":false,"isEmpty":false,"createdAt":"2021-08-22T10:48:02.000+05:30","ownerAvatar":"https://avatars.githubusercontent.com/u/55757415?v=4","public":true,"private":false,"isOrgOwned":false},"refInfo":{"name":"master","listCacheKey":"v0:1629996443.4495811","canEdit":true,"refType":"branch","currentOid":"4b9853f907a045130eb46d4bb8bac7ccb2bede42"},"path":"10.Applied_Data_Science_Capstone/Week 2 EDA/EDA with SQL.ipynb","currentUser":{"id":139646021,"login":"RedFoxSR","userEmail":"sharusr9@gmail.com"},"blob":{"rawLines":["{"," \"cells\": [","  {","   \"cell_type\": \"markdown\",","   \"metadata\": {},","   \"source\": [","    \"\u003ccenter\u003e\\n\",","    \"    \u003cimg src=\\\"https://gitlab.com/ibm/skills-network/courses/placeholder101/-/raw/master/labs/module%201/images/IDSNlogo.png\\\"  width=\\\"300\\\" alt=\\\"cognitiveclass.ai logo\\\"  /\u003e\\n\",","    \"\u003c/center\u003e\\n\",","    \"\\n\",","    \"\u003ch1 align=center\u003e\u003cfont size = 5\u003eAssignment: SQL Notebook for Peer Assignment\u003c/font\u003e\u003c/h1\u003e\\n\",","    \"\\n\",","    \"Estimated time needed: **60** minutes.\\n\",","    \"\\n\",","    \"## Introduction\\n\",","    \"\\n\",","    \"Using this Python notebook you will:\\n\",","    \"\\n\",","    \"1.  Understand the Spacex DataSet\\n\",","    \"2.  Load the dataset  into the corresponding table in a Db2 database\\n\",","    \"3.  Execute SQL queries to answer assignment questions\\n\"","   ]","  },","  {","   \"cell_type\": \"markdown\",","   \"metadata\": {},","   \"source\": [","    \"## Overview of the DataSet\\n\",","    \"\\n\",","    \"SpaceX has gained worldwide attention for a series of historic milestones.\\n\",","    \"\\n\",","    \"It is the only private company ever to return a spacecraft from low-earth orbit, which it first accomplished in December 2010.\\n\",","    \"SpaceX advertises Falcon 9 rocket launches on its website with a cost of 62 million dollars wheras other providers cost upward of 165 million dollars each, much of the savings is because Space X can reuse the first stage.\\n\",","    \"\\n\",","    \"Therefore if we can determine if the first stage will land, we can determine the cost of a launch.\\n\",","    \"\\n\",","    \"This information can be used if an alternate company wants to bid against SpaceX for a rocket launch.\\n\",","    \"\\n\",","    \"This dataset includes a record for each payload carried during a SpaceX mission into outer space.\\n\"","   ]","  },","  {","   \"cell_type\": \"markdown\",","   \"metadata\": {},","   \"source\": [","    \"### Download the datasets\\n\",","    \"\\n\",","    \"This assignment requires you to load the spacex dataset.\\n\",","    \"\\n\",","    \"In many cases the dataset to be analyzed is available as a .CSV (comma separated values) file, perhaps on the internet. Click on the link below to download and save the dataset (.CSV file):\\n\",","    \"\\n\",","    \"\u003ca href=\\\"https://cf-courses-data.s3.us.cloud-object-storage.appdomain.cloud/IBM-DS0321EN-SkillsNetwork/labs/module_2/data/Spacex.csv?utm_medium=Exinfluencer\u0026utm_source=Exinfluencer\u0026utm_content=000026UJ\u0026utm_term=10006555\u0026utm_id=NA-SkillsNetwork-Channel-SkillsNetworkCoursesIBMDS0321ENSkillsNetwork26802033-2021-01-01\\\" target=\\\"_blank\\\"\u003eSpacex DataSet\u003c/a\u003e\\n\"","   ]","  },","  {","   \"cell_type\": \"markdown\",","   \"metadata\": {},","   \"source\": [","    \"### Store the dataset in database table\\n\",","    \"\\n\",","    \"**it is highly recommended to manually load the table using the database console LOAD tool in DB2**.\\n\",","    \"\\n\",","    \"\u003cimg src = \\\"https://cf-courses-data.s3.us.cloud-object-storage.appdomain.cloud/IBM-DS0321EN-SkillsNetwork/labs/module_2/images/spacexload.png\\\"\u003e\\n\",","    \"\\n\",","    \"Now open the Db2 console, open the LOAD tool, Select / Drag the .CSV file for the  dataset, Next create a New Table, and then follow the steps on-screen instructions to load the data. Name the new table as follows:\\n\",","    \"\\n\",","    \"**SPACEXDATASET**\\n\",","    \"\\n\",","    \"**Follow these steps while using old DB2 UI which is having Open Console Screen**\\n\",","    \"\\n\",","    \"**Note:While loading Spacex dataset, ensure that detect datatypes is disabled. Later click on the pencil icon(edit option).**\\n\",","    \"\\n\",","    \"1.  Change the Date Format by manually typing DD-MM-YYYY and timestamp format as DD-MM-YYYY HH\\\\:MM:SS\\n\",","    \"\\n\",","    \"2.  Change the PAYLOAD_MASS\\\\_\\\\_KG\\\\_  datatype  to INTEGER.\\n\",","    \"\\n\",","    \"\u003cimg src = \\\"https://cf-courses-data.s3.us.cloud-object-storage.appdomain.cloud/IBM-DS0321EN-SkillsNetwork/labs/module_2/images/spacexload2.png\\\"\u003e\\n\"","   ]","  },","  {","   \"cell_type\": \"markdown\",","   \"metadata\": {},","   \"source\": [","    \"**Changes to be considered when having DB2 instance with the new UI having Go to UI screen**\\n\",","    \"\\n\",","    \"*   Refer to this insruction in this \u003ca href=\\\"https://cf-courses-data.s3.us.cloud-object-storage.appdomain.cloud/IBMDeveloperSkillsNetwork-DB0201EN-SkillsNetwork/labs/Labs_Coursera_V5/labs/Lab%20-%20Sign%20up%20for%20IBM%20Cloud%20-%20Create%20Db2%20service%20instance%20-%20Get%20started%20with%20the%20Db2%20console/instructional-labs.md.html?utm_medium=Exinfluencer\u0026utm_source=Exinfluencer\u0026utm_content=000026UJ\u0026utm_term=10006555\u0026utm_id=NA-SkillsNetwork-Channel-SkillsNetworkCoursesIBMDS0321ENSkillsNetwork26802033-2021-01-01\\\"\u003elink\u003c/a\u003e for viewing  the new  Go to UI screen.\\n\",","    \"\\n\",","    \"*   Later click on **Data link(below SQL)**  in the Go to UI screen  and click on **Load Data** tab.\\n\",","    \"\\n\",","    \"*   Later browse for the downloaded spacex file.\\n\",","    \"\\n\",","    \"\u003cimg src=\\\"https://cf-courses-data.s3.us.cloud-object-storage.appdomain.cloud/IBM-DS0321EN-SkillsNetwork/labs/module_2/images/browsefile.png\\\" width=\\\"800\\\"/\u003e\\n\",","    \"\\n\",","    \"*   Once done select the schema andload the file.\\n\",","    \"\\n\",","    \" \u003cimg src=\\\"https://cf-courses-data.s3.us.cloud-object-storage.appdomain.cloud/IBM-DS0321EN-SkillsNetwork/labs/module_2/images/spacexload3.png\\\" width=\\\"800\\\"/\u003e\\n\"","   ]","  },","  {","   \"cell_type\": \"code\",","   \"execution_count\": 2,","   \"metadata\": {},","   \"outputs\": [","    {","     \"name\": \"stdout\",","     \"output_type\": \"stream\",","     \"text\": [","      \"Requirement already satisfied: sqlalchemy==1.3.9 in /opt/conda/envs/Python-3.8-main/lib/python3.8/site-packages (1.3.9)\\n\",","      \"Requirement already satisfied: ibm_db_sa in /opt/conda/envs/Python-3.8-main/lib/python3.8/site-packages (0.3.6)\\n\",","      \"Requirement already satisfied: ibm-db\u003e=2.0.0 in /opt/conda/envs/Python-3.8-main/lib/python3.8/site-packages (from ibm_db_sa) (3.0.4)\\n\",","      \"Requirement already satisfied: sqlalchemy\u003e=0.7.3 in /opt/conda/envs/Python-3.8-main/lib/python3.8/site-packages (from ibm_db_sa) (1.3.9)\\n\",","      \"Requirement already satisfied: ipython-sql in /opt/conda/envs/Python-3.8-main/lib/python3.8/site-packages (0.4.0)\\n\",","      \"Requirement already satisfied: prettytable\u003c1 in /opt/conda/envs/Python-3.8-main/lib/python3.8/site-packages (from ipython-sql) (0.7.2)\\n\",","      \"Requirement already satisfied: ipython-genutils\u003e=0.1.0 in /opt/conda/envs/Python-3.8-main/lib/python3.8/site-packages (from ipython-sql) (0.2.0)\\n\",","      \"Requirement already satisfied: sqlalchemy\u003e=0.6.7 in /opt/conda/envs/Python-3.8-main/lib/python3.8/site-packages (from ipython-sql) (1.3.9)\\n\",","      \"Requirement already satisfied: ipython\u003e=1.0 in /opt/conda/envs/Python-3.8-main/lib/python3.8/site-packages (from ipython-sql) (7.22.0)\\n\",","      \"Requirement already satisfied: sqlparse in /opt/conda/envs/Python-3.8-main/lib/python3.8/site-packages (from ipython-sql) (0.4.1)\\n\",","      \"Requirement already satisfied: six in /opt/conda/envs/Python-3.8-main/lib/python3.8/site-packages (from ipython-sql) (1.15.0)\\n\",","      \"Requirement already satisfied: prompt-toolkit!=3.0.0,!=3.0.1,\u003c3.1.0,\u003e=2.0.0 in /opt/conda/envs/Python-3.8-main/lib/python3.8/site-packages (from ipython\u003e=1.0-\u003eipython-sql) (3.0.17)\\n\",","      \"Requirement already satisfied: traitlets\u003e=4.2 in /opt/conda/envs/Python-3.8-main/lib/python3.8/site-packages (from ipython\u003e=1.0-\u003eipython-sql) (5.0.5)\\n\",","      \"Requirement already satisfied: pygments in /opt/conda/envs/Python-3.8-main/lib/python3.8/site-packages (from ipython\u003e=1.0-\u003eipython-sql) (2.9.0)\\n\",","      \"Requirement already satisfied: setuptools\u003e=18.5 in /opt/conda/envs/Python-3.8-main/lib/python3.8/site-packages (from ipython\u003e=1.0-\u003eipython-sql) (52.0.0.post20210125)\\n\",","      \"Requirement already satisfied: backcall in /opt/conda/envs/Python-3.8-main/lib/python3.8/site-packages (from ipython\u003e=1.0-\u003eipython-sql) (0.2.0)\\n\",","      \"Requirement already satisfied: jedi\u003e=0.16 in /opt/conda/envs/Python-3.8-main/lib/python3.8/site-packages (from ipython\u003e=1.0-\u003eipython-sql) (0.17.2)\\n\",","      \"Requirement already satisfied: pexpect\u003e4.3 in /opt/conda/envs/Python-3.8-main/lib/python3.8/site-packages (from ipython\u003e=1.0-\u003eipython-sql) (4.8.0)\\n\",","      \"Requirement already satisfied: pickleshare in /opt/conda/envs/Python-3.8-main/lib/python3.8/site-packages (from ipython\u003e=1.0-\u003eipython-sql) (0.7.5)\\n\",","      \"Requirement already satisfied: decorator in /opt/conda/envs/Python-3.8-main/lib/python3.8/site-packages (from ipython\u003e=1.0-\u003eipython-sql) (5.0.9)\\n\",","      \"Requirement already satisfied: parso\u003c0.8.0,\u003e=0.7.0 in /opt/conda/envs/Python-3.8-main/lib/python3.8/site-packages (from jedi\u003e=0.16-\u003eipython\u003e=1.0-\u003eipython-sql) (0.7.0)\\n\",","      \"Requirement already satisfied: ptyprocess\u003e=0.5 in /opt/conda/envs/Python-3.8-main/lib/python3.8/site-packages (from pexpect\u003e4.3-\u003eipython\u003e=1.0-\u003eipython-sql) (0.7.0)\\n\",","      \"Requirement already satisfied: wcwidth in /opt/conda/envs/Python-3.8-main/lib/python3.8/site-packages (from prompt-toolkit!=3.0.0,!=3.0.1,\u003c3.1.0,\u003e=2.0.0-\u003eipython\u003e=1.0-\u003eipython-sql) (0.2.5)\\n\"","     ]","    }","   ],","   \"source\": [","    \"!pip install sqlalchemy==1.3.9\\n\",","    \"!pip install ibm_db_sa\\n\",","    \"!pip install ipython-sql\"","   ]","  },","  {","   \"cell_type\": \"markdown\",","   \"metadata\": {},","   \"source\": [","    \"### Connect to the database\\n\",","    \"\\n\",","    \"Let us first load the SQL extension and establish a connection with the database\\n\"","   ]","  },","  {","   \"cell_type\": \"code\",","   \"execution_count\": 3,","   \"metadata\": {},","   \"outputs\": [],","   \"source\": [","    \"%load_ext sql\"","   ]","  },","  {","   \"cell_type\": \"markdown\",","   \"metadata\": {},","   \"source\": [","    \"**DB2 magic in case of old UI service credentials.**\\n\",","    \"\\n\",","    \"In the next cell enter your db2 connection string. Recall you created Service Credentials for your Db2 instance before. From the **uri** field of your Db2 service credentials copy everything after db2:// (except the double quote at the end) and paste it in the cell below after ibm_db_sa://\\n\",","    \"\\n\",","    \"\u003cimg src =\\\"https://cf-courses-data.s3.us.cloud-object-storage.appdomain.cloud/IBMDeveloperSkillsNetwork-DB0201EN-SkillsNetwork/labs/FinalModule_edX/images/URI.jpg\\\"\u003e\\n\",","    \"\\n\",","    \"in the following format\\n\",","    \"\\n\",","    \"**%sql ibm_db_sa://my-username:my-password\\\\@my-hostname:my-port/my-db-name**\\n\",","    \"\\n\",","    \"**DB2 magic in case of new UI service credentials.**\\n\",","    \"\\n\",","    \"\u003cimg src =\\\"https://cf-courses-data.s3.us.cloud-object-storage.appdomain.cloud/IBM-DS0321EN-SkillsNetwork/labs/module_2/images/servicecredentials.png\\\" width=600\u003e  \\n\",","    \"\\n\",","    \"*   Use the following format.\\n\",","    \"\\n\",","    \"*   Add security=SSL at the end\\n\",","    \"\\n\",","    \"**%sql ibm_db_sa://my-username:my-password\\\\@my-hostname:my-port/my-db-name?security=SSL**\\n\"","   ]","  },","  {","   \"cell_type\": \"code\",","   \"execution_count\": 4,","   \"metadata\": {},","   \"outputs\": [","    {","     \"name\": \"stdout\",","     \"output_type\": \"stream\",","     \"text\": [","      \"DB2/LINUXX8664\\n\"","     ]","    }","   ],","   \"source\": [","    \"%sql ##############################\"","   ]","  },","  {","   \"cell_type\": \"code\",","   \"execution_count\": 5,","   \"metadata\": {},","   \"outputs\": [","    {","     \"name\": \"stdout\",","     \"output_type\": \"stream\",","     \"text\": [","      \" * ibm_db_sa://nxs27972:***@54a2f15b-5c0f-46df-8954-7e38e612c2bd.c1ogj3sd0tgtu0lqde00.databases.appdomain.cloud:32733/BLUDB\\n\",","      \"Done.\\n\"","     ]","    },","    {","     \"data\": {","      \"text/html\": [","       \"\u003ctable\u003e\\n\",","       \"    \u003ctr\u003e\\n\",","       \"        \u003cth\u003eDATE\u003c/th\u003e\\n\",","       \"        \u003cth\u003etime__utc_\u003c/th\u003e\\n\",","       \"        \u003cth\u003ebooster_version\u003c/th\u003e\\n\",","       \"        \u003cth\u003elaunch_site\u003c/th\u003e\\n\",","       \"        \u003cth\u003epayload\u003c/th\u003e\\n\",","       \"        \u003cth\u003epayload_mass__kg_\u003c/th\u003e\\n\",","       \"        \u003cth\u003eorbit\u003c/th\u003e\\n\",","       \"        \u003cth\u003ecustomer\u003c/th\u003e\\n\",","       \"        \u003cth\u003emission_outcome\u003c/th\u003e\\n\",","       \"        \u003cth\u003elanding__outcome\u003c/th\u003e\\n\",","       \"    \u003c/tr\u003e\\n\",","       \"    \u003ctr\u003e\\n\",","       \"        \u003ctd\u003e2010-06-04\u003c/td\u003e\\n\",","       \"        \u003ctd\u003e18:45:00\u003c/td\u003e\\n\",","       \"        \u003ctd\u003eF9 v1.0  B0003\u003c/td\u003e\\n\",","       \"        \u003ctd\u003eCCAFS LC-40\u003c/td\u003e\\n\",","       \"        \u003ctd\u003eDragon Spacecraft Qualification Unit\u003c/td\u003e\\n\",","       \"        \u003ctd\u003e0\u003c/td\u003e\\n\",","       \"        \u003ctd\u003eLEO\u003c/td\u003e\\n\",","       \"        \u003ctd\u003eSpaceX\u003c/td\u003e\\n\",","       \"        \u003ctd\u003eSuccess\u003c/td\u003e\\n\",","       \"        \u003ctd\u003eFailure (parachute)\u003c/td\u003e\\n\",","       \"    \u003c/tr\u003e\\n\",","       \"    \u003ctr\u003e\\n\",","       \"        \u003ctd\u003e2010-12-08\u003c/td\u003e\\n\",","       \"        \u003ctd\u003e15:43:00\u003c/td\u003e\\n\",","       \"        \u003ctd\u003eF9 v1.0  B0004\u003c/td\u003e\\n\",","       \"        \u003ctd\u003eCCAFS LC-40\u003c/td\u003e\\n\",","       \"        \u003ctd\u003eDragon demo flight C1, two CubeSats, barrel of Brouere cheese\u003c/td\u003e\\n\",","       \"        \u003ctd\u003e0\u003c/td\u003e\\n\",","       \"        \u003ctd\u003eLEO (ISS)\u003c/td\u003e\\n\",","       \"        \u003ctd\u003eNASA (COTS) NRO\u003c/td\u003e\\n\",","       \"        \u003ctd\u003eSuccess\u003c/td\u003e\\n\",","       \"        \u003ctd\u003eFailure (parachute)\u003c/td\u003e\\n\",","       \"    \u003c/tr\u003e\\n\",","       \"    \u003ctr\u003e\\n\",","       \"        \u003ctd\u003e2012-05-22\u003c/td\u003e\\n\",","       \"        \u003ctd\u003e07:44:00\u003c/td\u003e\\n\",","       \"        \u003ctd\u003eF9 v1.0  B0005\u003c/td\u003e\\n\",","       \"        \u003ctd\u003eCCAFS LC-40\u003c/td\u003e\\n\",","       \"        \u003ctd\u003eDragon demo flight C2\u003c/td\u003e\\n\",","       \"        \u003ctd\u003e525\u003c/td\u003e\\n\",","       \"        \u003ctd\u003eLEO (ISS)\u003c/td\u003e\\n\",","       \"        \u003ctd\u003eNASA (COTS)\u003c/td\u003e\\n\",","       \"        \u003ctd\u003eSuccess\u003c/td\u003e\\n\",","       \"        \u003ctd\u003eNo attempt\u003c/td\u003e\\n\",","       \"    \u003c/tr\u003e\\n\",","       \"    \u003ctr\u003e\\n\",","       \"        \u003ctd\u003e2012-10-08\u003c/td\u003e\\n\",","       \"        \u003ctd\u003e00:35:00\u003c/td\u003e\\n\",","       \"        \u003ctd\u003eF9 v1.0  B0006\u003c/td\u003e\\n\",","       \"        \u003ctd\u003eCCAFS LC-40\u003c/td\u003e\\n\",","       \"        \u003ctd\u003eSpaceX CRS-1\u003c/td\u003e\\n\",","       \"        \u003ctd\u003e500\u003c/td\u003e\\n\",","       \"        \u003ctd\u003eLEO (ISS)\u003c/td\u003e\\n\",","       \"        \u003ctd\u003eNASA (CRS)\u003c/td\u003e\\n\",","       \"        \u003ctd\u003eSuccess\u003c/td\u003e\\n\",","       \"        \u003ctd\u003eNo attempt\u003c/td\u003e\\n\",","       \"    \u003c/tr\u003e\\n\",","       \"    \u003ctr\u003e\\n\",","       \"        \u003ctd\u003e2013-03-01\u003c/td\u003e\\n\",","       \"        \u003ctd\u003e15:10:00\u003c/td\u003e\\n\",","       \"        \u003ctd\u003eF9 v1.0  B0007\u003c/td\u003e\\n\",","       \"        \u003ctd\u003eCCAFS LC-40\u003c/td\u003e\\n\",","       \"        \u003ctd\u003eSpaceX CRS-2\u003c/td\u003e\\n\",","       \"        \u003ctd\u003e677\u003c/td\u003e\\n\",","       \"        \u003ctd\u003eLEO (ISS)\u003c/td\u003e\\n\",","       \"        \u003ctd\u003eNASA (CRS)\u003c/td\u003e\\n\",","       \"        \u003ctd\u003eSuccess\u003c/td\u003e\\n\",","       \"        \u003ctd\u003eNo attempt\u003c/td\u003e\\n\",","       \"    \u003c/tr\u003e\\n\",","       \"    \u003ctr\u003e\\n\",","       \"        \u003ctd\u003e2013-09-29\u003c/td\u003e\\n\",","       \"        \u003ctd\u003e16:00:00\u003c/td\u003e\\n\",","       \"        \u003ctd\u003eF9 v1.1  B1003\u003c/td\u003e\\n\",","       \"        \u003ctd\u003eVAFB SLC-4E\u003c/td\u003e\\n\",","       \"        \u003ctd\u003eCASSIOPE\u003c/td\u003e\\n\",","       \"        \u003ctd\u003e500\u003c/td\u003e\\n\",","       \"        \u003ctd\u003ePolar LEO\u003c/td\u003e\\n\",","       \"        \u003ctd\u003eMDA\u003c/td\u003e\\n\",","       \"        \u003ctd\u003eSuccess\u003c/td\u003e\\n\",","       \"        \u003ctd\u003eUncontrolled (ocean)\u003c/td\u003e\\n\",","       \"    \u003c/tr\u003e\\n\",","       \"    \u003ctr\u003e\\n\",","       \"        \u003ctd\u003e2013-12-03\u003c/td\u003e\\n\",","       \"        \u003ctd\u003e22:41:00\u003c/td\u003e\\n\",","       \"        \u003ctd\u003eF9 v1.1\u003c/td\u003e\\n\",","       \"        \u003ctd\u003eCCAFS LC-40\u003c/td\u003e\\n\",","       \"        \u003ctd\u003eSES-8\u003c/td\u003e\\n\",","       \"        \u003ctd\u003e3170\u003c/td\u003e\\n\",","       \"        \u003ctd\u003eGTO\u003c/td\u003e\\n\",","       \"        \u003ctd\u003eSES\u003c/td\u003e\\n\",","       \"        \u003ctd\u003eSuccess\u003c/td\u003e\\n\",","       \"        \u003ctd\u003eNo attempt\u003c/td\u003e\\n\",","       \"    \u003c/tr\u003e\\n\",","       \"    \u003ctr\u003e\\n\",","       \"        \u003ctd\u003e2014-01-06\u003c/td\u003e\\n\",","       \"        \u003ctd\u003e22:06:00\u003c/td\u003e\\n\",","       \"        \u003ctd\u003eF9 v1.1\u003c/td\u003e\\n\",","       \"        \u003ctd\u003eCCAFS LC-40\u003c/td\u003e\\n\",","       \"        \u003ctd\u003eThaicom 6\u003c/td\u003e\\n\",","       \"        \u003ctd\u003e3325\u003c/td\u003e\\n\",","       \"        \u003ctd\u003eGTO\u003c/td\u003e\\n\",","       \"        \u003ctd\u003eThaicom\u003c/td\u003e\\n\",","       \"        \u003ctd\u003eSuccess\u003c/td\u003e\\n\",","       \"        \u003ctd\u003eNo attempt\u003c/td\u003e\\n\",","       \"    \u003c/tr\u003e\\n\",","       \"    \u003ctr\u003e\\n\",","       \"        \u003ctd\u003e2014-04-18\u003c/td\u003e\\n\",","       \"        \u003ctd\u003e19:25:00\u003c/td\u003e\\n\",","       \"        \u003ctd\u003eF9 v1.1\u003c/td\u003e\\n\",","       \"        \u003ctd\u003eCCAFS LC-40\u003c/td\u003e\\n\",","       \"        \u003ctd\u003eSpaceX CRS-3\u003c/td\u003e\\n\",","       \"        \u003ctd\u003e2296\u003c/td\u003e\\n\",","       \"        \u003ctd\u003eLEO (ISS)\u003c/td\u003e\\n\",","       \"        \u003ctd\u003eNASA (CRS)\u003c/td\u003e\\n\",","       \"        \u003ctd\u003eSuccess\u003c/td\u003e\\n\",","       \"        \u003ctd\u003eControlled (ocean)\u003c/td\u003e\\n\",","       \"    \u003c/tr\u003e\\n\",","       \"    \u003ctr\u003e\\n\",","       \"        \u003ctd\u003e2014-07-14\u003c/td\u003e\\n\",","       \"        \u003ctd\u003e15:15:00\u003c/td\u003e\\n\",","       \"        \u003ctd\u003eF9 v1.1\u003c/td\u003e\\n\",","       \"        \u003ctd\u003eCCAFS LC-40\u003c/td\u003e\\n\",","       \"        \u003ctd\u003eOG2 Mission 1  6 Orbcomm-OG2 satellites\u003c/td\u003e\\n\",","       \"        \u003ctd\u003e1316\u003c/td\u003e\\n\",","       \"        \u003ctd\u003eLEO\u003c/td\u003e\\n\",","       \"        \u003ctd\u003eOrbcomm\u003c/td\u003e\\n\",","       \"        \u003ctd\u003eSuccess\u003c/td\u003e\\n\",","       \"        \u003ctd\u003eControlled (ocean)\u003c/td\u003e\\n\",","       \"    \u003c/tr\u003e\\n\",","       \"    \u003ctr\u003e\\n\",","       \"        \u003ctd\u003e2014-08-05\u003c/td\u003e\\n\",","       \"        \u003ctd\u003e08:00:00\u003c/td\u003e\\n\",","       \"        \u003ctd\u003eF9 v1.1\u003c/td\u003e\\n\",","       \"        \u003ctd\u003eCCAFS LC-40\u003c/td\u003e\\n\",","       \"        \u003ctd\u003eAsiaSat 8\u003c/td\u003e\\n\",","       \"        \u003ctd\u003e4535\u003c/td\u003e\\n\",","       \"        \u003ctd\u003eGTO\u003c/td\u003e\\n\",","       \"        \u003ctd\u003eAsiaSat\u003c/td\u003e\\n\",","       \"        \u003ctd\u003eSuccess\u003c/td\u003e\\n\",","       \"        \u003ctd\u003eNo attempt\u003c/td\u003e\\n\",","       \"    \u003c/tr\u003e\\n\",","       \"    \u003ctr\u003e\\n\",","       \"        \u003ctd\u003e2014-09-07\u003c/td\u003e\\n\",","       \"        \u003ctd\u003e05:00:00\u003c/td\u003e\\n\",","       \"        \u003ctd\u003eF9 v1.1 B1011\u003c/td\u003e\\n\",","       \"        \u003ctd\u003eCCAFS LC-40\u003c/td\u003e\\n\",","       \"        \u003ctd\u003eAsiaSat 6\u003c/td\u003e\\n\",","       \"        \u003ctd\u003e4428\u003c/td\u003e\\n\",","       \"        \u003ctd\u003eGTO\u003c/td\u003e\\n\",","       \"        \u003ctd\u003eAsiaSat\u003c/td\u003e\\n\",","       \"        \u003ctd\u003eSuccess\u003c/td\u003e\\n\",","       \"        \u003ctd\u003eNo attempt\u003c/td\u003e\\n\",","       \"    \u003c/tr\u003e\\n\",","       \"    \u003ctr\u003e\\n\",","       \"        \u003ctd\u003e2014-09-21\u003c/td\u003e\\n\",","       \"        \u003ctd\u003e05:52:00\u003c/td\u003e\\n\",","       \"        \u003ctd\u003eF9 v1.1 B1010\u003c/td\u003e\\n\",","       \"        \u003ctd\u003eCCAFS LC-40\u003c/td\u003e\\n\",","       \"        \u003ctd\u003eSpaceX CRS-4\u003c/td\u003e\\n\",","       \"        \u003ctd\u003e2216\u003c/td\u003e\\n\",","       \"        \u003ctd\u003eLEO (ISS)\u003c/td\u003e\\n\",","       \"        \u003ctd\u003eNASA (CRS)\u003c/td\u003e\\n\",","       \"        \u003ctd\u003eSuccess\u003c/td\u003e\\n\",","       \"        \u003ctd\u003eUncontrolled (ocean)\u003c/td\u003e\\n\",","       \"    \u003c/tr\u003e\\n\",","       \"    \u003ctr\u003e\\n\",","       \"        \u003ctd\u003e2015-01-10\u003c/td\u003e\\n\",","       \"        \u003ctd\u003e09:47:00\u003c/td\u003e\\n\",","       \"        \u003ctd\u003eF9 v1.1 B1012\u003c/td\u003e\\n\",","       \"        \u003ctd\u003eCCAFS LC-40\u003c/td\u003e\\n\",","       \"        \u003ctd\u003eSpaceX CRS-5\u003c/td\u003e\\n\",","       \"        \u003ctd\u003e2395\u003c/td\u003e\\n\",","       \"        \u003ctd\u003eLEO (ISS)\u003c/td\u003e\\n\",","       \"        \u003ctd\u003eNASA (CRS)\u003c/td\u003e\\n\",","       \"        \u003ctd\u003eSuccess\u003c/td\u003e\\n\",","       \"        \u003ctd\u003eFailure (drone ship)\u003c/td\u003e\\n\",","       \"    \u003c/tr\u003e\\n\",","       \"    \u003ctr\u003e\\n\",","       \"        \u003ctd\u003e2015-02-11\u003c/td\u003e\\n\",","       \"        \u003ctd\u003e23:03:00\u003c/td\u003e\\n\",","       \"        \u003ctd\u003eF9 v1.1 B1013\u003c/td\u003e\\n\",","       \"        \u003ctd\u003eCCAFS LC-40\u003c/td\u003e\\n\",","       \"        \u003ctd\u003eDSCOVR\u003c/td\u003e\\n\",","       \"        \u003ctd\u003e570\u003c/td\u003e\\n\",","       \"        \u003ctd\u003eHEO\u003c/td\u003e\\n\",","       \"        \u003ctd\u003eU.S. Air Force NASA NOAA\u003c/td\u003e\\n\",","       \"        \u003ctd\u003eSuccess\u003c/td\u003e\\n\",","       \"        \u003ctd\u003eControlled (ocean)\u003c/td\u003e\\n\",","       \"    \u003c/tr\u003e\\n\",","       \"    \u003ctr\u003e\\n\",","       \"        \u003ctd\u003e2015-03-02\u003c/td\u003e\\n\",","       \"        \u003ctd\u003e03:50:00\u003c/td\u003e\\n\",","       \"        \u003ctd\u003eF9 v1.1 B1014\u003c/td\u003e\\n\",","       \"        \u003ctd\u003eCCAFS LC-40\u003c/td\u003e\\n\",","       \"        \u003ctd\u003eABS-3A Eutelsat 115 West B\u003c/td\u003e\\n\",","       \"        \u003ctd\u003e4159\u003c/td\u003e\\n\",","       \"        \u003ctd\u003eGTO\u003c/td\u003e\\n\",","       \"        \u003ctd\u003eABS Eutelsat\u003c/td\u003e\\n\",","       \"        \u003ctd\u003eSuccess\u003c/td\u003e\\n\",","       \"        \u003ctd\u003eNo attempt\u003c/td\u003e\\n\",","       \"    \u003c/tr\u003e\\n\",","       \"    \u003ctr\u003e\\n\",","       \"        \u003ctd\u003e2015-04-14\u003c/td\u003e\\n\",","       \"        \u003ctd\u003e20:10:00\u003c/td\u003e\\n\",","       \"        \u003ctd\u003eF9 v1.1 B1015\u003c/td\u003e\\n\",","       \"        \u003ctd\u003eCCAFS LC-40\u003c/td\u003e\\n\",","       \"        \u003ctd\u003eSpaceX CRS-6\u003c/td\u003e\\n\",","       \"        \u003ctd\u003e1898\u003c/td\u003e\\n\",","       \"        \u003ctd\u003eLEO (ISS)\u003c/td\u003e\\n\",","       \"        \u003ctd\u003eNASA (CRS)\u003c/td\u003e\\n\",","       \"        \u003ctd\u003eSuccess\u003c/td\u003e\\n\",","       \"        \u003ctd\u003eFailure (drone ship)\u003c/td\u003e\\n\",","       \"    \u003c/tr\u003e\\n\",","       \"    \u003ctr\u003e\\n\",","       \"        \u003ctd\u003e2015-04-27\u003c/td\u003e\\n\",","       \"        \u003ctd\u003e23:03:00\u003c/td\u003e\\n\",","       \"        \u003ctd\u003eF9 v1.1 B1016\u003c/td\u003e\\n\",","       \"        \u003ctd\u003eCCAFS LC-40\u003c/td\u003e\\n\",","       \"        \u003ctd\u003eTurkmen 52 / MonacoSAT\u003c/td\u003e\\n\",","       \"        \u003ctd\u003e4707\u003c/td\u003e\\n\",","       \"        \u003ctd\u003eGTO\u003c/td\u003e\\n\",","       \"        \u003ctd\u003eTurkmenistan National Space Agency\u003c/td\u003e\\n\",","       \"        \u003ctd\u003eSuccess\u003c/td\u003e\\n\",","       \"        \u003ctd\u003eNo attempt\u003c/td\u003e\\n\",","       \"    \u003c/tr\u003e\\n\",","       \"    \u003ctr\u003e\\n\",","       \"        \u003ctd\u003e2015-06-28\u003c/td\u003e\\n\",","       \"        \u003ctd\u003e14:21:00\u003c/td\u003e\\n\",","       \"        \u003ctd\u003eF9 v1.1 B1018\u003c/td\u003e\\n\",","       \"        \u003ctd\u003eCCAFS LC-40\u003c/td\u003e\\n\",","       \"        \u003ctd\u003eSpaceX CRS-7\u003c/td\u003e\\n\",","       \"        \u003ctd\u003e1952\u003c/td\u003e\\n\",","       \"        \u003ctd\u003eLEO (ISS)\u003c/td\u003e\\n\",","       \"        \u003ctd\u003eNASA (CRS)\u003c/td\u003e\\n\",","       \"        \u003ctd\u003eFailure (in flight)\u003c/td\u003e\\n\",","       \"        \u003ctd\u003ePrecluded (drone ship)\u003c/td\u003e\\n\",","       \"    \u003c/tr\u003e\\n\",","       \"    \u003ctr\u003e\\n\",","       \"        \u003ctd\u003e2015-12-22\u003c/td\u003e\\n\",","       \"        \u003ctd\u003e01:29:00\u003c/td\u003e\\n\",","       \"        \u003ctd\u003eF9 FT B1019\u003c/td\u003e\\n\",","       \"        \u003ctd\u003eCCAFS LC-40\u003c/td\u003e\\n\",","       \"        \u003ctd\u003eOG2 Mission 2  11 Orbcomm-OG2 satellites\u003c/td\u003e\\n\",","       \"        \u003ctd\u003e2034\u003c/td\u003e\\n\",","       \"        \u003ctd\u003eLEO\u003c/td\u003e\\n\",","       \"        \u003ctd\u003eOrbcomm\u003c/td\u003e\\n\",","       \"        \u003ctd\u003eSuccess\u003c/td\u003e\\n\",","       \"        \u003ctd\u003eSuccess (ground pad)\u003c/td\u003e\\n\",","       \"    \u003c/tr\u003e\\n\",","       \"    \u003ctr\u003e\\n\",","       \"        \u003ctd\u003e2016-01-17\u003c/td\u003e\\n\",","       \"        \u003ctd\u003e18:42:00\u003c/td\u003e\\n\",","       \"        \u003ctd\u003eF9 v1.1 B1017\u003c/td\u003e\\n\",","       \"        \u003ctd\u003eVAFB SLC-4E\u003c/td\u003e\\n\",","       \"        \u003ctd\u003eJason-3\u003c/td\u003e\\n\",","       \"        \u003ctd\u003e553\u003c/td\u003e\\n\",","       \"        \u003ctd\u003eLEO\u003c/td\u003e\\n\",","       \"        \u003ctd\u003eNASA (LSP) NOAA CNES\u003c/td\u003e\\n\",","       \"        \u003ctd\u003eSuccess\u003c/td\u003e\\n\",","       \"        \u003ctd\u003eFailure (drone ship)\u003c/td\u003e\\n\",","       \"    \u003c/tr\u003e\\n\",","       \"    \u003ctr\u003e\\n\",","       \"        \u003ctd\u003e2016-03-04\u003c/td\u003e\\n\",","       \"        \u003ctd\u003e23:35:00\u003c/td\u003e\\n\",","       \"        \u003ctd\u003eF9 FT B1020\u003c/td\u003e\\n\",","       \"        \u003ctd\u003eCCAFS LC-40\u003c/td\u003e\\n\",","       \"        \u003ctd\u003eSES-9\u003c/td\u003e\\n\",","       \"        \u003ctd\u003e5271\u003c/td\u003e\\n\",","       \"        \u003ctd\u003eGTO\u003c/td\u003e\\n\",","       \"        \u003ctd\u003eSES\u003c/td\u003e\\n\",","       \"        \u003ctd\u003eSuccess\u003c/td\u003e\\n\",","       \"        \u003ctd\u003eFailure (drone ship)\u003c/td\u003e\\n\",","       \"    \u003c/tr\u003e\\n\",","       \"    \u003ctr\u003e\\n\",","       \"        \u003ctd\u003e2016-04-08\u003c/td\u003e\\n\",","       \"        \u003ctd\u003e20:43:00\u003c/td\u003e\\n\",","       \"        \u003ctd\u003eF9 FT B1021.1\u003c/td\u003e\\n\",","       \"        \u003ctd\u003eCCAFS LC-40\u003c/td\u003e\\n\",","       \"        \u003ctd\u003eSpaceX CRS-8\u003c/td\u003e\\n\",","       \"        \u003ctd\u003e3136\u003c/td\u003e\\n\",","       \"        \u003ctd\u003eLEO (ISS)\u003c/td\u003e\\n\",","       \"        \u003ctd\u003eNASA (CRS)\u003c/td\u003e\\n\",","       \"        \u003ctd\u003eSuccess\u003c/td\u003e\\n\",","       \"        \u003ctd\u003eSuccess (drone ship)\u003c/td\u003e\\n\",","       \"    \u003c/tr\u003e\\n\",","       \"    \u003ctr\u003e\\n\",","       \"        \u003ctd\u003e2016-05-06\u003c/td\u003e\\n\",","       \"        \u003ctd\u003e05:21:00\u003c/td\u003e\\n\",","       \"        \u003ctd\u003eF9 FT B1022\u003c/td\u003e\\n\",","       \"        \u003ctd\u003eCCAFS LC-40\u003c/td\u003e\\n\",","       \"        \u003ctd\u003eJCSAT-14\u003c/td\u003e\\n\",","       \"        \u003ctd\u003e4696\u003c/td\u003e\\n\",","       \"        \u003ctd\u003eGTO\u003c/td\u003e\\n\",","       \"        \u003ctd\u003eSKY Perfect JSAT Group\u003c/td\u003e\\n\",","       \"        \u003ctd\u003eSuccess\u003c/td\u003e\\n\",","       \"        \u003ctd\u003eSuccess (drone ship)\u003c/td\u003e\\n\",","       \"    \u003c/tr\u003e\\n\",","       \"    \u003ctr\u003e\\n\",","       \"        \u003ctd\u003e2016-05-27\u003c/td\u003e\\n\",","       \"        \u003ctd\u003e21:39:00\u003c/td\u003e\\n\",","       \"        \u003ctd\u003eF9 FT B1023.1\u003c/td\u003e\\n\",","       \"        \u003ctd\u003eCCAFS LC-40\u003c/td\u003e\\n\",","       \"        \u003ctd\u003eThaicom 8\u003c/td\u003e\\n\",","       \"        \u003ctd\u003e3100\u003c/td\u003e\\n\",","       \"        \u003ctd\u003eGTO\u003c/td\u003e\\n\",","       \"        \u003ctd\u003eThaicom\u003c/td\u003e\\n\",","       \"        \u003ctd\u003eSuccess\u003c/td\u003e\\n\",","       \"        \u003ctd\u003eSuccess (drone ship)\u003c/td\u003e\\n\",","       \"    \u003c/tr\u003e\\n\",","       \"    \u003ctr\u003e\\n\",","       \"        \u003ctd\u003e2016-06-15\u003c/td\u003e\\n\",","       \"        \u003ctd\u003e14:29:00\u003c/td\u003e\\n\",","       \"        \u003ctd\u003eF9 FT B1024\u003c/td\u003e\\n\",","       \"        \u003ctd\u003eCCAFS LC-40\u003c/td\u003e\\n\",","       \"        \u003ctd\u003eABS-2A Eutelsat 117 West B\u003c/td\u003e\\n\",","       \"        \u003ctd\u003e3600\u003c/td\u003e\\n\",","       \"        \u003ctd\u003eGTO\u003c/td\u003e\\n\",","       \"        \u003ctd\u003eABS Eutelsat\u003c/td\u003e\\n\",","       \"        \u003ctd\u003eSuccess\u003c/td\u003e\\n\",","       \"        \u003ctd\u003eFailure (drone ship)\u003c/td\u003e\\n\",","       \"    \u003c/tr\u003e\\n\",","       \"    \u003ctr\u003e\\n\",","       \"        \u003ctd\u003e2016-07-18\u003c/td\u003e\\n\",","       \"        \u003ctd\u003e04:45:00\u003c/td\u003e\\n\",","       \"        \u003ctd\u003eF9 FT B1025.1\u003c/td\u003e\\n\",","       \"        \u003ctd\u003eCCAFS LC-40\u003c/td\u003e\\n\",","       \"        \u003ctd\u003eSpaceX CRS-9\u003c/td\u003e\\n\",","       \"        \u003ctd\u003e2257\u003c/td\u003e\\n\",","       \"        \u003ctd\u003eLEO (ISS)\u003c/td\u003e\\n\",","       \"        \u003ctd\u003eNASA (CRS)\u003c/td\u003e\\n\",","       \"        \u003ctd\u003eSuccess\u003c/td\u003e\\n\",","       \"        \u003ctd\u003eSuccess (ground pad)\u003c/td\u003e\\n\",","       \"    \u003c/tr\u003e\\n\",","       \"    \u003ctr\u003e\\n\",","       \"        \u003ctd\u003e2016-08-14\u003c/td\u003e\\n\",","       \"        \u003ctd\u003e05:26:00\u003c/td\u003e\\n\",","       \"        \u003ctd\u003eF9 FT B1026\u003c/td\u003e\\n\",","       \"        \u003ctd\u003eCCAFS LC-40\u003c/td\u003e\\n\",","       \"        \u003ctd\u003eJCSAT-16\u003c/td\u003e\\n\",","       \"        \u003ctd\u003e4600\u003c/td\u003e\\n\",","       \"        \u003ctd\u003eGTO\u003c/td\u003e\\n\",","       \"        \u003ctd\u003eSKY Perfect JSAT Group\u003c/td\u003e\\n\",","       \"        \u003ctd\u003eSuccess\u003c/td\u003e\\n\",","       \"        \u003ctd\u003eSuccess (drone ship)\u003c/td\u003e\\n\",","       \"    \u003c/tr\u003e\\n\",","       \"    \u003ctr\u003e\\n\",","       \"        \u003ctd\u003e2017-01-14\u003c/td\u003e\\n\",","       \"        \u003ctd\u003e17:54:00\u003c/td\u003e\\n\",","       \"        \u003ctd\u003eF9 FT B1029.1\u003c/td\u003e\\n\",","       \"        \u003ctd\u003eVAFB SLC-4E\u003c/td\u003e\\n\",","       \"        \u003ctd\u003eIridium NEXT 1\u003c/td\u003e\\n\",","       \"        \u003ctd\u003e9600\u003c/td\u003e\\n\",","       \"        \u003ctd\u003ePolar LEO\u003c/td\u003e\\n\",","       \"        \u003ctd\u003eIridium Communications\u003c/td\u003e\\n\",","       \"        \u003ctd\u003eSuccess\u003c/td\u003e\\n\",","       \"        \u003ctd\u003eSuccess (drone ship)\u003c/td\u003e\\n\",","       \"    \u003c/tr\u003e\\n\",","       \"    \u003ctr\u003e\\n\",","       \"        \u003ctd\u003e2017-02-19\u003c/td\u003e\\n\",","       \"        \u003ctd\u003e14:39:00\u003c/td\u003e\\n\",","       \"        \u003ctd\u003eF9 FT B1031.1\u003c/td\u003e\\n\",","       \"        \u003ctd\u003eKSC LC-39A\u003c/td\u003e\\n\",","       \"        \u003ctd\u003eSpaceX CRS-10\u003c/td\u003e\\n\",","       \"        \u003ctd\u003e2490\u003c/td\u003e\\n\",","       \"        \u003ctd\u003eLEO (ISS)\u003c/td\u003e\\n\",","       \"        \u003ctd\u003eNASA (CRS)\u003c/td\u003e\\n\",","       \"        \u003ctd\u003eSuccess\u003c/td\u003e\\n\",","       \"        \u003ctd\u003eSuccess (ground pad)\u003c/td\u003e\\n\",","       \"    \u003c/tr\u003e\\n\",","       \"    \u003ctr\u003e\\n\",","       \"        \u003ctd\u003e2017-03-16\u003c/td\u003e\\n\",","       \"        \u003ctd\u003e06:00:00\u003c/td\u003e\\n\",","       \"        \u003ctd\u003eF9 FT B1030\u003c/td\u003e\\n\",","       \"        \u003ctd\u003eKSC LC-39A\u003c/td\u003e\\n\",","       \"        \u003ctd\u003eEchoStar 23\u003c/td\u003e\\n\",","       \"        \u003ctd\u003e5600\u003c/td\u003e\\n\",","       \"        \u003ctd\u003eGTO\u003c/td\u003e\\n\",","       \"        \u003ctd\u003eEchoStar\u003c/td\u003e\\n\",","       \"        \u003ctd\u003eSuccess\u003c/td\u003e\\n\",","       \"        \u003ctd\u003eNo attempt\u003c/td\u003e\\n\",","       \"    \u003c/tr\u003e\\n\",","       \"    \u003ctr\u003e\\n\",","       \"        \u003ctd\u003e2017-03-30\u003c/td\u003e\\n\",","       \"        \u003ctd\u003e22:27:00\u003c/td\u003e\\n\",","       \"        \u003ctd\u003eF9 FT  B1021.2\u003c/td\u003e\\n\",","       \"        \u003ctd\u003eKSC LC-39A\u003c/td\u003e\\n\",","       \"        \u003ctd\u003eSES-10\u003c/td\u003e\\n\",","       \"        \u003ctd\u003e5300\u003c/td\u003e\\n\",","       \"        \u003ctd\u003eGTO\u003c/td\u003e\\n\",","       \"        \u003ctd\u003eSES\u003c/td\u003e\\n\",","       \"        \u003ctd\u003eSuccess\u003c/td\u003e\\n\",","       \"        \u003ctd\u003eSuccess (drone ship)\u003c/td\u003e\\n\",","       \"    \u003c/tr\u003e\\n\",","       \"    \u003ctr\u003e\\n\",","       \"        \u003ctd\u003e2017-05-01\u003c/td\u003e\\n\",","       \"        \u003ctd\u003e11:15:00\u003c/td\u003e\\n\",","       \"        \u003ctd\u003eF9 FT B1032.1\u003c/td\u003e\\n\",","       \"        \u003ctd\u003eKSC LC-39A\u003c/td\u003e\\n\",","       \"        \u003ctd\u003eNROL-76\u003c/td\u003e\\n\",","       \"        \u003ctd\u003e5300\u003c/td\u003e\\n\",","       \"        \u003ctd\u003eLEO\u003c/td\u003e\\n\",","       \"        \u003ctd\u003eNRO\u003c/td\u003e\\n\",","       \"        \u003ctd\u003eSuccess\u003c/td\u003e\\n\",","       \"        \u003ctd\u003eSuccess (ground pad)\u003c/td\u003e\\n\",","       \"    \u003c/tr\u003e\\n\",","       \"    \u003ctr\u003e\\n\",","       \"        \u003ctd\u003e2017-05-15\u003c/td\u003e\\n\",","       \"        \u003ctd\u003e23:21:00\u003c/td\u003e\\n\",","       \"        \u003ctd\u003eF9 FT B1034\u003c/td\u003e\\n\",","       \"        \u003ctd\u003eKSC LC-39A\u003c/td\u003e\\n\",","       \"        \u003ctd\u003eInmarsat-5 F4\u003c/td\u003e\\n\",","       \"        \u003ctd\u003e6070\u003c/td\u003e\\n\",","       \"        \u003ctd\u003eGTO\u003c/td\u003e\\n\",","       \"        \u003ctd\u003eInmarsat\u003c/td\u003e\\n\",","       \"        \u003ctd\u003eSuccess\u003c/td\u003e\\n\",","       \"        \u003ctd\u003eNo attempt\u003c/td\u003e\\n\",","       \"    \u003c/tr\u003e\\n\",","       \"    \u003ctr\u003e\\n\",","       \"        \u003ctd\u003e2017-06-03\u003c/td\u003e\\n\",","       \"        \u003ctd\u003e21:07:00\u003c/td\u003e\\n\",","       \"        \u003ctd\u003eF9 FT B1035.1\u003c/td\u003e\\n\",","       \"        \u003ctd\u003eKSC LC-39A\u003c/td\u003e\\n\",","       \"        \u003ctd\u003eSpaceX CRS-11\u003c/td\u003e\\n\",","       \"        \u003ctd\u003e2708\u003c/td\u003e\\n\",","       \"        \u003ctd\u003eLEO (ISS)\u003c/td\u003e\\n\",","       \"        \u003ctd\u003eNASA (CRS)\u003c/td\u003e\\n\",","       \"        \u003ctd\u003eSuccess\u003c/td\u003e\\n\",","       \"        \u003ctd\u003eSuccess (ground pad)\u003c/td\u003e\\n\",","       \"    \u003c/tr\u003e\\n\",","       \"    \u003ctr\u003e\\n\",","       \"        \u003ctd\u003e2017-06-23\u003c/td\u003e\\n\",","       \"        \u003ctd\u003e19:10:00\u003c/td\u003e\\n\",","       \"        \u003ctd\u003eF9 FT  B1029.2\u003c/td\u003e\\n\",","       \"        \u003ctd\u003eKSC LC-39A\u003c/td\u003e\\n\",","       \"        \u003ctd\u003eBulgariaSat-1\u003c/td\u003e\\n\",","       \"        \u003ctd\u003e3669\u003c/td\u003e\\n\",","       \"        \u003ctd\u003eGTO\u003c/td\u003e\\n\",","       \"        \u003ctd\u003eBulsatcom\u003c/td\u003e\\n\",","       \"        \u003ctd\u003eSuccess\u003c/td\u003e\\n\",","       \"        \u003ctd\u003eSuccess (drone ship)\u003c/td\u003e\\n\",","       \"    \u003c/tr\u003e\\n\",","       \"    \u003ctr\u003e\\n\",","       \"        \u003ctd\u003e2017-06-25\u003c/td\u003e\\n\",","       \"        \u003ctd\u003e20:25:00\u003c/td\u003e\\n\",","       \"        \u003ctd\u003eF9 FT B1036.1\u003c/td\u003e\\n\",","       \"        \u003ctd\u003eVAFB SLC-4E\u003c/td\u003e\\n\",","       \"        \u003ctd\u003eIridium NEXT 2\u003c/td\u003e\\n\",","       \"        \u003ctd\u003e9600\u003c/td\u003e\\n\",","       \"        \u003ctd\u003eLEO\u003c/td\u003e\\n\",","       \"        \u003ctd\u003eIridium Communications\u003c/td\u003e\\n\",","       \"        \u003ctd\u003eSuccess\u003c/td\u003e\\n\",","       \"        \u003ctd\u003eSuccess (drone ship)\u003c/td\u003e\\n\",","       \"    \u003c/tr\u003e\\n\",","       \"    \u003ctr\u003e\\n\",","       \"        \u003ctd\u003e2017-07-05\u003c/td\u003e\\n\",","       \"        \u003ctd\u003e23:38:00\u003c/td\u003e\\n\",","       \"        \u003ctd\u003eF9 FT B1037\u003c/td\u003e\\n\",","       \"        \u003ctd\u003eKSC LC-39A\u003c/td\u003e\\n\",","       \"        \u003ctd\u003eIntelsat 35e\u003c/td\u003e\\n\",","       \"        \u003ctd\u003e6761\u003c/td\u003e\\n\",","       \"        \u003ctd\u003eGTO\u003c/td\u003e\\n\",","       \"        \u003ctd\u003eIntelsat\u003c/td\u003e\\n\",","       \"        \u003ctd\u003eSuccess\u003c/td\u003e\\n\",","       \"        \u003ctd\u003eNo attempt\u003c/td\u003e\\n\",","       \"    \u003c/tr\u003e\\n\",","       \"    \u003ctr\u003e\\n\",","       \"        \u003ctd\u003e2017-08-14\u003c/td\u003e\\n\",","       \"        \u003ctd\u003e16:31:00\u003c/td\u003e\\n\",","       \"        \u003ctd\u003eF9 B4 B1039.1\u003c/td\u003e\\n\",","       \"        \u003ctd\u003eKSC LC-39A\u003c/td\u003e\\n\",","       \"        \u003ctd\u003eSpaceX CRS-12\u003c/td\u003e\\n\",","       \"        \u003ctd\u003e3310\u003c/td\u003e\\n\",","       \"        \u003ctd\u003eLEO (ISS)\u003c/td\u003e\\n\",","       \"        \u003ctd\u003eNASA (CRS)\u003c/td\u003e\\n\",","       \"        \u003ctd\u003eSuccess\u003c/td\u003e\\n\",","       \"        \u003ctd\u003eSuccess (ground pad)\u003c/td\u003e\\n\",","       \"    \u003c/tr\u003e\\n\",","       \"    \u003ctr\u003e\\n\",","       \"        \u003ctd\u003e2017-08-24\u003c/td\u003e\\n\",","       \"        \u003ctd\u003e18:51:00\u003c/td\u003e\\n\",","       \"        \u003ctd\u003eF9 FT B1038.1\u003c/td\u003e\\n\",","       \"        \u003ctd\u003eVAFB SLC-4E\u003c/td\u003e\\n\",","       \"        \u003ctd\u003eFormosat-5\u003c/td\u003e\\n\",","       \"        \u003ctd\u003e475\u003c/td\u003e\\n\",","       \"        \u003ctd\u003eSSO\u003c/td\u003e\\n\",","       \"        \u003ctd\u003eNSPO\u003c/td\u003e\\n\",","       \"        \u003ctd\u003eSuccess\u003c/td\u003e\\n\",","       \"        \u003ctd\u003eSuccess (drone ship)\u003c/td\u003e\\n\",","       \"    \u003c/tr\u003e\\n\",","       \"    \u003ctr\u003e\\n\",","       \"        \u003ctd\u003e2017-09-07\u003c/td\u003e\\n\",","       \"        \u003ctd\u003e14:00:00\u003c/td\u003e\\n\",","       \"        \u003ctd\u003eF9 B4 B1040.1\u003c/td\u003e\\n\",","       \"        \u003ctd\u003eKSC LC-39A\u003c/td\u003e\\n\",","       \"        \u003ctd\u003eBoeing X-37B OTV-5\u003c/td\u003e\\n\",","       \"        \u003ctd\u003e4990\u003c/td\u003e\\n\",","       \"        \u003ctd\u003eLEO\u003c/td\u003e\\n\",","       \"        \u003ctd\u003eU.S. Air Force\u003c/td\u003e\\n\",","       \"        \u003ctd\u003eSuccess\u003c/td\u003e\\n\",","       \"        \u003ctd\u003eSuccess (ground pad)\u003c/td\u003e\\n\",","       \"    \u003c/tr\u003e\\n\",","       \"    \u003ctr\u003e\\n\",","       \"        \u003ctd\u003e2017-10-09\u003c/td\u003e\\n\",","       \"        \u003ctd\u003e12:37:00\u003c/td\u003e\\n\",","       \"        \u003ctd\u003eF9 B4 B1041.1\u003c/td\u003e\\n\",","       \"        \u003ctd\u003eVAFB SLC-4E\u003c/td\u003e\\n\",","       \"        \u003ctd\u003eIridium NEXT 3\u003c/td\u003e\\n\",","       \"        \u003ctd\u003e9600\u003c/td\u003e\\n\",","       \"        \u003ctd\u003ePolar LEO\u003c/td\u003e\\n\",","       \"        \u003ctd\u003eIridium Communications\u003c/td\u003e\\n\",","       \"        \u003ctd\u003eSuccess\u003c/td\u003e\\n\",","       \"        \u003ctd\u003eSuccess (drone ship)\u003c/td\u003e\\n\",","       \"    \u003c/tr\u003e\\n\",","       \"    \u003ctr\u003e\\n\",","       \"        \u003ctd\u003e2017-10-11\u003c/td\u003e\\n\",","       \"        \u003ctd\u003e22:53:00\u003c/td\u003e\\n\",","       \"        \u003ctd\u003eF9 FT  B1031.2\u003c/td\u003e\\n\",","       \"        \u003ctd\u003eKSC LC-39A\u003c/td\u003e\\n\",","       \"        \u003ctd\u003eSES-11 / EchoStar 105\u003c/td\u003e\\n\",","       \"        \u003ctd\u003e5200\u003c/td\u003e\\n\",","       \"        \u003ctd\u003eGTO\u003c/td\u003e\\n\",","       \"        \u003ctd\u003eSES EchoStar\u003c/td\u003e\\n\",","       \"        \u003ctd\u003eSuccess\u003c/td\u003e\\n\",","       \"        \u003ctd\u003eSuccess (drone ship)\u003c/td\u003e\\n\",","       \"    \u003c/tr\u003e\\n\",","       \"    \u003ctr\u003e\\n\",","       \"        \u003ctd\u003e2017-10-30\u003c/td\u003e\\n\",","       \"        \u003ctd\u003e19:34:00\u003c/td\u003e\\n\",","       \"        \u003ctd\u003eF9 B4 B1042.1\u003c/td\u003e\\n\",","       \"        \u003ctd\u003eKSC LC-39A\u003c/td\u003e\\n\",","       \"        \u003ctd\u003eKoreasat 5A\u003c/td\u003e\\n\",","       \"        \u003ctd\u003e3500\u003c/td\u003e\\n\",","       \"        \u003ctd\u003eGTO\u003c/td\u003e\\n\",","       \"        \u003ctd\u003eKT Corporation\u003c/td\u003e\\n\",","       \"        \u003ctd\u003eSuccess\u003c/td\u003e\\n\",","       \"        \u003ctd\u003eSuccess (drone ship)\u003c/td\u003e\\n\",","       \"    \u003c/tr\u003e\\n\",","       \"    \u003ctr\u003e\\n\",","       \"        \u003ctd\u003e2017-12-15\u003c/td\u003e\\n\",","       \"        \u003ctd\u003e15:36:00\u003c/td\u003e\\n\",","       \"        \u003ctd\u003eF9 FT  B1035.2\u003c/td\u003e\\n\",","       \"        \u003ctd\u003eCCAFS SLC-40\u003c/td\u003e\\n\",","       \"        \u003ctd\u003eSpaceX CRS-13\u003c/td\u003e\\n\",","       \"        \u003ctd\u003e2205\u003c/td\u003e\\n\",","       \"        \u003ctd\u003eLEO (ISS)\u003c/td\u003e\\n\",","       \"        \u003ctd\u003eNASA (CRS)\u003c/td\u003e\\n\",","       \"        \u003ctd\u003eSuccess\u003c/td\u003e\\n\",","       \"        \u003ctd\u003eSuccess (ground pad)\u003c/td\u003e\\n\",","       \"    \u003c/tr\u003e\\n\",","       \"    \u003ctr\u003e\\n\",","       \"        \u003ctd\u003e2017-12-23\u003c/td\u003e\\n\",","       \"        \u003ctd\u003e01:27:00\u003c/td\u003e\\n\",","       \"        \u003ctd\u003eF9 FT  B1036.2\u003c/td\u003e\\n\",","       \"        \u003ctd\u003eVAFB SLC-4E\u003c/td\u003e\\n\",","       \"        \u003ctd\u003eIridium NEXT 4\u003c/td\u003e\\n\",","       \"        \u003ctd\u003e9600\u003c/td\u003e\\n\",","       \"        \u003ctd\u003ePolar LEO\u003c/td\u003e\\n\",","       \"        \u003ctd\u003eIridium Communications\u003c/td\u003e\\n\",","       \"        \u003ctd\u003eSuccess\u003c/td\u003e\\n\",","       \"        \u003ctd\u003eControlled (ocean)\u003c/td\u003e\\n\",","       \"    \u003c/tr\u003e\\n\",","       \"    \u003ctr\u003e\\n\",","       \"        \u003ctd\u003e2018-01-08\u003c/td\u003e\\n\",","       \"        \u003ctd\u003e01:00:00\u003c/td\u003e\\n\",","       \"        \u003ctd\u003eF9 B4 B1043.1\u003c/td\u003e\\n\",","       \"        \u003ctd\u003eCCAFS SLC-40\u003c/td\u003e\\n\",","       \"        \u003ctd\u003eZuma\u003c/td\u003e\\n\",","       \"        \u003ctd\u003e5000\u003c/td\u003e\\n\",","       \"        \u003ctd\u003eLEO\u003c/td\u003e\\n\",","       \"        \u003ctd\u003eNorthrop Grumman\u003c/td\u003e\\n\",","       \"        \u003ctd\u003eSuccess (payload status unclear)\u003c/td\u003e\\n\",","       \"        \u003ctd\u003eSuccess (ground pad)\u003c/td\u003e\\n\",","       \"    \u003c/tr\u003e\\n\",","       \"    \u003ctr\u003e\\n\",","       \"        \u003ctd\u003e2018-01-31\u003c/td\u003e\\n\",","       \"        \u003ctd\u003e21:25:00\u003c/td\u003e\\n\",","       \"        \u003ctd\u003eF9 FT  B1032.2\u003c/td\u003e\\n\",","       \"        \u003ctd\u003eCCAFS SLC-40\u003c/td\u003e\\n\",","       \"        \u003ctd\u003eGovSat-1 / SES-16\u003c/td\u003e\\n\",","       \"        \u003ctd\u003e4230\u003c/td\u003e\\n\",","       \"        \u003ctd\u003eGTO\u003c/td\u003e\\n\",","       \"        \u003ctd\u003eSES\u003c/td\u003e\\n\",","       \"        \u003ctd\u003eSuccess\u003c/td\u003e\\n\",","       \"        \u003ctd\u003eControlled (ocean)\u003c/td\u003e\\n\",","       \"    \u003c/tr\u003e\\n\",","       \"    \u003ctr\u003e\\n\",","       \"        \u003ctd\u003e2018-02-22\u003c/td\u003e\\n\",","       \"        \u003ctd\u003e14:17:00\u003c/td\u003e\\n\",","       \"        \u003ctd\u003eF9 FT  B1038.2\u003c/td\u003e\\n\",","       \"        \u003ctd\u003eVAFB SLC-4E\u003c/td\u003e\\n\",","       \"        \u003ctd\u003ePaz  Tintin A \u0026amp; B\u003c/td\u003e\\n\",","       \"        \u003ctd\u003e2150\u003c/td\u003e\\n\",","       \"        \u003ctd\u003eSSO\u003c/td\u003e\\n\",","       \"        \u003ctd\u003eHisdesat exactEarth SpaceX\u003c/td\u003e\\n\",","       \"        \u003ctd\u003eSuccess\u003c/td\u003e\\n\",","       \"        \u003ctd\u003eNo attempt\u003c/td\u003e\\n\",","       \"    \u003c/tr\u003e\\n\",","       \"    \u003ctr\u003e\\n\",","       \"        \u003ctd\u003e2018-03-06\u003c/td\u003e\\n\",","       \"        \u003ctd\u003e05:33:00\u003c/td\u003e\\n\",","       \"        \u003ctd\u003eF9 B4 B1044\u003c/td\u003e\\n\",","       \"        \u003ctd\u003eCCAFS SLC-40\u003c/td\u003e\\n\",","       \"        \u003ctd\u003eHispasat 30W-6  PODSat\u003c/td\u003e\\n\",","       \"        \u003ctd\u003e6092\u003c/td\u003e\\n\",","       \"        \u003ctd\u003eGTO\u003c/td\u003e\\n\",","       \"        \u003ctd\u003eHispasat  NovaWurks\u003c/td\u003e\\n\",","       \"        \u003ctd\u003eSuccess\u003c/td\u003e\\n\",","       \"        \u003ctd\u003eNo attempt\u003c/td\u003e\\n\",","       \"    \u003c/tr\u003e\\n\",","       \"    \u003ctr\u003e\\n\",","       \"        \u003ctd\u003e2018-03-30\u003c/td\u003e\\n\",","       \"        \u003ctd\u003e14:14:00\u003c/td\u003e\\n\",","       \"        \u003ctd\u003eF9 B4  B1041.2\u003c/td\u003e\\n\",","       \"        \u003ctd\u003eVAFB SLC-4E\u003c/td\u003e\\n\",","       \"        \u003ctd\u003eIridium NEXT 5\u003c/td\u003e\\n\",","       \"        \u003ctd\u003e9600\u003c/td\u003e\\n\",","       \"        \u003ctd\u003ePolar LEO\u003c/td\u003e\\n\",","       \"        \u003ctd\u003eIridium Communications\u003c/td\u003e\\n\",","       \"        \u003ctd\u003eSuccess\u003c/td\u003e\\n\",","       \"        \u003ctd\u003eNo attempt\u003c/td\u003e\\n\",","       \"    \u003c/tr\u003e\\n\",","       \"    \u003ctr\u003e\\n\",","       \"        \u003ctd\u003e2018-04-02\u003c/td\u003e\\n\",","       \"        \u003ctd\u003e20:30:00\u003c/td\u003e\\n\",","       \"        \u003ctd\u003eF9 B4  B1039.2\u003c/td\u003e\\n\",","       \"        \u003ctd\u003eCCAFS SLC-40\u003c/td\u003e\\n\",","       \"        \u003ctd\u003eSpaceX CRS-14\u003c/td\u003e\\n\",","       \"        \u003ctd\u003e2647\u003c/td\u003e\\n\",","       \"        \u003ctd\u003eLEO (ISS)\u003c/td\u003e\\n\",","       \"        \u003ctd\u003eNASA (CRS)\u003c/td\u003e\\n\",","       \"        \u003ctd\u003eSuccess\u003c/td\u003e\\n\",","       \"        \u003ctd\u003eNo attempt\u003c/td\u003e\\n\",","       \"    \u003c/tr\u003e\\n\",","       \"    \u003ctr\u003e\\n\",","       \"        \u003ctd\u003e2018-04-18\u003c/td\u003e\\n\",","       \"        \u003ctd\u003e22:51:00\u003c/td\u003e\\n\",","       \"        \u003ctd\u003eF9 B4 B1045.1\u003c/td\u003e\\n\",","       \"        \u003ctd\u003eCCAFS SLC-40\u003c/td\u003e\\n\",","       \"        \u003ctd\u003eTransiting Exoplanet Survey Satellite (TESS)\u003c/td\u003e\\n\",","       \"        \u003ctd\u003e362\u003c/td\u003e\\n\",","       \"        \u003ctd\u003eHEO\u003c/td\u003e\\n\",","       \"        \u003ctd\u003eNASA (LSP)\u003c/td\u003e\\n\",","       \"        \u003ctd\u003eSuccess\u003c/td\u003e\\n\",","       \"        \u003ctd\u003eSuccess (drone ship)\u003c/td\u003e\\n\",","       \"    \u003c/tr\u003e\\n\",","       \"    \u003ctr\u003e\\n\",","       \"        \u003ctd\u003e2018-05-11\u003c/td\u003e\\n\",","       \"        \u003ctd\u003e20:14:00\u003c/td\u003e\\n\",","       \"        \u003ctd\u003eF9 B5  B1046.1\u003c/td\u003e\\n\",","       \"        \u003ctd\u003eKSC LC-39A\u003c/td\u003e\\n\",","       \"        \u003ctd\u003eBangabandhu-1\u003c/td\u003e\\n\",","       \"        \u003ctd\u003e3600\u003c/td\u003e\\n\",","       \"        \u003ctd\u003eGTO\u003c/td\u003e\\n\",","       \"        \u003ctd\u003eThales-Alenia/BTRC\u003c/td\u003e\\n\",","       \"        \u003ctd\u003eSuccess\u003c/td\u003e\\n\",","       \"        \u003ctd\u003eSuccess (drone ship)\u003c/td\u003e\\n\",","       \"    \u003c/tr\u003e\\n\",","       \"    \u003ctr\u003e\\n\",","       \"        \u003ctd\u003e2018-05-22\u003c/td\u003e\\n\",","       \"        \u003ctd\u003e19:47:58\u003c/td\u003e\\n\",","       \"        \u003ctd\u003eF9 B4  B1043.2\u003c/td\u003e\\n\",","       \"        \u003ctd\u003eVAFB SLC-4E\u003c/td\u003e\\n\",","       \"        \u003ctd\u003eIridium NEXT 6   GRACE-FO 1, 2\u003c/td\u003e\\n\",","       \"        \u003ctd\u003e6460\u003c/td\u003e\\n\",","       \"        \u003ctd\u003ePolar LEO\u003c/td\u003e\\n\",","       \"        \u003ctd\u003eIridium Communications GFZ ‚ NASA\u003c/td\u003e\\n\",","       \"        \u003ctd\u003eSuccess\u003c/td\u003e\\n\",","       \"        \u003ctd\u003eNo attempt\u003c/td\u003e\\n\",","       \"    \u003c/tr\u003e\\n\",","       \"    \u003ctr\u003e\\n\",","       \"        \u003ctd\u003e2018-06-04\u003c/td\u003e\\n\",","       \"        \u003ctd\u003e04:45:00\u003c/td\u003e\\n\",","       \"        \u003ctd\u003eF9 B4  B1040.2\u003c/td\u003e\\n\",","       \"        \u003ctd\u003eCCAFS SLC-40\u003c/td\u003e\\n\",","       \"        \u003ctd\u003eSES-12\u003c/td\u003e\\n\",","       \"        \u003ctd\u003e5384\u003c/td\u003e\\n\",","       \"        \u003ctd\u003eGTO\u003c/td\u003e\\n\",","       \"        \u003ctd\u003eSES\u003c/td\u003e\\n\",","       \"        \u003ctd\u003eSuccess\u003c/td\u003e\\n\",","       \"        \u003ctd\u003eNo attempt\u003c/td\u003e\\n\",","       \"    \u003c/tr\u003e\\n\",","       \"    \u003ctr\u003e\\n\",","       \"        \u003ctd\u003e2018-06-29\u003c/td\u003e\\n\",","       \"        \u003ctd\u003e09:42:00\u003c/td\u003e\\n\",","       \"        \u003ctd\u003eF9 B4 B1045.2\u003c/td\u003e\\n\",","       \"        \u003ctd\u003eCCAFS SLC-40\u003c/td\u003e\\n\",","       \"        \u003ctd\u003eSpaceX CRS-15\u003c/td\u003e\\n\",","       \"        \u003ctd\u003e2697\u003c/td\u003e\\n\",","       \"        \u003ctd\u003eLEO (ISS)\u003c/td\u003e\\n\",","       \"        \u003ctd\u003eNASA (CRS)\u003c/td\u003e\\n\",","       \"        \u003ctd\u003eSuccess\u003c/td\u003e\\n\",","       \"        \u003ctd\u003eNo attempt\u003c/td\u003e\\n\",","       \"    \u003c/tr\u003e\\n\",","       \"    \u003ctr\u003e\\n\",","       \"        \u003ctd\u003e2018-07-22\u003c/td\u003e\\n\",","       \"        \u003ctd\u003e05:50:00\u003c/td\u003e\\n\",","       \"        \u003ctd\u003eF9 B5B1047.1\u003c/td\u003e\\n\",","       \"        \u003ctd\u003eCCAFS SLC-40\u003c/td\u003e\\n\",","       \"        \u003ctd\u003eTelstar 19V\u003c/td\u003e\\n\",","       \"        \u003ctd\u003e7075\u003c/td\u003e\\n\",","       \"        \u003ctd\u003eGTO\u003c/td\u003e\\n\",","       \"        \u003ctd\u003eTelesat\u003c/td\u003e\\n\",","       \"        \u003ctd\u003eSuccess\u003c/td\u003e\\n\",","       \"        \u003ctd\u003eSuccess\u003c/td\u003e\\n\",","       \"    \u003c/tr\u003e\\n\",","       \"    \u003ctr\u003e\\n\",","       \"        \u003ctd\u003e2018-07-25\u003c/td\u003e\\n\",","       \"        \u003ctd\u003e11:39:00\u003c/td\u003e\\n\",","       \"        \u003ctd\u003eF9 B5B1048.1\u003c/td\u003e\\n\",","       \"        \u003ctd\u003eVAFB SLC-4E\u003c/td\u003e\\n\",","       \"        \u003ctd\u003eIridium NEXT-7\u003c/td\u003e\\n\",","       \"        \u003ctd\u003e9600\u003c/td\u003e\\n\",","       \"        \u003ctd\u003ePolar LEO\u003c/td\u003e\\n\",","       \"        \u003ctd\u003eIridium Communications\u003c/td\u003e\\n\",","       \"        \u003ctd\u003eSuccess\u003c/td\u003e\\n\",","       \"        \u003ctd\u003eSuccess\u003c/td\u003e\\n\",","       \"    \u003c/tr\u003e\\n\",","       \"    \u003ctr\u003e\\n\",","       \"        \u003ctd\u003e2018-08-07\u003c/td\u003e\\n\",","       \"        \u003ctd\u003e05:18:00\u003c/td\u003e\\n\",","       \"        \u003ctd\u003eF9 B5 B1046.2\u003c/td\u003e\\n\",","       \"        \u003ctd\u003eCCAFS SLC-40\u003c/td\u003e\\n\",","       \"        \u003ctd\u003eMerah Putih\u003c/td\u003e\\n\",","       \"        \u003ctd\u003e5800\u003c/td\u003e\\n\",","       \"        \u003ctd\u003eGTO\u003c/td\u003e\\n\",","       \"        \u003ctd\u003eTelkom Indonesia\u003c/td\u003e\\n\",","       \"        \u003ctd\u003eSuccess\u003c/td\u003e\\n\",","       \"        \u003ctd\u003eSuccess\u003c/td\u003e\\n\",","       \"    \u003c/tr\u003e\\n\",","       \"    \u003ctr\u003e\\n\",","       \"        \u003ctd\u003e2018-09-10\u003c/td\u003e\\n\",","       \"        \u003ctd\u003e04:45:00\u003c/td\u003e\\n\",","       \"        \u003ctd\u003eF9 B5B1049.1\u003c/td\u003e\\n\",","       \"        \u003ctd\u003eCCAFS SLC-40\u003c/td\u003e\\n\",","       \"        \u003ctd\u003eTelstar 18V / Apstar-5C\u003c/td\u003e\\n\",","       \"        \u003ctd\u003e7060\u003c/td\u003e\\n\",","       \"        \u003ctd\u003eGTO\u003c/td\u003e\\n\",","       \"        \u003ctd\u003eTelesat\u003c/td\u003e\\n\",","       \"        \u003ctd\u003eSuccess\u003c/td\u003e\\n\",","       \"        \u003ctd\u003eSuccess\u003c/td\u003e\\n\",","       \"    \u003c/tr\u003e\\n\",","       \"    \u003ctr\u003e\\n\",","       \"        \u003ctd\u003e2018-10-08\u003c/td\u003e\\n\",","       \"        \u003ctd\u003e02:22:00\u003c/td\u003e\\n\",","       \"        \u003ctd\u003eF9 B5 B1048.2\u003c/td\u003e\\n\",","       \"        \u003ctd\u003eVAFB SLC-4E\u003c/td\u003e\\n\",","       \"        \u003ctd\u003eSAOCOM 1A\u003c/td\u003e\\n\",","       \"        \u003ctd\u003e3000\u003c/td\u003e\\n\",","       \"        \u003ctd\u003eSSO\u003c/td\u003e\\n\",","       \"        \u003ctd\u003eCONAE\u003c/td\u003e\\n\",","       \"        \u003ctd\u003eSuccess\u003c/td\u003e\\n\",","       \"        \u003ctd\u003eSuccess\u003c/td\u003e\\n\",","       \"    \u003c/tr\u003e\\n\",","       \"    \u003ctr\u003e\\n\",","       \"        \u003ctd\u003e2018-11-15\u003c/td\u003e\\n\",","       \"        \u003ctd\u003e20:46:00\u003c/td\u003e\\n\",","       \"        \u003ctd\u003eF9 B5 B1047.2\u003c/td\u003e\\n\",","       \"        \u003ctd\u003eKSC LC-39A\u003c/td\u003e\\n\",","       \"        \u003ctd\u003eEs hail 2\u003c/td\u003e\\n\",","       \"        \u003ctd\u003e5300\u003c/td\u003e\\n\",","       \"        \u003ctd\u003eGTO\u003c/td\u003e\\n\",","       \"        \u003ctd\u003eEs hailSat\u003c/td\u003e\\n\",","       \"        \u003ctd\u003eSuccess\u003c/td\u003e\\n\",","       \"        \u003ctd\u003eSuccess\u003c/td\u003e\\n\",","       \"    \u003c/tr\u003e\\n\",","       \"    \u003ctr\u003e\\n\",","       \"        \u003ctd\u003e2018-12-03\u003c/td\u003e\\n\",","       \"        \u003ctd\u003e18:34:05\u003c/td\u003e\\n\",","       \"        \u003ctd\u003eF9 B5 B1046.3\u003c/td\u003e\\n\",","       \"        \u003ctd\u003eVAFB SLC-4E\u003c/td\u003e\\n\",","       \"        \u003ctd\u003eSSO-A\u003c/td\u003e\\n\",","       \"        \u003ctd\u003e4000\u003c/td\u003e\\n\",","       \"        \u003ctd\u003eSSO\u003c/td\u003e\\n\",","       \"        \u003ctd\u003eSpaceflight Industries\u003c/td\u003e\\n\",","       \"        \u003ctd\u003eSuccess\u003c/td\u003e\\n\",","       \"        \u003ctd\u003eSuccess\u003c/td\u003e\\n\",","       \"    \u003c/tr\u003e\\n\",","       \"    \u003ctr\u003e\\n\",","       \"        \u003ctd\u003e2018-12-05\u003c/td\u003e\\n\",","       \"        \u003ctd\u003e18:16:00\u003c/td\u003e\\n\",","       \"        \u003ctd\u003eF9 B5B1050\u003c/td\u003e\\n\",","       \"        \u003ctd\u003eCCAFS SLC-40\u003c/td\u003e\\n\",","       \"        \u003ctd\u003eSpaceX CRS-16\u003c/td\u003e\\n\",","       \"        \u003ctd\u003e2500\u003c/td\u003e\\n\",","       \"        \u003ctd\u003eLEO (ISS)\u003c/td\u003e\\n\",","       \"        \u003ctd\u003eNASA (CRS)\u003c/td\u003e\\n\",","       \"        \u003ctd\u003eSuccess\u003c/td\u003e\\n\",","       \"        \u003ctd\u003eFailure\u003c/td\u003e\\n\",","       \"    \u003c/tr\u003e\\n\",","       \"    \u003ctr\u003e\\n\",","       \"        \u003ctd\u003e2018-12-23\u003c/td\u003e\\n\",","       \"        \u003ctd\u003e13:51:00\u003c/td\u003e\\n\",","       \"        \u003ctd\u003eF9 B5B1054\u003c/td\u003e\\n\",","       \"        \u003ctd\u003eCCAFS SLC-40\u003c/td\u003e\\n\",","       \"        \u003ctd\u003eGPS III-01\u003c/td\u003e\\n\",","       \"        \u003ctd\u003e4400\u003c/td\u003e\\n\",","       \"        \u003ctd\u003eMEO\u003c/td\u003e\\n\",","       \"        \u003ctd\u003eUSAF\u003c/td\u003e\\n\",","       \"        \u003ctd\u003eSuccess\u003c/td\u003e\\n\",","       \"        \u003ctd\u003eNo attempt\u003c/td\u003e\\n\",","       \"    \u003c/tr\u003e\\n\",","       \"    \u003ctr\u003e\\n\",","       \"        \u003ctd\u003e2019-01-11\u003c/td\u003e\\n\",","       \"        \u003ctd\u003e15:31:00\u003c/td\u003e\\n\",","       \"        \u003ctd\u003eF9 B5 B1049.2\u003c/td\u003e\\n\",","       \"        \u003ctd\u003eVAFB SLC-4E\u003c/td\u003e\\n\",","       \"        \u003ctd\u003eIridium NEXT-8\u003c/td\u003e\\n\",","       \"        \u003ctd\u003e9600\u003c/td\u003e\\n\",","       \"        \u003ctd\u003ePolar LEO\u003c/td\u003e\\n\",","       \"        \u003ctd\u003eIridium Communications\u003c/td\u003e\\n\",","       \"        \u003ctd\u003eSuccess\u003c/td\u003e\\n\",","       \"        \u003ctd\u003eSuccess\u003c/td\u003e\\n\",","       \"    \u003c/tr\u003e\\n\",","       \"    \u003ctr\u003e\\n\",","       \"        \u003ctd\u003e2019-02-22\u003c/td\u003e\\n\",","       \"        \u003ctd\u003e01:45:00\u003c/td\u003e\\n\",","       \"        \u003ctd\u003eF9 B5 B1048.3\u003c/td\u003e\\n\",","       \"        \u003ctd\u003eCCAFS SLC-40\u003c/td\u003e\\n\",","       \"        \u003ctd\u003eNusantara Satu, Beresheet Moon lander, S5\u003c/td\u003e\\n\",","       \"        \u003ctd\u003e4850\u003c/td\u003e\\n\",","       \"        \u003ctd\u003eGTO\u003c/td\u003e\\n\",","       \"        \u003ctd\u003ePSN, SpaceIL / IAI\u003c/td\u003e\\n\",","       \"        \u003ctd\u003eSuccess\u003c/td\u003e\\n\",","       \"        \u003ctd\u003eSuccess\u003c/td\u003e\\n\",","       \"    \u003c/tr\u003e\\n\",","       \"    \u003ctr\u003e\\n\",","       \"        \u003ctd\u003e2019-03-02\u003c/td\u003e\\n\",","       \"        \u003ctd\u003e07:49:00\u003c/td\u003e\\n\",","       \"        \u003ctd\u003eF9 B5B1051.1\u003c/td\u003e\\n\",","       \"        \u003ctd\u003eKSC LC-39A\u003c/td\u003e\\n\",","       \"        \u003ctd\u003eCrew Dragon Demo-1, SpaceX CRS-17 \u003c/td\u003e\\n\",","       \"        \u003ctd\u003e12055\u003c/td\u003e\\n\",","       \"        \u003ctd\u003eLEO (ISS)\u003c/td\u003e\\n\",","       \"        \u003ctd\u003eNASA (CCD)\u003c/td\u003e\\n\",","       \"        \u003ctd\u003eSuccess\u003c/td\u003e\\n\",","       \"        \u003ctd\u003eSuccess\u003c/td\u003e\\n\",","       \"    \u003c/tr\u003e\\n\",","       \"    \u003ctr\u003e\\n\",","       \"        \u003ctd\u003e2019-05-04\u003c/td\u003e\\n\",","       \"        \u003ctd\u003e06:48:00\u003c/td\u003e\\n\",","       \"        \u003ctd\u003eF9 B5B1056.1\u003c/td\u003e\\n\",","       \"        \u003ctd\u003eCCAFS SLC-40\u003c/td\u003e\\n\",","       \"        \u003ctd\u003eSpaceX CRS-17, Starlink v0.9\u003c/td\u003e\\n\",","       \"        \u003ctd\u003e2495\u003c/td\u003e\\n\",","       \"        \u003ctd\u003eLEO (ISS)\u003c/td\u003e\\n\",","       \"        \u003ctd\u003eNASA (CRS)\u003c/td\u003e\\n\",","       \"        \u003ctd\u003eSuccess\u003c/td\u003e\\n\",","       \"        \u003ctd\u003eSuccess\u003c/td\u003e\\n\",","       \"    \u003c/tr\u003e\\n\",","       \"    \u003ctr\u003e\\n\",","       \"        \u003ctd\u003e2019-05-24\u003c/td\u003e\\n\",","       \"        \u003ctd\u003e02:30:00\u003c/td\u003e\\n\",","       \"        \u003ctd\u003eF9 B5 B1049.3\u003c/td\u003e\\n\",","       \"        \u003ctd\u003eCCAFS SLC-40\u003c/td\u003e\\n\",","       \"        \u003ctd\u003eStarlink v0.9, RADARSAT Constellation\u003c/td\u003e\\n\",","       \"        \u003ctd\u003e13620\u003c/td\u003e\\n\",","       \"        \u003ctd\u003eLEO\u003c/td\u003e\\n\",","       \"        \u003ctd\u003eSpaceX\u003c/td\u003e\\n\",","       \"        \u003ctd\u003eSuccess\u003c/td\u003e\\n\",","       \"        \u003ctd\u003eSuccess\u003c/td\u003e\\n\",","       \"    \u003c/tr\u003e\\n\",","       \"    \u003ctr\u003e\\n\",","       \"        \u003ctd\u003e2019-06-12\u003c/td\u003e\\n\",","       \"        \u003ctd\u003e14:17:00\u003c/td\u003e\\n\",","       \"        \u003ctd\u003eF9 B5 B1051.2\u003c/td\u003e\\n\",","       \"        \u003ctd\u003eVAFB SLC-4E\u003c/td\u003e\\n\",","       \"        \u003ctd\u003eRADARSAT Constellation, SpaceX CRS-18 \u003c/td\u003e\\n\",","       \"        \u003ctd\u003e4200\u003c/td\u003e\\n\",","       \"        \u003ctd\u003eSSO\u003c/td\u003e\\n\",","       \"        \u003ctd\u003eCanadian Space Agency (CSA)\u003c/td\u003e\\n\",","       \"        \u003ctd\u003eSuccess\u003c/td\u003e\\n\",","       \"        \u003ctd\u003eSuccess\u003c/td\u003e\\n\",","       \"    \u003c/tr\u003e\\n\",","       \"    \u003ctr\u003e\\n\",","       \"        \u003ctd\u003e2019-07-25\u003c/td\u003e\\n\",","       \"        \u003ctd\u003e22:01:00\u003c/td\u003e\\n\",","       \"        \u003ctd\u003eF9 B5 B1056.2\u003c/td\u003e\\n\",","       \"        \u003ctd\u003eCCAFS SLC-40\u003c/td\u003e\\n\",","       \"        \u003ctd\u003eSpaceX CRS-18, AMOS-17 \u003c/td\u003e\\n\",","       \"        \u003ctd\u003e2268\u003c/td\u003e\\n\",","       \"        \u003ctd\u003eLEO (ISS)\u003c/td\u003e\\n\",","       \"        \u003ctd\u003eNASA (CRS)\u003c/td\u003e\\n\",","       \"        \u003ctd\u003eSuccess\u003c/td\u003e\\n\",","       \"        \u003ctd\u003eSuccess\u003c/td\u003e\\n\",","       \"    \u003c/tr\u003e\\n\",","       \"    \u003ctr\u003e\\n\",","       \"        \u003ctd\u003e2019-08-06\u003c/td\u003e\\n\",","       \"        \u003ctd\u003e23:23:00\u003c/td\u003e\\n\",","       \"        \u003ctd\u003eF9 B5 B1047.3\u003c/td\u003e\\n\",","       \"        \u003ctd\u003eCCAFS SLC-40\u003c/td\u003e\\n\",","       \"        \u003ctd\u003eAMOS-17, Starlink 1 v1.0 \u003c/td\u003e\\n\",","       \"        \u003ctd\u003e6500\u003c/td\u003e\\n\",","       \"        \u003ctd\u003eGTO\u003c/td\u003e\\n\",","       \"        \u003ctd\u003eSpacecom\u003c/td\u003e\\n\",","       \"        \u003ctd\u003eSuccess\u003c/td\u003e\\n\",","       \"        \u003ctd\u003eNo attempt\u003c/td\u003e\\n\",","       \"    \u003c/tr\u003e\\n\",","       \"    \u003ctr\u003e\\n\",","       \"        \u003ctd\u003e2019-11-11\u003c/td\u003e\\n\",","       \"        \u003ctd\u003e14:56:00\u003c/td\u003e\\n\",","       \"        \u003ctd\u003eF9 B5 B1048.4\u003c/td\u003e\\n\",","       \"        \u003ctd\u003eCCAFS SLC-40\u003c/td\u003e\\n\",","       \"        \u003ctd\u003eStarlink 1 v1.0, SpaceX CRS-19 \u003c/td\u003e\\n\",","       \"        \u003ctd\u003e15600\u003c/td\u003e\\n\",","       \"        \u003ctd\u003eLEO\u003c/td\u003e\\n\",","       \"        \u003ctd\u003eSpaceX\u003c/td\u003e\\n\",","       \"        \u003ctd\u003eSuccess\u003c/td\u003e\\n\",","       \"        \u003ctd\u003eSuccess\u003c/td\u003e\\n\",","       \"    \u003c/tr\u003e\\n\",","       \"    \u003ctr\u003e\\n\",","       \"        \u003ctd\u003e2019-12-05\u003c/td\u003e\\n\",","       \"        \u003ctd\u003e17:29:00\u003c/td\u003e\\n\",","       \"        \u003ctd\u003eF9 B5B1059.1\u003c/td\u003e\\n\",","       \"        \u003ctd\u003eCCAFS SLC-40\u003c/td\u003e\\n\",","       \"        \u003ctd\u003eSpaceX CRS-19, JCSat-18 / Kacific 1 \u003c/td\u003e\\n\",","       \"        \u003ctd\u003e2617\u003c/td\u003e\\n\",","       \"        \u003ctd\u003eLEO (ISS)\u003c/td\u003e\\n\",","       \"        \u003ctd\u003eNASA (CRS), Kacific 1\u003c/td\u003e\\n\",","       \"        \u003ctd\u003eSuccess\u003c/td\u003e\\n\",","       \"        \u003ctd\u003eSuccess\u003c/td\u003e\\n\",","       \"    \u003c/tr\u003e\\n\",","       \"    \u003ctr\u003e\\n\",","       \"        \u003ctd\u003e2019-12-17\u003c/td\u003e\\n\",","       \"        \u003ctd\u003e00:10:00\u003c/td\u003e\\n\",","       \"        \u003ctd\u003eF9 B5 B1056.3\u003c/td\u003e\\n\",","       \"        \u003ctd\u003eCCAFS SLC-40\u003c/td\u003e\\n\",","       \"        \u003ctd\u003eJCSat-18 / Kacific 1, Starlink 2 v1.0 \u003c/td\u003e\\n\",","       \"        \u003ctd\u003e6956\u003c/td\u003e\\n\",","       \"        \u003ctd\u003eGTO\u003c/td\u003e\\n\",","       \"        \u003ctd\u003eSky Perfect JSAT, Kacific 1\u003c/td\u003e\\n\",","       \"        \u003ctd\u003eSuccess\u003c/td\u003e\\n\",","       \"        \u003ctd\u003eSuccess\u003c/td\u003e\\n\",","       \"    \u003c/tr\u003e\\n\",","       \"    \u003ctr\u003e\\n\",","       \"        \u003ctd\u003e2020-01-07\u003c/td\u003e\\n\",","       \"        \u003ctd\u003e02:33:00\u003c/td\u003e\\n\",","       \"        \u003ctd\u003eF9 B5 B1049.4\u003c/td\u003e\\n\",","       \"        \u003ctd\u003eCCAFS SLC-40\u003c/td\u003e\\n\",","       \"        \u003ctd\u003eStarlink 2 v1.0, Crew Dragon in-flight abort test \u003c/td\u003e\\n\",","       \"        \u003ctd\u003e15600\u003c/td\u003e\\n\",","       \"        \u003ctd\u003eLEO\u003c/td\u003e\\n\",","       \"        \u003ctd\u003eSpaceX\u003c/td\u003e\\n\",","       \"        \u003ctd\u003eSuccess\u003c/td\u003e\\n\",","       \"        \u003ctd\u003eSuccess\u003c/td\u003e\\n\",","       \"    \u003c/tr\u003e\\n\",","       \"    \u003ctr\u003e\\n\",","       \"        \u003ctd\u003e2020-01-19\u003c/td\u003e\\n\",","       \"        \u003ctd\u003e15:30:00\u003c/td\u003e\\n\",","       \"        \u003ctd\u003eF9 B5 B1046.4\u003c/td\u003e\\n\",","       \"        \u003ctd\u003eKSC LC-39A\u003c/td\u003e\\n\",","       \"        \u003ctd\u003eCrew Dragon in-flight abort test, Starlink 3 v1.0 \u003c/td\u003e\\n\",","       \"        \u003ctd\u003e12050\u003c/td\u003e\\n\",","       \"        \u003ctd\u003eSub-orbital\u003c/td\u003e\\n\",","       \"        \u003ctd\u003eNASA (CTS)\u003c/td\u003e\\n\",","       \"        \u003ctd\u003eSuccess\u003c/td\u003e\\n\",","       \"        \u003ctd\u003eNo attempt\u003c/td\u003e\\n\",","       \"    \u003c/tr\u003e\\n\",","       \"    \u003ctr\u003e\\n\",","       \"        \u003ctd\u003e2020-01-29\u003c/td\u003e\\n\",","       \"        \u003ctd\u003e14:07:00\u003c/td\u003e\\n\",","       \"        \u003ctd\u003eF9 B5 B1051.3\u003c/td\u003e\\n\",","       \"        \u003ctd\u003eCCAFS SLC-40\u003c/td\u003e\\n\",","       \"        \u003ctd\u003eStarlink 3 v1.0, Starlink 4 v1.0 \u003c/td\u003e\\n\",","       \"        \u003ctd\u003e15600\u003c/td\u003e\\n\",","       \"        \u003ctd\u003eLEO\u003c/td\u003e\\n\",","       \"        \u003ctd\u003eSpaceX\u003c/td\u003e\\n\",","       \"        \u003ctd\u003eSuccess\u003c/td\u003e\\n\",","       \"        \u003ctd\u003eSuccess\u003c/td\u003e\\n\",","       \"    \u003c/tr\u003e\\n\",","       \"    \u003ctr\u003e\\n\",","       \"        \u003ctd\u003e2020-02-17\u003c/td\u003e\\n\",","       \"        \u003ctd\u003e15:05:00\u003c/td\u003e\\n\",","       \"        \u003ctd\u003eF9 B5 B1056.4\u003c/td\u003e\\n\",","       \"        \u003ctd\u003eCCAFS SLC-40\u003c/td\u003e\\n\",","       \"        \u003ctd\u003eStarlink 4 v1.0, SpaceX CRS-20\u003c/td\u003e\\n\",","       \"        \u003ctd\u003e15600\u003c/td\u003e\\n\",","       \"        \u003ctd\u003eLEO\u003c/td\u003e\\n\",","       \"        \u003ctd\u003eSpaceX\u003c/td\u003e\\n\",","       \"        \u003ctd\u003eSuccess\u003c/td\u003e\\n\",","       \"        \u003ctd\u003eFailure\u003c/td\u003e\\n\",","       \"    \u003c/tr\u003e\\n\",","       \"    \u003ctr\u003e\\n\",","       \"        \u003ctd\u003e2020-03-07\u003c/td\u003e\\n\",","       \"        \u003ctd\u003e04:50:00\u003c/td\u003e\\n\",","       \"        \u003ctd\u003eF9 B5 B1059.2\u003c/td\u003e\\n\",","       \"        \u003ctd\u003eCCAFS SLC-40\u003c/td\u003e\\n\",","       \"        \u003ctd\u003eSpaceX CRS-20, Starlink 5 v1.0 \u003c/td\u003e\\n\",","       \"        \u003ctd\u003e1977\u003c/td\u003e\\n\",","       \"        \u003ctd\u003eLEO (ISS)\u003c/td\u003e\\n\",","       \"        \u003ctd\u003eNASA (CRS)\u003c/td\u003e\\n\",","       \"        \u003ctd\u003eSuccess\u003c/td\u003e\\n\",","       \"        \u003ctd\u003eSuccess\u003c/td\u003e\\n\",","       \"    \u003c/tr\u003e\\n\",","       \"    \u003ctr\u003e\\n\",","       \"        \u003ctd\u003e2020-03-18\u003c/td\u003e\\n\",","       \"        \u003ctd\u003e12:16:00\u003c/td\u003e\\n\",","       \"        \u003ctd\u003eF9 B5 B1048.5\u003c/td\u003e\\n\",","       \"        \u003ctd\u003eKSC LC-39A\u003c/td\u003e\\n\",","       \"        \u003ctd\u003eStarlink 5 v1.0, Starlink 6 v1.0 \u003c/td\u003e\\n\",","       \"        \u003ctd\u003e15600\u003c/td\u003e\\n\",","       \"        \u003ctd\u003eLEO\u003c/td\u003e\\n\",","       \"        \u003ctd\u003eSpaceX\u003c/td\u003e\\n\",","       \"        \u003ctd\u003eSuccess\u003c/td\u003e\\n\",","       \"        \u003ctd\u003eFailure\u003c/td\u003e\\n\",","       \"    \u003c/tr\u003e\\n\",","       \"    \u003ctr\u003e\\n\",","       \"        \u003ctd\u003e2020-04-22\u003c/td\u003e\\n\",","       \"        \u003ctd\u003e19:30:00\u003c/td\u003e\\n\",","       \"        \u003ctd\u003eF9 B5 B1051.4\u003c/td\u003e\\n\",","       \"        \u003ctd\u003eKSC LC-39A\u003c/td\u003e\\n\",","       \"        \u003ctd\u003eStarlink 6 v1.0, Crew Dragon Demo-2 \u003c/td\u003e\\n\",","       \"        \u003ctd\u003e15600\u003c/td\u003e\\n\",","       \"        \u003ctd\u003eLEO\u003c/td\u003e\\n\",","       \"        \u003ctd\u003eSpaceX\u003c/td\u003e\\n\",","       \"        \u003ctd\u003eSuccess\u003c/td\u003e\\n\",","       \"        \u003ctd\u003eSuccess\u003c/td\u003e\\n\",","       \"    \u003c/tr\u003e\\n\",","       \"    \u003ctr\u003e\\n\",","       \"        \u003ctd\u003e2020-05-30\u003c/td\u003e\\n\",","       \"        \u003ctd\u003e19:22:00\u003c/td\u003e\\n\",","       \"        \u003ctd\u003eF9 B5B1058.1\u003c/td\u003e\\n\",","       \"        \u003ctd\u003eKSC LC-39A\u003c/td\u003e\\n\",","       \"        \u003ctd\u003eCrew Dragon Demo-2, Starlink 7 v1.0 \u003c/td\u003e\\n\",","       \"        \u003ctd\u003e12530\u003c/td\u003e\\n\",","       \"        \u003ctd\u003eLEO (ISS)\u003c/td\u003e\\n\",","       \"        \u003ctd\u003eNASA (CCDev)\u003c/td\u003e\\n\",","       \"        \u003ctd\u003eSuccess\u003c/td\u003e\\n\",","       \"        \u003ctd\u003eSuccess\u003c/td\u003e\\n\",","       \"    \u003c/tr\u003e\\n\",","       \"    \u003ctr\u003e\\n\",","       \"        \u003ctd\u003e2020-06-04\u003c/td\u003e\\n\",","       \"        \u003ctd\u003e01:25:00\u003c/td\u003e\\n\",","       \"        \u003ctd\u003eF9 B5 B1049.5\u003c/td\u003e\\n\",","       \"        \u003ctd\u003eCCAFS SLC-40\u003c/td\u003e\\n\",","       \"        \u003ctd\u003eStarlink 7 v1.0, Starlink 8 v1.0\u003c/td\u003e\\n\",","       \"        \u003ctd\u003e15600\u003c/td\u003e\\n\",","       \"        \u003ctd\u003eLEO\u003c/td\u003e\\n\",","       \"        \u003ctd\u003eSpaceX, Planet Labs\u003c/td\u003e\\n\",","       \"        \u003ctd\u003eSuccess\u003c/td\u003e\\n\",","       \"        \u003ctd\u003eSuccess\u003c/td\u003e\\n\",","       \"    \u003c/tr\u003e\\n\",","       \"    \u003ctr\u003e\\n\",","       \"        \u003ctd\u003e2020-06-13\u003c/td\u003e\\n\",","       \"        \u003ctd\u003e09:21:00\u003c/td\u003e\\n\",","       \"        \u003ctd\u003eF9 B5 B1059.3\u003c/td\u003e\\n\",","       \"        \u003ctd\u003eCCAFS SLC-40\u003c/td\u003e\\n\",","       \"        \u003ctd\u003eStarlink 8 v1.0, SkySats-16, -17, -18, GPS III-03 \u003c/td\u003e\\n\",","       \"        \u003ctd\u003e15410\u003c/td\u003e\\n\",","       \"        \u003ctd\u003eLEO\u003c/td\u003e\\n\",","       \"        \u003ctd\u003eSpaceX, Planet Labs\u003c/td\u003e\\n\",","       \"        \u003ctd\u003eSuccess\u003c/td\u003e\\n\",","       \"        \u003ctd\u003eSuccess\u003c/td\u003e\\n\",","       \"    \u003c/tr\u003e\\n\",","       \"    \u003ctr\u003e\\n\",","       \"        \u003ctd\u003e2020-06-30\u003c/td\u003e\\n\",","       \"        \u003ctd\u003e20:10:46\u003c/td\u003e\\n\",","       \"        \u003ctd\u003eF9 B5B1060.1\u003c/td\u003e\\n\",","       \"        \u003ctd\u003eCCAFS SLC-40\u003c/td\u003e\\n\",","       \"        \u003ctd\u003eGPS III-03, ANASIS-II\u003c/td\u003e\\n\",","       \"        \u003ctd\u003e4311\u003c/td\u003e\\n\",","       \"        \u003ctd\u003eMEO\u003c/td\u003e\\n\",","       \"        \u003ctd\u003eU.S. Space Force\u003c/td\u003e\\n\",","       \"        \u003ctd\u003eSuccess\u003c/td\u003e\\n\",","       \"        \u003ctd\u003eSuccess\u003c/td\u003e\\n\",","       \"    \u003c/tr\u003e\\n\",","       \"    \u003ctr\u003e\\n\",","       \"        \u003ctd\u003e2020-07-20\u003c/td\u003e\\n\",","       \"        \u003ctd\u003e21:30:00\u003c/td\u003e\\n\",","       \"        \u003ctd\u003eF9 B5 B1058.2\u003c/td\u003e\\n\",","       \"        \u003ctd\u003eCCAFS SLC-40\u003c/td\u003e\\n\",","       \"        \u003ctd\u003eANASIS-II, Starlink 9 v1.0\u003c/td\u003e\\n\",","       \"        \u003ctd\u003e5500\u003c/td\u003e\\n\",","       \"        \u003ctd\u003eGTO\u003c/td\u003e\\n\",","       \"        \u003ctd\u003eRepublic of Korea Army, Spaceflight Industries (BlackSky)\u003c/td\u003e\\n\",","       \"        \u003ctd\u003eSuccess\u003c/td\u003e\\n\",","       \"        \u003ctd\u003eSuccess\u003c/td\u003e\\n\",","       \"    \u003c/tr\u003e\\n\",","       \"    \u003ctr\u003e\\n\",","       \"        \u003ctd\u003e2020-08-07\u003c/td\u003e\\n\",","       \"        \u003ctd\u003e05:12:00\u003c/td\u003e\\n\",","       \"        \u003ctd\u003eF9 B5 B1051.5\u003c/td\u003e\\n\",","       \"        \u003ctd\u003eKSC LC-39A\u003c/td\u003e\\n\",","       \"        \u003ctd\u003eStarlink 9 v1.0, SXRS-1, Starlink 10 v1.0 \u003c/td\u003e\\n\",","       \"        \u003ctd\u003e14932\u003c/td\u003e\\n\",","       \"        \u003ctd\u003eLEO\u003c/td\u003e\\n\",","       \"        \u003ctd\u003eSpaceX, Spaceflight Industries (BlackSky), Planet Labs\u003c/td\u003e\\n\",","       \"        \u003ctd\u003eSuccess\u003c/td\u003e\\n\",","       \"        \u003ctd\u003eSuccess\u003c/td\u003e\\n\",","       \"    \u003c/tr\u003e\\n\",","       \"    \u003ctr\u003e\\n\",","       \"        \u003ctd\u003e2020-08-18\u003c/td\u003e\\n\",","       \"        \u003ctd\u003e14:31:00\u003c/td\u003e\\n\",","       \"        \u003ctd\u003eF9 B5 B1049.6\u003c/td\u003e\\n\",","       \"        \u003ctd\u003eCCAFS SLC-40\u003c/td\u003e\\n\",","       \"        \u003ctd\u003eStarlink 10 v1.0, SkySat-19, -20, -21, SAOCOM 1B \u003c/td\u003e\\n\",","       \"        \u003ctd\u003e15440\u003c/td\u003e\\n\",","       \"        \u003ctd\u003eLEO\u003c/td\u003e\\n\",","       \"        \u003ctd\u003eSpaceX, Planet Labs, PlanetIQ\u003c/td\u003e\\n\",","       \"        \u003ctd\u003eSuccess\u003c/td\u003e\\n\",","       \"        \u003ctd\u003eSuccess\u003c/td\u003e\\n\",","       \"    \u003c/tr\u003e\\n\",","       \"    \u003ctr\u003e\\n\",","       \"        \u003ctd\u003e2020-08-30\u003c/td\u003e\\n\",","       \"        \u003ctd\u003e23:18:00\u003c/td\u003e\\n\",","       \"        \u003ctd\u003eF9 B5 B1059.4\u003c/td\u003e\\n\",","       \"        \u003ctd\u003eCCAFS SLC-40\u003c/td\u003e\\n\",","       \"        \u003ctd\u003eSAOCOM 1B, GNOMES 1, Tyvak-0172\u003c/td\u003e\\n\",","       \"        \u003ctd\u003e3130\u003c/td\u003e\\n\",","       \"        \u003ctd\u003eSSO\u003c/td\u003e\\n\",","       \"        \u003ctd\u003eCONAE, PlanetIQ, SpaceX\u003c/td\u003e\\n\",","       \"        \u003ctd\u003eSuccess\u003c/td\u003e\\n\",","       \"        \u003ctd\u003eSuccess\u003c/td\u003e\\n\",","       \"    \u003c/tr\u003e\\n\",","       \"    \u003ctr\u003e\\n\",","       \"        \u003ctd\u003e2020-09-03\u003c/td\u003e\\n\",","       \"        \u003ctd\u003e12:46:14\u003c/td\u003e\\n\",","       \"        \u003ctd\u003eF9 B5 B1060.2\u003c/td\u003e\\n\",","       \"        \u003ctd\u003eKSC LC-39A\u003c/td\u003e\\n\",","       \"        \u003ctd\u003eStarlink 11 v1.0, Starlink 12 v1.0 \u003c/td\u003e\\n\",","       \"        \u003ctd\u003e15600\u003c/td\u003e\\n\",","       \"        \u003ctd\u003eLEO\u003c/td\u003e\\n\",","       \"        \u003ctd\u003eSpaceX\u003c/td\u003e\\n\",","       \"        \u003ctd\u003eSuccess\u003c/td\u003e\\n\",","       \"        \u003ctd\u003eSuccess\u003c/td\u003e\\n\",","       \"    \u003c/tr\u003e\\n\",","       \"    \u003ctr\u003e\\n\",","       \"        \u003ctd\u003e2020-10-06\u003c/td\u003e\\n\",","       \"        \u003ctd\u003e11:29:34\u003c/td\u003e\\n\",","       \"        \u003ctd\u003eF9 B5 B1058.3\u003c/td\u003e\\n\",","       \"        \u003ctd\u003eKSC LC-39A\u003c/td\u003e\\n\",","       \"        \u003ctd\u003eStarlink 12 v1.0, Starlink 13 v1.0 \u003c/td\u003e\\n\",","       \"        \u003ctd\u003e15600\u003c/td\u003e\\n\",","       \"        \u003ctd\u003eLEO\u003c/td\u003e\\n\",","       \"        \u003ctd\u003eSpaceX\u003c/td\u003e\\n\",","       \"        \u003ctd\u003eSuccess\u003c/td\u003e\\n\",","       \"        \u003ctd\u003eSuccess\u003c/td\u003e\\n\",","       \"    \u003c/tr\u003e\\n\",","       \"    \u003ctr\u003e\\n\",","       \"        \u003ctd\u003e2020-10-18\u003c/td\u003e\\n\",","       \"        \u003ctd\u003e12:25:57\u003c/td\u003e\\n\",","       \"        \u003ctd\u003eF9 B5 B1051.6\u003c/td\u003e\\n\",","       \"        \u003ctd\u003eKSC LC-39A\u003c/td\u003e\\n\",","       \"        \u003ctd\u003eStarlink 13 v1.0, Starlink 14 v1.0 \u003c/td\u003e\\n\",","       \"        \u003ctd\u003e15600\u003c/td\u003e\\n\",","       \"        \u003ctd\u003eLEO\u003c/td\u003e\\n\",","       \"        \u003ctd\u003eSpaceX\u003c/td\u003e\\n\",","       \"        \u003ctd\u003eSuccess\u003c/td\u003e\\n\",","       \"        \u003ctd\u003eSuccess\u003c/td\u003e\\n\",","       \"    \u003c/tr\u003e\\n\",","       \"    \u003ctr\u003e\\n\",","       \"        \u003ctd\u003e2020-10-24\u003c/td\u003e\\n\",","       \"        \u003ctd\u003e15:31:34\u003c/td\u003e\\n\",","       \"        \u003ctd\u003eF9 B5 B1060.3\u003c/td\u003e\\n\",","       \"        \u003ctd\u003eCCAFS SLC-40\u003c/td\u003e\\n\",","       \"        \u003ctd\u003eStarlink 14 v1.0, GPS III-04  \u003c/td\u003e\\n\",","       \"        \u003ctd\u003e15600\u003c/td\u003e\\n\",","       \"        \u003ctd\u003eLEO\u003c/td\u003e\\n\",","       \"        \u003ctd\u003eSpaceX\u003c/td\u003e\\n\",","       \"        \u003ctd\u003eSuccess\u003c/td\u003e\\n\",","       \"        \u003ctd\u003eSuccess\u003c/td\u003e\\n\",","       \"    \u003c/tr\u003e\\n\",","       \"    \u003ctr\u003e\\n\",","       \"        \u003ctd\u003e2020-11-05\u003c/td\u003e\\n\",","       \"        \u003ctd\u003e23:24:23\u003c/td\u003e\\n\",","       \"        \u003ctd\u003eF9 B5B1062.1\u003c/td\u003e\\n\",","       \"        \u003ctd\u003eCCAFS SLC-40\u003c/td\u003e\\n\",","       \"        \u003ctd\u003eGPS III-04 , Crew-1\u003c/td\u003e\\n\",","       \"        \u003ctd\u003e4311\u003c/td\u003e\\n\",","       \"        \u003ctd\u003eMEO\u003c/td\u003e\\n\",","       \"        \u003ctd\u003eUSSF\u003c/td\u003e\\n\",","       \"        \u003ctd\u003eSuccess\u003c/td\u003e\\n\",","       \"        \u003ctd\u003eSuccess\u003c/td\u003e\\n\",","       \"    \u003c/tr\u003e\\n\",","       \"    \u003ctr\u003e\\n\",","       \"        \u003ctd\u003e2020-11-16\u003c/td\u003e\\n\",","       \"        \u003ctd\u003e00:27:00\u003c/td\u003e\\n\",","       \"        \u003ctd\u003eF9 B5B1061.1\u003c/td\u003e\\n\",","       \"        \u003ctd\u003eKSC LC-39A\u003c/td\u003e\\n\",","       \"        \u003ctd\u003eCrew-1, Sentinel-6 Michael Freilich \u003c/td\u003e\\n\",","       \"        \u003ctd\u003e12500\u003c/td\u003e\\n\",","       \"        \u003ctd\u003eLEO (ISS)\u003c/td\u003e\\n\",","       \"        \u003ctd\u003eNASA (CCP)\u003c/td\u003e\\n\",","       \"        \u003ctd\u003eSuccess\u003c/td\u003e\\n\",","       \"        \u003ctd\u003eSuccess\u003c/td\u003e\\n\",","       \"    \u003c/tr\u003e\\n\",","       \"    \u003ctr\u003e\\n\",","       \"        \u003ctd\u003e2020-11-21\u003c/td\u003e\\n\",","       \"        \u003ctd\u003e17:17:08\u003c/td\u003e\\n\",","       \"        \u003ctd\u003eF9 B5B1063.1\u003c/td\u003e\\n\",","       \"        \u003ctd\u003eVAFB SLC-4E\u003c/td\u003e\\n\",","       \"        \u003ctd\u003eSentinel-6 Michael Freilich, Starlink 15 v1.0 \u003c/td\u003e\\n\",","       \"        \u003ctd\u003e1192\u003c/td\u003e\\n\",","       \"        \u003ctd\u003eLEO\u003c/td\u003e\\n\",","       \"        \u003ctd\u003eNASA / NOAA / ESA / EUMETSAT\u003c/td\u003e\\n\",","       \"        \u003ctd\u003eSuccess\u003c/td\u003e\\n\",","       \"        \u003ctd\u003eSuccess\u003c/td\u003e\\n\",","       \"    \u003c/tr\u003e\\n\",","       \"    \u003ctr\u003e\\n\",","       \"        \u003ctd\u003e2020-11-25\u003c/td\u003e\\n\",","       \"        \u003ctd\u003e02:13:00\u003c/td\u003e\\n\",","       \"        \u003ctd\u003eF9 B5 B1049.7\u003c/td\u003e\\n\",","       \"        \u003ctd\u003eCCAFS SLC-40\u003c/td\u003e\\n\",","       \"        \u003ctd\u003eStarlink 15 v1.0, SpaceX CRS-21\u003c/td\u003e\\n\",","       \"        \u003ctd\u003e15600\u003c/td\u003e\\n\",","       \"        \u003ctd\u003eLEO\u003c/td\u003e\\n\",","       \"        \u003ctd\u003eSpaceX\u003c/td\u003e\\n\",","       \"        \u003ctd\u003eSuccess\u003c/td\u003e\\n\",","       \"        \u003ctd\u003eSuccess\u003c/td\u003e\\n\",","       \"    \u003c/tr\u003e\\n\",","       \"    \u003ctr\u003e\\n\",","       \"        \u003ctd\u003e2020-12-06\u003c/td\u003e\\n\",","       \"        \u003ctd\u003e16:17:08\u003c/td\u003e\\n\",","       \"        \u003ctd\u003eF9 B5 B1058.4\u003c/td\u003e\\n\",","       \"        \u003ctd\u003eKSC LC-39A\u003c/td\u003e\\n\",","       \"        \u003ctd\u003eSpaceX CRS-21\u003c/td\u003e\\n\",","       \"        \u003ctd\u003e2972\u003c/td\u003e\\n\",","       \"        \u003ctd\u003eLEO (ISS)\u003c/td\u003e\\n\",","       \"        \u003ctd\u003eNASA (CRS)\u003c/td\u003e\\n\",","       \"        \u003ctd\u003eSuccess\u003c/td\u003e\\n\",","       \"        \u003ctd\u003eSuccess\u003c/td\u003e\\n\",","       \"    \u003c/tr\u003e\\n\",","       \"\u003c/table\u003e\"","      ],","      \"text/plain\": [","       \"[(datetime.date(2010, 6, 4), datetime.time(18, 45), 'F9 v1.0  B0003', 'CCAFS LC-40', 'Dragon Spacecraft Qualification Unit', 0, 'LEO', 'SpaceX', 'Success', 'Failure (parachute)'),\\n\",","       \" (datetime.date(2010, 12, 8), datetime.time(15, 43), 'F9 v1.0  B0004', 'CCAFS LC-40', 'Dragon demo flight C1, two CubeSats, barrel of Brouere cheese', 0, 'LEO (ISS)', 'NASA (COTS) NRO', 'Success', 'Failure (parachute)'),\\n\",","       \" (datetime.date(2012, 5, 22), datetime.time(7, 44), 'F9 v1.0  B0005', 'CCAFS LC-40', 'Dragon demo flight C2', 525, 'LEO (ISS)', 'NASA (COTS)', 'Success', 'No attempt'),\\n\",","       \" (datetime.date(2012, 10, 8), datetime.time(0, 35), 'F9 v1.0  B0006', 'CCAFS LC-40', 'SpaceX CRS-1', 500, 'LEO (ISS)', 'NASA (CRS)', 'Success', 'No attempt'),\\n\",","       \" (datetime.date(2013, 3, 1), datetime.time(15, 10), 'F9 v1.0  B0007', 'CCAFS LC-40', 'SpaceX CRS-2', 677, 'LEO (ISS)', 'NASA (CRS)', 'Success', 'No attempt'),\\n\",","       \" (datetime.date(2013, 9, 29), datetime.time(16, 0), 'F9 v1.1  B1003', 'VAFB SLC-4E', 'CASSIOPE', 500, 'Polar LEO', 'MDA', 'Success', 'Uncontrolled (ocean)'),\\n\",","       \" (datetime.date(2013, 12, 3), datetime.time(22, 41), 'F9 v1.1', 'CCAFS LC-40', 'SES-8', 3170, 'GTO', 'SES', 'Success', 'No attempt'),\\n\",","       \" (datetime.date(2014, 1, 6), datetime.time(22, 6), 'F9 v1.1', 'CCAFS LC-40', 'Thaicom 6', 3325, 'GTO', 'Thaicom', 'Success', 'No attempt'),\\n\",","       \" (datetime.date(2014, 4, 18), datetime.time(19, 25), 'F9 v1.1', 'CCAFS LC-40', 'SpaceX CRS-3', 2296, 'LEO (ISS)', 'NASA (CRS)', 'Success', 'Controlled (ocean)'),\\n\",","       \" (datetime.date(2014, 7, 14), datetime.time(15, 15), 'F9 v1.1', 'CCAFS LC-40', 'OG2 Mission 1  6 Orbcomm-OG2 satellites', 1316, 'LEO', 'Orbcomm', 'Success', 'Controlled (ocean)'),\\n\",","       \" (datetime.date(2014, 8, 5), datetime.time(8, 0), 'F9 v1.1', 'CCAFS LC-40', 'AsiaSat 8', 4535, 'GTO', 'AsiaSat', 'Success', 'No attempt'),\\n\",","       \" (datetime.date(2014, 9, 7), datetime.time(5, 0), 'F9 v1.1 B1011', 'CCAFS LC-40', 'AsiaSat 6', 4428, 'GTO', 'AsiaSat', 'Success', 'No attempt'),\\n\",","       \" (datetime.date(2014, 9, 21), datetime.time(5, 52), 'F9 v1.1 B1010', 'CCAFS LC-40', 'SpaceX CRS-4', 2216, 'LEO (ISS)', 'NASA (CRS)', 'Success', 'Uncontrolled (ocean)'),\\n\",","       \" (datetime.date(2015, 1, 10), datetime.time(9, 47), 'F9 v1.1 B1012', 'CCAFS LC-40', 'SpaceX CRS-5', 2395, 'LEO (ISS)', 'NASA (CRS)', 'Success', 'Failure (drone ship)'),\\n\",","       \" (datetime.date(2015, 2, 11), datetime.time(23, 3), 'F9 v1.1 B1013', 'CCAFS LC-40', 'DSCOVR', 570, 'HEO', 'U.S. Air Force NASA NOAA', 'Success', 'Controlled (ocean)'),\\n\",","       \" (datetime.date(2015, 3, 2), datetime.time(3, 50), 'F9 v1.1 B1014', 'CCAFS LC-40', 'ABS-3A Eutelsat 115 West B', 4159, 'GTO', 'ABS Eutelsat', 'Success', 'No attempt'),\\n\",","       \" (datetime.date(2015, 4, 14), datetime.time(20, 10), 'F9 v1.1 B1015', 'CCAFS LC-40', 'SpaceX CRS-6', 1898, 'LEO (ISS)', 'NASA (CRS)', 'Success', 'Failure (drone ship)'),\\n\",","       \" (datetime.date(2015, 4, 27), datetime.time(23, 3), 'F9 v1.1 B1016', 'CCAFS LC-40', 'Turkmen 52 / MonacoSAT', 4707, 'GTO', 'Turkmenistan National Space Agency', 'Success', 'No attempt'),\\n\",","       \" (datetime.date(2015, 6, 28), datetime.time(14, 21), 'F9 v1.1 B1018', 'CCAFS LC-40', 'SpaceX CRS-7', 1952, 'LEO (ISS)', 'NASA (CRS)', 'Failure (in flight)', 'Precluded (drone ship)'),\\n\",","       \" (datetime.date(2015, 12, 22), datetime.time(1, 29), 'F9 FT B1019', 'CCAFS LC-40', 'OG2 Mission 2  11 Orbcomm-OG2 satellites', 2034, 'LEO', 'Orbcomm', 'Success', 'Success (ground pad)'),\\n\",","       \" (datetime.date(2016, 1, 17), datetime.time(18, 42), 'F9 v1.1 B1017', 'VAFB SLC-4E', 'Jason-3', 553, 'LEO', 'NASA (LSP) NOAA CNES', 'Success', 'Failure (drone ship)'),\\n\",","       \" (datetime.date(2016, 3, 4), datetime.time(23, 35), 'F9 FT B1020', 'CCAFS LC-40', 'SES-9', 5271, 'GTO', 'SES', 'Success', 'Failure (drone ship)'),\\n\",","       \" (datetime.date(2016, 4, 8), datetime.time(20, 43), 'F9 FT B1021.1', 'CCAFS LC-40', 'SpaceX CRS-8', 3136, 'LEO (ISS)', 'NASA (CRS)', 'Success', 'Success (drone ship)'),\\n\",","       \" (datetime.date(2016, 5, 6), datetime.time(5, 21), 'F9 FT B1022', 'CCAFS LC-40', 'JCSAT-14', 4696, 'GTO', 'SKY Perfect JSAT Group', 'Success', 'Success (drone ship)'),\\n\",","       \" (datetime.date(2016, 5, 27), datetime.time(21, 39), 'F9 FT B1023.1', 'CCAFS LC-40', 'Thaicom 8', 3100, 'GTO', 'Thaicom', 'Success', 'Success (drone ship)'),\\n\",","       \" (datetime.date(2016, 6, 15), datetime.time(14, 29), 'F9 FT B1024', 'CCAFS LC-40', 'ABS-2A Eutelsat 117 West B', 3600, 'GTO', 'ABS Eutelsat', 'Success', 'Failure (drone ship)'),\\n\",","       \" (datetime.date(2016, 7, 18), datetime.time(4, 45), 'F9 FT B1025.1', 'CCAFS LC-40', 'SpaceX CRS-9', 2257, 'LEO (ISS)', 'NASA (CRS)', 'Success', 'Success (ground pad)'),\\n\",","       \" (datetime.date(2016, 8, 14), datetime.time(5, 26), 'F9 FT B1026', 'CCAFS LC-40', 'JCSAT-16', 4600, 'GTO', 'SKY Perfect JSAT Group', 'Success', 'Success (drone ship)'),\\n\",","       \" (datetime.date(2017, 1, 14), datetime.time(17, 54), 'F9 FT B1029.1', 'VAFB SLC-4E', 'Iridium NEXT 1', 9600, 'Polar LEO', 'Iridium Communications', 'Success', 'Success (drone ship)'),\\n\",","       \" (datetime.date(2017, 2, 19), datetime.time(14, 39), 'F9 FT B1031.1', 'KSC LC-39A', 'SpaceX CRS-10', 2490, 'LEO (ISS)', 'NASA (CRS)', 'Success', 'Success (ground pad)'),\\n\",","       \" (datetime.date(2017, 3, 16), datetime.time(6, 0), 'F9 FT B1030', 'KSC LC-39A', 'EchoStar 23', 5600, 'GTO', 'EchoStar', 'Success', 'No attempt'),\\n\",","       \" (datetime.date(2017, 3, 30), datetime.time(22, 27), 'F9 FT  B1021.2', 'KSC LC-39A', 'SES-10', 5300, 'GTO', 'SES', 'Success', 'Success (drone ship)'),\\n\",","       \" (datetime.date(2017, 5, 1), datetime.time(11, 15), 'F9 FT B1032.1', 'KSC LC-39A', 'NROL-76', 5300, 'LEO', 'NRO', 'Success', 'Success (ground pad)'),\\n\",","       \" (datetime.date(2017, 5, 15), datetime.time(23, 21), 'F9 FT B1034', 'KSC LC-39A', 'Inmarsat-5 F4', 6070, 'GTO', 'Inmarsat', 'Success', 'No attempt'),\\n\",","       \" (datetime.date(2017, 6, 3), datetime.time(21, 7), 'F9 FT B1035.1', 'KSC LC-39A', 'SpaceX CRS-11', 2708, 'LEO (ISS)', 'NASA (CRS)', 'Success', 'Success (ground pad)'),\\n\",","       \" (datetime.date(2017, 6, 23), datetime.time(19, 10), 'F9 FT  B1029.2', 'KSC LC-39A', 'BulgariaSat-1', 3669, 'GTO', 'Bulsatcom', 'Success', 'Success (drone ship)'),\\n\",","       \" (datetime.date(2017, 6, 25), datetime.time(20, 25), 'F9 FT B1036.1', 'VAFB SLC-4E', 'Iridium NEXT 2', 9600, 'LEO', 'Iridium Communications', 'Success', 'Success (drone ship)'),\\n\",","       \" (datetime.date(2017, 7, 5), datetime.time(23, 38), 'F9 FT B1037', 'KSC LC-39A', 'Intelsat 35e', 6761, 'GTO', 'Intelsat', 'Success', 'No attempt'),\\n\",","       \" (datetime.date(2017, 8, 14), datetime.time(16, 31), 'F9 B4 B1039.1', 'KSC LC-39A', 'SpaceX CRS-12', 3310, 'LEO (ISS)', 'NASA (CRS)', 'Success', 'Success (ground pad)'),\\n\",","       \" (datetime.date(2017, 8, 24), datetime.time(18, 51), 'F9 FT B1038.1', 'VAFB SLC-4E', 'Formosat-5', 475, 'SSO', 'NSPO', 'Success', 'Success (drone ship)'),\\n\",","       \" (datetime.date(2017, 9, 7), datetime.time(14, 0), 'F9 B4 B1040.1', 'KSC LC-39A', 'Boeing X-37B OTV-5', 4990, 'LEO', 'U.S. Air Force', 'Success', 'Success (ground pad)'),\\n\",","       \" (datetime.date(2017, 10, 9), datetime.time(12, 37), 'F9 B4 B1041.1', 'VAFB SLC-4E', 'Iridium NEXT 3', 9600, 'Polar LEO', 'Iridium Communications', 'Success', 'Success (drone ship)'),\\n\",","       \" (datetime.date(2017, 10, 11), datetime.time(22, 53), 'F9 FT  B1031.2', 'KSC LC-39A', 'SES-11 / EchoStar 105', 5200, 'GTO', 'SES EchoStar', 'Success', 'Success (drone ship)'),\\n\",","       \" (datetime.date(2017, 10, 30), datetime.time(19, 34), 'F9 B4 B1042.1', 'KSC LC-39A', 'Koreasat 5A', 3500, 'GTO', 'KT Corporation', 'Success', 'Success (drone ship)'),\\n\",","       \" (datetime.date(2017, 12, 15), datetime.time(15, 36), 'F9 FT  B1035.2', 'CCAFS SLC-40', 'SpaceX CRS-13', 2205, 'LEO (ISS)', 'NASA (CRS)', 'Success', 'Success (ground pad)'),\\n\",","       \" (datetime.date(2017, 12, 23), datetime.time(1, 27), 'F9 FT  B1036.2', 'VAFB SLC-4E', 'Iridium NEXT 4', 9600, 'Polar LEO', 'Iridium Communications', 'Success', 'Controlled (ocean)'),\\n\",","       \" (datetime.date(2018, 1, 8), datetime.time(1, 0), 'F9 B4 B1043.1', 'CCAFS SLC-40', 'Zuma', 5000, 'LEO', 'Northrop Grumman', 'Success (payload status unclear)', 'Success (ground pad)'),\\n\",","       \" (datetime.date(2018, 1, 31), datetime.time(21, 25), 'F9 FT  B1032.2', 'CCAFS SLC-40', 'GovSat-1 / SES-16', 4230, 'GTO', 'SES', 'Success', 'Controlled (ocean)'),\\n\",","       \" (datetime.date(2018, 2, 22), datetime.time(14, 17), 'F9 FT  B1038.2', 'VAFB SLC-4E', 'Paz  Tintin A \u0026 B', 2150, 'SSO', 'Hisdesat exactEarth SpaceX', 'Success', 'No attempt'),\\n\",","       \" (datetime.date(2018, 3, 6), datetime.time(5, 33), 'F9 B4 B1044', 'CCAFS SLC-40', 'Hispasat 30W-6  PODSat', 6092, 'GTO', 'Hispasat  NovaWurks', 'Success', 'No attempt'),\\n\",","       \" (datetime.date(2018, 3, 30), datetime.time(14, 14), 'F9 B4  B1041.2', 'VAFB SLC-4E', 'Iridium NEXT 5', 9600, 'Polar LEO', 'Iridium Communications', 'Success', 'No attempt'),\\n\",","       \" (datetime.date(2018, 4, 2), datetime.time(20, 30), 'F9 B4  B1039.2', 'CCAFS SLC-40', 'SpaceX CRS-14', 2647, 'LEO (ISS)', 'NASA (CRS)', 'Success', 'No attempt'),\\n\",","       \" (datetime.date(2018, 4, 18), datetime.time(22, 51), 'F9 B4 B1045.1', 'CCAFS SLC-40', 'Transiting Exoplanet Survey Satellite (TESS)', 362, 'HEO', 'NASA (LSP)', 'Success', 'Success (drone ship)'),\\n\",","       \" (datetime.date(2018, 5, 11), datetime.time(20, 14), 'F9 B5  B1046.1', 'KSC LC-39A', 'Bangabandhu-1', 3600, 'GTO', 'Thales-Alenia/BTRC', 'Success', 'Success (drone ship)'),\\n\",","       \" (datetime.date(2018, 5, 22), datetime.time(19, 47, 58), 'F9 B4  B1043.2', 'VAFB SLC-4E', 'Iridium NEXT 6   GRACE-FO 1, 2', 6460, 'Polar LEO', 'Iridium Communications GFZ ‚ NASA', 'Success', 'No attempt'),\\n\",","       \" (datetime.date(2018, 6, 4), datetime.time(4, 45), 'F9 B4  B1040.2', 'CCAFS SLC-40', 'SES-12', 5384, 'GTO', 'SES', 'Success', 'No attempt'),\\n\",","       \" (datetime.date(2018, 6, 29), datetime.time(9, 42), 'F9 B4 B1045.2', 'CCAFS SLC-40', 'SpaceX CRS-15', 2697, 'LEO (ISS)', 'NASA (CRS)', 'Success', 'No attempt'),\\n\",","       \" (datetime.date(2018, 7, 22), datetime.time(5, 50), 'F9 B5B1047.1', 'CCAFS SLC-40', 'Telstar 19V', 7075, 'GTO', 'Telesat', 'Success', 'Success'),\\n\",","       \" (datetime.date(2018, 7, 25), datetime.time(11, 39), 'F9 B5B1048.1', 'VAFB SLC-4E', 'Iridium NEXT-7', 9600, 'Polar LEO', 'Iridium Communications', 'Success', 'Success'),\\n\",","       \" (datetime.date(2018, 8, 7), datetime.time(5, 18), 'F9 B5 B1046.2', 'CCAFS SLC-40', 'Merah Putih', 5800, 'GTO', 'Telkom Indonesia', 'Success', 'Success'),\\n\",","       \" (datetime.date(2018, 9, 10), datetime.time(4, 45), 'F9 B5B1049.1', 'CCAFS SLC-40', 'Telstar 18V / Apstar-5C', 7060, 'GTO', 'Telesat', 'Success', 'Success'),\\n\",","       \" (datetime.date(2018, 10, 8), datetime.time(2, 22), 'F9 B5 B1048.2', 'VAFB SLC-4E', 'SAOCOM 1A', 3000, 'SSO', 'CONAE', 'Success', 'Success'),\\n\",","       \" (datetime.date(2018, 11, 15), datetime.time(20, 46), 'F9 B5 B1047.2', 'KSC LC-39A', 'Es hail 2', 5300, 'GTO', 'Es hailSat', 'Success', 'Success'),\\n\",","       \" (datetime.date(2018, 12, 3), datetime.time(18, 34, 5), 'F9 B5 B1046.3', 'VAFB SLC-4E', 'SSO-A', 4000, 'SSO', 'Spaceflight Industries', 'Success', 'Success'),\\n\",","       \" (datetime.date(2018, 12, 5), datetime.time(18, 16), 'F9 B5B1050', 'CCAFS SLC-40', 'SpaceX CRS-16', 2500, 'LEO (ISS)', 'NASA (CRS)', 'Success', 'Failure'),\\n\",","       \" (datetime.date(2018, 12, 23), datetime.time(13, 51), 'F9 B5B1054', 'CCAFS SLC-40', 'GPS III-01', 4400, 'MEO', 'USAF', 'Success', 'No attempt'),\\n\",","       \" (datetime.date(2019, 1, 11), datetime.time(15, 31), 'F9 B5 B1049.2', 'VAFB SLC-4E', 'Iridium NEXT-8', 9600, 'Polar LEO', 'Iridium Communications', 'Success', 'Success'),\\n\",","       \" (datetime.date(2019, 2, 22), datetime.time(1, 45), 'F9 B5 B1048.3', 'CCAFS SLC-40', 'Nusantara Satu, Beresheet Moon lander, S5', 4850, 'GTO', 'PSN, SpaceIL / IAI', 'Success', 'Success'),\\n\",","       \" (datetime.date(2019, 3, 2), datetime.time(7, 49), 'F9 B5B1051.1', 'KSC LC-39A', 'Crew Dragon Demo-1, SpaceX CRS-17 ', 12055, 'LEO (ISS)', 'NASA (CCD)', 'Success', 'Success'),\\n\",","       \" (datetime.date(2019, 5, 4), datetime.time(6, 48), 'F9 B5B1056.1', 'CCAFS SLC-40', 'SpaceX CRS-17, Starlink v0.9', 2495, 'LEO (ISS)', 'NASA (CRS)', 'Success', 'Success'),\\n\",","       \" (datetime.date(2019, 5, 24), datetime.time(2, 30), 'F9 B5 B1049.3', 'CCAFS SLC-40', 'Starlink v0.9, RADARSAT Constellation', 13620, 'LEO', 'SpaceX', 'Success', 'Success'),\\n\",","       \" (datetime.date(2019, 6, 12), datetime.time(14, 17), 'F9 B5 B1051.2', 'VAFB SLC-4E', 'RADARSAT Constellation, SpaceX CRS-18 ', 4200, 'SSO', 'Canadian Space Agency (CSA)', 'Success', 'Success'),\\n\",","       \" (datetime.date(2019, 7, 25), datetime.time(22, 1), 'F9 B5 B1056.2', 'CCAFS SLC-40', 'SpaceX CRS-18, AMOS-17 ', 2268, 'LEO (ISS)', 'NASA (CRS)', 'Success', 'Success'),\\n\",","       \" (datetime.date(2019, 8, 6), datetime.time(23, 23), 'F9 B5 B1047.3', 'CCAFS SLC-40', 'AMOS-17, Starlink 1 v1.0 ', 6500, 'GTO', 'Spacecom', 'Success', 'No attempt'),\\n\",","       \" (datetime.date(2019, 11, 11), datetime.time(14, 56), 'F9 B5 B1048.4', 'CCAFS SLC-40', 'Starlink 1 v1.0, SpaceX CRS-19 ', 15600, 'LEO', 'SpaceX', 'Success', 'Success'),\\n\",","       \" (datetime.date(2019, 12, 5), datetime.time(17, 29), 'F9 B5B1059.1', 'CCAFS SLC-40', 'SpaceX CRS-19, JCSat-18 / Kacific 1 ', 2617, 'LEO (ISS)', 'NASA (CRS), Kacific 1', 'Success', 'Success'),\\n\",","       \" (datetime.date(2019, 12, 17), datetime.time(0, 10), 'F9 B5 B1056.3', 'CCAFS SLC-40', 'JCSat-18 / Kacific 1, Starlink 2 v1.0 ', 6956, 'GTO', 'Sky Perfect JSAT, Kacific 1', 'Success', 'Success'),\\n\",","       \" (datetime.date(2020, 1, 7), datetime.time(2, 33), 'F9 B5 B1049.4', 'CCAFS SLC-40', 'Starlink 2 v1.0, Crew Dragon in-flight abort test ', 15600, 'LEO', 'SpaceX', 'Success', 'Success'),\\n\",","       \" (datetime.date(2020, 1, 19), datetime.time(15, 30), 'F9 B5 B1046.4', 'KSC LC-39A', 'Crew Dragon in-flight abort test, Starlink 3 v1.0 ', 12050, 'Sub-orbital', 'NASA (CTS)', 'Success', 'No attempt'),\\n\",","       \" (datetime.date(2020, 1, 29), datetime.time(14, 7), 'F9 B5 B1051.3', 'CCAFS SLC-40', 'Starlink 3 v1.0, Starlink 4 v1.0 ', 15600, 'LEO', 'SpaceX', 'Success', 'Success'),\\n\",","       \" (datetime.date(2020, 2, 17), datetime.time(15, 5), 'F9 B5 B1056.4', 'CCAFS SLC-40', 'Starlink 4 v1.0, SpaceX CRS-20', 15600, 'LEO', 'SpaceX', 'Success', 'Failure'),\\n\",","       \" (datetime.date(2020, 3, 7), datetime.time(4, 50), 'F9 B5 B1059.2', 'CCAFS SLC-40', 'SpaceX CRS-20, Starlink 5 v1.0 ', 1977, 'LEO (ISS)', 'NASA (CRS)', 'Success', 'Success'),\\n\",","       \" (datetime.date(2020, 3, 18), datetime.time(12, 16), 'F9 B5 B1048.5', 'KSC LC-39A', 'Starlink 5 v1.0, Starlink 6 v1.0 ', 15600, 'LEO', 'SpaceX', 'Success', 'Failure'),\\n\",","       \" (datetime.date(2020, 4, 22), datetime.time(19, 30), 'F9 B5 B1051.4', 'KSC LC-39A', 'Starlink 6 v1.0, Crew Dragon Demo-2 ', 15600, 'LEO', 'SpaceX', 'Success', 'Success'),\\n\",","       \" (datetime.date(2020, 5, 30), datetime.time(19, 22), 'F9 B5B1058.1', 'KSC LC-39A', 'Crew Dragon Demo-2, Starlink 7 v1.0 ', 12530, 'LEO (ISS)', 'NASA (CCDev)', 'Success', 'Success'),\\n\",","       \" (datetime.date(2020, 6, 4), datetime.time(1, 25), 'F9 B5 B1049.5', 'CCAFS SLC-40', 'Starlink 7 v1.0, Starlink 8 v1.0', 15600, 'LEO', 'SpaceX, Planet Labs', 'Success', 'Success'),\\n\",","       \" (datetime.date(2020, 6, 13), datetime.time(9, 21), 'F9 B5 B1059.3', 'CCAFS SLC-40', 'Starlink 8 v1.0, SkySats-16, -17, -18, GPS III-03 ', 15410, 'LEO', 'SpaceX, Planet Labs', 'Success', 'Success'),\\n\",","       \" (datetime.date(2020, 6, 30), datetime.time(20, 10, 46), 'F9 B5B1060.1', 'CCAFS SLC-40', 'GPS III-03, ANASIS-II', 4311, 'MEO', 'U.S. Space Force', 'Success', 'Success'),\\n\",","       \" (datetime.date(2020, 7, 20), datetime.time(21, 30), 'F9 B5 B1058.2', 'CCAFS SLC-40', 'ANASIS-II, Starlink 9 v1.0', 5500, 'GTO', 'Republic of Korea Army, Spaceflight Industries (BlackSky)', 'Success', 'Success'),\\n\",","       \" (datetime.date(2020, 8, 7), datetime.time(5, 12), 'F9 B5 B1051.5', 'KSC LC-39A', 'Starlink 9 v1.0, SXRS-1, Starlink 10 v1.0 ', 14932, 'LEO', 'SpaceX, Spaceflight Industries (BlackSky), Planet Labs', 'Success', 'Success'),\\n\",","       \" (datetime.date(2020, 8, 18), datetime.time(14, 31), 'F9 B5 B1049.6', 'CCAFS SLC-40', 'Starlink 10 v1.0, SkySat-19, -20, -21, SAOCOM 1B ', 15440, 'LEO', 'SpaceX, Planet Labs, PlanetIQ', 'Success', 'Success'),\\n\",","       \" (datetime.date(2020, 8, 30), datetime.time(23, 18), 'F9 B5 B1059.4', 'CCAFS SLC-40', 'SAOCOM 1B, GNOMES 1, Tyvak-0172', 3130, 'SSO', 'CONAE, PlanetIQ, SpaceX', 'Success', 'Success'),\\n\",","       \" (datetime.date(2020, 9, 3), datetime.time(12, 46, 14), 'F9 B5 B1060.2', 'KSC LC-39A', 'Starlink 11 v1.0, Starlink 12 v1.0 ', 15600, 'LEO', 'SpaceX', 'Success', 'Success'),\\n\",","       \" (datetime.date(2020, 10, 6), datetime.time(11, 29, 34), 'F9 B5 B1058.3', 'KSC LC-39A', 'Starlink 12 v1.0, Starlink 13 v1.0 ', 15600, 'LEO', 'SpaceX', 'Success', 'Success'),\\n\",","       \" (datetime.date(2020, 10, 18), datetime.time(12, 25, 57), 'F9 B5 B1051.6', 'KSC LC-39A', 'Starlink 13 v1.0, Starlink 14 v1.0 ', 15600, 'LEO', 'SpaceX', 'Success', 'Success'),\\n\",","       \" (datetime.date(2020, 10, 24), datetime.time(15, 31, 34), 'F9 B5 B1060.3', 'CCAFS SLC-40', 'Starlink 14 v1.0, GPS III-04  ', 15600, 'LEO', 'SpaceX', 'Success', 'Success'),\\n\",","       \" (datetime.date(2020, 11, 5), datetime.time(23, 24, 23), 'F9 B5B1062.1', 'CCAFS SLC-40', 'GPS III-04 , Crew-1', 4311, 'MEO', 'USSF', 'Success', 'Success'),\\n\",","       \" (datetime.date(2020, 11, 16), datetime.time(0, 27), 'F9 B5B1061.1', 'KSC LC-39A', 'Crew-1, Sentinel-6 Michael Freilich ', 12500, 'LEO (ISS)', 'NASA (CCP)', 'Success', 'Success'),\\n\",","       \" (datetime.date(2020, 11, 21), datetime.time(17, 17, 8), 'F9 B5B1063.1', 'VAFB SLC-4E', 'Sentinel-6 Michael Freilich, Starlink 15 v1.0 ', 1192, 'LEO', 'NASA / NOAA / ESA / EUMETSAT', 'Success', 'Success'),\\n\",","       \" (datetime.date(2020, 11, 25), datetime.time(2, 13), 'F9 B5 B1049.7', 'CCAFS SLC-40', 'Starlink 15 v1.0, SpaceX CRS-21', 15600, 'LEO', 'SpaceX', 'Success', 'Success'),\\n\",","       \" (datetime.date(2020, 12, 6), datetime.time(16, 17, 8), 'F9 B5 B1058.4', 'KSC LC-39A', 'SpaceX CRS-21', 2972, 'LEO (ISS)', 'NASA (CRS)', 'Success', 'Success')]\"","      ]","     },","     \"execution_count\": 5,","     \"metadata\": {},","     \"output_type\": \"execute_result\"","    }","   ],","   \"source\": [","    \"%sql select * from SPACEXDATASET\"","   ]","  },","  {","   \"cell_type\": \"code\",","   \"execution_count\": 12,","   \"metadata\": {},","   \"outputs\": [","    {","     \"name\": \"stdout\",","     \"output_type\": \"stream\",","     \"text\": [","      \" * ibm_db_sa://nxs27972:***@54a2f15b-5c0f-46df-8954-7e38e612c2bd.c1ogj3sd0tgtu0lqde00.databases.appdomain.cloud:32733/BLUDB\\n\",","      \"Done.\\n\"","     ]","    },","    {","     \"data\": {","      \"text/html\": [","       \"\u003ctable\u003e\\n\",","       \"    \u003ctr\u003e\\n\",","       \"        \u003cth\u003elanding__outcome\u003c/th\u003e\\n\",","       \"    \u003c/tr\u003e\\n\",","       \"    \u003ctr\u003e\\n\",","       \"        \u003ctd\u003eControlled (ocean)\u003c/td\u003e\\n\",","       \"    \u003c/tr\u003e\\n\",","       \"    \u003ctr\u003e\\n\",","       \"        \u003ctd\u003eFailure\u003c/td\u003e\\n\",","       \"    \u003c/tr\u003e\\n\",","       \"    \u003ctr\u003e\\n\",","       \"        \u003ctd\u003eFailure (drone ship)\u003c/td\u003e\\n\",","       \"    \u003c/tr\u003e\\n\",","       \"    \u003ctr\u003e\\n\",","       \"        \u003ctd\u003eFailure (parachute)\u003c/td\u003e\\n\",","       \"    \u003c/tr\u003e\\n\",","       \"    \u003ctr\u003e\\n\",","       \"        \u003ctd\u003eNo attempt\u003c/td\u003e\\n\",","       \"    \u003c/tr\u003e\\n\",","       \"    \u003ctr\u003e\\n\",","       \"        \u003ctd\u003ePrecluded (drone ship)\u003c/td\u003e\\n\",","       \"    \u003c/tr\u003e\\n\",","       \"    \u003ctr\u003e\\n\",","       \"        \u003ctd\u003eSuccess\u003c/td\u003e\\n\",","       \"    \u003c/tr\u003e\\n\",","       \"    \u003ctr\u003e\\n\",","       \"        \u003ctd\u003eSuccess (drone ship)\u003c/td\u003e\\n\",","       \"    \u003c/tr\u003e\\n\",","       \"    \u003ctr\u003e\\n\",","       \"        \u003ctd\u003eSuccess (ground pad)\u003c/td\u003e\\n\",","       \"    \u003c/tr\u003e\\n\",","       \"    \u003ctr\u003e\\n\",","       \"        \u003ctd\u003eUncontrolled (ocean)\u003c/td\u003e\\n\",","       \"    \u003c/tr\u003e\\n\",","       \"\u003c/table\u003e\"","      ],","      \"text/plain\": [","       \"[('Controlled (ocean)',),\\n\",","       \" ('Failure',),\\n\",","       \" ('Failure (drone ship)',),\\n\",","       \" ('Failure (parachute)',),\\n\",","       \" ('No attempt',),\\n\",","       \" ('Precluded (drone ship)',),\\n\",","       \" ('Success',),\\n\",","       \" ('Success (drone ship)',),\\n\",","       \" ('Success (ground pad)',),\\n\",","       \" ('Uncontrolled (ocean)',)]\"","      ]","     },","     \"execution_count\": 12,","     \"metadata\": {},","     \"output_type\": \"execute_result\"","    }","   ],","   \"source\": [","    \"%sql select DISTINCT landing__outcome from SPACEXDATASET\"","   ]","  },","  {","   \"cell_type\": \"markdown\",","   \"metadata\": {},","   \"source\": [","    \"## Tasks\\n\",","    \"\\n\",","    \"Now write and execute SQL queries to solve the assignment tasks.\\n\",","    \"\\n\",","    \"### Task 1\\n\",","    \"\\n\",","    \"##### Display the names of the unique launch sites  in the space mission\\n\"","   ]","  },","  {","   \"cell_type\": \"code\",","   \"execution_count\": 6,","   \"metadata\": {},","   \"outputs\": [","    {","     \"name\": \"stdout\",","     \"output_type\": \"stream\",","     \"text\": [","      \" * ibm_db_sa://nxs27972:***@54a2f15b-5c0f-46df-8954-7e38e612c2bd.c1ogj3sd0tgtu0lqde00.databases.appdomain.cloud:32733/BLUDB\\n\",","      \"Done.\\n\"","     ]","    },","    {","     \"data\": {","      \"text/html\": [","       \"\u003ctable\u003e\\n\",","       \"    \u003ctr\u003e\\n\",","       \"        \u003cth\u003elaunch_site\u003c/th\u003e\\n\",","       \"    \u003c/tr\u003e\\n\",","       \"    \u003ctr\u003e\\n\",","       \"        \u003ctd\u003eCCAFS LC-40\u003c/td\u003e\\n\",","       \"    \u003c/tr\u003e\\n\",","       \"    \u003ctr\u003e\\n\",","       \"        \u003ctd\u003eCCAFS SLC-40\u003c/td\u003e\\n\",","       \"    \u003c/tr\u003e\\n\",","       \"    \u003ctr\u003e\\n\",","       \"        \u003ctd\u003eKSC LC-39A\u003c/td\u003e\\n\",","       \"    \u003c/tr\u003e\\n\",","       \"    \u003ctr\u003e\\n\",","       \"        \u003ctd\u003eVAFB SLC-4E\u003c/td\u003e\\n\",","       \"    \u003c/tr\u003e\\n\",","       \"\u003c/table\u003e\"","      ],","      \"text/plain\": [","       \"[('CCAFS LC-40',), ('CCAFS SLC-40',), ('KSC LC-39A',), ('VAFB SLC-4E',)]\"","      ]","     },","     \"execution_count\": 6,","     \"metadata\": {},","     \"output_type\": \"execute_result\"","    }","   ],","   \"source\": [","    \"%sql select DISTINCT LAUNCH_SITE from SPACEXDATASET\"","   ]","  },","  {","   \"cell_type\": \"markdown\",","   \"metadata\": {},","   \"source\": [","    \"### Task 2\\n\",","    \"\\n\",","    \"##### Display 5 records where launch sites begin with the string 'CCA'\\n\"","   ]","  },","  {","   \"cell_type\": \"code\",","   \"execution_count\": 24,","   \"metadata\": {},","   \"outputs\": [","    {","     \"name\": \"stdout\",","     \"output_type\": \"stream\",","     \"text\": [","      \" * ibm_db_sa://nxs27972:***@54a2f15b-5c0f-46df-8954-7e38e612c2bd.c1ogj3sd0tgtu0lqde00.databases.appdomain.cloud:32733/BLUDB\\n\",","      \"Done.\\n\"","     ]","    },","    {","     \"data\": {","      \"text/html\": [","       \"\u003ctable\u003e\\n\",","       \"    \u003ctr\u003e\\n\",","       \"        \u003cth\u003eDATE\u003c/th\u003e\\n\",","       \"        \u003cth\u003etime__utc_\u003c/th\u003e\\n\",","       \"        \u003cth\u003ebooster_version\u003c/th\u003e\\n\",","       \"        \u003cth\u003elaunch_site\u003c/th\u003e\\n\",","       \"        \u003cth\u003epayload\u003c/th\u003e\\n\",","       \"        \u003cth\u003epayload_mass__kg_\u003c/th\u003e\\n\",","       \"        \u003cth\u003eorbit\u003c/th\u003e\\n\",","       \"        \u003cth\u003ecustomer\u003c/th\u003e\\n\",","       \"        \u003cth\u003emission_outcome\u003c/th\u003e\\n\",","       \"        \u003cth\u003elanding__outcome\u003c/th\u003e\\n\",","       \"    \u003c/tr\u003e\\n\",","       \"    \u003ctr\u003e\\n\",","       \"        \u003ctd\u003e2010-06-04\u003c/td\u003e\\n\",","       \"        \u003ctd\u003e18:45:00\u003c/td\u003e\\n\",","       \"        \u003ctd\u003eF9 v1.0  B0003\u003c/td\u003e\\n\",","       \"        \u003ctd\u003eCCAFS LC-40\u003c/td\u003e\\n\",","       \"        \u003ctd\u003eDragon Spacecraft Qualification Unit\u003c/td\u003e\\n\",","       \"        \u003ctd\u003e0\u003c/td\u003e\\n\",","       \"        \u003ctd\u003eLEO\u003c/td\u003e\\n\",","       \"        \u003ctd\u003eSpaceX\u003c/td\u003e\\n\",","       \"        \u003ctd\u003eSuccess\u003c/td\u003e\\n\",","       \"        \u003ctd\u003eFailure (parachute)\u003c/td\u003e\\n\",","       \"    \u003c/tr\u003e\\n\",","       \"    \u003ctr\u003e\\n\",","       \"        \u003ctd\u003e2010-12-08\u003c/td\u003e\\n\",","       \"        \u003ctd\u003e15:43:00\u003c/td\u003e\\n\",","       \"        \u003ctd\u003eF9 v1.0  B0004\u003c/td\u003e\\n\",","       \"        \u003ctd\u003eCCAFS LC-40\u003c/td\u003e\\n\",","       \"        \u003ctd\u003eDragon demo flight C1, two CubeSats, barrel of Brouere cheese\u003c/td\u003e\\n\",","       \"        \u003ctd\u003e0\u003c/td\u003e\\n\",","       \"        \u003ctd\u003eLEO (ISS)\u003c/td\u003e\\n\",","       \"        \u003ctd\u003eNASA (COTS) NRO\u003c/td\u003e\\n\",","       \"        \u003ctd\u003eSuccess\u003c/td\u003e\\n\",","       \"        \u003ctd\u003eFailure (parachute)\u003c/td\u003e\\n\",","       \"    \u003c/tr\u003e\\n\",","       \"    \u003ctr\u003e\\n\",","       \"        \u003ctd\u003e2012-05-22\u003c/td\u003e\\n\",","       \"        \u003ctd\u003e07:44:00\u003c/td\u003e\\n\",","       \"        \u003ctd\u003eF9 v1.0  B0005\u003c/td\u003e\\n\",","       \"        \u003ctd\u003eCCAFS LC-40\u003c/td\u003e\\n\",","       \"        \u003ctd\u003eDragon demo flight C2\u003c/td\u003e\\n\",","       \"        \u003ctd\u003e525\u003c/td\u003e\\n\",","       \"        \u003ctd\u003eLEO (ISS)\u003c/td\u003e\\n\",","       \"        \u003ctd\u003eNASA (COTS)\u003c/td\u003e\\n\",","       \"        \u003ctd\u003eSuccess\u003c/td\u003e\\n\",","       \"        \u003ctd\u003eNo attempt\u003c/td\u003e\\n\",","       \"    \u003c/tr\u003e\\n\",","       \"    \u003ctr\u003e\\n\",","       \"        \u003ctd\u003e2012-10-08\u003c/td\u003e\\n\",","       \"        \u003ctd\u003e00:35:00\u003c/td\u003e\\n\",","       \"        \u003ctd\u003eF9 v1.0  B0006\u003c/td\u003e\\n\",","       \"        \u003ctd\u003eCCAFS LC-40\u003c/td\u003e\\n\",","       \"        \u003ctd\u003eSpaceX CRS-1\u003c/td\u003e\\n\",","       \"        \u003ctd\u003e500\u003c/td\u003e\\n\",","       \"        \u003ctd\u003eLEO (ISS)\u003c/td\u003e\\n\",","       \"        \u003ctd\u003eNASA (CRS)\u003c/td\u003e\\n\",","       \"        \u003ctd\u003eSuccess\u003c/td\u003e\\n\",","       \"        \u003ctd\u003eNo attempt\u003c/td\u003e\\n\",","       \"    \u003c/tr\u003e\\n\",","       \"    \u003ctr\u003e\\n\",","       \"        \u003ctd\u003e2013-03-01\u003c/td\u003e\\n\",","       \"        \u003ctd\u003e15:10:00\u003c/td\u003e\\n\",","       \"        \u003ctd\u003eF9 v1.0  B0007\u003c/td\u003e\\n\",","       \"        \u003ctd\u003eCCAFS LC-40\u003c/td\u003e\\n\",","       \"        \u003ctd\u003eSpaceX CRS-2\u003c/td\u003e\\n\",","       \"        \u003ctd\u003e677\u003c/td\u003e\\n\",","       \"        \u003ctd\u003eLEO (ISS)\u003c/td\u003e\\n\",","       \"        \u003ctd\u003eNASA (CRS)\u003c/td\u003e\\n\",","       \"        \u003ctd\u003eSuccess\u003c/td\u003e\\n\",","       \"        \u003ctd\u003eNo attempt\u003c/td\u003e\\n\",","       \"    \u003c/tr\u003e\\n\",","       \"\u003c/table\u003e\"","      ],","      \"text/plain\": [","       \"[(datetime.date(2010, 6, 4), datetime.time(18, 45), 'F9 v1.0  B0003', 'CCAFS LC-40', 'Dragon Spacecraft Qualification Unit', 0, 'LEO', 'SpaceX', 'Success', 'Failure (parachute)'),\\n\",","       \" (datetime.date(2010, 12, 8), datetime.time(15, 43), 'F9 v1.0  B0004', 'CCAFS LC-40', 'Dragon demo flight C1, two CubeSats, barrel of Brouere cheese', 0, 'LEO (ISS)', 'NASA (COTS) NRO', 'Success', 'Failure (parachute)'),\\n\",","       \" (datetime.date(2012, 5, 22), datetime.time(7, 44), 'F9 v1.0  B0005', 'CCAFS LC-40', 'Dragon demo flight C2', 525, 'LEO (ISS)', 'NASA (COTS)', 'Success', 'No attempt'),\\n\",","       \" (datetime.date(2012, 10, 8), datetime.time(0, 35), 'F9 v1.0  B0006', 'CCAFS LC-40', 'SpaceX CRS-1', 500, 'LEO (ISS)', 'NASA (CRS)', 'Success', 'No attempt'),\\n\",","       \" (datetime.date(2013, 3, 1), datetime.time(15, 10), 'F9 v1.0  B0007', 'CCAFS LC-40', 'SpaceX CRS-2', 677, 'LEO (ISS)', 'NASA (CRS)', 'Success', 'No attempt')]\"","      ]","     },","     \"execution_count\": 24,","     \"metadata\": {},","     \"output_type\": \"execute_result\"","    }","   ],","   \"source\": [","    \"%sql select * from SPACEXDATASET where launch_site like 'CCA%' limit 5\"","   ]","  },","  {","   \"cell_type\": \"markdown\",","   \"metadata\": {},","   \"source\": [","    \"### Task 3\\n\",","    \"\\n\",","    \"##### Display the total payload mass carried by boosters launched by NASA (CRS)\\n\"","   ]","  },","  {","   \"cell_type\": \"code\",","   \"execution_count\": 54,","   \"metadata\": {},","   \"outputs\": [","    {","     \"name\": \"stdout\",","     \"output_type\": \"stream\",","     \"text\": [","      \" * ibm_db_sa://nxs27972:***@54a2f15b-5c0f-46df-8954-7e38e612c2bd.c1ogj3sd0tgtu0lqde00.databases.appdomain.cloud:32733/BLUDB\\n\",","      \"Done.\\n\"","     ]","    },","    {","     \"data\": {","      \"text/html\": [","       \"\u003ctable\u003e\\n\",","       \"    \u003ctr\u003e\\n\",","       \"        \u003cth\u003eSUM\u003c/th\u003e\\n\",","       \"    \u003c/tr\u003e\\n\",","       \"    \u003ctr\u003e\\n\",","       \"        \u003ctd\u003e45596\u003c/td\u003e\\n\",","       \"    \u003c/tr\u003e\\n\",","       \"\u003c/table\u003e\"","      ],","      \"text/plain\": [","       \"[(45596,)]\"","      ]","     },","     \"execution_count\": 54,","     \"metadata\": {},","     \"output_type\": \"execute_result\"","    }","   ],","   \"source\": [","    \"%sql select sum(payload_mass__kg_) as sum from SPACEXDATASET where customer like 'NASA (CRS)'\"","   ]","  },","  {","   \"cell_type\": \"markdown\",","   \"metadata\": {},","   \"source\": [","    \"### Task 4\\n\",","    \"\\n\",","    \"##### Display average payload mass carried by booster version F9 v1.1\\n\"","   ]","  },","  {","   \"cell_type\": \"code\",","   \"execution_count\": 53,","   \"metadata\": {},","   \"outputs\": [","    {","     \"name\": \"stdout\",","     \"output_type\": \"stream\",","     \"text\": [","      \" * ibm_db_sa://nxs27972:***@54a2f15b-5c0f-46df-8954-7e38e612c2bd.c1ogj3sd0tgtu0lqde00.databases.appdomain.cloud:32733/BLUDB\\n\",","      \"Done.\\n\"","     ]","    },","    {","     \"data\": {","      \"text/html\": [","       \"\u003ctable\u003e\\n\",","       \"    \u003ctr\u003e\\n\",","       \"        \u003cth\u003eaverage\u003c/th\u003e\\n\",","       \"    \u003c/tr\u003e\\n\",","       \"    \u003ctr\u003e\\n\",","       \"        \u003ctd\u003e2534\u003c/td\u003e\\n\",","       \"    \u003c/tr\u003e\\n\",","       \"\u003c/table\u003e\"","      ],","      \"text/plain\": [","       \"[(2534,)]\"","      ]","     },","     \"execution_count\": 53,","     \"metadata\": {},","     \"output_type\": \"execute_result\"","    }","   ],","   \"source\": [","    \"%sql select avg(payload_mass__kg_) as Average from SPACEXDATASET where booster_version like 'F9 v1.1%'\"","   ]","  },","  {","   \"cell_type\": \"markdown\",","   \"metadata\": {},","   \"source\": [","    \"### Task 5\\n\",","    \"\\n\",","    \"##### List the date when the first succesful landing outcome in ground pad was acheived.\\n\",","    \"\\n\",","    \"*Hint:Use min function*\\n\"","   ]","  },","  {","   \"cell_type\": \"code\",","   \"execution_count\": 51,","   \"metadata\": {},","   \"outputs\": [","    {","     \"name\": \"stdout\",","     \"output_type\": \"stream\",","     \"text\": [","      \" * ibm_db_sa://nxs27972:***@54a2f15b-5c0f-46df-8954-7e38e612c2bd.c1ogj3sd0tgtu0lqde00.databases.appdomain.cloud:32733/BLUDB\\n\",","      \"Done.\\n\"","     ]","    },","    {","     \"data\": {","      \"text/html\": [","       \"\u003ctable\u003e\\n\",","       \"    \u003ctr\u003e\\n\",","       \"        \u003cth\u003eDATE\u003c/th\u003e\\n\",","       \"    \u003c/tr\u003e\\n\",","       \"    \u003ctr\u003e\\n\",","       \"        \u003ctd\u003e2010-06-04\u003c/td\u003e\\n\",","       \"    \u003c/tr\u003e\\n\",","       \"\u003c/table\u003e\"","      ],","      \"text/plain\": [","       \"[(datetime.date(2010, 6, 4),)]\"","      ]","     },","     \"execution_count\": 51,","     \"metadata\": {},","     \"output_type\": \"execute_result\"","    }","   ],","   \"source\": [","    \"%sql select min(date) as Date from SPACEXDATASET where mission_outcome like 'Success'\"","   ]","  },","  {","   \"cell_type\": \"markdown\",","   \"metadata\": {},","   \"source\": [","    \"### Task 6\\n\",","    \"\\n\",","    \"##### List the names of the boosters which have success in drone ship and have payload mass greater than 4000 but less than 6000\\n\"","   ]","  },","  {","   \"cell_type\": \"code\",","   \"execution_count\": 17,","   \"metadata\": {},","   \"outputs\": [","    {","     \"name\": \"stdout\",","     \"output_type\": \"stream\",","     \"text\": [","      \" * ibm_db_sa://nxs27972:***@54a2f15b-5c0f-46df-8954-7e38e612c2bd.c1ogj3sd0tgtu0lqde00.databases.appdomain.cloud:32733/BLUDB\\n\",","      \"Done.\\n\"","     ]","    },","    {","     \"data\": {","      \"text/html\": [","       \"\u003ctable\u003e\\n\",","       \"    \u003ctr\u003e\\n\",","       \"        \u003cth\u003ebooster_version\u003c/th\u003e\\n\",","       \"    \u003c/tr\u003e\\n\",","       \"    \u003ctr\u003e\\n\",","       \"        \u003ctd\u003eF9 FT B1022\u003c/td\u003e\\n\",","       \"    \u003c/tr\u003e\\n\",","       \"    \u003ctr\u003e\\n\",","       \"        \u003ctd\u003eF9 FT B1026\u003c/td\u003e\\n\",","       \"    \u003c/tr\u003e\\n\",","       \"    \u003ctr\u003e\\n\",","       \"        \u003ctd\u003eF9 FT  B1021.2\u003c/td\u003e\\n\",","       \"    \u003c/tr\u003e\\n\",","       \"    \u003ctr\u003e\\n\",","       \"        \u003ctd\u003eF9 FT  B1031.2\u003c/td\u003e\\n\",","       \"    \u003c/tr\u003e\\n\",","       \"\u003c/table\u003e\"","      ],","      \"text/plain\": [","       \"[('F9 FT B1022',), ('F9 FT B1026',), ('F9 FT  B1021.2',), ('F9 FT  B1031.2',)]\"","      ]","     },","     \"execution_count\": 17,","     \"metadata\": {},","     \"output_type\": \"execute_result\"","    }","   ],","   \"source\": [","    \"%sql select booster_version from SPACEXDATASET where (mission_outcome like 'Success') \\n\",","    \"AND (payload_mass__kg_ BETWEEN 4000 AND 6000) AND (landing__outcome like 'Success (drone ship)')\"","   ]","  },","  {","   \"cell_type\": \"markdown\",","   \"metadata\": {},","   \"source\": [","    \"### Task 7\\n\",","    \"\\n\",","    \"##### List the total number of successful and failure mission outcomes\\n\"","   ]","  },","  {","   \"cell_type\": \"code\",","   \"execution_count\": 50,","   \"metadata\": {},","   \"outputs\": [","    {","     \"name\": \"stdout\",","     \"output_type\": \"stream\",","     \"text\": [","      \" * ibm_db_sa://nxs27972:***@54a2f15b-5c0f-46df-8954-7e38e612c2bd.c1ogj3sd0tgtu0lqde00.databases.appdomain.cloud:32733/BLUDB\\n\",","      \"Done.\\n\"","     ]","    },","    {","     \"data\": {","      \"text/html\": [","       \"\u003ctable\u003e\\n\",","       \"    \u003ctr\u003e\\n\",","       \"        \u003cth\u003emission_outcome\u003c/th\u003e\\n\",","       \"        \u003cth\u003eCOUNT\u003c/th\u003e\\n\",","       \"    \u003c/tr\u003e\\n\",","       \"    \u003ctr\u003e\\n\",","       \"        \u003ctd\u003eFailure (in flight)\u003c/td\u003e\\n\",","       \"        \u003ctd\u003e1\u003c/td\u003e\\n\",","       \"    \u003c/tr\u003e\\n\",","       \"    \u003ctr\u003e\\n\",","       \"        \u003ctd\u003eSuccess\u003c/td\u003e\\n\",","       \"        \u003ctd\u003e99\u003c/td\u003e\\n\",","       \"    \u003c/tr\u003e\\n\",","       \"    \u003ctr\u003e\\n\",","       \"        \u003ctd\u003eSuccess (payload status unclear)\u003c/td\u003e\\n\",","       \"        \u003ctd\u003e1\u003c/td\u003e\\n\",","       \"    \u003c/tr\u003e\\n\",","       \"\u003c/table\u003e\"","      ],","      \"text/plain\": [","       \"[('Failure (in flight)', 1),\\n\",","       \" ('Success', 99),\\n\",","       \" ('Success (payload status unclear)', 1)]\"","      ]","     },","     \"execution_count\": 50,","     \"metadata\": {},","     \"output_type\": \"execute_result\"","    }","   ],","   \"source\": [","    \"%sql SELECT mission_outcome, count(*) as Count FROM SPACEXDATASET GROUP by mission_outcome ORDER BY mission_outcome\"","   ]","  },","  {","   \"cell_type\": \"markdown\",","   \"metadata\": {},","   \"source\": [","    \"### Task 8\\n\",","    \"\\n\",","    \"##### List the   names of the booster_versions which have carried the maximum payload mass. Use a subquery\\n\"","   ]","  },","  {","   \"cell_type\": \"code\",","   \"execution_count\": 41,","   \"metadata\": {},","   \"outputs\": [","    {","     \"name\": \"stdout\",","     \"output_type\": \"stream\",","     \"text\": [","      \" * ibm_db_sa://nxs27972:***@54a2f15b-5c0f-46df-8954-7e38e612c2bd.c1ogj3sd0tgtu0lqde00.databases.appdomain.cloud:32733/BLUDB\\n\",","      \"Done.\\n\",","      \" * ibm_db_sa://nxs27972:***@54a2f15b-5c0f-46df-8954-7e38e612c2bd.c1ogj3sd0tgtu0lqde00.databases.appdomain.cloud:32733/BLUDB\\n\",","      \"Done.\\n\"","     ]","    },","    {","     \"data\": {","      \"text/html\": [","       \"\u003ctable\u003e\\n\",","       \"    \u003ctr\u003e\\n\",","       \"        \u003cth\u003ebooster_version\u003c/th\u003e\\n\",","       \"    \u003c/tr\u003e\\n\",","       \"    \u003ctr\u003e\\n\",","       \"        \u003ctd\u003eF9 B5 B1048.4\u003c/td\u003e\\n\",","       \"    \u003c/tr\u003e\\n\",","       \"    \u003ctr\u003e\\n\",","       \"        \u003ctd\u003eF9 B5 B1049.4\u003c/td\u003e\\n\",","       \"    \u003c/tr\u003e\\n\",","       \"    \u003ctr\u003e\\n\",","       \"        \u003ctd\u003eF9 B5 B1051.3\u003c/td\u003e\\n\",","       \"    \u003c/tr\u003e\\n\",","       \"    \u003ctr\u003e\\n\",","       \"        \u003ctd\u003eF9 B5 B1056.4\u003c/td\u003e\\n\",","       \"    \u003c/tr\u003e\\n\",","       \"    \u003ctr\u003e\\n\",","       \"        \u003ctd\u003eF9 B5 B1048.5\u003c/td\u003e\\n\",","       \"    \u003c/tr\u003e\\n\",","       \"    \u003ctr\u003e\\n\",","       \"        \u003ctd\u003eF9 B5 B1051.4\u003c/td\u003e\\n\",","       \"    \u003c/tr\u003e\\n\",","       \"    \u003ctr\u003e\\n\",","       \"        \u003ctd\u003eF9 B5 B1049.5\u003c/td\u003e\\n\",","       \"    \u003c/tr\u003e\\n\",","       \"    \u003ctr\u003e\\n\",","       \"        \u003ctd\u003eF9 B5 B1060.2\u003c/td\u003e\\n\",","       \"    \u003c/tr\u003e\\n\",","       \"    \u003ctr\u003e\\n\",","       \"        \u003ctd\u003eF9 B5 B1058.3\u003c/td\u003e\\n\",","       \"    \u003c/tr\u003e\\n\",","       \"    \u003ctr\u003e\\n\",","       \"        \u003ctd\u003eF9 B5 B1051.6\u003c/td\u003e\\n\",","       \"    \u003c/tr\u003e\\n\",","       \"    \u003ctr\u003e\\n\",","       \"        \u003ctd\u003eF9 B5 B1060.3\u003c/td\u003e\\n\",","       \"    \u003c/tr\u003e\\n\",","       \"    \u003ctr\u003e\\n\",","       \"        \u003ctd\u003eF9 B5 B1049.7\u003c/td\u003e\\n\",","       \"    \u003c/tr\u003e\\n\",","       \"\u003c/table\u003e\"","      ],","      \"text/plain\": [","       \"[('F9 B5 B1048.4',),\\n\",","       \" ('F9 B5 B1049.4',),\\n\",","       \" ('F9 B5 B1051.3',),\\n\",","       \" ('F9 B5 B1056.4',),\\n\",","       \" ('F9 B5 B1048.5',),\\n\",","       \" ('F9 B5 B1051.4',),\\n\",","       \" ('F9 B5 B1049.5',),\\n\",","       \" ('F9 B5 B1060.2',),\\n\",","       \" ('F9 B5 B1058.3',),\\n\",","       \" ('F9 B5 B1051.6',),\\n\",","       \" ('F9 B5 B1060.3',),\\n\",","       \" ('F9 B5 B1049.7',)]\"","      ]","     },","     \"execution_count\": 41,","     \"metadata\": {},","     \"output_type\": \"execute_result\"","    }","   ],","   \"source\": [","    \"maxm = %sql select max(payload_mass__kg_) from SPACEXDATASET\\n\",","    \"maxv = maxm[0][0]\\n\",","    \"%sql select booster_version from SPACEXDATASET where \\n\",","    \"payload_mass__kg_=(select max(payload_mass__kg_) from SPACEXDATASET)\"","   ]","  },","  {","   \"cell_type\": \"markdown\",","   \"metadata\": {},","   \"source\": [","    \"### Task 9\\n\",","    \"\\n\",","    \"##### List the records which will display the month names, failure landing_outcomes in drone ship ,booster versions, launch_site for the months in year 2015\\n\"","   ]","  },","  {","   \"cell_type\": \"code\",","   \"execution_count\": 49,","   \"metadata\": {},","   \"outputs\": [","    {","     \"name\": \"stdout\",","     \"output_type\": \"stream\",","     \"text\": [","      \" * ibm_db_sa://nxs27972:***@54a2f15b-5c0f-46df-8954-7e38e612c2bd.c1ogj3sd0tgtu0lqde00.databases.appdomain.cloud:32733/BLUDB\\n\",","      \"Done.\\n\"","     ]","    },","    {","     \"data\": {","      \"text/html\": [","       \"\u003ctable\u003e\\n\",","       \"    \u003ctr\u003e\\n\",","       \"        \u003cth\u003eMONTH\u003c/th\u003e\\n\",","       \"        \u003cth\u003elanding__outcome\u003c/th\u003e\\n\",","       \"        \u003cth\u003ebooster_version\u003c/th\u003e\\n\",","       \"        \u003cth\u003elaunch_site\u003c/th\u003e\\n\",","       \"    \u003c/tr\u003e\\n\",","       \"    \u003ctr\u003e\\n\",","       \"        \u003ctd\u003eJanuary\u003c/td\u003e\\n\",","       \"        \u003ctd\u003eFailure (drone ship)\u003c/td\u003e\\n\",","       \"        \u003ctd\u003eF9 v1.1 B1012\u003c/td\u003e\\n\",","       \"        \u003ctd\u003eCCAFS LC-40\u003c/td\u003e\\n\",","       \"    \u003c/tr\u003e\\n\",","       \"    \u003ctr\u003e\\n\",","       \"        \u003ctd\u003eApril\u003c/td\u003e\\n\",","       \"        \u003ctd\u003eFailure (drone ship)\u003c/td\u003e\\n\",","       \"        \u003ctd\u003eF9 v1.1 B1015\u003c/td\u003e\\n\",","       \"        \u003ctd\u003eCCAFS LC-40\u003c/td\u003e\\n\",","       \"    \u003c/tr\u003e\\n\",","       \"\u003c/table\u003e\"","      ],","      \"text/plain\": [","       \"[('January', 'Failure (drone ship)', 'F9 v1.1 B1012', 'CCAFS LC-40'),\\n\",","       \" ('April', 'Failure (drone ship)', 'F9 v1.1 B1015', 'CCAFS LC-40')]\"","      ]","     },","     \"execution_count\": 49,","     \"metadata\": {},","     \"output_type\": \"execute_result\"","    }","   ],","   \"source\": [","    \"%sql select MONTHNAME(DATE) as Month, landing__outcome, booster_version, launch_site \\n\",","    \"from SPACEXDATASET where DATE like '2015%' AND landing__outcome like 'Failure (drone ship)'\"","   ]","  },","  {","   \"cell_type\": \"markdown\",","   \"metadata\": {},","   \"source\": [","    \"### Task 10\\n\",","    \"\\n\",","    \"##### Rank the  count of  successful landing_outcomes between the date 2010-06-04 and 2017-03-20 in descending order.\\n\"","   ]","  },","  {","   \"cell_type\": \"code\",","   \"execution_count\": 61,","   \"metadata\": {},","   \"outputs\": [","    {","     \"name\": \"stdout\",","     \"output_type\": \"stream\",","     \"text\": [","      \" * ibm_db_sa://nxs27972:***@54a2f15b-5c0f-46df-8954-7e38e612c2bd.c1ogj3sd0tgtu0lqde00.databases.appdomain.cloud:32733/BLUDB\\n\",","      \"Done.\\n\"","     ]","    },","    {","     \"data\": {","      \"text/html\": [","       \"\u003ctable\u003e\\n\",","       \"    \u003ctr\u003e\\n\",","       \"        \u003cth\u003elanding__outcome\u003c/th\u003e\\n\",","       \"        \u003cth\u003eCOUNT\u003c/th\u003e\\n\",","       \"    \u003c/tr\u003e\\n\",","       \"    \u003ctr\u003e\\n\",","       \"        \u003ctd\u003eNo attempt\u003c/td\u003e\\n\",","       \"        \u003ctd\u003e10\u003c/td\u003e\\n\",","       \"    \u003c/tr\u003e\\n\",","       \"    \u003ctr\u003e\\n\",","       \"        \u003ctd\u003eFailure (drone ship)\u003c/td\u003e\\n\",","       \"        \u003ctd\u003e5\u003c/td\u003e\\n\",","       \"    \u003c/tr\u003e\\n\",","       \"    \u003ctr\u003e\\n\",","       \"        \u003ctd\u003eSuccess (drone ship)\u003c/td\u003e\\n\",","       \"        \u003ctd\u003e5\u003c/td\u003e\\n\",","       \"    \u003c/tr\u003e\\n\",","       \"    \u003ctr\u003e\\n\",","       \"        \u003ctd\u003eControlled (ocean)\u003c/td\u003e\\n\",","       \"        \u003ctd\u003e3\u003c/td\u003e\\n\",","       \"    \u003c/tr\u003e\\n\",","       \"    \u003ctr\u003e\\n\",","       \"        \u003ctd\u003eSuccess (ground pad)\u003c/td\u003e\\n\",","       \"        \u003ctd\u003e3\u003c/td\u003e\\n\",","       \"    \u003c/tr\u003e\\n\",","       \"    \u003ctr\u003e\\n\",","       \"        \u003ctd\u003eFailure (parachute)\u003c/td\u003e\\n\",","       \"        \u003ctd\u003e2\u003c/td\u003e\\n\",","       \"    \u003c/tr\u003e\\n\",","       \"    \u003ctr\u003e\\n\",","       \"        \u003ctd\u003eUncontrolled (ocean)\u003c/td\u003e\\n\",","       \"        \u003ctd\u003e2\u003c/td\u003e\\n\",","       \"    \u003c/tr\u003e\\n\",","       \"    \u003ctr\u003e\\n\",","       \"        \u003ctd\u003ePrecluded (drone ship)\u003c/td\u003e\\n\",","       \"        \u003ctd\u003e1\u003c/td\u003e\\n\",","       \"    \u003c/tr\u003e\\n\",","       \"\u003c/table\u003e\"","      ],","      \"text/plain\": [","       \"[('No attempt', 10),\\n\",","       \" ('Failure (drone ship)', 5),\\n\",","       \" ('Success (drone ship)', 5),\\n\",","       \" ('Controlled (ocean)', 3),\\n\",","       \" ('Success (ground pad)', 3),\\n\",","       \" ('Failure (parachute)', 2),\\n\",","       \" ('Uncontrolled (ocean)', 2),\\n\",","       \" ('Precluded (drone ship)', 1)]\"","      ]","     },","     \"execution_count\": 61,","     \"metadata\": {},","     \"output_type\": \"execute_result\"","    }","   ],","   \"source\": [","    \"%sql select landing__outcome, count(*) as count from SPACEXDATASET \\n\",","    \"where Date \u003e= '2010-06-04' AND Date \u003c= '2017-03-20' \\n\",","    \"GROUP by landing__outcome ORDER BY count Desc\"","   ]","  },","  {","   \"cell_type\": \"markdown\",","   \"metadata\": {},","   \"source\": [","    \"### Reference Links\\n\",","    \"\\n\",","    \"*   \u003ca href =\\\"https://cf-courses-data.s3.us.cloud-object-storage.appdomain.cloud/IBMDeveloperSkillsNetwork-DB0201EN-SkillsNetwork/labs/Labs_Coursera_V5/labs/Lab%20-%20String%20Patterns%20-%20Sorting%20-%20Grouping/instructional-labs.md.html?utm_medium=Exinfluencer\u0026utm_source=Exinfluencer\u0026utm_content=000026UJ\u0026utm_term=10006555\u0026utm_id=NA-SkillsNetwork-Channel-SkillsNetworkCoursesIBMDS0321ENSkillsNetwork26802033-2021-01-01\u0026origin=www.coursera.org\\\"\u003eHands-on Lab : String Patterns, Sorting and Grouping\u003c/a\u003e\\n\",","    \"\\n\",","    \"*   \u003ca  href=\\\"https://cf-courses-data.s3.us.cloud-object-storage.appdomain.cloud/IBMDeveloperSkillsNetwork-DB0201EN-SkillsNetwork/labs/Labs_Coursera_V5/labs/Lab%20-%20Built-in%20functions%20/Hands-on_Lab__Built-in_Functions.md.html?utm_medium=Exinfluencer\u0026utm_source=Exinfluencer\u0026utm_content=000026UJ\u0026utm_term=10006555\u0026utm_id=NA-SkillsNetwork-Channel-SkillsNetworkCoursesIBMDS0321ENSkillsNetwork26802033-2021-01-01\u0026origin=www.coursera.org\\\"\u003eHands-on Lab: Built-in functions\u003c/a\u003e\\n\",","    \"\\n\",","    \"*   \u003ca  href=\\\"https://cf-courses-data.s3.us.cloud-object-storage.appdomain.cloud/IBMDeveloperSkillsNetwork-DB0201EN-SkillsNetwork/labs/Labs_Coursera_V5/labs/Lab%20-%20Sub-queries%20and%20Nested%20SELECTs%20/instructional-labs.md.html?utm_medium=Exinfluencer\u0026utm_source=Exinfluencer\u0026utm_content=000026UJ\u0026utm_term=10006555\u0026utm_id=NA-SkillsNetwork-Channel-SkillsNetworkCoursesIBMDS0321ENSkillsNetwork26802033-2021-01-01\u0026origin=www.coursera.org\\\"\u003eHands-on Lab : Sub-queries and Nested SELECT Statements\u003c/a\u003e\\n\",","    \"\\n\",","    \"*   \u003ca href=\\\"https://cf-courses-data.s3.us.cloud-object-storage.appdomain.cloud/IBMDeveloperSkillsNetwork-DB0201EN-SkillsNetwork/labs/Module%205/DB0201EN-Week3-1-3-SQLmagic.ipynb?utm_medium=Exinfluencer\u0026utm_source=Exinfluencer\u0026utm_content=000026UJ\u0026utm_term=10006555\u0026utm_id=NA-SkillsNetwork-Channel-SkillsNetworkCoursesIBMDS0321ENSkillsNetwork26802033-2021-01-01\\\"\u003eHands-on Tutorial: Accessing Databases with SQL magic\u003c/a\u003e\\n\",","    \"\\n\",","    \"*   \u003ca href= \\\"https://cf-courses-data.s3.us.cloud-object-storage.appdomain.cloud/IBMDeveloperSkillsNetwork-DB0201EN-SkillsNetwork/labs/Module%205/DB0201EN-Week3-1-4-Analyzing.ipynb?utm_medium=Exinfluencer\u0026utm_source=Exinfluencer\u0026utm_content=000026UJ\u0026utm_term=10006555\u0026utm_id=NA-SkillsNetwork-Channel-SkillsNetworkCoursesIBMDS0321ENSkillsNetwork26802033-2021-01-01\\\"\u003eHands-on Lab: Analyzing a real World Data Set\u003c/a\u003e\\n\"","   ]","  },","  {","   \"cell_type\": \"markdown\",","   \"metadata\": {},","   \"source\": [","    \"## Author(s)\\n\",","    \"\\n\",","    \"\u003ch4\u003e Lakshmi Holla \u003c/h4\u003e\\n\"","   ]","  },","  {","   \"cell_type\": \"markdown\",","   \"metadata\": {},","   \"source\": [","    \"## Other Contributors\\n\",","    \"\\n\",","    \"\u003ch4\u003e Rav Ahuja \u003c/h4\u003e\\n\"","   ]","  },","  {","   \"cell_type\": \"markdown\",","   \"metadata\": {},","   \"source\": [","    \"## Change log\\n\",","    \"\\n\",","    \"| Date       | Version | Changed by    | Change Description        |\\n\",","    \"| ---------- | ------- | ------------- | ------------------------- |\\n\",","    \"| 2021-07-09 | 0.2     | Lakshmi Holla | Changes made in magic sql |\\n\",","    \"| 2021-05-20 | 0.1     | Lakshmi Holla | Created Initial Version   |\\n\"","   ]","  },","  {","   \"cell_type\": \"markdown\",","   \"metadata\": {},","   \"source\": [","    \"## \u003ch3 align=\\\"center\\\"\u003e © IBM Corporation 2021. All rights reserved. \u003ch3/\u003e\\n\"","   ]","  }"," ],"," \"metadata\": {","  \"kernelspec\": {","   \"display_name\": \"Python 3\",","   \"language\": \"python\",","   \"name\": \"python3\"","  },","  \"language_info\": {","   \"codemirror_mode\": {","    \"name\": \"ipython\",","    \"version\": 3","   },","   \"file_extension\": \".py\",","   \"mimetype\": \"text/x-python\",","   \"name\": \"python\",","   \"nbconvert_exporter\": \"python\",","   \"pygments_lexer\": \"ipython3\",","   \"version\": \"3.8.3\"","  }"," },"," \"nbformat\": 4,"," \"nbformat_minor\": 4","}"],"stylingDirectives":null,"csv":null,"csvError":null,"dependabotInfo":{"showConfigurationBanner":false,"configFilePath":null,"networkDependabotPath":"/navassherif98/IBM_Data_Science_Professional_Certification/network/updates","dismissConfigurationNoticePath":"/settings/dismiss-notice/dependabot_configuration_notice","configurationNoticeDismissed":false,"repoAlertsPath":"/navassherif98/IBM_Data_Science_Professional_Certification/security/dependabot","repoSecurityAndAnalysisPath":"/navassherif98/IBM_Data_Science_Professional_Certification/settings/security_analysis","repoOwnerIsOrg":false,"currentUserCanAdminRepo":false},"displayName":"EDA with SQL.ipynb","displayUrl":"https://notebooks.githubusercontent.com/view/ipynb?browser=chrome\u0026bypass_fastly=true\u0026color_mode=auto\u0026commit=4b9853f907a045130eb46d4bb8bac7ccb2bede42\u0026device=unknown_device\u0026docs_host=https%3A%2F%2Fdocs.github.com\u0026enc_url=68747470733a2f2f7261772e67697468756275736572636f6e74656e742e636f6d2f6e6176617373686572696639382f49424d5f446174615f536369656e63655f50726f66657373696f6e616c5f43657274696669636174696f6e2f346239383533663930376130343531333065623436643462623862616337636362326265646534322f31302e4170706c6965645f446174615f536369656e63655f43617073746f6e652f5765656b253230322532304544412f4544412532307769746825323053514c2e6970796e62\u0026logged_in=true\u0026nwo=navassherif98%2FIBM_Data_Science_Professional_Certification\u0026path=10.Applied_Data_Science_Capstone%2FWeek+2+EDA%2FEDA+with+SQL.ipynb\u0026platform=windows\u0026repository_id=398720371\u0026repository_type=Repository\u0026version=115","headerInfo":{"blobSize":"98.3 KB","deleteInfo":{"deletePath":"https://github.com/navassherif98/IBM_Data_Science_Professional_Certification/delete/master/10.Applied_Data_Science_Capstone/Week%202%20EDA/EDA%20with%20SQL.ipynb","deleteTooltip":"Fork this repository and delete the file"},"editInfo":{"editTooltip":"Fork this repository and edit the file"},"ghDesktopPath":"https://desktop.github.com","gitLfsPath":null,"onBranch":true,"shortPath":"d97c4f4","siteNavLoginPath":"/login?return_to=https%3A%2F%2Fgithub.com%2Fnavassherif98%2FIBM_Data_Science_Professional_Certification%2Fblob%2Fmaster%2F10.Applied_Data_Science_Capstone%2FWeek%25202%2520EDA%2FEDA%2520with%2520SQL.ipynb","isCSV":false,"isRichtext":false,"toc":null,"lineInfo":{"truncatedLoc":"2385","truncatedSloc":"2385"},"mode":"file"},"image":false,"isCodeownersFile":null,"isValidLegacyIssueTemplate":false,"issueTemplateHelpUrl":"https://docs.github.com/articles/about-issue-and-pull-request-templates","issueTemplate":null,"discussionTemplate":null,"language":"Jupyter Notebook","large":false,"loggedIn":true,"newDiscussionPath":"/navassherif98/IBM_Data_Science_Professional_Certification/discussions/new","newIssuePath":"/navassherif98/IBM_Data_Science_Professional_Certification/issues/new","planSupportInfo":{"repoIsFork":null,"repoOwnedByCurrentUser":null,"requestFullPath":"/navassherif98/IBM_Data_Science_Professional_Certification/blob/master/10.Applied_Data_Science_Capstone/Week%202%20EDA/EDA%20with%20SQL.ipynb","showFreeOrgGatedFeatureMessage":null,"showPlanSupportBanner":null,"upgradeDataAttributes":null,"upgradePath":null},"publishBannersInfo":{"dismissActionNoticePath":"/settings/dismiss-notice/publish_action_from_dockerfile","dismissStackNoticePath":"/settings/dismiss-notice/publish_stack_from_file","releasePath":"/navassherif98/IBM_Data_Science_Professional_Certification/releases/new?marketplace=true","showPublishActionBanner":false,"showPublishStackBanner":false},"renderImageOrRaw":false,"richText":null,"renderedFileInfo":{"identityUUID":"081377be-284d-4ee7-907f-8e02d027a9d3","renderFileType":"ipynb","size":100684},"tabSize":8,"topBannersInfo":{"overridingGlobalFundingFile":false,"globalPreferredFundingPath":null,"repoOwner":"navassherif98","repoName":"IBM_Data_Science_Professional_Certification","showInvalidCitationWarning":false,"citationHelpUrl":"https://docs.github.com/en/github/creating-cloning-and-archiving-repositories/creating-a-repository-on-github/about-citation-files","showDependabotConfigurationBanner":false,"actionsOnboardingTip":null},"truncated":false,"viewable":true,"workflowRedirectUrl":null,"symbols":{"timedOut":false,"notAnalyzed":true,"symbols":[]}},"copilotAccessInfo":{"accessAllowed":false,"hasSubscriptionEnded":false,"orgHasCFBAccess":false,"userHasCFIAccess":false,"userIsOrgAdmin":false,"userIsOrgMember":false,"business":null},"csrf_tokens":{"/navassherif98/IBM_Data_Science_Professional_Certification/branches":{"post":"BYMxRCTIzot3yHLwmnsZFcs46PUjoFhggu9vXm8CFGwtg_bcnpa0kac2rqr58edkbkp3HJ0tewsYrmwYnl88qg"}}},"title":"IBM_Data_Science_Professional_Certification/10.Applied_Data_Science_Capstone/Week 2 EDA/EDA with SQL.ipynb at master · navassherif98/IBM_Data_Science_Professional_Certification","locale":"en","appPayload":{"helpUrl":"https://docs.github.com","findFileWorkerPath":"/assets-cdn/worker/find-file-worker-848bb9a5da17.js","findInFileWorkerPath":"/assets-cdn/worker/find-in-file-worker-4b57095adfc5.js","githubDevUrl":"https://github.dev/","enabled_features":{"virtualize_file_tree":true,"react_repos_overview":true,"code_nav_ui_events":false,"ref_selector_v2":false,"codeview_codemirror_next_editors":false,"blob_firefox_separate_characters":true,"column_symbol_auto_select":true,"copilot_conversational_ux":false,"copilot_conversational_ux_symbols":false,"copilot_popover_file_editor_header":false,"lfs_download_button":true}}}</script>
  <div data-target="react-app.reactRoot"></div>
</react-app>
</turbo-frame>



  </div>

</turbo-frame>

    </main>
  </div>

  </div>

          <footer class="footer width-full container-xl p-responsive" role="contentinfo">
  <h2 class='sr-only'>Footer</h2>

  <div class="position-relative d-flex flex-items-center pb-2 f6 color-fg-muted border-top color-border-muted flex-column-reverse flex-lg-row flex-wrap flex-lg-nowrap mt-6 pt-6">
    <div class="list-style-none d-flex flex-wrap col-0 col-lg-2 flex-justify-start flex-lg-justify-between mb-2 mb-lg-0">
      <div class="mt-2 mt-lg-0 d-flex flex-items-center">
        <a aria-label="Homepage" title="GitHub" class="footer-octicon mr-2" href="https://github.com">
          <svg aria-hidden="true" height="24" viewBox="0 0 16 16" version="1.1" width="24" data-view-component="true" class="octicon octicon-mark-github">
    <path d="M8 0c4.42 0 8 3.58 8 8a8.013 8.013 0 0 1-5.45 7.59c-.4.08-.55-.17-.55-.38 0-.27.01-1.13.01-2.2 0-.75-.25-1.23-.54-1.48 1.78-.2 3.65-.88 3.65-3.95 0-.88-.31-1.59-.82-2.15.08-.2.36-1.02-.08-2.12 0 0-.67-.22-2.2.82-.64-.18-1.32-.27-2-.27-.68 0-1.36.09-2 .27-1.53-1.03-2.2-.82-2.2-.82-.44 1.1-.16 1.92-.08 2.12-.51.56-.82 1.28-.82 2.15 0 3.06 1.86 3.75 3.64 3.95-.23.2-.44.55-.51 1.07-.46.21-1.61.55-2.33-.66-.15-.24-.6-.83-1.23-.82-.67.01-.27.38.01.53.34.19.73.9.82 1.13.16.45.68 1.31 2.69.94 0 .67.01 1.3.01 1.49 0 .21-.15.45-.55.38A7.995 7.995 0 0 1 0 8c0-4.42 3.58-8 8-8Z"></path>
</svg>
</a>        <span>
        &copy; 2023 GitHub, Inc.
        </span>
      </div>
    </div>

    <nav aria-label='Footer' class="col-12 col-lg-8">
      <h3 class='sr-only' id='sr-footer-heading'>Footer navigation</h3>
      <ul class="list-style-none d-flex flex-wrap col-12 flex-justify-center flex-lg-justify-between mb-2 mb-lg-0" aria-labelledby='sr-footer-heading'>
          <li class="mr-3 mr-lg-0"><a href="https://docs.github.com/site-policy/github-terms/github-terms-of-service" data-analytics-event="{&quot;category&quot;:&quot;Footer&quot;,&quot;action&quot;:&quot;go to terms&quot;,&quot;label&quot;:&quot;text:terms&quot;}">Terms</a></li>
          <li class="mr-3 mr-lg-0"><a href="https://docs.github.com/site-policy/privacy-policies/github-privacy-statement" data-analytics-event="{&quot;category&quot;:&quot;Footer&quot;,&quot;action&quot;:&quot;go to privacy&quot;,&quot;label&quot;:&quot;text:privacy&quot;}">Privacy</a></li>
          <li class="mr-3 mr-lg-0"><a data-analytics-event="{&quot;category&quot;:&quot;Footer&quot;,&quot;action&quot;:&quot;go to security&quot;,&quot;label&quot;:&quot;text:security&quot;}" href="https://github.com/security">Security</a></li>
          <li class="mr-3 mr-lg-0"><a href="https://www.githubstatus.com/" data-analytics-event="{&quot;category&quot;:&quot;Footer&quot;,&quot;action&quot;:&quot;go to status&quot;,&quot;label&quot;:&quot;text:status&quot;}">Status</a></li>
          <li class="mr-3 mr-lg-0"><a data-ga-click="Footer, go to help, text:Docs" href="https://docs.github.com">Docs</a></li>
          <li class="mr-3 mr-lg-0"><a href="https://support.github.com?tags=dotcom-footer" data-analytics-event="{&quot;category&quot;:&quot;Footer&quot;,&quot;action&quot;:&quot;go to contact&quot;,&quot;label&quot;:&quot;text:contact&quot;}">Contact GitHub</a></li>
          <li class="mr-3 mr-lg-0"><a href="https://github.com/pricing" data-analytics-event="{&quot;category&quot;:&quot;Footer&quot;,&quot;action&quot;:&quot;go to Pricing&quot;,&quot;label&quot;:&quot;text:Pricing&quot;}">Pricing</a></li>
        <li class="mr-3 mr-lg-0"><a href="https://docs.github.com" data-analytics-event="{&quot;category&quot;:&quot;Footer&quot;,&quot;action&quot;:&quot;go to api&quot;,&quot;label&quot;:&quot;text:api&quot;}">API</a></li>
        <li class="mr-3 mr-lg-0"><a href="https://services.github.com" data-analytics-event="{&quot;category&quot;:&quot;Footer&quot;,&quot;action&quot;:&quot;go to training&quot;,&quot;label&quot;:&quot;text:training&quot;}">Training</a></li>
          <li class="mr-3 mr-lg-0"><a href="https://github.blog" data-analytics-event="{&quot;category&quot;:&quot;Footer&quot;,&quot;action&quot;:&quot;go to blog&quot;,&quot;label&quot;:&quot;text:blog&quot;}">Blog</a></li>
          <li><a data-ga-click="Footer, go to about, text:about" href="https://github.com/about">About</a></li>
      </ul>
    </nav>
  </div>

  <div class="d-flex flex-justify-center pb-6">
    <span class="f6 color-fg-muted"></span>
  </div>
</footer>




  <div id="ajax-error-message" class="ajax-error-message flash flash-error" hidden>
    <svg aria-hidden="true" height="16" viewBox="0 0 16 16" version="1.1" width="16" data-view-component="true" class="octicon octicon-alert">
    <path d="M6.457 1.047c.659-1.234 2.427-1.234 3.086 0l6.082 11.378A1.75 1.75 0 0 1 14.082 15H1.918a1.75 1.75 0 0 1-1.543-2.575Zm1.763.707a.25.25 0 0 0-.44 0L1.698 13.132a.25.25 0 0 0 .22.368h12.164a.25.25 0 0 0 .22-.368Zm.53 3.996v2.5a.75.75 0 0 1-1.5 0v-2.5a.75.75 0 0 1 1.5 0ZM9 11a1 1 0 1 1-2 0 1 1 0 0 1 2 0Z"></path>
</svg>
    <button type="button" class="flash-close js-ajax-error-dismiss" aria-label="Dismiss error">
      <svg aria-hidden="true" height="16" viewBox="0 0 16 16" version="1.1" width="16" data-view-component="true" class="octicon octicon-x">
    <path d="M3.72 3.72a.75.75 0 0 1 1.06 0L8 6.94l3.22-3.22a.749.749 0 0 1 1.275.326.749.749 0 0 1-.215.734L9.06 8l3.22 3.22a.749.749 0 0 1-.326 1.275.749.749 0 0 1-.734-.215L8 9.06l-3.22 3.22a.751.751 0 0 1-1.042-.018.751.751 0 0 1-.018-1.042L6.94 8 3.72 4.78a.75.75 0 0 1 0-1.06Z"></path>
</svg>
    </button>
    You can’t perform that action at this time.
  </div>

    <template id="site-details-dialog">
  <details class="details-reset details-overlay details-overlay-dark lh-default color-fg-default hx_rsm" open>
    <summary role="button" aria-label="Close dialog"></summary>
    <details-dialog class="Box Box--overlay d-flex flex-column anim-fade-in fast hx_rsm-dialog hx_rsm-modal">
      <button class="Box-btn-octicon m-0 btn-octicon position-absolute right-0 top-0" type="button" aria-label="Close dialog" data-close-dialog>
        <svg aria-hidden="true" height="16" viewBox="0 0 16 16" version="1.1" width="16" data-view-component="true" class="octicon octicon-x">
    <path d="M3.72 3.72a.75.75 0 0 1 1.06 0L8 6.94l3.22-3.22a.749.749 0 0 1 1.275.326.749.749 0 0 1-.215.734L9.06 8l3.22 3.22a.749.749 0 0 1-.326 1.275.749.749 0 0 1-.734-.215L8 9.06l-3.22 3.22a.751.751 0 0 1-1.042-.018.751.751 0 0 1-.018-1.042L6.94 8 3.72 4.78a.75.75 0 0 1 0-1.06Z"></path>
</svg>
      </button>
      <div class="octocat-spinner my-6 js-details-dialog-spinner"></div>
    </details-dialog>
  </details>
</template>

    <div class="Popover js-hovercard-content position-absolute" style="display: none; outline: none;" tabindex="0">
  <div class="Popover-message Popover-message--bottom-left Popover-message--large Box color-shadow-large" style="width:360px;">
  </div>
</div>

    <template id="snippet-clipboard-copy-button">
  <div class="zeroclipboard-container position-absolute right-0 top-0">
    <clipboard-copy aria-label="Copy" class="ClipboardButton btn js-clipboard-copy m-2 p-0 tooltipped-no-delay" data-copy-feedback="Copied!" data-tooltip-direction="w">
      <svg aria-hidden="true" height="16" viewBox="0 0 16 16" version="1.1" width="16" data-view-component="true" class="octicon octicon-copy js-clipboard-copy-icon m-2">
    <path d="M0 6.75C0 5.784.784 5 1.75 5h1.5a.75.75 0 0 1 0 1.5h-1.5a.25.25 0 0 0-.25.25v7.5c0 .138.112.25.25.25h7.5a.25.25 0 0 0 .25-.25v-1.5a.75.75 0 0 1 1.5 0v1.5A1.75 1.75 0 0 1 9.25 16h-7.5A1.75 1.75 0 0 1 0 14.25Z"></path><path d="M5 1.75C5 .784 5.784 0 6.75 0h7.5C15.216 0 16 .784 16 1.75v7.5A1.75 1.75 0 0 1 14.25 11h-7.5A1.75 1.75 0 0 1 5 9.25Zm1.75-.25a.25.25 0 0 0-.25.25v7.5c0 .138.112.25.25.25h7.5a.25.25 0 0 0 .25-.25v-7.5a.25.25 0 0 0-.25-.25Z"></path>
</svg>
      <svg aria-hidden="true" height="16" viewBox="0 0 16 16" version="1.1" width="16" data-view-component="true" class="octicon octicon-check js-clipboard-check-icon color-fg-success d-none m-2">
    <path d="M13.78 4.22a.75.75 0 0 1 0 1.06l-7.25 7.25a.75.75 0 0 1-1.06 0L2.22 9.28a.751.751 0 0 1 .018-1.042.751.751 0 0 1 1.042-.018L6 10.94l6.72-6.72a.75.75 0 0 1 1.06 0Z"></path>
</svg>
    </clipboard-copy>
  </div>
</template>
<template id="snippet-clipboard-copy-button-unpositioned">
  <div class="zeroclipboard-container">
    <clipboard-copy aria-label="Copy" class="ClipboardButton btn btn-invisible js-clipboard-copy m-2 p-0 tooltipped-no-delay d-flex flex-justify-center flex-items-center" data-copy-feedback="Copied!" data-tooltip-direction="w">
      <svg aria-hidden="true" height="16" viewBox="0 0 16 16" version="1.1" width="16" data-view-component="true" class="octicon octicon-copy js-clipboard-copy-icon">
    <path d="M0 6.75C0 5.784.784 5 1.75 5h1.5a.75.75 0 0 1 0 1.5h-1.5a.25.25 0 0 0-.25.25v7.5c0 .138.112.25.25.25h7.5a.25.25 0 0 0 .25-.25v-1.5a.75.75 0 0 1 1.5 0v1.5A1.75 1.75 0 0 1 9.25 16h-7.5A1.75 1.75 0 0 1 0 14.25Z"></path><path d="M5 1.75C5 .784 5.784 0 6.75 0h7.5C15.216 0 16 .784 16 1.75v7.5A1.75 1.75 0 0 1 14.25 11h-7.5A1.75 1.75 0 0 1 5 9.25Zm1.75-.25a.25.25 0 0 0-.25.25v7.5c0 .138.112.25.25.25h7.5a.25.25 0 0 0 .25-.25v-7.5a.25.25 0 0 0-.25-.25Z"></path>
</svg>
      <svg aria-hidden="true" height="16" viewBox="0 0 16 16" version="1.1" width="16" data-view-component="true" class="octicon octicon-check js-clipboard-check-icon color-fg-success d-none">
    <path d="M13.78 4.22a.75.75 0 0 1 0 1.06l-7.25 7.25a.75.75 0 0 1-1.06 0L2.22 9.28a.751.751 0 0 1 .018-1.042.751.751 0 0 1 1.042-.018L6 10.94l6.72-6.72a.75.75 0 0 1 1.06 0Z"></path>
</svg>
    </clipboard-copy>
  </div>
</template>


    <style>
      .user-mention[href$="/RedFoxSR"] {
        color: var(--color-user-mention-fg);
        background-color: var(--color-user-mention-bg);
        border-radius: 2px;
        margin-left: -2px;
        margin-right: -2px;
        padding: 0 2px;
      }
    </style>


    </div>

    <div id="js-global-screen-reader-notice" class="sr-only" aria-live="polite" ></div>
  </body>
</html>



