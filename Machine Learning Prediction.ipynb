





<!DOCTYPE html>
<html lang="en" data-color-mode="auto" data-light-theme="light" data-dark-theme="dark"  data-a11y-animated-images="system">
  <head>
    <meta charset="utf-8">
  <link rel="dns-prefetch" href="https://github.githubassets.com">
  <link rel="dns-prefetch" href="https://avatars.githubusercontent.com">
  <link rel="dns-prefetch" href="https://github-cloud.s3.amazonaws.com">
  <link rel="dns-prefetch" href="https://user-images.githubusercontent.com/">
  <link rel="preconnect" href="https://github.githubassets.com" crossorigin>
  <link rel="preconnect" href="https://avatars.githubusercontent.com">

  


  <link crossorigin="anonymous" media="all" rel="stylesheet" href="https://github.githubassets.com/assets/light-8cafbcbd78f4.css" /><link crossorigin="anonymous" media="all" rel="stylesheet" href="https://github.githubassets.com/assets/dark-31dc14e38457.css" /><link data-color-theme="dark_dimmed" crossorigin="anonymous" media="all" rel="stylesheet" data-href="https://github.githubassets.com/assets/dark_dimmed-71414d661fe2.css" /><link data-color-theme="dark_high_contrast" crossorigin="anonymous" media="all" rel="stylesheet" data-href="https://github.githubassets.com/assets/dark_high_contrast-ba96c7f1d660.css" /><link data-color-theme="dark_colorblind" crossorigin="anonymous" media="all" rel="stylesheet" data-href="https://github.githubassets.com/assets/dark_colorblind-7471c22cdb6a.css" /><link data-color-theme="light_colorblind" crossorigin="anonymous" media="all" rel="stylesheet" data-href="https://github.githubassets.com/assets/light_colorblind-80180bed15ed.css" /><link data-color-theme="light_high_contrast" crossorigin="anonymous" media="all" rel="stylesheet" data-href="https://github.githubassets.com/assets/light_high_contrast-e89b9cdecb75.css" /><link data-color-theme="light_tritanopia" crossorigin="anonymous" media="all" rel="stylesheet" data-href="https://github.githubassets.com/assets/light_tritanopia-77f15e9154df.css" /><link data-color-theme="dark_tritanopia" crossorigin="anonymous" media="all" rel="stylesheet" data-href="https://github.githubassets.com/assets/dark_tritanopia-f598f8dd18ae.css" />
  
    <link crossorigin="anonymous" media="all" rel="stylesheet" href="https://github.githubassets.com/assets/primer-primitives-fb1d51d1ef66.css" />
    <link crossorigin="anonymous" media="all" rel="stylesheet" href="https://github.githubassets.com/assets/primer-05fec56eb582.css" />
    <link crossorigin="anonymous" media="all" rel="stylesheet" href="https://github.githubassets.com/assets/global-280e28c4e8be.css" />
    <link crossorigin="anonymous" media="all" rel="stylesheet" href="https://github.githubassets.com/assets/github-21dc4e5af19d.css" />
  <link crossorigin="anonymous" media="all" rel="stylesheet" href="https://github.githubassets.com/assets/code-ca6467096a82.css" />

  

  <script type="application/json" id="client-env">{"locale":"en","featureFlags":["failbot_handle_non_errors","fix_react_title","geojson_azure_maps","image_metric_tracking","remove_react_base_styles","turbo_experiment_risky","use_scroll_restoration"]}</script>
<script crossorigin="anonymous" defer="defer" type="application/javascript" src="https://github.githubassets.com/assets/wp-runtime-314e46461dd0.js"></script>
<script crossorigin="anonymous" defer="defer" type="application/javascript" src="https://github.githubassets.com/assets/vendors-node_modules_dompurify_dist_purify_js-64d590970fa6.js"></script>
<script crossorigin="anonymous" defer="defer" type="application/javascript" src="https://github.githubassets.com/assets/vendors-node_modules_stacktrace-parser_dist_stack-trace-parser_esm_js-node_modules_github_bro-a4c183-ae93d3fba59c.js"></script>
<script crossorigin="anonymous" defer="defer" type="application/javascript" src="https://github.githubassets.com/assets/ui_packages_soft-nav_soft-nav_ts-78d5d34f4891.js"></script>
<script crossorigin="anonymous" defer="defer" type="application/javascript" src="https://github.githubassets.com/assets/environment-c2140938ffde.js"></script>
<script crossorigin="anonymous" defer="defer" type="application/javascript" src="https://github.githubassets.com/assets/vendors-node_modules_github_selector-observer_dist_index_esm_js-2646a2c533e3.js"></script>
<script crossorigin="anonymous" defer="defer" type="application/javascript" src="https://github.githubassets.com/assets/vendors-node_modules_primer_behaviors_dist_esm_focus-zone_js-d55308df5023.js"></script>
<script crossorigin="anonymous" defer="defer" type="application/javascript" src="https://github.githubassets.com/assets/vendors-node_modules_github_relative-time-element_dist_index_js-99e288659d4f.js"></script>
<script crossorigin="anonymous" defer="defer" type="application/javascript" src="https://github.githubassets.com/assets/vendors-node_modules_fzy_js_index_js-node_modules_github_markdown-toolbar-element_dist_index_js-d2119e75298d.js"></script>
<script crossorigin="anonymous" defer="defer" type="application/javascript" src="https://github.githubassets.com/assets/vendors-node_modules_delegated-events_dist_index_js-node_modules_github_auto-complete-element-5b3870-9b38c0812424.js"></script>
<script crossorigin="anonymous" defer="defer" type="application/javascript" src="https://github.githubassets.com/assets/vendors-node_modules_github_filter-input-element_dist_index_js-node_modules_github_remote-inp-8873b7-5771678648e0.js"></script>
<script crossorigin="anonymous" defer="defer" type="application/javascript" src="https://github.githubassets.com/assets/vendors-node_modules_github_file-attachment-element_dist_index_js-node_modules_github_text-ex-3415a8-7ecc10fb88d0.js"></script>
<script crossorigin="anonymous" defer="defer" type="application/javascript" src="https://github.githubassets.com/assets/vendors-node_modules_primer_view-components_app_components_primer_primer_js-node_modules_gith-e7a1e2-0c753046063c.js"></script>
<script crossorigin="anonymous" defer="defer" type="application/javascript" src="https://github.githubassets.com/assets/github-elements-82e8d1a2fb81.js"></script>
<script crossorigin="anonymous" defer="defer" type="application/javascript" src="https://github.githubassets.com/assets/element-registry-0c082928b31c.js"></script>
<script crossorigin="anonymous" defer="defer" type="application/javascript" src="https://github.githubassets.com/assets/vendors-node_modules_lit-html_lit-html_js-9d9fe1859ce5.js"></script>
<script crossorigin="anonymous" defer="defer" type="application/javascript" src="https://github.githubassets.com/assets/vendors-node_modules_github_hydro-analytics-client_dist_analytics-client_js-node_modules_gith-f3aee1-fd3c22610e40.js"></script>
<script crossorigin="anonymous" defer="defer" type="application/javascript" src="https://github.githubassets.com/assets/vendors-node_modules_morphdom_dist_morphdom-esm_js-b1fdd7158cf0.js"></script>
<script crossorigin="anonymous" defer="defer" type="application/javascript" src="https://github.githubassets.com/assets/vendors-node_modules_github_mini-throttle_dist_index_js-node_modules_github_alive-client_dist-bf5aa2-4aefce0fc3c8.js"></script>
<script crossorigin="anonymous" defer="defer" type="application/javascript" src="https://github.githubassets.com/assets/vendors-node_modules_github_turbo_dist_turbo_es2017-esm_js-1f4793023fcd.js"></script>
<script crossorigin="anonymous" defer="defer" type="application/javascript" src="https://github.githubassets.com/assets/vendors-node_modules_github_remote-form_dist_index_js-node_modules_scroll-anchoring_dist_scro-52dc4b-e1e33bfc0b7e.js"></script>
<script crossorigin="anonymous" defer="defer" type="application/javascript" src="https://github.githubassets.com/assets/vendors-node_modules_color-convert_index_js-35b3ae68c408.js"></script>
<script crossorigin="anonymous" defer="defer" type="application/javascript" src="https://github.githubassets.com/assets/vendors-node_modules_github_paste-markdown_dist_index_esm_js-node_modules_github_quote-select-7a8e2b-f036384374ea.js"></script>
<script crossorigin="anonymous" defer="defer" type="application/javascript" src="https://github.githubassets.com/assets/app_assets_modules_github_updatable-content_ts-126aeb5c22c9.js"></script>
<script crossorigin="anonymous" defer="defer" type="application/javascript" src="https://github.githubassets.com/assets/app_assets_modules_github_behaviors_task-list_ts-app_assets_modules_github_onfocus_ts-app_ass-079b43-c46fa3ecf26e.js"></script>
<script crossorigin="anonymous" defer="defer" type="application/javascript" src="https://github.githubassets.com/assets/app_assets_modules_github_sticky-scroll-into-view_ts-050ad6637d58.js"></script>
<script crossorigin="anonymous" defer="defer" type="application/javascript" src="https://github.githubassets.com/assets/app_assets_modules_github_blob-anchor_ts-app_assets_modules_github_cookies_ts-app_assets_modu-4c025d-7e5d24b6e472.js"></script>
<script crossorigin="anonymous" defer="defer" type="application/javascript" src="https://github.githubassets.com/assets/app_assets_modules_github_behaviors_commenting_edit_ts-app_assets_modules_github_behaviors_ht-83c235-f22ac6b94445.js"></script>
<script crossorigin="anonymous" defer="defer" type="application/javascript" src="https://github.githubassets.com/assets/app_assets_modules_github_behaviors_ajax-error_ts-app_assets_modules_github_behaviors_include-2e2258-113626c1b575.js"></script>
<script crossorigin="anonymous" defer="defer" type="application/javascript" src="https://github.githubassets.com/assets/behaviors-dd3089ddb7d6.js"></script>
<script crossorigin="anonymous" defer="defer" type="application/javascript" src="https://github.githubassets.com/assets/vendors-node_modules_delegated-events_dist_index_js-node_modules_github_catalyst_lib_index_js-06ff531-fe0b8ccc90a5.js"></script>
<script crossorigin="anonymous" defer="defer" type="application/javascript" src="https://github.githubassets.com/assets/notifications-global-f57687007bfc.js"></script>
<script crossorigin="anonymous" defer="defer" type="application/javascript" src="https://github.githubassets.com/assets/code-menu-7eb31ccaaf48.js"></script>
  
  <script crossorigin="anonymous" defer="defer" type="application/javascript" src="https://github.githubassets.com/assets/react-lib-210c4b5934c3.js"></script>
<script crossorigin="anonymous" defer="defer" type="application/javascript" src="https://github.githubassets.com/assets/vendors-node_modules_primer_octicons-react_dist_index_esm_js-node_modules_primer_react_lib-es-4edbf7-ca2c3bc7a680.js"></script>
<script crossorigin="anonymous" defer="defer" type="application/javascript" src="https://github.githubassets.com/assets/vendors-node_modules_primer_react_lib-esm_Button_index_js-de75df76800b.js"></script>
<script crossorigin="anonymous" defer="defer" type="application/javascript" src="https://github.githubassets.com/assets/vendors-node_modules_primer_react_lib-esm_ActionList_index_js-cf279ec390fe.js"></script>
<script crossorigin="anonymous" defer="defer" type="application/javascript" src="https://github.githubassets.com/assets/vendors-node_modules_primer_react_lib-esm_Overlay_Overlay_js-node_modules_primer_react_lib-es-c25505-7256d09cc6de.js"></script>
<script crossorigin="anonymous" defer="defer" type="application/javascript" src="https://github.githubassets.com/assets/vendors-node_modules_primer_react_lib-esm_TextInput_TextInput_js-bda16ad5f5c0.js"></script>
<script crossorigin="anonymous" defer="defer" type="application/javascript" src="https://github.githubassets.com/assets/vendors-node_modules_primer_react_lib-esm_ActionMenu_js-fb2356b308cf.js"></script>
<script crossorigin="anonymous" defer="defer" type="application/javascript" src="https://github.githubassets.com/assets/vendors-node_modules_primer_behaviors_dist_esm_scroll-into-view_js-node_modules_primer_react_-04bb1b-f1078ffd63d6.js"></script>
<script crossorigin="anonymous" defer="defer" type="application/javascript" src="https://github.githubassets.com/assets/vendors-node_modules_primer_react_lib-esm_FormControl_FormControl_js-3ec7b5d8c7d7.js"></script>
<script crossorigin="anonymous" defer="defer" type="application/javascript" src="https://github.githubassets.com/assets/vendors-node_modules_react-router-dom_dist_index_js-4a785319b497.js"></script>
<script crossorigin="anonymous" defer="defer" type="application/javascript" src="https://github.githubassets.com/assets/vendors-node_modules_primer_react_lib-esm_Heading_Heading_js-node_modules_primer_react_lib-es-20c766-3952b4d6d547.js"></script>
<script crossorigin="anonymous" defer="defer" type="application/javascript" src="https://github.githubassets.com/assets/vendors-node_modules_primer_react_lib-esm_Dialog_ConfirmationDialog_js-a160e95ee1e8.js"></script>
<script crossorigin="anonymous" defer="defer" type="application/javascript" src="https://github.githubassets.com/assets/vendors-node_modules_primer_react_lib-esm_Dialog_js-node_modules_primer_react_lib-esm_TabNav_-8321f5-f6c3aa4bc5a3.js"></script>
<script crossorigin="anonymous" defer="defer" type="application/javascript" src="https://github.githubassets.com/assets/vendors-node_modules_primer_react_lib-esm_TreeView_TreeView_js-2d5a3fb3b8ec.js"></script>
<script crossorigin="anonymous" defer="defer" type="application/javascript" src="https://github.githubassets.com/assets/vendors-node_modules_primer_react_lib-esm_Label_Label_js-node_modules_primer_react_lib-esm_Na-46dd9b-87cea263d02a.js"></script>
<script crossorigin="anonymous" defer="defer" type="application/javascript" src="https://github.githubassets.com/assets/vendors-node_modules_primer_react_lib-esm_AvatarStack_AvatarStack_js-node_modules_primer_reac-0b4173-d8ba3894d9e9.js"></script>
<script crossorigin="anonymous" defer="defer" type="application/javascript" src="https://github.githubassets.com/assets/vendors-node_modules_primer_react_lib-esm_Avatar_Avatar_js-node_modules_primer_react_lib-esm_-df8a0c-dd641d38ef01.js"></script>
<script crossorigin="anonymous" defer="defer" type="application/javascript" src="https://github.githubassets.com/assets/ui_packages_react-core_create-browser-history_ts-ui_packages_react-core_deferred-registry_ts--ebbb92-50880bdc5744.js"></script>
<script crossorigin="anonymous" defer="defer" type="application/javascript" src="https://github.githubassets.com/assets/ui_packages_react-core_register-app_ts-93cc6fb20bd5.js"></script>
<script crossorigin="anonymous" defer="defer" type="application/javascript" src="https://github.githubassets.com/assets/ui_packages_ref-selector_RefSelector_tsx-ui_packages_safe-html_SafeHTML_tsx-5e5aa97558ac.js"></script>
<script crossorigin="anonymous" defer="defer" type="application/javascript" src="https://github.githubassets.com/assets/app_assets_modules_blackbird-monolith_utilities_append-and-focus-search-bar_ts-app_assets_mod-a1e934-d2871ae49f44.js"></script>
<script crossorigin="anonymous" defer="defer" type="application/javascript" src="https://github.githubassets.com/assets/ui_packages_trusted-types-policies_policy_ts-ui_packages_trusted-types_trusted-types_ts-app_a-af1c83-8cd0d1b59838.js"></script>
<script crossorigin="anonymous" defer="defer" type="application/javascript" src="https://github.githubassets.com/assets/react-code-view-69c93727396c.js"></script>


  <title>IBM_Data_Science_Professional_Certification/10.Applied_Data_Science_Capstone/Week 4 Predictive Analysis (Classification)/Machine Learning Prediction.ipynb at master · navassherif98/IBM_Data_Science_Professional_Certification</title>



  <meta name="route-pattern" content="/:user_id/:repository/blob/*name(/*path)">

    
  <meta name="current-catalog-service-hash" content="82c569b93da5c18ed649ebd4c2c79437db4611a6a1373e805a3cb001c64130b7">


  <meta name="request-id" content="205D:27FD9:3ED0BB:42EC9B:64C8F402" data-turbo-transient="true" /><meta name="html-safe-nonce" content="e3b803e51122aedd8a424112e111f4af306058d8700d86aa4258d664195ad4fb" data-turbo-transient="true" /><meta name="visitor-payload" content="eyJyZWZlcnJlciI6Imh0dHBzOi8vZ2l0aHViLmNvbS9uYXZhc3NoZXJpZjk4L0lCTV9EYXRhX1NjaWVuY2VfUHJvZmVzc2lvbmFsX0NlcnRpZmljYXRpb24vdHJlZS9tYXN0ZXIvMTAuQXBwbGllZF9EYXRhX1NjaWVuY2VfQ2Fwc3RvbmUvV2VlayUyMDQlMjBQcmVkaWN0aXZlJTIwQW5hbHlzaXMlMjAoQ2xhc3NpZmljYXRpb24pIiwicmVxdWVzdF9pZCI6IjIwNUQ6MjdGRDk6M0VEMEJCOjQyRUM5Qjo2NEM4RjQwMiIsInZpc2l0b3JfaWQiOiIxNzQ4NjUxMTM1NDUxOTc2NjY5IiwicmVnaW9uX2VkZ2UiOiJjZW50cmFsaW5kaWEiLCJyZWdpb25fcmVuZGVyIjoiaWFkIn0=" data-turbo-transient="true" /><meta name="visitor-hmac" content="9f5fb0a1ea236af0655c92bb2afeabc1840a946edbad925a5b8ecf136ba53618" data-turbo-transient="true" />


    <meta name="hovercard-subject-tag" content="repository:398720371" data-turbo-transient>


  <meta name="github-keyboard-shortcuts" content="repository,source-code,file-tree" data-turbo-transient="true" />
  

  <meta name="selected-link" value="repo_source" data-turbo-transient>
  <link rel="assets" href="https://github.githubassets.com/">

    <meta name="google-site-verification" content="c1kuD-K2HIVF635lypcsWPoD4kilo5-jA_wBFyT4uMY">
  <meta name="google-site-verification" content="KT5gs8h0wvaagLKAVWq8bbeNwnZZK1r1XQysX3xurLU">
  <meta name="google-site-verification" content="ZzhVyEFwb7w3e0-uOTltm8Jsck2F5StVihD0exw2fsA">
  <meta name="google-site-verification" content="GXs5KoUUkNCoaAZn7wPN-t01Pywp9M3sEjnt_3_ZWPc">
  <meta name="google-site-verification" content="Apib7-x98H0j5cPqHWwSMm6dNU4GmODRoqxLiDzdx9I">

<meta name="octolytics-url" content="https://collector.github.com/github/collect" /><meta name="octolytics-actor-id" content="139646021" /><meta name="octolytics-actor-login" content="RedFoxSR" /><meta name="octolytics-actor-hash" content="c73f24ff7e5167ed6762459e0d94ba1140b7f2646e2f14e88ac77c681ca00a44" />

  <meta name="analytics-location" content="/&lt;user-name&gt;/&lt;repo-name&gt;/blob/show" data-turbo-transient="true" />

  




  

    <meta name="user-login" content="RedFoxSR">

  <link rel="sudo-modal" href="/sessions/sudo_modal">

    <meta name="viewport" content="width=device-width">
    
      <meta name="description" content="This repository contains all the resources and solution to quizzes given and asked in IBM Data Science Professional Certification. - IBM_Data_Science_Professional_Certification/10.Applied_Data_Science_Capstone/Week 4 Predictive Analysis (Classification)/Machine Learning Prediction.ipynb at master · navassherif98/IBM_Data_Science_Professional_Certification">
      <link rel="search" type="application/opensearchdescription+xml" href="/opensearch.xml" title="GitHub">
    <link rel="fluid-icon" href="https://github.com/fluidicon.png" title="GitHub">
    <meta property="fb:app_id" content="1401488693436528">
    <meta name="apple-itunes-app" content="app-id=1477376905, app-argument=https://github.com/navassherif98/IBM_Data_Science_Professional_Certification/blob/master/10.Applied_Data_Science_Capstone/Week%204%20Predictive%20Analysis%20(Classification)/Machine%20Learning%20Prediction.ipynb" />
      <meta name="twitter:image:src" content="https://opengraph.githubassets.com/eed0a8f83e2495ad386b9fa4a900f89c25274e513078f3702c0a244f93aa8d80/navassherif98/IBM_Data_Science_Professional_Certification" /><meta name="twitter:site" content="@github" /><meta name="twitter:card" content="summary_large_image" /><meta name="twitter:title" content="IBM_Data_Science_Professional_Certification/10.Applied_Data_Science_Capstone/Week 4 Predictive Analysis (Classification)/Machine Learning Prediction.ipynb at master · navassherif98/IBM_Data_Science_Professional_Certification" /><meta name="twitter:description" content="This repository contains all the resources and solution to quizzes given and asked in IBM Data Science Professional Certification. - navassherif98/IBM_Data_Science_Professional_Certification" />
      <meta property="og:image" content="https://opengraph.githubassets.com/eed0a8f83e2495ad386b9fa4a900f89c25274e513078f3702c0a244f93aa8d80/navassherif98/IBM_Data_Science_Professional_Certification" /><meta property="og:image:alt" content="This repository contains all the resources and solution to quizzes given and asked in IBM Data Science Professional Certification. - navassherif98/IBM_Data_Science_Professional_Certification" /><meta property="og:image:width" content="1200" /><meta property="og:image:height" content="600" /><meta property="og:site_name" content="GitHub" /><meta property="og:type" content="object" /><meta property="og:title" content="IBM_Data_Science_Professional_Certification/10.Applied_Data_Science_Capstone/Week 4 Predictive Analysis (Classification)/Machine Learning Prediction.ipynb at master · navassherif98/IBM_Data_Science_Professional_Certification" /><meta property="og:url" content="https://github.com/navassherif98/IBM_Data_Science_Professional_Certification/blob/master/10.Applied_Data_Science_Capstone/Week%204%20Predictive%20Analysis%20(Classification)/Machine%20Learning%20Prediction.ipynb" /><meta property="og:description" content="This repository contains all the resources and solution to quizzes given and asked in IBM Data Science Professional Certification. - navassherif98/IBM_Data_Science_Professional_Certification" />
      

      <link rel="shared-web-socket" href="wss://alive.github.com/_sockets/u/139646021/ws?session=eyJ2IjoiVjMiLCJ1IjoxMzk2NDYwMjEsInMiOjExNTk5NTE3NDEsImMiOjIzMDQwNTI3MzAsInQiOjE2OTA4OTEyNjl9--892e9f516dcd83cd50cf9b0a2d75758887f435af04eeeea00c57ae91af8b689b" data-refresh-url="/_alive" data-session-id="c5a22c9e63a841c773d636cac18d5e174aabbe85c0de6d39c3d62f4f2ddea942">
      <link rel="shared-web-socket-src" href="/assets-cdn/worker/socket-worker-71e98f781d79.js">


        <meta name="hostname" content="github.com">


      <meta name="keyboard-shortcuts-preference" content="all">

        <meta name="expected-hostname" content="github.com">

    <meta name="enabled-features" content="FAILBOT_HANDLE_NON_ERRORS,FIX_REACT_TITLE,GEOJSON_AZURE_MAPS,IMAGE_METRIC_TRACKING,REMOVE_REACT_BASE_STYLES,TURBO_EXPERIMENT_RISKY,USE_SCROLL_RESTORATION">


  <meta http-equiv="x-pjax-version" content="5d674ace59197e45f30b3dc940bbd3105acce8f8602918223f02a19b59c98206" data-turbo-track="reload">
  <meta http-equiv="x-pjax-csp-version" content="d578db686ab50f6f79f53006983acd122464dfeec8531d38fe12d520f9cbf1bc" data-turbo-track="reload">
  <meta http-equiv="x-pjax-css-version" content="47de9ea4ba354274ad6fb00f07b40f43b45df955eb0f7b9cfe16932b5e192042" data-turbo-track="reload">
  <meta http-equiv="x-pjax-js-version" content="970388cd6ab9eecc98b57395f0f5f49df60565456b944b0da471e69800614203" data-turbo-track="reload">

  <meta name="turbo-cache-control" content="no-preview" data-turbo-transient="">

      <meta name="turbo-cache-control" content="no-cache" data-turbo-transient>
    <meta data-hydrostats="publish">

  <meta name="go-import" content="github.com/navassherif98/IBM_Data_Science_Professional_Certification git https://github.com/navassherif98/IBM_Data_Science_Professional_Certification.git">

  <meta name="octolytics-dimension-user_id" content="55757415" /><meta name="octolytics-dimension-user_login" content="navassherif98" /><meta name="octolytics-dimension-repository_id" content="398720371" /><meta name="octolytics-dimension-repository_nwo" content="navassherif98/IBM_Data_Science_Professional_Certification" /><meta name="octolytics-dimension-repository_public" content="true" /><meta name="octolytics-dimension-repository_is_fork" content="false" /><meta name="octolytics-dimension-repository_network_root_id" content="398720371" /><meta name="octolytics-dimension-repository_network_root_nwo" content="navassherif98/IBM_Data_Science_Professional_Certification" />



  <meta name="turbo-body-classes" content="logged-in env-production page-responsive">


  <meta name="browser-stats-url" content="https://api.github.com/_private/browser/stats">

  <meta name="browser-errors-url" content="https://api.github.com/_private/browser/errors">

  <meta name="browser-optimizely-client-errors-url" content="https://api.github.com/_private/browser/optimizely_client/errors">

  <link rel="mask-icon" href="https://github.githubassets.com/pinned-octocat.svg" color="#000000">
  <link rel="alternate icon" class="js-site-favicon" type="image/png" href="https://github.githubassets.com/favicons/favicon.png">
  <link rel="icon" class="js-site-favicon" type="image/svg+xml" href="https://github.githubassets.com/favicons/favicon.svg">

<meta name="theme-color" content="#1e2327">
<meta name="color-scheme" content="light dark" />


  <link rel="manifest" href="/manifest.json" crossOrigin="use-credentials">

  </head>

  <body class="logged-in env-production page-responsive" style="word-wrap: break-word;">
    <div data-turbo-body class="logged-in env-production page-responsive" style="word-wrap: break-word;">
      


    <div class="position-relative js-header-wrapper ">
      <a href="#start-of-content" class="p-3 color-bg-accent-emphasis color-fg-on-emphasis show-on-focus js-skip-to-content">Skip to content</a>
      <span data-view-component="true" class="progress-pjax-loader Progress position-fixed width-full">
    <span style="width: 0%;" data-view-component="true" class="Progress-item progress-pjax-loader-bar left-0 top-0 color-bg-accent-emphasis"></span>
</span>      
      


      

        <script crossorigin="anonymous" defer="defer" type="application/javascript" src="https://github.githubassets.com/assets/vendors-node_modules_allex_crc32_lib_crc32_esm_js-node_modules_github_clipboard-copy-element_-2da1d5-ca2e742c29fb.js"></script>
<script crossorigin="anonymous" defer="defer" type="application/javascript" src="https://github.githubassets.com/assets/app_assets_modules_github_command-palette_items_help-item_ts-app_assets_modules_github_comman-48ad9d-8ba961365e27.js"></script>
<script crossorigin="anonymous" defer="defer" type="application/javascript" src="https://github.githubassets.com/assets/command-palette-afa8aec97e66.js"></script>

            <header class="AppHeader">
    <div class="AppHeader-globalBar pb-2 js-global-bar">
      <div class="AppHeader-globalBar-start">
          <deferred-side-panel data-url="/_side-panels/global">
  <include-fragment data-target="deferred-side-panel.fragment">
      
  <button aria-label="Open global navigation menu" data-action="click:deferred-side-panel#loadPanel click:deferred-side-panel#panelOpened" data-show-dialog-id="dialog-bab00d31-3ef9-4f01-9a09-121adc2890b5" id="dialog-show-dialog-bab00d31-3ef9-4f01-9a09-121adc2890b5" type="button" data-view-component="true" class="Button Button--iconOnly Button--secondary Button--medium AppHeader-button color-bg-transparent p-0 color-fg-muted">    <svg aria-hidden="true" height="16" viewBox="0 0 16 16" version="1.1" width="16" data-view-component="true" class="octicon octicon-three-bars Button-visual">
    <path d="M1 2.75A.75.75 0 0 1 1.75 2h12.5a.75.75 0 0 1 0 1.5H1.75A.75.75 0 0 1 1 2.75Zm0 5A.75.75 0 0 1 1.75 7h12.5a.75.75 0 0 1 0 1.5H1.75A.75.75 0 0 1 1 7.75ZM1.75 12h12.5a.75.75 0 0 1 0 1.5H1.75a.75.75 0 0 1 0-1.5Z"></path>
</svg>
</button>  

<div class="Overlay--hidden Overlay-backdrop--side Overlay-backdrop--placement-left" data-modal-dialog-overlay>
  <modal-dialog data-target="deferred-side-panel.panel" role="dialog" id="dialog-bab00d31-3ef9-4f01-9a09-121adc2890b5" aria-modal="true" aria-disabled="true" aria-describedby="dialog-bab00d31-3ef9-4f01-9a09-121adc2890b5-title dialog-bab00d31-3ef9-4f01-9a09-121adc2890b5-description" data-view-component="true" class="Overlay Overlay-whenNarrow Overlay--size-small-portrait Overlay--motion-scaleFade SidePanel">
    <div styles="flex-direction: row;" data-view-component="true" class="Overlay-header">
  <div class="Overlay-headerContentWrap">
    <div class="Overlay-titleWrap">
      <h1 class="Overlay-title sr-only" id="dialog-bab00d31-3ef9-4f01-9a09-121adc2890b5-title">
        Global navigation
      </h1>
            <div data-view-component="true" class="d-flex">
      <div data-view-component="true" class="AppHeader-logo position-relative">
        <svg aria-hidden="true" height="24" viewBox="0 0 16 16" version="1.1" width="24" data-view-component="true" class="octicon octicon-mark-github">
    <path d="M8 0c4.42 0 8 3.58 8 8a8.013 8.013 0 0 1-5.45 7.59c-.4.08-.55-.17-.55-.38 0-.27.01-1.13.01-2.2 0-.75-.25-1.23-.54-1.48 1.78-.2 3.65-.88 3.65-3.95 0-.88-.31-1.59-.82-2.15.08-.2.36-1.02-.08-2.12 0 0-.67-.22-2.2.82-.64-.18-1.32-.27-2-.27-.68 0-1.36.09-2 .27-1.53-1.03-2.2-.82-2.2-.82-.44 1.1-.16 1.92-.08 2.12-.51.56-.82 1.28-.82 2.15 0 3.06 1.86 3.75 3.64 3.95-.23.2-.44.55-.51 1.07-.46.21-1.61.55-2.33-.66-.15-.24-.6-.83-1.23-.82-.67.01-.27.38.01.53.34.19.73.9.82 1.13.16.45.68 1.31 2.69.94 0 .67.01 1.3.01 1.49 0 .21-.15.45-.55.38A7.995 7.995 0 0 1 0 8c0-4.42 3.58-8 8-8Z"></path>
</svg>
</div></div>
    </div>
    <div class="Overlay-actionWrap">
      <button data-close-dialog-id="dialog-bab00d31-3ef9-4f01-9a09-121adc2890b5" aria-label="Close" type="button" data-view-component="true" class="close-button Overlay-closeButton"><svg aria-hidden="true" height="16" viewBox="0 0 16 16" version="1.1" width="16" data-view-component="true" class="octicon octicon-x">
    <path d="M3.72 3.72a.75.75 0 0 1 1.06 0L8 6.94l3.22-3.22a.749.749 0 0 1 1.275.326.749.749 0 0 1-.215.734L9.06 8l3.22 3.22a.749.749 0 0 1-.326 1.275.749.749 0 0 1-.734-.215L8 9.06l-3.22 3.22a.751.751 0 0 1-1.042-.018.751.751 0 0 1-.018-1.042L6.94 8 3.72 4.78a.75.75 0 0 1 0-1.06Z"></path>
</svg></button>
    </div>
  </div>
</div>
      <div data-view-component="true" class="Overlay-body d-flex flex-column height-full px-2">      <nav aria-label="Site navigation" data-view-component="true" class="ActionList">
  
  <nav-list>
    <ul data-view-component="true" class="ActionListWrap">
        
          
<li item_id="general" data-item-id="" data-targets="nav-list.items" data-view-component="true" class="ActionListItem">
    
    <a data-hotkey="g d" hydro-click="{&quot;event_type&quot;:&quot;global_header.user_menu_dropdown.click&quot;,&quot;payload&quot;:{&quot;request_url&quot;:&quot;https://github.com/navassherif98/IBM_Data_Science_Professional_Certification/blob/master/10.Applied_Data_Science_Capstone/Week%204%20Predictive%20Analysis%20(Classification)/Machine%20Learning%20Prediction.ipynb&quot;,&quot;target&quot;:&quot;HOME&quot;,&quot;originating_url&quot;:&quot;https://github.com/navassherif98/IBM_Data_Science_Professional_Certification/blob/master/10.Applied_Data_Science_Capstone/Week%204%20Predictive%20Analysis%20(Classification)/Machine%20Learning%20Prediction.ipynb&quot;,&quot;user_id&quot;:139646021}}" hydro-click-hmac="894ffa0484f6dd76da15f75e0b0a59acebe84804f0a4e5f2ab07b5188fd0d3e2" id="item-dcfe28a3-1a6c-4464-82b4-f20488f6ecf1" href="/dashboard" data-view-component="true" class="ActionListContent ActionListContent--visual16">
        <span class="ActionListItem-visual ActionListItem-visual--leading">
          <svg aria-hidden="true" height="16" viewBox="0 0 16 16" version="1.1" width="16" data-view-component="true" class="octicon octicon-home">
    <path d="M6.906.664a1.749 1.749 0 0 1 2.187 0l5.25 4.2c.415.332.657.835.657 1.367v7.019A1.75 1.75 0 0 1 13.25 15h-3.5a.75.75 0 0 1-.75-.75V9H7v5.25a.75.75 0 0 1-.75.75h-3.5A1.75 1.75 0 0 1 1 13.25V6.23c0-.531.242-1.034.657-1.366l5.25-4.2Zm1.25 1.171a.25.25 0 0 0-.312 0l-5.25 4.2a.25.25 0 0 0-.094.196v7.019c0 .138.112.25.25.25H5.5V8.25a.75.75 0 0 1 .75-.75h3.5a.75.75 0 0 1 .75.75v5.25h2.75a.25.25 0 0 0 .25-.25V6.23a.25.25 0 0 0-.094-.195Z"></path>
</svg>
        </span>
      
        <span data-view-component="true" class="ActionListItem-label">
          Home
</span></a>
  
  
</li>

        
          
<li item_id="personal_info" data-item-id="" data-targets="nav-list.items" data-view-component="true" class="ActionListItem">
    
    <a data-hotkey="g i" hydro-click="{&quot;event_type&quot;:&quot;global_header.user_menu_dropdown.click&quot;,&quot;payload&quot;:{&quot;request_url&quot;:&quot;https://github.com/navassherif98/IBM_Data_Science_Professional_Certification/blob/master/10.Applied_Data_Science_Capstone/Week%204%20Predictive%20Analysis%20(Classification)/Machine%20Learning%20Prediction.ipynb&quot;,&quot;target&quot;:&quot;ISSUES&quot;,&quot;originating_url&quot;:&quot;https://github.com/navassherif98/IBM_Data_Science_Professional_Certification/blob/master/10.Applied_Data_Science_Capstone/Week%204%20Predictive%20Analysis%20(Classification)/Machine%20Learning%20Prediction.ipynb&quot;,&quot;user_id&quot;:139646021}}" hydro-click-hmac="b242c615a19671243401c15ec57153f29bc6f885eb7d714bc6fa0fab6745751f" id="item-9a01ddca-efdc-4a85-b59d-7330218792b0" href="/issues" data-view-component="true" class="ActionListContent ActionListContent--visual16">
        <span class="ActionListItem-visual ActionListItem-visual--leading">
          <svg aria-hidden="true" height="16" viewBox="0 0 16 16" version="1.1" width="16" data-view-component="true" class="octicon octicon-issue-opened">
    <path d="M8 9.5a1.5 1.5 0 1 0 0-3 1.5 1.5 0 0 0 0 3Z"></path><path d="M8 0a8 8 0 1 1 0 16A8 8 0 0 1 8 0ZM1.5 8a6.5 6.5 0 1 0 13 0 6.5 6.5 0 0 0-13 0Z"></path>
</svg>
        </span>
      
        <span data-view-component="true" class="ActionListItem-label">
          Issues
</span></a>
  
  
</li>

        
          
<li item_id="password" data-item-id="" data-targets="nav-list.items" data-view-component="true" class="ActionListItem">
    
    <a data-hotkey="g p" hydro-click="{&quot;event_type&quot;:&quot;global_header.user_menu_dropdown.click&quot;,&quot;payload&quot;:{&quot;request_url&quot;:&quot;https://github.com/navassherif98/IBM_Data_Science_Professional_Certification/blob/master/10.Applied_Data_Science_Capstone/Week%204%20Predictive%20Analysis%20(Classification)/Machine%20Learning%20Prediction.ipynb&quot;,&quot;target&quot;:&quot;PULL_REQUESTS&quot;,&quot;originating_url&quot;:&quot;https://github.com/navassherif98/IBM_Data_Science_Professional_Certification/blob/master/10.Applied_Data_Science_Capstone/Week%204%20Predictive%20Analysis%20(Classification)/Machine%20Learning%20Prediction.ipynb&quot;,&quot;user_id&quot;:139646021}}" hydro-click-hmac="3bd290ac7d510f39ff239251720f99c30f35fdc106db530937f8a8164f55d083" id="item-604ef4ab-9cb5-48e9-953a-5f9074d18696" href="/pulls" data-view-component="true" class="ActionListContent ActionListContent--visual16">
        <span class="ActionListItem-visual ActionListItem-visual--leading">
          <svg aria-hidden="true" height="16" viewBox="0 0 16 16" version="1.1" width="16" data-view-component="true" class="octicon octicon-git-pull-request">
    <path d="M1.5 3.25a2.25 2.25 0 1 1 3 2.122v5.256a2.251 2.251 0 1 1-1.5 0V5.372A2.25 2.25 0 0 1 1.5 3.25Zm5.677-.177L9.573.677A.25.25 0 0 1 10 .854V2.5h1A2.5 2.5 0 0 1 13.5 5v5.628a2.251 2.251 0 1 1-1.5 0V5a1 1 0 0 0-1-1h-1v1.646a.25.25 0 0 1-.427.177L7.177 3.427a.25.25 0 0 1 0-.354ZM3.75 2.5a.75.75 0 1 0 0 1.5.75.75 0 0 0 0-1.5Zm0 9.5a.75.75 0 1 0 0 1.5.75.75 0 0 0 0-1.5Zm8.25.75a.75.75 0 1 0 1.5 0 .75.75 0 0 0-1.5 0Z"></path>
</svg>
        </span>
      
        <span data-view-component="true" class="ActionListItem-label">
          Pull requests
</span></a>
  
  
</li>

        
          
<li item_id="billing" data-item-id="" data-targets="nav-list.items" data-view-component="true" class="ActionListItem">
    
    <a hydro-click="{&quot;event_type&quot;:&quot;global_header.user_menu_dropdown.click&quot;,&quot;payload&quot;:{&quot;request_url&quot;:&quot;https://github.com/navassherif98/IBM_Data_Science_Professional_Certification/blob/master/10.Applied_Data_Science_Capstone/Week%204%20Predictive%20Analysis%20(Classification)/Machine%20Learning%20Prediction.ipynb&quot;,&quot;target&quot;:&quot;DISCUSSIONS&quot;,&quot;originating_url&quot;:&quot;https://github.com/navassherif98/IBM_Data_Science_Professional_Certification/blob/master/10.Applied_Data_Science_Capstone/Week%204%20Predictive%20Analysis%20(Classification)/Machine%20Learning%20Prediction.ipynb&quot;,&quot;user_id&quot;:139646021}}" hydro-click-hmac="0a989f5f28505117d71c9790f2e15ac8e3bf95f1c5e9f3598662de86e0c53cdd" id="item-359caefb-02d4-45c3-ba67-3e2314adc3ce" href="/discussions" data-view-component="true" class="ActionListContent ActionListContent--visual16">
        <span class="ActionListItem-visual ActionListItem-visual--leading">
          <svg aria-hidden="true" height="16" viewBox="0 0 16 16" version="1.1" width="16" data-view-component="true" class="octicon octicon-comment-discussion">
    <path d="M1.75 1h8.5c.966 0 1.75.784 1.75 1.75v5.5A1.75 1.75 0 0 1 10.25 10H7.061l-2.574 2.573A1.458 1.458 0 0 1 2 11.543V10h-.25A1.75 1.75 0 0 1 0 8.25v-5.5C0 1.784.784 1 1.75 1ZM1.5 2.75v5.5c0 .138.112.25.25.25h1a.75.75 0 0 1 .75.75v2.19l2.72-2.72a.749.749 0 0 1 .53-.22h3.5a.25.25 0 0 0 .25-.25v-5.5a.25.25 0 0 0-.25-.25h-8.5a.25.25 0 0 0-.25.25Zm13 2a.25.25 0 0 0-.25-.25h-.5a.75.75 0 0 1 0-1.5h.5c.966 0 1.75.784 1.75 1.75v5.5A1.75 1.75 0 0 1 14.25 12H14v1.543a1.458 1.458 0 0 1-2.487 1.03L9.22 12.28a.749.749 0 0 1 .326-1.275.749.749 0 0 1 .734.215l2.22 2.22v-2.19a.75.75 0 0 1 .75-.75h1a.25.25 0 0 0 .25-.25Z"></path>
</svg>
        </span>
      
        <span data-view-component="true" class="ActionListItem-label">
          Discussions
</span></a>
  
  
</li>

</ul>  </nav-list>
</nav>

      <div data-view-component="true" class="my-3 d-flex flex-justify-center height-full">
        <svg style="box-sizing: content-box; color: var(--color-icon-primary);" width="16" height="16" viewBox="0 0 16 16" fill="none" data-view-component="true" class="anim-rotate">
  <circle cx="8" cy="8" r="7" stroke="currentColor" stroke-opacity="0.25" stroke-width="2" vector-effect="non-scaling-stroke" />
  <path d="M15 8a7.002 7.002 0 00-7-7" stroke="currentColor" stroke-width="2" stroke-linecap="round" vector-effect="non-scaling-stroke" />
</svg>
</div>
</div>
      <div data-view-component="true" class="Overlay-footer Overlay-footer--alignEnd d-block pt-0">      <li role="presentation" aria-hidden="true" data-view-component="true" class="ActionList-sectionDivider mt-0 mb-1"></li>

        <nav aria-label="Additional navigation" data-view-component="true" class="ActionList px-0 flex-1">
  
  <nav-list>
    <ul data-view-component="true" class="ActionListWrap">
        
          
<li item_id="general" data-item-id="" data-targets="nav-list.items" data-view-component="true" class="ActionListItem">
    
    <a hydro-click="{&quot;event_type&quot;:&quot;global_header.user_menu_dropdown.click&quot;,&quot;payload&quot;:{&quot;request_url&quot;:&quot;https://github.com/navassherif98/IBM_Data_Science_Professional_Certification/blob/master/10.Applied_Data_Science_Capstone/Week%204%20Predictive%20Analysis%20(Classification)/Machine%20Learning%20Prediction.ipynb&quot;,&quot;target&quot;:&quot;EXPLORE&quot;,&quot;originating_url&quot;:&quot;https://github.com/navassherif98/IBM_Data_Science_Professional_Certification/blob/master/10.Applied_Data_Science_Capstone/Week%204%20Predictive%20Analysis%20(Classification)/Machine%20Learning%20Prediction.ipynb&quot;,&quot;user_id&quot;:139646021}}" hydro-click-hmac="2b510b63cb088978d208dd288055416572f66f75656ba639d9ff9a5939b46a08" id="item-49741ecd-18e6-4d71-a870-7dad5c648cf1" href="/explore" data-view-component="true" class="ActionListContent ActionListContent--visual16">
        <span class="ActionListItem-visual ActionListItem-visual--leading">
          <svg aria-hidden="true" height="16" viewBox="0 0 16 16" version="1.1" width="16" data-view-component="true" class="octicon octicon-telescope">
    <path d="M14.184 1.143v-.001l1.422 2.464a1.75 1.75 0 0 1-.757 2.451L3.104 11.713a1.75 1.75 0 0 1-2.275-.702l-.447-.775a1.75 1.75 0 0 1 .53-2.32L11.682.573a1.748 1.748 0 0 1 2.502.57Zm-4.709 9.32h-.001l2.644 3.863a.75.75 0 1 1-1.238.848l-1.881-2.75v2.826a.75.75 0 0 1-1.5 0v-2.826l-1.881 2.75a.75.75 0 1 1-1.238-.848l2.049-2.992a.746.746 0 0 1 .293-.253l1.809-.87a.749.749 0 0 1 .944.252ZM9.436 3.92h-.001l-4.97 3.39.942 1.63 5.42-2.61Zm3.091-2.108h.001l-1.85 1.26 1.505 2.605 2.016-.97a.247.247 0 0 0 .13-.151.247.247 0 0 0-.022-.199l-1.422-2.464a.253.253 0 0 0-.161-.119.254.254 0 0 0-.197.038ZM1.756 9.157a.25.25 0 0 0-.075.33l.447.775a.25.25 0 0 0 .325.1l1.598-.769-.83-1.436-1.465 1Z"></path>
</svg>
        </span>
      
        <span data-view-component="true" class="ActionListItem-label">
          Explore
</span></a>
  
  
</li>

        
          
<li item_id="general" data-item-id="" data-targets="nav-list.items" data-view-component="true" class="ActionListItem">
    
    <a hydro-click="{&quot;event_type&quot;:&quot;global_header.user_menu_dropdown.click&quot;,&quot;payload&quot;:{&quot;request_url&quot;:&quot;https://github.com/navassherif98/IBM_Data_Science_Professional_Certification/blob/master/10.Applied_Data_Science_Capstone/Week%204%20Predictive%20Analysis%20(Classification)/Machine%20Learning%20Prediction.ipynb&quot;,&quot;target&quot;:&quot;MARKETPLACE&quot;,&quot;originating_url&quot;:&quot;https://github.com/navassherif98/IBM_Data_Science_Professional_Certification/blob/master/10.Applied_Data_Science_Capstone/Week%204%20Predictive%20Analysis%20(Classification)/Machine%20Learning%20Prediction.ipynb&quot;,&quot;user_id&quot;:139646021}}" hydro-click-hmac="247c1288bccea7d4fbf6bbecd60abf7eb008717fafc9820b566b7e1e1d461bda" id="item-6a3b2807-24a1-4f76-b433-e27473aaff75" href="/marketplace" data-view-component="true" class="ActionListContent ActionListContent--visual16">
        <span class="ActionListItem-visual ActionListItem-visual--leading">
          <svg aria-hidden="true" height="16" viewBox="0 0 16 16" version="1.1" width="16" data-view-component="true" class="octicon octicon-gift">
    <path d="M2 2.75A2.75 2.75 0 0 1 4.75 0c.983 0 1.873.42 2.57 1.232.268.318.497.668.68 1.042.183-.375.411-.725.68-1.044C9.376.42 10.266 0 11.25 0a2.75 2.75 0 0 1 2.45 4h.55c.966 0 1.75.784 1.75 1.75v2c0 .698-.409 1.301-1 1.582v4.918A1.75 1.75 0 0 1 13.25 16H2.75A1.75 1.75 0 0 1 1 14.25V9.332C.409 9.05 0 8.448 0 7.75v-2C0 4.784.784 4 1.75 4h.55c-.192-.375-.3-.8-.3-1.25ZM7.25 9.5H2.5v4.75c0 .138.112.25.25.25h4.5Zm1.5 0v5h4.5a.25.25 0 0 0 .25-.25V9.5Zm0-4V8h5.5a.25.25 0 0 0 .25-.25v-2a.25.25 0 0 0-.25-.25Zm-7 0a.25.25 0 0 0-.25.25v2c0 .138.112.25.25.25h5.5V5.5h-5.5Zm3-4a1.25 1.25 0 0 0 0 2.5h2.309c-.233-.818-.542-1.401-.878-1.793-.43-.502-.915-.707-1.431-.707ZM8.941 4h2.309a1.25 1.25 0 0 0 0-2.5c-.516 0-1 .205-1.43.707-.337.392-.646.975-.879 1.793Z"></path>
</svg>
        </span>
      
        <span data-view-component="true" class="ActionListItem-label">
          Marketplace
</span></a>
  
  
</li>

        
          
<li item_id="feedback" data-item-id="" data-targets="nav-list.items" data-view-component="true" class="ActionListItem">
    
    <a id="item-63edf126-836f-48e5-a084-7c74d4af92d6" href="https://gh.io/navigation-update" data-view-component="true" class="ActionListContent ActionListContent--visual16">
        <span class="ActionListItem-visual ActionListItem-visual--leading">
          <svg aria-hidden="true" height="16" viewBox="0 0 16 16" version="1.1" width="16" data-view-component="true" class="octicon octicon-comment-discussion">
    <path d="M1.75 1h8.5c.966 0 1.75.784 1.75 1.75v5.5A1.75 1.75 0 0 1 10.25 10H7.061l-2.574 2.573A1.458 1.458 0 0 1 2 11.543V10h-.25A1.75 1.75 0 0 1 0 8.25v-5.5C0 1.784.784 1 1.75 1ZM1.5 2.75v5.5c0 .138.112.25.25.25h1a.75.75 0 0 1 .75.75v2.19l2.72-2.72a.749.749 0 0 1 .53-.22h3.5a.25.25 0 0 0 .25-.25v-5.5a.25.25 0 0 0-.25-.25h-8.5a.25.25 0 0 0-.25.25Zm13 2a.25.25 0 0 0-.25-.25h-.5a.75.75 0 0 1 0-1.5h.5c.966 0 1.75.784 1.75 1.75v5.5A1.75 1.75 0 0 1 14.25 12H14v1.543a1.458 1.458 0 0 1-2.487 1.03L9.22 12.28a.749.749 0 0 1 .326-1.275.749.749 0 0 1 .734.215l2.22 2.22v-2.19a.75.75 0 0 1 .75-.75h1a.25.25 0 0 0 .25-.25Z"></path>
</svg>
        </span>
      
        <span data-view-component="true" class="ActionListItem-label">
          Give new navigation feedback
</span>        <span class="ActionListItem-visual ActionListItem-visual--trailing">
          <span title="Beta" data-view-component="true" class="Counter color-bg-default color-border-success-emphasis color-fg-success">Beta</span>
        </span>
</a>
  
  
</li>

</ul>  </nav-list>
</nav>

      <div data-view-component="true" class="px-2">      <p class="color-fg-subtle text-small text-light">&copy; 2023 GitHub, Inc.</p>

      <div data-view-component="true" class="d-flex text-small text-light">
          <a target="_blank" href="/about" data-view-component="true" class="Link no-underline mr-2">About</a>
          <a target="_blank" href="https://github.blog" data-view-component="true" class="Link no-underline mr-2">Blog</a>
          <a target="_blank" href="https://docs.github.com/site-policy/github-terms/github-terms-of-service" data-view-component="true" class="Link no-underline mr-2">Terms</a>
          <a target="_blank" href="https://docs.github.com/site-policy/privacy-policies/github-privacy-statement" data-view-component="true" class="Link no-underline mr-2">Privacy</a>
          <a target="_blank" href="/security" data-view-component="true" class="Link no-underline mr-2">Security</a>
        <a target="_blank" href="https://www.githubstatus.com/" data-view-component="true" class="Link no-underline mr-3">Status</a>
</div></div>
</div>
</modal-dialog></div>

  </include-fragment>
</deferred-side-panel>

        <a
          class="AppHeader-logo ml-2"
          href="https://github.com/"
          data-hotkey="g d"
          aria-label="Homepage "
          data-turbo="false"
          data-analytics-event="{&quot;category&quot;:&quot;Header&quot;,&quot;action&quot;:&quot;go to dashboard&quot;,&quot;label&quot;:&quot;icon:logo&quot;}"
        >
          <svg height="32" aria-hidden="true" viewBox="0 0 16 16" version="1.1" width="32" data-view-component="true" class="octicon octicon-mark-github v-align-middle color-fg-default">
    <path d="M8 0c4.42 0 8 3.58 8 8a8.013 8.013 0 0 1-5.45 7.59c-.4.08-.55-.17-.55-.38 0-.27.01-1.13.01-2.2 0-.75-.25-1.23-.54-1.48 1.78-.2 3.65-.88 3.65-3.95 0-.88-.31-1.59-.82-2.15.08-.2.36-1.02-.08-2.12 0 0-.67-.22-2.2.82-.64-.18-1.32-.27-2-.27-.68 0-1.36.09-2 .27-1.53-1.03-2.2-.82-2.2-.82-.44 1.1-.16 1.92-.08 2.12-.51.56-.82 1.28-.82 2.15 0 3.06 1.86 3.75 3.64 3.95-.23.2-.44.55-.51 1.07-.46.21-1.61.55-2.33-.66-.15-.24-.6-.83-1.23-.82-.67.01-.27.38.01.53.34.19.73.9.82 1.13.16.45.68 1.31 2.69.94 0 .67.01 1.3.01 1.49 0 .21-.15.45-.55.38A7.995 7.995 0 0 1 0 8c0-4.42 3.58-8 8-8Z"></path>
</svg>
        </a>

          <div class="AppHeader-context" >
  <div class="AppHeader-context-compact">
        <button aria-expanded="false" aria-haspopup="dialog" aria-label="Page context: navassherif98 / IBM_Data_Science_Professional_Certification" id="dialog-show-context-region-dialog" data-show-dialog-id="context-region-dialog" type="button" data-view-component="true" class="AppHeader-context-compact-trigger Truncate Button--secondary Button--medium Button box-shadow-none">    <span class="Button-content">
      <span class="Button-label"><span class="AppHeader-context-compact-lead">
                <span class="AppHeader-context-compact-parentItem">navassherif98</span>
                <span class="AppHeader-context-compact-separator">&nbsp;/</span>

            </span>

            <strong class="AppHeader-context-compact-mainItem d-flex flex-items-center Truncate" >
  <span class="Truncate-text ">IBM_Data_Science_Professional_Certification</span>

</strong></span>
    </span>
</button>  

<div class="Overlay--hidden Overlay-backdrop--center" data-modal-dialog-overlay>
  <modal-dialog role="dialog" id="context-region-dialog" aria-modal="true" aria-disabled="true" aria-describedby="context-region-dialog-title context-region-dialog-description" data-view-component="true" class="Overlay Overlay-whenNarrow Overlay--size-medium Overlay--motion-scaleFade">
    <div data-view-component="true" class="Overlay-header">
  <div class="Overlay-headerContentWrap">
    <div class="Overlay-titleWrap">
      <h1 class="Overlay-title " id="context-region-dialog-title">
        Navigate back to
      </h1>
    </div>
    <div class="Overlay-actionWrap">
      <button data-close-dialog-id="context-region-dialog" aria-label="Close" type="button" data-view-component="true" class="close-button Overlay-closeButton"><svg aria-hidden="true" height="16" viewBox="0 0 16 16" version="1.1" width="16" data-view-component="true" class="octicon octicon-x">
    <path d="M3.72 3.72a.75.75 0 0 1 1.06 0L8 6.94l3.22-3.22a.749.749 0 0 1 1.275.326.749.749 0 0 1-.215.734L9.06 8l3.22 3.22a.749.749 0 0 1-.326 1.275.749.749 0 0 1-.734-.215L8 9.06l-3.22 3.22a.751.751 0 0 1-1.042-.018.751.751 0 0 1-.018-1.042L6.94 8 3.72 4.78a.75.75 0 0 1 0-1.06Z"></path>
</svg></button>
    </div>
  </div>
</div>
      <div data-view-component="true" class="Overlay-body">          <ul role="list" class="list-style-none" >
    <li>
      <a data-analytics-event="{&quot;category&quot;:&quot;SiteHeaderComponent&quot;,&quot;action&quot;:&quot;context_region_crumb&quot;,&quot;label&quot;:&quot;navassherif98&quot;,&quot;screen_size&quot;:&quot;compact&quot;}" href="/navassherif98" data-view-component="true" class="Link--primary Truncate d-flex flex-items-center py-1">
        <span class="AppHeader-context-item-label Truncate-text ">
          navassherif98
        </span>

</a>
    </li>
    <li>
      <a data-analytics-event="{&quot;category&quot;:&quot;SiteHeaderComponent&quot;,&quot;action&quot;:&quot;context_region_crumb&quot;,&quot;label&quot;:&quot;IBM_Data_Science_Professional_Certification&quot;,&quot;screen_size&quot;:&quot;compact&quot;}" href="/navassherif98/IBM_Data_Science_Professional_Certification" data-view-component="true" class="Link--primary Truncate d-flex flex-items-center py-1">
        <span class="AppHeader-context-item-label Truncate-text ">
          IBM_Data_Science_Professional_Certification
        </span>

</a>
    </li>
</ul>

</div>
      
</modal-dialog></div>
  </div>

  <div class="AppHeader-context-full">
    <nav role="navigation" aria-label="Page context">
      <ul role="list" class="list-style-none" >
    <li>
      <a data-analytics-event="{&quot;category&quot;:&quot;SiteHeaderComponent&quot;,&quot;action&quot;:&quot;context_region_crumb&quot;,&quot;label&quot;:&quot;navassherif98&quot;,&quot;screen_size&quot;:&quot;full&quot;}" data-hovercard-type="user" data-hovercard-url="/users/navassherif98/hovercard" data-octo-click="hovercard-link-click" data-octo-dimensions="link_type:self" href="/navassherif98" data-view-component="true" class="AppHeader-context-item">
        <span class="AppHeader-context-item-label  ">
          navassherif98
        </span>

</a>
        <span class="AppHeader-context-item-separator">/</span>
    </li>
    <li>
      <a data-analytics-event="{&quot;category&quot;:&quot;SiteHeaderComponent&quot;,&quot;action&quot;:&quot;context_region_crumb&quot;,&quot;label&quot;:&quot;IBM_Data_Science_Professional_Certification&quot;,&quot;screen_size&quot;:&quot;full&quot;}" href="/navassherif98/IBM_Data_Science_Professional_Certification" data-view-component="true" class="AppHeader-context-item">
        <span class="AppHeader-context-item-label  ">
          IBM_Data_Science_Professional_Certification
        </span>

</a>
    </li>
</ul>

    </nav>
  </div>
</div>

      </div>
      <div class="AppHeader-globalBar-end">
          <div class="AppHeader-search" >
              


<qbsearch-input class="search-input" data-scope="repo:navassherif98/IBM_Data_Science_Professional_Certification" data-custom-scopes-path="/search/custom_scopes" data-delete-custom-scopes-csrf="WasEemK58rJOrJNiBzejiOuinyxgNMMG0-IP4GJF1j-4IKHqVRuJq_u0HimfJY6BR7Mk2IEOT9iTDIMXJz5Z-g" data-max-custom-scopes="10" data-header-redesign-enabled="true" data-initial-value="" data-blackbird-suggestions-path="/search/suggestions" data-jump-to-suggestions-path="/_graphql/GetSuggestedNavigationDestinations" data-current-repository="navassherif98/IBM_Data_Science_Professional_Certification" data-current-org="" data-current-owner="navassherif98" data-logged-in="true">
  <div
    class="search-input-container search-with-dialog position-relative d-flex flex-row flex-items-center height-auto color-bg-transparent border-0 color-fg-subtle mx-0"
    data-action="click:qbsearch-input#searchInputContainerClicked"
  >
      
            <button type="button" data-action="click:qbsearch-input#handleExpand" class="AppHeader-button AppHeader-search-whenNarrow" aria-label="Search or jump to…" aria-expanded="false" aria-haspopup="dialog">
            <svg aria-hidden="true" height="16" viewBox="0 0 16 16" version="1.1" width="16" data-view-component="true" class="octicon octicon-search">
    <path d="M10.68 11.74a6 6 0 0 1-7.922-8.982 6 6 0 0 1 8.982 7.922l3.04 3.04a.749.749 0 0 1-.326 1.275.749.749 0 0 1-.734-.215ZM11.5 7a4.499 4.499 0 1 0-8.997 0A4.499 4.499 0 0 0 11.5 7Z"></path>
</svg>
          </button>


<div class="AppHeader-search-whenRegular">
  <div class="AppHeader-search-wrap AppHeader-search-wrap--hasTrailing">
    <div class="AppHeader-search-control">
      <label
        for="AppHeader-searchInput"
        aria-label="Search or jump to…"
        class="AppHeader-search-visual--leading"
      >
        <svg aria-hidden="true" height="16" viewBox="0 0 16 16" version="1.1" width="16" data-view-component="true" class="octicon octicon-search">
    <path d="M10.68 11.74a6 6 0 0 1-7.922-8.982 6 6 0 0 1 8.982 7.922l3.04 3.04a.749.749 0 0 1-.326 1.275.749.749 0 0 1-.734-.215ZM11.5 7a4.499 4.499 0 1 0-8.997 0A4.499 4.499 0 0 0 11.5 7Z"></path>
</svg>
      </label>

                <button
            type="button"
            data-target="qbsearch-input.inputButton"
            data-action="click:qbsearch-input#handleExpand"
            class="AppHeader-searchButton form-control input-contrast text-left color-fg-subtle no-wrap"
            data-hotkey="s,/"
          >
            <div class="overflow-hidden">
              <span data-target="qbsearch-input.inputButtonText">
                  Type <kbd class="AppHeader-search-kbd">/</kbd> to search
              </span>
            </div>
          </button>

    </div>


      <button type="button" id="AppHeader-commandPalette-button" class="AppHeader-search-action--trailing js-activate-command-palette" data-analytics-event="{&quot;category&quot;:&quot;SiteHeaderComponent&quot;,&quot;action&quot;:&quot;command_palette&quot;,&quot;label&quot;:&quot;open command palette&quot;}">
        <svg aria-hidden="true" height="16" viewBox="0 0 16 16" version="1.1" width="16" data-view-component="true" class="octicon octicon-command-palette">
    <path d="m6.354 8.04-4.773 4.773a.75.75 0 1 0 1.061 1.06L7.945 8.57a.75.75 0 0 0 0-1.06L2.642 2.206a.75.75 0 0 0-1.06 1.061L6.353 8.04ZM8.75 11.5a.75.75 0 0 0 0 1.5h5.5a.75.75 0 0 0 0-1.5h-5.5Z"></path>
</svg>
      </button>

      <tool-tip id="tooltip-d8a46e9c-28a6-44c7-a098-84fcba676dd5" for="AppHeader-commandPalette-button" popover="manual" data-direction="s" data-type="label" data-view-component="true" class="sr-only position-absolute">Command palette</tool-tip>
  </div>
</div>

    <input type="hidden" name="type" class="js-site-search-type-field">

    
<div class="Overlay--hidden " data-modal-dialog-overlay>
  <modal-dialog data-action="close:qbsearch-input#handleClose cancel:qbsearch-input#handleClose" data-target="qbsearch-input.searchSuggestionsDialog" role="dialog" id="search-suggestions-dialog" aria-modal="true" aria-labelledby="search-suggestions-dialog-header" data-view-component="true" class="Overlay Overlay--width-medium Overlay--height-auto">
      <h1 id="search-suggestions-dialog-header" class="sr-only">Search code, repositories, users, issues, pull requests...</h1>
    <div class="Overlay-body Overlay-body--paddingNone">
      
          <div data-view-component="true">        <div class="search-suggestions position-absolute width-full color-shadow-large border color-fg-default color-bg-default overflow-hidden d-flex flex-column query-builder-container"
          style="border-radius: 12px;"
          data-target="qbsearch-input.queryBuilderContainer"
          hidden
        >
          <!-- '"` --><!-- </textarea></xmp> --></option></form><form id="query-builder-test-form" action="" accept-charset="UTF-8" method="get">
  <query-builder data-target="qbsearch-input.queryBuilder" id="query-builder-query-builder-test" data-filter-key=":" data-view-component="true" class="QueryBuilder search-query-builder">
    <div class="FormControl FormControl--fullWidth">
      <label id="query-builder-test-label" for="query-builder-test" class="FormControl-label sr-only">
        Search
      </label>
      <div class="QueryBuilder-StyledInput width-fit" data-target="query-builder.styledInput">
          <span id="query-builder-test-leadingvisual-wrap" class="FormControl-input-leadingVisualWrap QueryBuilder-leadingVisualWrap">
            <svg aria-hidden="true" height="16" viewBox="0 0 16 16" version="1.1" width="16" data-view-component="true" class="octicon octicon-search FormControl-input-leadingVisual">
    <path d="M10.68 11.74a6 6 0 0 1-7.922-8.982 6 6 0 0 1 8.982 7.922l3.04 3.04a.749.749 0 0 1-.326 1.275.749.749 0 0 1-.734-.215ZM11.5 7a4.499 4.499 0 1 0-8.997 0A4.499 4.499 0 0 0 11.5 7Z"></path>
</svg>
          </span>
        <div data-target="query-builder.styledInputContainer" class="QueryBuilder-StyledInputContainer">
          <div
            aria-hidden="true"
            class="QueryBuilder-StyledInputContent"
            data-target="query-builder.styledInputContent"
          ></div>
          <div class="QueryBuilder-InputWrapper">
            <div aria-hidden="true" class="QueryBuilder-Sizer" data-target="query-builder.sizer"></div>
            <input id="query-builder-test" name="query-builder-test" value="" autocomplete="off" type="text" role="combobox" spellcheck="false" aria-expanded="false" data-target="query-builder.input" data-action="
          input:query-builder#inputChange
          blur:query-builder#inputBlur
          keydown:query-builder#inputKeydown
          focus:query-builder#inputFocus
        " data-view-component="true" class="FormControl-input QueryBuilder-Input FormControl-medium" />
          </div>
        </div>
          <span class="sr-only" id="query-builder-test-clear">Clear</span>
          
  <button role="button" id="query-builder-test-clear-button" aria-labelledby="query-builder-test-clear query-builder-test-label" data-target="query-builder.clearButton" data-action="
                click:query-builder#clear
                focus:query-builder#clearButtonFocus
                blur:query-builder#clearButtonBlur
              " variant="small" hidden="hidden" type="button" data-view-component="true" class="Button Button--iconOnly Button--invisible Button--medium mr-1 px-2 py-0 d-flex flex-items-center rounded-1 color-fg-muted">    <svg aria-hidden="true" height="16" viewBox="0 0 16 16" version="1.1" width="16" data-view-component="true" class="octicon octicon-x-circle-fill Button-visual">
    <path d="M2.343 13.657A8 8 0 1 1 13.658 2.343 8 8 0 0 1 2.343 13.657ZM6.03 4.97a.751.751 0 0 0-1.042.018.751.751 0 0 0-.018 1.042L6.94 8 4.97 9.97a.749.749 0 0 0 .326 1.275.749.749 0 0 0 .734-.215L8 9.06l1.97 1.97a.749.749 0 0 0 1.275-.326.749.749 0 0 0-.215-.734L9.06 8l1.97-1.97a.749.749 0 0 0-.326-1.275.749.749 0 0 0-.734.215L8 6.94Z"></path>
</svg>
</button>  

      </div>
      <template id="search-icon">
  <svg aria-hidden="true" height="16" viewBox="0 0 16 16" version="1.1" width="16" data-view-component="true" class="octicon octicon-search">
    <path d="M10.68 11.74a6 6 0 0 1-7.922-8.982 6 6 0 0 1 8.982 7.922l3.04 3.04a.749.749 0 0 1-.326 1.275.749.749 0 0 1-.734-.215ZM11.5 7a4.499 4.499 0 1 0-8.997 0A4.499 4.499 0 0 0 11.5 7Z"></path>
</svg>
</template>

<template id="code-icon">
  <svg aria-hidden="true" height="16" viewBox="0 0 16 16" version="1.1" width="16" data-view-component="true" class="octicon octicon-code">
    <path d="m11.28 3.22 4.25 4.25a.75.75 0 0 1 0 1.06l-4.25 4.25a.749.749 0 0 1-1.275-.326.749.749 0 0 1 .215-.734L13.94 8l-3.72-3.72a.749.749 0 0 1 .326-1.275.749.749 0 0 1 .734.215Zm-6.56 0a.751.751 0 0 1 1.042.018.751.751 0 0 1 .018 1.042L2.06 8l3.72 3.72a.749.749 0 0 1-.326 1.275.749.749 0 0 1-.734-.215L.47 8.53a.75.75 0 0 1 0-1.06Z"></path>
</svg>
</template>

<template id="file-code-icon">
  <svg aria-hidden="true" height="16" viewBox="0 0 16 16" version="1.1" width="16" data-view-component="true" class="octicon octicon-file-code">
    <path d="M4 1.75C4 .784 4.784 0 5.75 0h5.586c.464 0 .909.184 1.237.513l2.914 2.914c.329.328.513.773.513 1.237v8.586A1.75 1.75 0 0 1 14.25 15h-9a.75.75 0 0 1 0-1.5h9a.25.25 0 0 0 .25-.25V6h-2.75A1.75 1.75 0 0 1 10 4.25V1.5H5.75a.25.25 0 0 0-.25.25v2.5a.75.75 0 0 1-1.5 0Zm1.72 4.97a.75.75 0 0 1 1.06 0l2 2a.75.75 0 0 1 0 1.06l-2 2a.749.749 0 0 1-1.275-.326.749.749 0 0 1 .215-.734l1.47-1.47-1.47-1.47a.75.75 0 0 1 0-1.06ZM3.28 7.78 1.81 9.25l1.47 1.47a.751.751 0 0 1-.018 1.042.751.751 0 0 1-1.042.018l-2-2a.75.75 0 0 1 0-1.06l2-2a.751.751 0 0 1 1.042.018.751.751 0 0 1 .018 1.042Zm8.22-6.218V4.25c0 .138.112.25.25.25h2.688l-.011-.013-2.914-2.914-.013-.011Z"></path>
</svg>
</template>

<template id="history-icon">
  <svg aria-hidden="true" height="16" viewBox="0 0 16 16" version="1.1" width="16" data-view-component="true" class="octicon octicon-history">
    <path d="m.427 1.927 1.215 1.215a8.002 8.002 0 1 1-1.6 5.685.75.75 0 1 1 1.493-.154 6.5 6.5 0 1 0 1.18-4.458l1.358 1.358A.25.25 0 0 1 3.896 6H.25A.25.25 0 0 1 0 5.75V2.104a.25.25 0 0 1 .427-.177ZM7.75 4a.75.75 0 0 1 .75.75v2.992l2.028.812a.75.75 0 0 1-.557 1.392l-2.5-1A.751.751 0 0 1 7 8.25v-3.5A.75.75 0 0 1 7.75 4Z"></path>
</svg>
</template>

<template id="repo-icon">
  <svg aria-hidden="true" height="16" viewBox="0 0 16 16" version="1.1" width="16" data-view-component="true" class="octicon octicon-repo">
    <path d="M2 2.5A2.5 2.5 0 0 1 4.5 0h8.75a.75.75 0 0 1 .75.75v12.5a.75.75 0 0 1-.75.75h-2.5a.75.75 0 0 1 0-1.5h1.75v-2h-8a1 1 0 0 0-.714 1.7.75.75 0 1 1-1.072 1.05A2.495 2.495 0 0 1 2 11.5Zm10.5-1h-8a1 1 0 0 0-1 1v6.708A2.486 2.486 0 0 1 4.5 9h8ZM5 12.25a.25.25 0 0 1 .25-.25h3.5a.25.25 0 0 1 .25.25v3.25a.25.25 0 0 1-.4.2l-1.45-1.087a.249.249 0 0 0-.3 0L5.4 15.7a.25.25 0 0 1-.4-.2Z"></path>
</svg>
</template>

<template id="bookmark-icon">
  <svg aria-hidden="true" height="16" viewBox="0 0 16 16" version="1.1" width="16" data-view-component="true" class="octicon octicon-bookmark">
    <path d="M3 2.75C3 1.784 3.784 1 4.75 1h6.5c.966 0 1.75.784 1.75 1.75v11.5a.75.75 0 0 1-1.227.579L8 11.722l-3.773 3.107A.751.751 0 0 1 3 14.25Zm1.75-.25a.25.25 0 0 0-.25.25v9.91l3.023-2.489a.75.75 0 0 1 .954 0l3.023 2.49V2.75a.25.25 0 0 0-.25-.25Z"></path>
</svg>
</template>

<template id="plus-circle-icon">
  <svg aria-hidden="true" height="16" viewBox="0 0 16 16" version="1.1" width="16" data-view-component="true" class="octicon octicon-plus-circle">
    <path d="M8 0a8 8 0 1 1 0 16A8 8 0 0 1 8 0ZM1.5 8a6.5 6.5 0 1 0 13 0 6.5 6.5 0 0 0-13 0Zm7.25-3.25v2.5h2.5a.75.75 0 0 1 0 1.5h-2.5v2.5a.75.75 0 0 1-1.5 0v-2.5h-2.5a.75.75 0 0 1 0-1.5h2.5v-2.5a.75.75 0 0 1 1.5 0Z"></path>
</svg>
</template>

<template id="circle-icon">
  <svg aria-hidden="true" height="16" viewBox="0 0 16 16" version="1.1" width="16" data-view-component="true" class="octicon octicon-dot-fill">
    <path d="M8 4a4 4 0 1 1 0 8 4 4 0 0 1 0-8Z"></path>
</svg>
</template>

<template id="trash-icon">
  <svg aria-hidden="true" height="16" viewBox="0 0 16 16" version="1.1" width="16" data-view-component="true" class="octicon octicon-trash">
    <path d="M11 1.75V3h2.25a.75.75 0 0 1 0 1.5H2.75a.75.75 0 0 1 0-1.5H5V1.75C5 .784 5.784 0 6.75 0h2.5C10.216 0 11 .784 11 1.75ZM4.496 6.675l.66 6.6a.25.25 0 0 0 .249.225h5.19a.25.25 0 0 0 .249-.225l.66-6.6a.75.75 0 0 1 1.492.149l-.66 6.6A1.748 1.748 0 0 1 10.595 15h-5.19a1.75 1.75 0 0 1-1.741-1.575l-.66-6.6a.75.75 0 1 1 1.492-.15ZM6.5 1.75V3h3V1.75a.25.25 0 0 0-.25-.25h-2.5a.25.25 0 0 0-.25.25Z"></path>
</svg>
</template>

<template id="team-icon">
  <svg aria-hidden="true" height="16" viewBox="0 0 16 16" version="1.1" width="16" data-view-component="true" class="octicon octicon-people">
    <path d="M2 5.5a3.5 3.5 0 1 1 5.898 2.549 5.508 5.508 0 0 1 3.034 4.084.75.75 0 1 1-1.482.235 4 4 0 0 0-7.9 0 .75.75 0 0 1-1.482-.236A5.507 5.507 0 0 1 3.102 8.05 3.493 3.493 0 0 1 2 5.5ZM11 4a3.001 3.001 0 0 1 2.22 5.018 5.01 5.01 0 0 1 2.56 3.012.749.749 0 0 1-.885.954.752.752 0 0 1-.549-.514 3.507 3.507 0 0 0-2.522-2.372.75.75 0 0 1-.574-.73v-.352a.75.75 0 0 1 .416-.672A1.5 1.5 0 0 0 11 5.5.75.75 0 0 1 11 4Zm-5.5-.5a2 2 0 1 0-.001 3.999A2 2 0 0 0 5.5 3.5Z"></path>
</svg>
</template>

<template id="project-icon">
  <svg aria-hidden="true" height="16" viewBox="0 0 16 16" version="1.1" width="16" data-view-component="true" class="octicon octicon-project">
    <path d="M1.75 0h12.5C15.216 0 16 .784 16 1.75v12.5A1.75 1.75 0 0 1 14.25 16H1.75A1.75 1.75 0 0 1 0 14.25V1.75C0 .784.784 0 1.75 0ZM1.5 1.75v12.5c0 .138.112.25.25.25h12.5a.25.25 0 0 0 .25-.25V1.75a.25.25 0 0 0-.25-.25H1.75a.25.25 0 0 0-.25.25ZM11.75 3a.75.75 0 0 1 .75.75v7.5a.75.75 0 0 1-1.5 0v-7.5a.75.75 0 0 1 .75-.75Zm-8.25.75a.75.75 0 0 1 1.5 0v5.5a.75.75 0 0 1-1.5 0ZM8 3a.75.75 0 0 1 .75.75v3.5a.75.75 0 0 1-1.5 0v-3.5A.75.75 0 0 1 8 3Z"></path>
</svg>
</template>

<template id="pencil-icon">
  <svg aria-hidden="true" height="16" viewBox="0 0 16 16" version="1.1" width="16" data-view-component="true" class="octicon octicon-pencil">
    <path d="M11.013 1.427a1.75 1.75 0 0 1 2.474 0l1.086 1.086a1.75 1.75 0 0 1 0 2.474l-8.61 8.61c-.21.21-.47.364-.756.445l-3.251.93a.75.75 0 0 1-.927-.928l.929-3.25c.081-.286.235-.547.445-.758l8.61-8.61Zm.176 4.823L9.75 4.81l-6.286 6.287a.253.253 0 0 0-.064.108l-.558 1.953 1.953-.558a.253.253 0 0 0 .108-.064Zm1.238-3.763a.25.25 0 0 0-.354 0L10.811 3.75l1.439 1.44 1.263-1.263a.25.25 0 0 0 0-.354Z"></path>
</svg>
</template>

        <div class="position-relative">
                <ul
                  role="listbox"
                  class="ActionListWrap QueryBuilder-ListWrap"
                  aria-label="Suggestions"
                  data-action="
                    combobox-commit:query-builder#comboboxCommit
                    mousedown:query-builder#resultsMousedown
                  "
                  data-target="query-builder.resultsList"
                  data-persist-list=false
                  id="query-builder-test-results"
                ></ul>
        </div>
    </div>
    <div data-target="query-builder.screenReaderFeedback" aria-live="polite" aria-atomic="true" class="sr-only"></div>
</query-builder></form>
          <div class="d-flex flex-row color-fg-muted px-3 text-small color-bg-default search-feedback-prompt">
            <a target="_blank" href="https://docs.github.com/en/search-github/github-code-search/understanding-github-code-search-syntax" data-view-component="true" class="Link color-fg-accent text-normal ml-2">
              Search syntax tips
</a>            <div class="d-flex flex-1"></div>
                <button data-action="click:qbsearch-input#showFeedbackDialog" type="button" data-view-component="true" class="Button--link Button--medium Button color-fg-accent text-normal ml-2">    <span class="Button-content">
      <span class="Button-label">Give feedback</span>
    </span>
</button>  
          </div>
        </div>
</div>

    </div>
</modal-dialog></div>
  </div>
  <div data-action="click:qbsearch-input#retract" class="dark-backdrop position-fixed" hidden data-target="qbsearch-input.darkBackdrop"></div>
  <div class="color-fg-default">
    
<div class="Overlay--hidden Overlay-backdrop--center" data-modal-dialog-overlay>
  <modal-dialog data-target="qbsearch-input.feedbackDialog" data-action="close:qbsearch-input#handleDialogClose cancel:qbsearch-input#handleDialogClose" role="dialog" id="feedback-dialog" aria-modal="true" aria-disabled="true" aria-describedby="feedback-dialog-title feedback-dialog-description" data-view-component="true" class="Overlay Overlay-whenNarrow Overlay--size-medium Overlay--motion-scaleFade">
    <div data-view-component="true" class="Overlay-header">
  <div class="Overlay-headerContentWrap">
    <div class="Overlay-titleWrap">
      <h1 class="Overlay-title " id="feedback-dialog-title">
        Provide feedback
      </h1>
    </div>
    <div class="Overlay-actionWrap">
      <button data-close-dialog-id="feedback-dialog" aria-label="Close" type="button" data-view-component="true" class="close-button Overlay-closeButton"><svg aria-hidden="true" height="16" viewBox="0 0 16 16" version="1.1" width="16" data-view-component="true" class="octicon octicon-x">
    <path d="M3.72 3.72a.75.75 0 0 1 1.06 0L8 6.94l3.22-3.22a.749.749 0 0 1 1.275.326.749.749 0 0 1-.215.734L9.06 8l3.22 3.22a.749.749 0 0 1-.326 1.275.749.749 0 0 1-.734-.215L8 9.06l-3.22 3.22a.751.751 0 0 1-1.042-.018.751.751 0 0 1-.018-1.042L6.94 8 3.72 4.78a.75.75 0 0 1 0-1.06Z"></path>
</svg></button>
    </div>
  </div>
</div>
      <div data-view-component="true" class="Overlay-body">        <!-- '"` --><!-- </textarea></xmp> --></option></form><form id="code-search-feedback-form" data-turbo="false" action="/search/feedback" accept-charset="UTF-8" method="post"><input type="hidden" name="authenticity_token" value="KT0OXsP7ClAp6U74tEADrpj3S5FIZskWmW0AoPzFu-_UCBHHOsMBbV0u72nadWUdE8u-z0FijMxPkB4jty_Xug" />
          <p>We read every piece of feedback, and take your input very seriously.</p>
          <textarea name="feedback" class="form-control width-full mb-2" style="height: 120px" id="feedback"></textarea>
          <input name="include_email" id="include_email" aria-label="Include my email address so I can be contacted" class="form-control mr-2" type="checkbox">
          <label for="include_email" style="font-weight: normal">Include my email address so I can be contacted</label>
</form></div>
      <div data-view-component="true" class="Overlay-footer Overlay-footer--alignEnd">          <button data-close-dialog-id="feedback-dialog" type="button" data-view-component="true" class="btn">    Cancel
</button>
          <button form="code-search-feedback-form" data-action="click:qbsearch-input#submitFeedback" type="submit" data-view-component="true" class="btn-primary btn">    Submit feedback
</button>
</div>
</modal-dialog></div>

    <custom-scopes data-target="qbsearch-input.customScopesManager">
    
<div class="Overlay--hidden Overlay-backdrop--center" data-modal-dialog-overlay>
  <modal-dialog data-target="custom-scopes.customScopesModalDialog" data-action="close:qbsearch-input#handleDialogClose cancel:qbsearch-input#handleDialogClose" role="dialog" id="custom-scopes-dialog" aria-modal="true" aria-disabled="true" aria-describedby="custom-scopes-dialog-title custom-scopes-dialog-description" data-view-component="true" class="Overlay Overlay-whenNarrow Overlay--size-medium Overlay--motion-scaleFade">
    <div data-view-component="true" class="Overlay-header Overlay-header--divided">
  <div class="Overlay-headerContentWrap">
    <div class="Overlay-titleWrap">
      <h1 class="Overlay-title " id="custom-scopes-dialog-title">
        Saved searches
      </h1>
        <h2 id="custom-scopes-dialog-description" class="Overlay-description">Use saved searches to filter your results more quickly</h2>
    </div>
    <div class="Overlay-actionWrap">
      <button data-close-dialog-id="custom-scopes-dialog" aria-label="Close" type="button" data-view-component="true" class="close-button Overlay-closeButton"><svg aria-hidden="true" height="16" viewBox="0 0 16 16" version="1.1" width="16" data-view-component="true" class="octicon octicon-x">
    <path d="M3.72 3.72a.75.75 0 0 1 1.06 0L8 6.94l3.22-3.22a.749.749 0 0 1 1.275.326.749.749 0 0 1-.215.734L9.06 8l3.22 3.22a.749.749 0 0 1-.326 1.275.749.749 0 0 1-.734-.215L8 9.06l-3.22 3.22a.751.751 0 0 1-1.042-.018.751.751 0 0 1-.018-1.042L6.94 8 3.72 4.78a.75.75 0 0 1 0-1.06Z"></path>
</svg></button>
    </div>
  </div>
</div>
      <div data-view-component="true" class="Overlay-body">        <div data-target="custom-scopes.customScopesModalDialogFlash"></div>

        <div hidden class="create-custom-scope-form" data-target="custom-scopes.createCustomScopeForm">
        <!-- '"` --><!-- </textarea></xmp> --></option></form><form id="custom-scopes-dialog-form" data-turbo="false" action="/search/custom_scopes" accept-charset="UTF-8" method="post"><input type="hidden" name="authenticity_token" value="bZDSSCI_WmWeWR05C_F0C5hXEU8YZ0Q0a3yDQhrPzJrXwDUBdldgolzClfVOPZUwR9lVR5dFD5cG4ypqG_VXzw" />
          <div data-target="custom-scopes.customScopesModalDialogFlash"></div>

          <input type="hidden" id="custom_scope_id" name="custom_scope_id" data-target="custom-scopes.customScopesIdField">

          <div class="form-group">
            <label for="custom_scope_name">Name</label>
            <auto-check src="/search/custom_scopes/check_name" required>
              <input
                type="text"
                name="custom_scope_name"
                id="custom_scope_name"
                data-target="custom-scopes.customScopesNameField"
                class="form-control"
                autocomplete="off"
                placeholder="github-ruby"
                required
                maxlength="50">
              <input type="hidden" value="xQ86GyRVd_PpskGrXkK7ZvWaW9Fbl6amXeI3VHEb3QScwcY66tmwV4R80Puv5Q-XR2NPYCr83OiNkj7tm8WYTA" data-csrf="true" />
            </auto-check>
          </div>

          <div class="form-group">
            <label for="custom_scope_query">Query</label>
            <input
              type="text"
              name="custom_scope_query"
              id="custom_scope_query"
              data-target="custom-scopes.customScopesQueryField"
              class="form-control"
              autocomplete="off"
              placeholder="(repo:mona/a OR repo:mona/b) AND lang:python"
              required
              maxlength="500">
          </div>

          <p class="text-small color-fg-muted">
            To see all available qualifiers, see our <a href="https://docs.github.com/en/search-github/github-code-search/understanding-github-code-search-syntax">documentation</a>.
          </p>
</form>        </div>

        <div data-target="custom-scopes.manageCustomScopesForm">
          <div data-target="custom-scopes.list"></div>
        </div>

</div>
      <div data-view-component="true" class="Overlay-footer Overlay-footer--alignEnd Overlay-footer--divided">          <button data-action="click:custom-scopes#customScopesCancel" type="button" data-view-component="true" class="btn">    Cancel
</button>
          <button form="custom-scopes-dialog-form" data-action="click:custom-scopes#customScopesSubmit" data-target="custom-scopes.customScopesSubmitButton" type="submit" data-view-component="true" class="btn-primary btn">    Create saved search
</button>
</div>
</modal-dialog></div>
    </custom-scopes>
  </div>
</qbsearch-input><input type="hidden" value="-HuuCoxeO6aEaMHdC3RbPMmryXByyMLk8OFEitkQlikbeN-P1FRjqcB02MX2shSq0lS5piy_jmXTPl6r9_9tlw" data-csrf="true" class="js-data-jump-to-suggestions-path-csrf" />

          </div>

        <div class="AppHeader-actions">
          <action-menu data-select-variant="none" data-view-component="true">
  <focus-group direction="vertical" mnemonics retain>
    <div data-view-component="true" class="Button-withTooltip">  <button id="global-create-menu-button" popovertarget="global-create-menu-overlay" aria-label="Create something new" aria-controls="global-create-menu-list" aria-haspopup="true" type="button" data-view-component="true" class="AppHeader-button Button--secondary Button--small Button width-auto color-fg-muted box-shadow-none">    <span class="Button-content">
        <span class="Button-visual Button-leadingVisual">
          <svg aria-hidden="true" height="16" viewBox="0 0 16 16" version="1.1" width="16" data-view-component="true" class="octicon octicon-plus">
    <path d="M7.75 2a.75.75 0 0 1 .75.75V7h4.25a.75.75 0 0 1 0 1.5H8.5v4.25a.75.75 0 0 1-1.5 0V8.5H2.75a.75.75 0 0 1 0-1.5H7V2.75A.75.75 0 0 1 7.75 2Z"></path>
</svg>
        </span>
      <span class="Button-label"><svg aria-hidden="true" height="16" viewBox="0 0 16 16" version="1.1" width="16" data-view-component="true" class="octicon octicon-triangle-down">
    <path d="m4.427 7.427 3.396 3.396a.25.25 0 0 0 .354 0l3.396-3.396A.25.25 0 0 0 11.396 7H4.604a.25.25 0 0 0-.177.427Z"></path>
</svg></span>
    </span>
</button>  <tool-tip id="tooltip-142f0b76-2a4a-4337-b338-2e56c54a453c" for="global-create-menu-button" popover="manual" data-direction="s" data-type="description" data-view-component="true" class="sr-only position-absolute">Create new...</tool-tip>
</div>

<anchored-position id="global-create-menu-overlay" anchor="global-create-menu-button" align="end" side="outside-bottom" anchor-offset="normal" popover="auto" aria-label="Menu" data-view-component="true">
  <div data-view-component="true" class="Overlay Overlay--size-auto">
    
      
        <div data-view-component="true">
  <ul aria-labelledby="global-create-menu-button" id="global-create-menu-list" role="menu" data-view-component="true" class="ActionListWrap--inset ActionListWrap">
      <li data-analytics-event="{&quot;category&quot;:&quot;SiteHeaderComponent&quot;,&quot;action&quot;:&quot;add_dropdown&quot;,&quot;label&quot;:&quot;new repository&quot;}" data-targets="action-list.items" role="none" data-view-component="true" class="ActionListItem">
    
    <a href="/new" tabindex="-1" id="item-6591ac50-f6e3-4048-852d-fea28874260f" role="menuitem" data-view-component="true" class="ActionListContent ActionListContent--visual16">
        <span class="ActionListItem-visual ActionListItem-visual--leading">
          <svg aria-hidden="true" height="16" viewBox="0 0 16 16" version="1.1" width="16" data-view-component="true" class="octicon octicon-repo">
    <path d="M2 2.5A2.5 2.5 0 0 1 4.5 0h8.75a.75.75 0 0 1 .75.75v12.5a.75.75 0 0 1-.75.75h-2.5a.75.75 0 0 1 0-1.5h1.75v-2h-8a1 1 0 0 0-.714 1.7.75.75 0 1 1-1.072 1.05A2.495 2.495 0 0 1 2 11.5Zm10.5-1h-8a1 1 0 0 0-1 1v6.708A2.486 2.486 0 0 1 4.5 9h8ZM5 12.25a.25.25 0 0 1 .25-.25h3.5a.25.25 0 0 1 .25.25v3.25a.25.25 0 0 1-.4.2l-1.45-1.087a.249.249 0 0 0-.3 0L5.4 15.7a.25.25 0 0 1-.4-.2Z"></path>
</svg>
        </span>
      
        <span data-view-component="true" class="ActionListItem-label">
              New repository

</span></a>
  
  
</li>
      <li data-analytics-event="{&quot;category&quot;:&quot;SiteHeaderComponent&quot;,&quot;action&quot;:&quot;add_dropdown&quot;,&quot;label&quot;:&quot;import repository&quot;}" data-targets="action-list.items" role="none" data-view-component="true" class="ActionListItem">
    
    <a href="/new/import" tabindex="-1" id="item-68b26c6c-729a-44a4-a416-29c627ecf632" role="menuitem" data-view-component="true" class="ActionListContent ActionListContent--visual16">
        <span class="ActionListItem-visual ActionListItem-visual--leading">
          <svg aria-hidden="true" height="16" viewBox="0 0 16 16" version="1.1" width="16" data-view-component="true" class="octicon octicon-repo-push">
    <path d="M1 2.5A2.5 2.5 0 0 1 3.5 0h8.75a.75.75 0 0 1 .75.75v3.5a.75.75 0 0 1-1.5 0V1.5h-8a1 1 0 0 0-1 1v6.708A2.493 2.493 0 0 1 3.5 9h3.25a.75.75 0 0 1 0 1.5H3.5a1 1 0 0 0 0 2h5.75a.75.75 0 0 1 0 1.5H3.5A2.5 2.5 0 0 1 1 11.5Zm13.23 7.79h-.001l-1.224-1.224v6.184a.75.75 0 0 1-1.5 0V9.066L10.28 10.29a.75.75 0 0 1-1.06-1.061l2.505-2.504a.75.75 0 0 1 1.06 0L15.29 9.23a.751.751 0 0 1-.018 1.042.751.751 0 0 1-1.042.018Z"></path>
</svg>
        </span>
      
        <span data-view-component="true" class="ActionListItem-label">
                Import repository

</span></a>
  
  
</li>
      <li role="presentation" aria-hidden="true" data-view-component="true" class="ActionList-sectionDivider"></li>
      <li data-analytics-event="{&quot;category&quot;:&quot;SiteHeaderComponent&quot;,&quot;action&quot;:&quot;add_dropdown&quot;,&quot;label&quot;:&quot;new codespace&quot;}" data-targets="action-list.items" role="none" data-view-component="true" class="ActionListItem">
    
    <a href="/codespaces/new" tabindex="-1" id="item-76359129-443f-421a-b5df-c3d69d4cd3e5" role="menuitem" data-view-component="true" class="ActionListContent ActionListContent--visual16">
        <span class="ActionListItem-visual ActionListItem-visual--leading">
          <svg aria-hidden="true" height="16" viewBox="0 0 16 16" version="1.1" width="16" data-view-component="true" class="octicon octicon-codespaces">
    <path d="M0 11.25c0-.966.784-1.75 1.75-1.75h12.5c.966 0 1.75.784 1.75 1.75v3A1.75 1.75 0 0 1 14.25 16H1.75A1.75 1.75 0 0 1 0 14.25Zm2-9.5C2 .784 2.784 0 3.75 0h8.5C13.216 0 14 .784 14 1.75v5a1.75 1.75 0 0 1-1.75 1.75h-8.5A1.75 1.75 0 0 1 2 6.75Zm1.75-.25a.25.25 0 0 0-.25.25v5c0 .138.112.25.25.25h8.5a.25.25 0 0 0 .25-.25v-5a.25.25 0 0 0-.25-.25Zm-2 9.5a.25.25 0 0 0-.25.25v3c0 .138.112.25.25.25h12.5a.25.25 0 0 0 .25-.25v-3a.25.25 0 0 0-.25-.25Z"></path><path d="M7 12.75a.75.75 0 0 1 .75-.75h4.5a.75.75 0 0 1 0 1.5h-4.5a.75.75 0 0 1-.75-.75Zm-4 0a.75.75 0 0 1 .75-.75h.5a.75.75 0 0 1 0 1.5h-.5a.75.75 0 0 1-.75-.75Z"></path>
</svg>
        </span>
      
        <span data-view-component="true" class="ActionListItem-label">
                New codespace

</span></a>
  
  
</li>
      <li data-analytics-event="{&quot;category&quot;:&quot;SiteHeaderComponent&quot;,&quot;action&quot;:&quot;add_dropdown&quot;,&quot;label&quot;:&quot;new gist&quot;}" data-targets="action-list.items" role="none" data-view-component="true" class="ActionListItem">
    
    <a href="https://gist.github.com/" tabindex="-1" id="item-fd87740a-dc8d-408f-b6d8-5ebdf3c473d5" role="menuitem" data-view-component="true" class="ActionListContent ActionListContent--visual16">
        <span class="ActionListItem-visual ActionListItem-visual--leading">
          <svg aria-hidden="true" height="16" viewBox="0 0 16 16" version="1.1" width="16" data-view-component="true" class="octicon octicon-code">
    <path d="m11.28 3.22 4.25 4.25a.75.75 0 0 1 0 1.06l-4.25 4.25a.749.749 0 0 1-1.275-.326.749.749 0 0 1 .215-.734L13.94 8l-3.72-3.72a.749.749 0 0 1 .326-1.275.749.749 0 0 1 .734.215Zm-6.56 0a.751.751 0 0 1 1.042.018.751.751 0 0 1 .018 1.042L2.06 8l3.72 3.72a.749.749 0 0 1-.326 1.275.749.749 0 0 1-.734-.215L.47 8.53a.75.75 0 0 1 0-1.06Z"></path>
</svg>
        </span>
      
        <span data-view-component="true" class="ActionListItem-label">
              New gist

</span></a>
  
  
</li>
      <li role="presentation" aria-hidden="true" data-view-component="true" class="ActionList-sectionDivider"></li>
      <li data-analytics-event="{&quot;category&quot;:&quot;SiteHeaderComponent&quot;,&quot;action&quot;:&quot;add_dropdown&quot;,&quot;label&quot;:&quot;new organization&quot;}" data-targets="action-list.items" role="none" data-view-component="true" class="ActionListItem">
    
    <a href="/account/organizations/new" tabindex="-1" id="item-d12a0671-c278-48c7-9d98-faf09e30564a" role="menuitem" data-view-component="true" class="ActionListContent ActionListContent--visual16">
        <span class="ActionListItem-visual ActionListItem-visual--leading">
          <svg aria-hidden="true" height="16" viewBox="0 0 16 16" version="1.1" width="16" data-view-component="true" class="octicon octicon-organization">
    <path d="M1.75 16A1.75 1.75 0 0 1 0 14.25V1.75C0 .784.784 0 1.75 0h8.5C11.216 0 12 .784 12 1.75v12.5c0 .085-.006.168-.018.25h2.268a.25.25 0 0 0 .25-.25V8.285a.25.25 0 0 0-.111-.208l-1.055-.703a.749.749 0 1 1 .832-1.248l1.055.703c.487.325.779.871.779 1.456v5.965A1.75 1.75 0 0 1 14.25 16h-3.5a.766.766 0 0 1-.197-.026c-.099.017-.2.026-.303.026h-3a.75.75 0 0 1-.75-.75V14h-1v1.25a.75.75 0 0 1-.75.75Zm-.25-1.75c0 .138.112.25.25.25H4v-1.25a.75.75 0 0 1 .75-.75h2.5a.75.75 0 0 1 .75.75v1.25h2.25a.25.25 0 0 0 .25-.25V1.75a.25.25 0 0 0-.25-.25h-8.5a.25.25 0 0 0-.25.25ZM3.75 6h.5a.75.75 0 0 1 0 1.5h-.5a.75.75 0 0 1 0-1.5ZM3 3.75A.75.75 0 0 1 3.75 3h.5a.75.75 0 0 1 0 1.5h-.5A.75.75 0 0 1 3 3.75Zm4 3A.75.75 0 0 1 7.75 6h.5a.75.75 0 0 1 0 1.5h-.5A.75.75 0 0 1 7 6.75ZM7.75 3h.5a.75.75 0 0 1 0 1.5h-.5a.75.75 0 0 1 0-1.5ZM3 9.75A.75.75 0 0 1 3.75 9h.5a.75.75 0 0 1 0 1.5h-.5A.75.75 0 0 1 3 9.75ZM7.75 9h.5a.75.75 0 0 1 0 1.5h-.5a.75.75 0 0 1 0-1.5Z"></path>
</svg>
        </span>
      
        <span data-view-component="true" class="ActionListItem-label">
                New organization

</span></a>
  
  
</li>
</ul>  
</div>

</div></anchored-position>  </focus-group>
</action-menu>

          <div data-view-component="true" class="Button-withTooltip">
  <a href="/issues" id="icon-button-fb5c5894-a0a6-4e9d-a833-46bc9e3597b8" data-view-component="true" class="Button Button--iconOnly Button--secondary Button--medium AppHeader-button color-fg-muted">    <svg aria-hidden="true" height="16" viewBox="0 0 16 16" version="1.1" width="16" data-view-component="true" class="octicon octicon-issue-opened Button-visual">
    <path d="M8 9.5a1.5 1.5 0 1 0 0-3 1.5 1.5 0 0 0 0 3Z"></path><path d="M8 0a8 8 0 1 1 0 16A8 8 0 0 1 8 0ZM1.5 8a6.5 6.5 0 1 0 13 0 6.5 6.5 0 0 0-13 0Z"></path>
</svg>
</a>  <tool-tip id="tooltip-21ad342e-d13e-4587-b64a-99ca0dbae51c" for="icon-button-fb5c5894-a0a6-4e9d-a833-46bc9e3597b8" popover="manual" data-direction="s" data-type="label" data-view-component="true" class="sr-only position-absolute">Issues</tool-tip>
</div>
          <div data-view-component="true" class="Button-withTooltip">
  <a href="/pulls" id="icon-button-0ba0edc1-f68d-44f8-8285-66ee51a9ac69" data-view-component="true" class="Button Button--iconOnly Button--secondary Button--medium AppHeader-button color-fg-muted">    <svg aria-hidden="true" height="16" viewBox="0 0 16 16" version="1.1" width="16" data-view-component="true" class="octicon octicon-git-pull-request Button-visual">
    <path d="M1.5 3.25a2.25 2.25 0 1 1 3 2.122v5.256a2.251 2.251 0 1 1-1.5 0V5.372A2.25 2.25 0 0 1 1.5 3.25Zm5.677-.177L9.573.677A.25.25 0 0 1 10 .854V2.5h1A2.5 2.5 0 0 1 13.5 5v5.628a2.251 2.251 0 1 1-1.5 0V5a1 1 0 0 0-1-1h-1v1.646a.25.25 0 0 1-.427.177L7.177 3.427a.25.25 0 0 1 0-.354ZM3.75 2.5a.75.75 0 1 0 0 1.5.75.75 0 0 0 0-1.5Zm0 9.5a.75.75 0 1 0 0 1.5.75.75 0 0 0 0-1.5Zm8.25.75a.75.75 0 1 0 1.5 0 .75.75 0 0 0-1.5 0Z"></path>
</svg>
</a>  <tool-tip id="tooltip-fa9252fb-c0ac-4477-bdd3-cd7244793847" for="icon-button-0ba0edc1-f68d-44f8-8285-66ee51a9ac69" popover="manual" data-direction="s" data-type="label" data-view-component="true" class="sr-only position-absolute">Pull requests</tool-tip>
</div>
        </div>

        <div class="mr-0">
          

<notification-indicator data-channel="eyJjIjoibm90aWZpY2F0aW9uLWNoYW5nZWQ6MTM5NjQ2MDIxIiwidCI6MTY5MDg5MTI2OX0=--52e47649f330cc8d782f9ff42038bfd3c67b3542888404662c2e5da0cab4ffc4" data-indicator-mode="none" data-tooltip-global="You have unread notifications" data-tooltip-unavailable="Notifications are unavailable at the moment." data-tooltip-none="You have no unread notifications" data-header-redesign-enabled="true" data-fetch-indicator-src="/notifications/indicator" data-fetch-indicator-enabled="true" data-view-component="true" class="js-socket-channel">
  <a id="AppHeader-notifications-button" href="/notifications"
    class="AppHeader-button"

    style="width:32px;height:32px;"

    data-hotkey="g n"
    data-target="notification-indicator.link"
    aria-label="Notifications"

      data-analytics-event="{&quot;category&quot;:&quot;SiteHeaderComponent&quot;,&quot;action&quot;:&quot;notifications&quot;,&quot;label&quot;:null}"
  >

    <span
      data-target="notification-indicator.badge"
      class="mail-status unread d-none" hidden>
    </span>

      <svg aria-hidden="true" height="16" viewBox="0 0 16 16" version="1.1" width="16" data-view-component="true" class="octicon octicon-inbox color-fg-muted mr-0">
    <path d="M2.8 2.06A1.75 1.75 0 0 1 4.41 1h7.18c.7 0 1.333.417 1.61 1.06l2.74 6.395c.04.093.06.194.06.295v4.5A1.75 1.75 0 0 1 14.25 15H1.75A1.75 1.75 0 0 1 0 13.25v-4.5c0-.101.02-.202.06-.295Zm1.61.44a.25.25 0 0 0-.23.152L1.887 8H4.75a.75.75 0 0 1 .6.3L6.625 10h2.75l1.275-1.7a.75.75 0 0 1 .6-.3h2.863L11.82 2.652a.25.25 0 0 0-.23-.152Zm10.09 7h-2.875l-1.275 1.7a.75.75 0 0 1-.6.3h-3.5a.75.75 0 0 1-.6-.3L4.375 9.5H1.5v3.75c0 .138.112.25.25.25h12.5a.25.25 0 0 0 .25-.25Z"></path>
</svg>
  </a>

    <tool-tip data-target="notification-indicator.tooltip" id="tooltip-2028c831-a346-43a5-8890-bfc8a2a470b2" for="AppHeader-notifications-button" popover="manual" data-direction="s" data-type="description" data-view-component="true" class="sr-only position-absolute">Notifications</tool-tip>
</notification-indicator>
        </div>

        

        <div class="AppHeader-user">
          <deferred-side-panel data-url="/_side-panels/user?memex_enabled=true&amp;repository=IBM_Data_Science_Professional_Certification&amp;user=RedFoxSR&amp;user_can_create_organizations=true&amp;user_id=139646021">
  <include-fragment data-target="deferred-side-panel.fragment">
      <user-drawer-side-panel>
      <button aria-label="Open user account menu" data-action="click:deferred-side-panel#loadPanel click:deferred-side-panel#panelOpened" data-show-dialog-id="dialog-1cb43a3b-f462-4ee9-8e5b-00969f166ea0" id="dialog-show-dialog-1cb43a3b-f462-4ee9-8e5b-00969f166ea0" type="button" data-view-component="true" class="AppHeader-logo Button--invisible Button--medium Button Button--invisible-noVisuals color-bg-transparent p-0">    <span class="Button-content">
      <span class="Button-label"><img src="https://avatars.githubusercontent.com/u/139646021?v=4" alt="" size="32" height="32" width="32" data-view-component="true" class="avatar circle" /></span>
    </span>
</button>  

<div class="Overlay--hidden Overlay-backdrop--side Overlay-backdrop--placement-right" data-modal-dialog-overlay>
  <modal-dialog data-target="deferred-side-panel.panel" role="dialog" id="dialog-1cb43a3b-f462-4ee9-8e5b-00969f166ea0" aria-modal="true" aria-disabled="true" aria-describedby="dialog-1cb43a3b-f462-4ee9-8e5b-00969f166ea0-title dialog-1cb43a3b-f462-4ee9-8e5b-00969f166ea0-description" data-view-component="true" class="Overlay Overlay-whenNarrow Overlay--size-small-portrait Overlay--motion-scaleFade SidePanel">
    <div styles="flex-direction: row;" data-view-component="true" class="Overlay-header">
  <div class="Overlay-headerContentWrap">
    <div class="Overlay-titleWrap">
      <h1 class="Overlay-title sr-only" id="dialog-1cb43a3b-f462-4ee9-8e5b-00969f166ea0-title">
        Account menu
      </h1>
            <div data-view-component="true" class="d-flex">
      <div data-view-component="true" class="AppHeader-logo position-relative">
        <img src="https://avatars.githubusercontent.com/u/139646021?v=4" alt="" size="32" height="32" width="32" data-view-component="true" class="avatar circle" />
</div>        <div data-view-component="true" class="d-flex width-full">        <div data-view-component="true" class="lh-condensed d-flex flex-column flex-justify-center ml-2 f5 mr-auto">
          <span data-view-component="true" class="Truncate d-block text-bold">
    <span data-view-component="true" class="Truncate-text">
            RedFoxSR
</span>
</span>          </div>
</div>
</div>
    </div>
    <div class="Overlay-actionWrap">
      <button data-close-dialog-id="dialog-1cb43a3b-f462-4ee9-8e5b-00969f166ea0" aria-label="Close" type="button" data-view-component="true" class="close-button Overlay-closeButton"><svg aria-hidden="true" height="16" viewBox="0 0 16 16" version="1.1" width="16" data-view-component="true" class="octicon octicon-x">
    <path d="M3.72 3.72a.75.75 0 0 1 1.06 0L8 6.94l3.22-3.22a.749.749 0 0 1 1.275.326.749.749 0 0 1-.215.734L9.06 8l3.22 3.22a.749.749 0 0 1-.326 1.275.749.749 0 0 1-.734-.215L8 9.06l-3.22 3.22a.751.751 0 0 1-1.042-.018.751.751 0 0 1-.018-1.042L6.94 8 3.72 4.78a.75.75 0 0 1 0-1.06Z"></path>
</svg></button>
    </div>
  </div>
</div>
      <div data-view-component="true" class="Overlay-body d-flex flex-column height-full px-2">      <nav aria-label="User navigation" data-view-component="true" class="ActionList">
  
  <nav-list>
    <ul data-view-component="true" class="ActionListWrap">
        
          
<li data-item-id="" data-targets="nav-list.items" data-view-component="true" class="ActionListItem">
    
    <button id="item-ba05d6f1-f623-4589-8bfa-bfc6d6b3dff6" type="button" data-view-component="true" class="ActionListContent ActionListContent--visual16">
        <span class="ActionListItem-visual ActionListItem-visual--leading">
          <span data-view-component="true" class="d-flex flex-items-center">    <svg style="box-sizing: content-box; color: var(--color-icon-primary);" width="16" height="16" viewBox="0 0 16 16" fill="none" data-view-component="true" class="anim-rotate">
  <circle cx="8" cy="8" r="7" stroke="currentColor" stroke-opacity="0.25" stroke-width="2" vector-effect="non-scaling-stroke" />
  <path d="M15 8a7.002 7.002 0 00-7-7" stroke="currentColor" stroke-width="2" stroke-linecap="round" vector-effect="non-scaling-stroke" />
</svg>
</span>
        </span>
      
        <span data-view-component="true" class="ActionListItem-label">
          

  <span class="color-fg-muted">
    Loading...
  </span>

</span></button>
  
  
</li>

        
          <li role="presentation" aria-hidden="true" data-view-component="true" class="ActionList-sectionDivider"></li>
        
          
<li data-item-id="" data-targets="nav-list.items" data-view-component="true" class="ActionListItem">
    
    <a id="item-db17a06d-734c-4d6c-b148-9fe3c06202f9" href="https://github.com/RedFoxSR" data-view-component="true" class="ActionListContent ActionListContent--visual16">
        <span class="ActionListItem-visual ActionListItem-visual--leading">
          <svg aria-hidden="true" height="16" viewBox="0 0 16 16" version="1.1" width="16" data-view-component="true" class="octicon octicon-person">
    <path d="M10.561 8.073a6.005 6.005 0 0 1 3.432 5.142.75.75 0 1 1-1.498.07 4.5 4.5 0 0 0-8.99 0 .75.75 0 0 1-1.498-.07 6.004 6.004 0 0 1 3.431-5.142 3.999 3.999 0 1 1 5.123 0ZM10.5 5a2.5 2.5 0 1 0-5 0 2.5 2.5 0 0 0 5 0Z"></path>
</svg>
        </span>
      
        <span data-view-component="true" class="ActionListItem-label">
          Your profile
</span></a>
  
  
</li>

        
          <li role="presentation" aria-hidden="true" data-view-component="true" class="ActionList-sectionDivider"></li>
        
          
<li data-item-id="" data-targets="nav-list.items" data-view-component="true" class="ActionListItem">
    
    <a id="item-c5f938c8-4d90-4db5-8a33-a0a98254425d" href="/RedFoxSR?tab=repositories" data-view-component="true" class="ActionListContent ActionListContent--visual16">
        <span class="ActionListItem-visual ActionListItem-visual--leading">
          <svg aria-hidden="true" height="16" viewBox="0 0 16 16" version="1.1" width="16" data-view-component="true" class="octicon octicon-repo">
    <path d="M2 2.5A2.5 2.5 0 0 1 4.5 0h8.75a.75.75 0 0 1 .75.75v12.5a.75.75 0 0 1-.75.75h-2.5a.75.75 0 0 1 0-1.5h1.75v-2h-8a1 1 0 0 0-.714 1.7.75.75 0 1 1-1.072 1.05A2.495 2.495 0 0 1 2 11.5Zm10.5-1h-8a1 1 0 0 0-1 1v6.708A2.486 2.486 0 0 1 4.5 9h8ZM5 12.25a.25.25 0 0 1 .25-.25h3.5a.25.25 0 0 1 .25.25v3.25a.25.25 0 0 1-.4.2l-1.45-1.087a.249.249 0 0 0-.3 0L5.4 15.7a.25.25 0 0 1-.4-.2Z"></path>
</svg>
        </span>
      
        <span data-view-component="true" class="ActionListItem-label">
          Your repositories
</span></a>
  
  
</li>

        
          
<li data-item-id="" data-targets="nav-list.items" data-view-component="true" class="ActionListItem">
    
    <a id="item-15194dee-7cbd-4948-8c2b-9c9d3e33bc74" href="/RedFoxSR?tab=projects" data-view-component="true" class="ActionListContent ActionListContent--visual16">
        <span class="ActionListItem-visual ActionListItem-visual--leading">
          <svg aria-hidden="true" height="16" viewBox="0 0 16 16" version="1.1" width="16" data-view-component="true" class="octicon octicon-project">
    <path d="M1.75 0h12.5C15.216 0 16 .784 16 1.75v12.5A1.75 1.75 0 0 1 14.25 16H1.75A1.75 1.75 0 0 1 0 14.25V1.75C0 .784.784 0 1.75 0ZM1.5 1.75v12.5c0 .138.112.25.25.25h12.5a.25.25 0 0 0 .25-.25V1.75a.25.25 0 0 0-.25-.25H1.75a.25.25 0 0 0-.25.25ZM11.75 3a.75.75 0 0 1 .75.75v7.5a.75.75 0 0 1-1.5 0v-7.5a.75.75 0 0 1 .75-.75Zm-8.25.75a.75.75 0 0 1 1.5 0v5.5a.75.75 0 0 1-1.5 0ZM8 3a.75.75 0 0 1 .75.75v3.5a.75.75 0 0 1-1.5 0v-3.5A.75.75 0 0 1 8 3Z"></path>
</svg>
        </span>
      
        <span data-view-component="true" class="ActionListItem-label">
          Your projects
</span></a>
  
  
</li>

        
          
<li data-item-id="" data-targets="nav-list.items" data-view-component="true" class="ActionListItem">
    
    <a id="item-dd8a57b4-ff3f-4a0c-b257-7428d77e78ef" href="/codespaces" data-view-component="true" class="ActionListContent ActionListContent--visual16">
        <span class="ActionListItem-visual ActionListItem-visual--leading">
          <svg aria-hidden="true" height="16" viewBox="0 0 16 16" version="1.1" width="16" data-view-component="true" class="octicon octicon-codespaces">
    <path d="M0 11.25c0-.966.784-1.75 1.75-1.75h12.5c.966 0 1.75.784 1.75 1.75v3A1.75 1.75 0 0 1 14.25 16H1.75A1.75 1.75 0 0 1 0 14.25Zm2-9.5C2 .784 2.784 0 3.75 0h8.5C13.216 0 14 .784 14 1.75v5a1.75 1.75 0 0 1-1.75 1.75h-8.5A1.75 1.75 0 0 1 2 6.75Zm1.75-.25a.25.25 0 0 0-.25.25v5c0 .138.112.25.25.25h8.5a.25.25 0 0 0 .25-.25v-5a.25.25 0 0 0-.25-.25Zm-2 9.5a.25.25 0 0 0-.25.25v3c0 .138.112.25.25.25h12.5a.25.25 0 0 0 .25-.25v-3a.25.25 0 0 0-.25-.25Z"></path><path d="M7 12.75a.75.75 0 0 1 .75-.75h4.5a.75.75 0 0 1 0 1.5h-4.5a.75.75 0 0 1-.75-.75Zm-4 0a.75.75 0 0 1 .75-.75h.5a.75.75 0 0 1 0 1.5h-.5a.75.75 0 0 1-.75-.75Z"></path>
</svg>
        </span>
      
        <span data-view-component="true" class="ActionListItem-label">
          Your codespaces
</span></a>
  
  
</li>

        
          
<li data-item-id="" data-targets="nav-list.items" data-view-component="true" class="ActionListItem">
    
    <button id="item-8e359e61-09c3-4e69-b8ff-28363648f5ab" type="button" data-view-component="true" class="ActionListContent ActionListContent--visual16">
        <span class="ActionListItem-visual ActionListItem-visual--leading">
          <span data-view-component="true" class="d-flex flex-items-center">    <svg style="box-sizing: content-box; color: var(--color-icon-primary);" width="16" height="16" viewBox="0 0 16 16" fill="none" data-view-component="true" class="anim-rotate">
  <circle cx="8" cy="8" r="7" stroke="currentColor" stroke-opacity="0.25" stroke-width="2" vector-effect="non-scaling-stroke" />
  <path d="M15 8a7.002 7.002 0 00-7-7" stroke="currentColor" stroke-width="2" stroke-linecap="round" vector-effect="non-scaling-stroke" />
</svg>
</span>
        </span>
      
        <span data-view-component="true" class="ActionListItem-label">
          

  <span class="color-fg-muted">
    Loading...
  </span>

</span></button>
  
  
</li>

        
          
<li data-item-id="" data-targets="nav-list.items" data-view-component="true" class="ActionListItem">
    
    <a id="item-e07a3ea9-57df-492c-8fa9-900814dbc6b5" href="/RedFoxSR?tab=stars" data-view-component="true" class="ActionListContent ActionListContent--visual16">
        <span class="ActionListItem-visual ActionListItem-visual--leading">
          <svg aria-hidden="true" height="16" viewBox="0 0 16 16" version="1.1" width="16" data-view-component="true" class="octicon octicon-star">
    <path d="M8 .25a.75.75 0 0 1 .673.418l1.882 3.815 4.21.612a.75.75 0 0 1 .416 1.279l-3.046 2.97.719 4.192a.751.751 0 0 1-1.088.791L8 12.347l-3.766 1.98a.75.75 0 0 1-1.088-.79l.72-4.194L.818 6.374a.75.75 0 0 1 .416-1.28l4.21-.611L7.327.668A.75.75 0 0 1 8 .25Zm0 2.445L6.615 5.5a.75.75 0 0 1-.564.41l-3.097.45 2.24 2.184a.75.75 0 0 1 .216.664l-.528 3.084 2.769-1.456a.75.75 0 0 1 .698 0l2.77 1.456-.53-3.084a.75.75 0 0 1 .216-.664l2.24-2.183-3.096-.45a.75.75 0 0 1-.564-.41L8 2.694Z"></path>
</svg>
        </span>
      
        <span data-view-component="true" class="ActionListItem-label">
          Your stars
</span></a>
  
  
</li>

        
          
<li data-item-id="" data-targets="nav-list.items" data-view-component="true" class="ActionListItem">
    
    <a id="item-9b2233f8-c975-4b9d-ba8a-bfcf9400b572" href="/sponsors/accounts" data-view-component="true" class="ActionListContent ActionListContent--visual16">
        <span class="ActionListItem-visual ActionListItem-visual--leading">
          <svg aria-hidden="true" height="16" viewBox="0 0 16 16" version="1.1" width="16" data-view-component="true" class="octicon octicon-heart">
    <path d="m8 14.25.345.666a.75.75 0 0 1-.69 0l-.008-.004-.018-.01a7.152 7.152 0 0 1-.31-.17 22.055 22.055 0 0 1-3.434-2.414C2.045 10.731 0 8.35 0 5.5 0 2.836 2.086 1 4.25 1 5.797 1 7.153 1.802 8 3.02 8.847 1.802 10.203 1 11.75 1 13.914 1 16 2.836 16 5.5c0 2.85-2.045 5.231-3.885 6.818a22.066 22.066 0 0 1-3.744 2.584l-.018.01-.006.003h-.002ZM4.25 2.5c-1.336 0-2.75 1.164-2.75 3 0 2.15 1.58 4.144 3.365 5.682A20.58 20.58 0 0 0 8 13.393a20.58 20.58 0 0 0 3.135-2.211C12.92 9.644 14.5 7.65 14.5 5.5c0-1.836-1.414-3-2.75-3-1.373 0-2.609.986-3.029 2.456a.749.749 0 0 1-1.442 0C6.859 3.486 5.623 2.5 4.25 2.5Z"></path>
</svg>
        </span>
      
        <span data-view-component="true" class="ActionListItem-label">
          Your sponsors
</span></a>
  
  
</li>

        
          
<li data-item-id="" data-targets="nav-list.items" data-view-component="true" class="ActionListItem">
    
    <a id="item-a68161e9-1e50-448c-8e49-47af6c69a9f4" href="https://gist.github.com/mine" data-view-component="true" class="ActionListContent ActionListContent--visual16">
        <span class="ActionListItem-visual ActionListItem-visual--leading">
          <svg aria-hidden="true" height="16" viewBox="0 0 16 16" version="1.1" width="16" data-view-component="true" class="octicon octicon-code-square">
    <path d="M0 1.75C0 .784.784 0 1.75 0h12.5C15.216 0 16 .784 16 1.75v12.5A1.75 1.75 0 0 1 14.25 16H1.75A1.75 1.75 0 0 1 0 14.25Zm1.75-.25a.25.25 0 0 0-.25.25v12.5c0 .138.112.25.25.25h12.5a.25.25 0 0 0 .25-.25V1.75a.25.25 0 0 0-.25-.25Zm7.47 3.97a.75.75 0 0 1 1.06 0l2 2a.75.75 0 0 1 0 1.06l-2 2a.749.749 0 0 1-1.275-.326.749.749 0 0 1 .215-.734L10.69 8 9.22 6.53a.75.75 0 0 1 0-1.06ZM6.78 6.53 5.31 8l1.47 1.47a.749.749 0 0 1-.326 1.275.749.749 0 0 1-.734-.215l-2-2a.75.75 0 0 1 0-1.06l2-2a.751.751 0 0 1 1.042.018.751.751 0 0 1 .018 1.042Z"></path>
</svg>
        </span>
      
        <span data-view-component="true" class="ActionListItem-label">
          Your gists
</span></a>
  
  
</li>

        
          <li role="presentation" aria-hidden="true" data-view-component="true" class="ActionList-sectionDivider"></li>
        
          
<li data-item-id="" data-targets="nav-list.items" data-view-component="true" class="ActionListItem">
    
    <button id="item-7c4c43d0-be03-42d6-90cc-8e0843682642" type="button" data-view-component="true" class="ActionListContent ActionListContent--visual16">
        <span class="ActionListItem-visual ActionListItem-visual--leading">
          <span data-view-component="true" class="d-flex flex-items-center">    <svg style="box-sizing: content-box; color: var(--color-icon-primary);" width="16" height="16" viewBox="0 0 16 16" fill="none" data-view-component="true" class="anim-rotate">
  <circle cx="8" cy="8" r="7" stroke="currentColor" stroke-opacity="0.25" stroke-width="2" vector-effect="non-scaling-stroke" />
  <path d="M15 8a7.002 7.002 0 00-7-7" stroke="currentColor" stroke-width="2" stroke-linecap="round" vector-effect="non-scaling-stroke" />
</svg>
</span>
        </span>
      
        <span data-view-component="true" class="ActionListItem-label">
          

  <span class="color-fg-muted">
    Loading...
  </span>

</span></button>
  
  
</li>

        
          
<li data-item-id="" data-targets="nav-list.items" data-view-component="true" class="ActionListItem">
    
    <button id="item-b6d9d78c-134c-42bf-affc-869dee21cb8d" type="button" data-view-component="true" class="ActionListContent ActionListContent--visual16">
        <span class="ActionListItem-visual ActionListItem-visual--leading">
          <span data-view-component="true" class="d-flex flex-items-center">    <svg style="box-sizing: content-box; color: var(--color-icon-primary);" width="16" height="16" viewBox="0 0 16 16" fill="none" data-view-component="true" class="anim-rotate">
  <circle cx="8" cy="8" r="7" stroke="currentColor" stroke-opacity="0.25" stroke-width="2" vector-effect="non-scaling-stroke" />
  <path d="M15 8a7.002 7.002 0 00-7-7" stroke="currentColor" stroke-width="2" stroke-linecap="round" vector-effect="non-scaling-stroke" />
</svg>
</span>
        </span>
      
        <span data-view-component="true" class="ActionListItem-label">
          

  <span class="color-fg-muted">
    Loading...
  </span>

</span></button>
  
  
</li>

        
          
<li data-item-id="" data-targets="nav-list.items" data-view-component="true" class="ActionListItem">
    
    <button id="item-8db4cd39-221f-4257-b0c5-bb2ce88f44e3" type="button" data-view-component="true" class="ActionListContent ActionListContent--visual16">
        <span class="ActionListItem-visual ActionListItem-visual--leading">
          <span data-view-component="true" class="d-flex flex-items-center">    <svg style="box-sizing: content-box; color: var(--color-icon-primary);" width="16" height="16" viewBox="0 0 16 16" fill="none" data-view-component="true" class="anim-rotate">
  <circle cx="8" cy="8" r="7" stroke="currentColor" stroke-opacity="0.25" stroke-width="2" vector-effect="non-scaling-stroke" />
  <path d="M15 8a7.002 7.002 0 00-7-7" stroke="currentColor" stroke-width="2" stroke-linecap="round" vector-effect="non-scaling-stroke" />
</svg>
</span>
        </span>
      
        <span data-view-component="true" class="ActionListItem-label">
          

  <span class="color-fg-muted">
    Loading...
  </span>

</span></button>
  
  
</li>

        
          
<li data-item-id="" data-targets="nav-list.items" data-view-component="true" class="ActionListItem">
    
    <a id="item-aad3d50c-d2df-4aa0-bf28-d0020077f1e2" href="/settings/profile" data-view-component="true" class="ActionListContent ActionListContent--visual16">
        <span class="ActionListItem-visual ActionListItem-visual--leading">
          <svg aria-hidden="true" height="16" viewBox="0 0 16 16" version="1.1" width="16" data-view-component="true" class="octicon octicon-gear">
    <path d="M8 0a8.2 8.2 0 0 1 .701.031C9.444.095 9.99.645 10.16 1.29l.288 1.107c.018.066.079.158.212.224.231.114.454.243.668.386.123.082.233.09.299.071l1.103-.303c.644-.176 1.392.021 1.82.63.27.385.506.792.704 1.218.315.675.111 1.422-.364 1.891l-.814.806c-.049.048-.098.147-.088.294.016.257.016.515 0 .772-.01.147.038.246.088.294l.814.806c.475.469.679 1.216.364 1.891a7.977 7.977 0 0 1-.704 1.217c-.428.61-1.176.807-1.82.63l-1.102-.302c-.067-.019-.177-.011-.3.071a5.909 5.909 0 0 1-.668.386c-.133.066-.194.158-.211.224l-.29 1.106c-.168.646-.715 1.196-1.458 1.26a8.006 8.006 0 0 1-1.402 0c-.743-.064-1.289-.614-1.458-1.26l-.289-1.106c-.018-.066-.079-.158-.212-.224a5.738 5.738 0 0 1-.668-.386c-.123-.082-.233-.09-.299-.071l-1.103.303c-.644.176-1.392-.021-1.82-.63a8.12 8.12 0 0 1-.704-1.218c-.315-.675-.111-1.422.363-1.891l.815-.806c.05-.048.098-.147.088-.294a6.214 6.214 0 0 1 0-.772c.01-.147-.038-.246-.088-.294l-.815-.806C.635 6.045.431 5.298.746 4.623a7.92 7.92 0 0 1 .704-1.217c.428-.61 1.176-.807 1.82-.63l1.102.302c.067.019.177.011.3-.071.214-.143.437-.272.668-.386.133-.066.194-.158.211-.224l.29-1.106C6.009.645 6.556.095 7.299.03 7.53.01 7.764 0 8 0Zm-.571 1.525c-.036.003-.108.036-.137.146l-.289 1.105c-.147.561-.549.967-.998 1.189-.173.086-.34.183-.5.29-.417.278-.97.423-1.529.27l-1.103-.303c-.109-.03-.175.016-.195.045-.22.312-.412.644-.573.99-.014.031-.021.11.059.19l.815.806c.411.406.562.957.53 1.456a4.709 4.709 0 0 0 0 .582c.032.499-.119 1.05-.53 1.456l-.815.806c-.081.08-.073.159-.059.19.162.346.353.677.573.989.02.03.085.076.195.046l1.102-.303c.56-.153 1.113-.008 1.53.27.161.107.328.204.501.29.447.222.85.629.997 1.189l.289 1.105c.029.109.101.143.137.146a6.6 6.6 0 0 0 1.142 0c.036-.003.108-.036.137-.146l.289-1.105c.147-.561.549-.967.998-1.189.173-.086.34-.183.5-.29.417-.278.97-.423 1.529-.27l1.103.303c.109.029.175-.016.195-.045.22-.313.411-.644.573-.99.014-.031.021-.11-.059-.19l-.815-.806c-.411-.406-.562-.957-.53-1.456a4.709 4.709 0 0 0 0-.582c-.032-.499.119-1.05.53-1.456l.815-.806c.081-.08.073-.159.059-.19a6.464 6.464 0 0 0-.573-.989c-.02-.03-.085-.076-.195-.046l-1.102.303c-.56.153-1.113.008-1.53-.27a4.44 4.44 0 0 0-.501-.29c-.447-.222-.85-.629-.997-1.189l-.289-1.105c-.029-.11-.101-.143-.137-.146a6.6 6.6 0 0 0-1.142 0ZM11 8a3 3 0 1 1-6 0 3 3 0 0 1 6 0ZM9.5 8a1.5 1.5 0 1 0-3.001.001A1.5 1.5 0 0 0 9.5 8Z"></path>
</svg>
        </span>
      
        <span data-view-component="true" class="ActionListItem-label">
          Settings
</span></a>
  
  
</li>

        
          <li role="presentation" aria-hidden="true" data-view-component="true" class="ActionList-sectionDivider"></li>
        
          
<li data-item-id="" data-targets="nav-list.items" data-view-component="true" class="ActionListItem">
    
    <a id="item-790a060a-cc7e-40ca-b150-f276932e711b" href="https://docs.github.com" data-view-component="true" class="ActionListContent ActionListContent--visual16">
        <span class="ActionListItem-visual ActionListItem-visual--leading">
          <svg aria-hidden="true" height="16" viewBox="0 0 16 16" version="1.1" width="16" data-view-component="true" class="octicon octicon-book">
    <path d="M0 1.75A.75.75 0 0 1 .75 1h4.253c1.227 0 2.317.59 3 1.501A3.743 3.743 0 0 1 11.006 1h4.245a.75.75 0 0 1 .75.75v10.5a.75.75 0 0 1-.75.75h-4.507a2.25 2.25 0 0 0-1.591.659l-.622.621a.75.75 0 0 1-1.06 0l-.622-.621A2.25 2.25 0 0 0 5.258 13H.75a.75.75 0 0 1-.75-.75Zm7.251 10.324.004-5.073-.002-2.253A2.25 2.25 0 0 0 5.003 2.5H1.5v9h3.757a3.75 3.75 0 0 1 1.994.574ZM8.755 4.75l-.004 7.322a3.752 3.752 0 0 1 1.992-.572H14.5v-9h-3.495a2.25 2.25 0 0 0-2.25 2.25Z"></path>
</svg>
        </span>
      
        <span data-view-component="true" class="ActionListItem-label">
          GitHub Docs
</span></a>
  
  
</li>

        
          
<li data-item-id="" data-targets="nav-list.items" data-view-component="true" class="ActionListItem">
    
    <a id="item-fb21c62c-b508-4ba4-acef-99959a2a97a6" href="https://support.github.com" data-view-component="true" class="ActionListContent ActionListContent--visual16">
        <span class="ActionListItem-visual ActionListItem-visual--leading">
          <svg aria-hidden="true" height="16" viewBox="0 0 16 16" version="1.1" width="16" data-view-component="true" class="octicon octicon-people">
    <path d="M2 5.5a3.5 3.5 0 1 1 5.898 2.549 5.508 5.508 0 0 1 3.034 4.084.75.75 0 1 1-1.482.235 4 4 0 0 0-7.9 0 .75.75 0 0 1-1.482-.236A5.507 5.507 0 0 1 3.102 8.05 3.493 3.493 0 0 1 2 5.5ZM11 4a3.001 3.001 0 0 1 2.22 5.018 5.01 5.01 0 0 1 2.56 3.012.749.749 0 0 1-.885.954.752.752 0 0 1-.549-.514 3.507 3.507 0 0 0-2.522-2.372.75.75 0 0 1-.574-.73v-.352a.75.75 0 0 1 .416-.672A1.5 1.5 0 0 0 11 5.5.75.75 0 0 1 11 4Zm-5.5-.5a2 2 0 1 0-.001 3.999A2 2 0 0 0 5.5 3.5Z"></path>
</svg>
        </span>
      
        <span data-view-component="true" class="ActionListItem-label">
          GitHub Support
</span></a>
  
  
</li>

        
          <li role="presentation" aria-hidden="true" data-view-component="true" class="ActionList-sectionDivider"></li>
        
          
<li data-item-id="" data-targets="nav-list.items" data-view-component="true" class="ActionListItem">
    
    <a id="item-e877a3c2-a7d6-4e31-8a8e-8aebb28e573c" href="/logout" data-view-component="true" class="ActionListContent">
      
        <span data-view-component="true" class="ActionListItem-label">
          Sign out
</span></a>
  
  
</li>

</ul>  </nav-list>
</nav>


</div>
      
</modal-dialog></div>
  </user-drawer-side-panel>

  </include-fragment>
</deferred-side-panel>
        </div>

        <div class="Header-item position-relative mr-2 mt-2">
            
<site-header-logged-in-user-menu>

</site-header-logged-in-user-menu>

        </div>
      </div>
    </div>


      <div class="AppHeader-localBar" >
        <nav data-pjax="#js-repo-pjax-container" aria-label="Repository" data-view-component="true" class="js-repo-nav js-sidenav-container-pjax js-responsive-underlinenav overflow-hidden UnderlineNav">

  <ul data-view-component="true" class="UnderlineNav-body list-style-none">
      <li data-view-component="true" class="d-inline-flex">
  <a id="code-tab" href="/navassherif98/IBM_Data_Science_Professional_Certification" data-tab-item="i0code-tab" data-selected-links="repo_source repo_downloads repo_commits repo_releases repo_tags repo_branches repo_packages repo_deployments /navassherif98/IBM_Data_Science_Professional_Certification" data-pjax="#repo-content-pjax-container" data-turbo-frame="repo-content-turbo-frame" data-hotkey="g c" data-analytics-event="{&quot;category&quot;:&quot;Underline navbar&quot;,&quot;action&quot;:&quot;Click tab&quot;,&quot;label&quot;:&quot;Code&quot;,&quot;target&quot;:&quot;UNDERLINE_NAV.TAB&quot;}" data-view-component="true" class="UnderlineNav-item no-wrap js-responsive-underlinenav-item js-selected-navigation-item">
    
              <svg aria-hidden="true" height="16" viewBox="0 0 16 16" version="1.1" width="16" data-view-component="true" class="octicon octicon-code UnderlineNav-octicon d-none d-sm-inline">
    <path d="m11.28 3.22 4.25 4.25a.75.75 0 0 1 0 1.06l-4.25 4.25a.749.749 0 0 1-1.275-.326.749.749 0 0 1 .215-.734L13.94 8l-3.72-3.72a.749.749 0 0 1 .326-1.275.749.749 0 0 1 .734.215Zm-6.56 0a.751.751 0 0 1 1.042.018.751.751 0 0 1 .018 1.042L2.06 8l3.72 3.72a.749.749 0 0 1-.326 1.275.749.749 0 0 1-.734-.215L.47 8.53a.75.75 0 0 1 0-1.06Z"></path>
</svg>
        <span data-content="Code">Code</span>
          <span id="code-repo-tab-count" data-pjax-replace="" data-turbo-replace="" title="Not available" data-view-component="true" class="Counter"></span>


    
</a></li>
      <li data-view-component="true" class="d-inline-flex">
  <a id="issues-tab" href="/navassherif98/IBM_Data_Science_Professional_Certification/issues" data-tab-item="i1issues-tab" data-selected-links="repo_issues repo_labels repo_milestones /navassherif98/IBM_Data_Science_Professional_Certification/issues" data-pjax="#repo-content-pjax-container" data-turbo-frame="repo-content-turbo-frame" data-hotkey="g i" data-analytics-event="{&quot;category&quot;:&quot;Underline navbar&quot;,&quot;action&quot;:&quot;Click tab&quot;,&quot;label&quot;:&quot;Issues&quot;,&quot;target&quot;:&quot;UNDERLINE_NAV.TAB&quot;}" data-view-component="true" class="UnderlineNav-item no-wrap js-responsive-underlinenav-item js-selected-navigation-item">
    
              <svg aria-hidden="true" height="16" viewBox="0 0 16 16" version="1.1" width="16" data-view-component="true" class="octicon octicon-issue-opened UnderlineNav-octicon d-none d-sm-inline">
    <path d="M8 9.5a1.5 1.5 0 1 0 0-3 1.5 1.5 0 0 0 0 3Z"></path><path d="M8 0a8 8 0 1 1 0 16A8 8 0 0 1 8 0ZM1.5 8a6.5 6.5 0 1 0 13 0 6.5 6.5 0 0 0-13 0Z"></path>
</svg>
        <span data-content="Issues">Issues</span>
          <span id="issues-repo-tab-count" data-pjax-replace="" data-turbo-replace="" title="1" data-view-component="true" class="Counter">1</span>


    
</a></li>
      <li data-view-component="true" class="d-inline-flex">
  <a id="pull-requests-tab" href="/navassherif98/IBM_Data_Science_Professional_Certification/pulls" data-tab-item="i2pull-requests-tab" data-selected-links="repo_pulls checks /navassherif98/IBM_Data_Science_Professional_Certification/pulls" data-pjax="#repo-content-pjax-container" data-turbo-frame="repo-content-turbo-frame" data-hotkey="g p" data-analytics-event="{&quot;category&quot;:&quot;Underline navbar&quot;,&quot;action&quot;:&quot;Click tab&quot;,&quot;label&quot;:&quot;Pull requests&quot;,&quot;target&quot;:&quot;UNDERLINE_NAV.TAB&quot;}" data-view-component="true" class="UnderlineNav-item no-wrap js-responsive-underlinenav-item js-selected-navigation-item">
    
              <svg aria-hidden="true" height="16" viewBox="0 0 16 16" version="1.1" width="16" data-view-component="true" class="octicon octicon-git-pull-request UnderlineNav-octicon d-none d-sm-inline">
    <path d="M1.5 3.25a2.25 2.25 0 1 1 3 2.122v5.256a2.251 2.251 0 1 1-1.5 0V5.372A2.25 2.25 0 0 1 1.5 3.25Zm5.677-.177L9.573.677A.25.25 0 0 1 10 .854V2.5h1A2.5 2.5 0 0 1 13.5 5v5.628a2.251 2.251 0 1 1-1.5 0V5a1 1 0 0 0-1-1h-1v1.646a.25.25 0 0 1-.427.177L7.177 3.427a.25.25 0 0 1 0-.354ZM3.75 2.5a.75.75 0 1 0 0 1.5.75.75 0 0 0 0-1.5Zm0 9.5a.75.75 0 1 0 0 1.5.75.75 0 0 0 0-1.5Zm8.25.75a.75.75 0 1 0 1.5 0 .75.75 0 0 0-1.5 0Z"></path>
</svg>
        <span data-content="Pull requests">Pull requests</span>
          <span id="pull-requests-repo-tab-count" data-pjax-replace="" data-turbo-replace="" title="0" hidden="hidden" data-view-component="true" class="Counter">0</span>


    
</a></li>
      <li data-view-component="true" class="d-inline-flex">
  <a id="actions-tab" href="/navassherif98/IBM_Data_Science_Professional_Certification/actions" data-tab-item="i3actions-tab" data-selected-links="repo_actions /navassherif98/IBM_Data_Science_Professional_Certification/actions" data-pjax="#repo-content-pjax-container" data-turbo-frame="repo-content-turbo-frame" data-hotkey="g a" data-analytics-event="{&quot;category&quot;:&quot;Underline navbar&quot;,&quot;action&quot;:&quot;Click tab&quot;,&quot;label&quot;:&quot;Actions&quot;,&quot;target&quot;:&quot;UNDERLINE_NAV.TAB&quot;}" data-view-component="true" class="UnderlineNav-item no-wrap js-responsive-underlinenav-item js-selected-navigation-item">
    
              <svg aria-hidden="true" height="16" viewBox="0 0 16 16" version="1.1" width="16" data-view-component="true" class="octicon octicon-play UnderlineNav-octicon d-none d-sm-inline">
    <path d="M8 0a8 8 0 1 1 0 16A8 8 0 0 1 8 0ZM1.5 8a6.5 6.5 0 1 0 13 0 6.5 6.5 0 0 0-13 0Zm4.879-2.773 4.264 2.559a.25.25 0 0 1 0 .428l-4.264 2.559A.25.25 0 0 1 6 10.559V5.442a.25.25 0 0 1 .379-.215Z"></path>
</svg>
        <span data-content="Actions">Actions</span>
          <span id="actions-repo-tab-count" data-pjax-replace="" data-turbo-replace="" title="Not available" data-view-component="true" class="Counter"></span>


    
</a></li>
      <li data-view-component="true" class="d-inline-flex">
  <a id="projects-tab" href="/navassherif98/IBM_Data_Science_Professional_Certification/projects" data-tab-item="i4projects-tab" data-selected-links="repo_projects new_repo_project repo_project /navassherif98/IBM_Data_Science_Professional_Certification/projects" data-pjax="#repo-content-pjax-container" data-turbo-frame="repo-content-turbo-frame" data-hotkey="g b" data-analytics-event="{&quot;category&quot;:&quot;Underline navbar&quot;,&quot;action&quot;:&quot;Click tab&quot;,&quot;label&quot;:&quot;Projects&quot;,&quot;target&quot;:&quot;UNDERLINE_NAV.TAB&quot;}" data-view-component="true" class="UnderlineNav-item no-wrap js-responsive-underlinenav-item js-selected-navigation-item">
    
              <svg aria-hidden="true" height="16" viewBox="0 0 16 16" version="1.1" width="16" data-view-component="true" class="octicon octicon-table UnderlineNav-octicon d-none d-sm-inline">
    <path d="M0 1.75C0 .784.784 0 1.75 0h12.5C15.216 0 16 .784 16 1.75v12.5A1.75 1.75 0 0 1 14.25 16H1.75A1.75 1.75 0 0 1 0 14.25ZM6.5 6.5v8h7.75a.25.25 0 0 0 .25-.25V6.5Zm8-1.5V1.75a.25.25 0 0 0-.25-.25H6.5V5Zm-13 1.5v7.75c0 .138.112.25.25.25H5v-8ZM5 5V1.5H1.75a.25.25 0 0 0-.25.25V5Z"></path>
</svg>
        <span data-content="Projects">Projects</span>
          <span id="projects-repo-tab-count" data-pjax-replace="" data-turbo-replace="" title="0" hidden="hidden" data-view-component="true" class="Counter">0</span>


    
</a></li>
      <li data-view-component="true" class="d-inline-flex">
  <a id="security-tab" href="/navassherif98/IBM_Data_Science_Professional_Certification/security" data-tab-item="i5security-tab" data-selected-links="security overview alerts policy token_scanning code_scanning /navassherif98/IBM_Data_Science_Professional_Certification/security" data-pjax="#repo-content-pjax-container" data-turbo-frame="repo-content-turbo-frame" data-hotkey="g s" data-analytics-event="{&quot;category&quot;:&quot;Underline navbar&quot;,&quot;action&quot;:&quot;Click tab&quot;,&quot;label&quot;:&quot;Security&quot;,&quot;target&quot;:&quot;UNDERLINE_NAV.TAB&quot;}" data-view-component="true" class="UnderlineNav-item no-wrap js-responsive-underlinenav-item js-selected-navigation-item">
    
              <svg aria-hidden="true" height="16" viewBox="0 0 16 16" version="1.1" width="16" data-view-component="true" class="octicon octicon-shield UnderlineNav-octicon d-none d-sm-inline">
    <path d="M7.467.133a1.748 1.748 0 0 1 1.066 0l5.25 1.68A1.75 1.75 0 0 1 15 3.48V7c0 1.566-.32 3.182-1.303 4.682-.983 1.498-2.585 2.813-5.032 3.855a1.697 1.697 0 0 1-1.33 0c-2.447-1.042-4.049-2.357-5.032-3.855C1.32 10.182 1 8.566 1 7V3.48a1.75 1.75 0 0 1 1.217-1.667Zm.61 1.429a.25.25 0 0 0-.153 0l-5.25 1.68a.25.25 0 0 0-.174.238V7c0 1.358.275 2.666 1.057 3.86.784 1.194 2.121 2.34 4.366 3.297a.196.196 0 0 0 .154 0c2.245-.956 3.582-2.104 4.366-3.298C13.225 9.666 13.5 8.36 13.5 7V3.48a.251.251 0 0 0-.174-.237l-5.25-1.68ZM8.75 4.75v3a.75.75 0 0 1-1.5 0v-3a.75.75 0 0 1 1.5 0ZM9 10.5a1 1 0 1 1-2 0 1 1 0 0 1 2 0Z"></path>
</svg>
        <span data-content="Security">Security</span>
          <include-fragment src="/navassherif98/IBM_Data_Science_Professional_Certification/security/overall-count" accept="text/fragment+html"></include-fragment>

    
</a></li>
      <li data-view-component="true" class="d-inline-flex">
  <a id="insights-tab" href="/navassherif98/IBM_Data_Science_Professional_Certification/pulse" data-tab-item="i6insights-tab" data-selected-links="repo_graphs repo_contributors dependency_graph dependabot_updates pulse people community /navassherif98/IBM_Data_Science_Professional_Certification/pulse" data-pjax="#repo-content-pjax-container" data-turbo-frame="repo-content-turbo-frame" data-analytics-event="{&quot;category&quot;:&quot;Underline navbar&quot;,&quot;action&quot;:&quot;Click tab&quot;,&quot;label&quot;:&quot;Insights&quot;,&quot;target&quot;:&quot;UNDERLINE_NAV.TAB&quot;}" data-view-component="true" class="UnderlineNav-item no-wrap js-responsive-underlinenav-item js-selected-navigation-item">
    
              <svg aria-hidden="true" height="16" viewBox="0 0 16 16" version="1.1" width="16" data-view-component="true" class="octicon octicon-graph UnderlineNav-octicon d-none d-sm-inline">
    <path d="M1.5 1.75V13.5h13.75a.75.75 0 0 1 0 1.5H.75a.75.75 0 0 1-.75-.75V1.75a.75.75 0 0 1 1.5 0Zm14.28 2.53-5.25 5.25a.75.75 0 0 1-1.06 0L7 7.06 4.28 9.78a.751.751 0 0 1-1.042-.018.751.751 0 0 1-.018-1.042l3.25-3.25a.75.75 0 0 1 1.06 0L10 7.94l4.72-4.72a.751.751 0 0 1 1.042.018.751.751 0 0 1 .018 1.042Z"></path>
</svg>
        <span data-content="Insights">Insights</span>
          <span id="insights-repo-tab-count" data-pjax-replace="" data-turbo-replace="" title="Not available" data-view-component="true" class="Counter"></span>


    
</a></li>
</ul>
    <div style="visibility:hidden;" data-view-component="true" class="UnderlineNav-actions js-responsive-underlinenav-overflow position-absolute pr-3 pr-md-4 pr-lg-5 right-0">        <details data-view-component="true" class="details-overlay details-reset position-relative">
    <summary role="button" data-view-component="true">          <div class="UnderlineNav-item mr-0 border-0">
            <svg aria-hidden="true" height="16" viewBox="0 0 16 16" version="1.1" width="16" data-view-component="true" class="octicon octicon-kebab-horizontal">
    <path d="M8 9a1.5 1.5 0 1 0 0-3 1.5 1.5 0 0 0 0 3ZM1.5 9a1.5 1.5 0 1 0 0-3 1.5 1.5 0 0 0 0 3Zm13 0a1.5 1.5 0 1 0 0-3 1.5 1.5 0 0 0 0 3Z"></path>
</svg>
            <span class="sr-only">More</span>
          </div>
</summary>
    <details-menu role="menu" data-view-component="true" class="dropdown-menu dropdown-menu-sw">
          <ul>
              <li data-menu-item="i0code-tab" hidden>
                <a role="menuitem" class="js-selected-navigation-item dropdown-item" data-selected-links="repo_source repo_downloads repo_commits repo_releases repo_tags repo_branches repo_packages repo_deployments /navassherif98/IBM_Data_Science_Professional_Certification" href="/navassherif98/IBM_Data_Science_Professional_Certification">
                  Code
</a>              </li>
              <li data-menu-item="i1issues-tab" hidden>
                <a role="menuitem" class="js-selected-navigation-item dropdown-item" data-selected-links="repo_issues repo_labels repo_milestones /navassherif98/IBM_Data_Science_Professional_Certification/issues" href="/navassherif98/IBM_Data_Science_Professional_Certification/issues">
                  Issues
</a>              </li>
              <li data-menu-item="i2pull-requests-tab" hidden>
                <a role="menuitem" class="js-selected-navigation-item dropdown-item" data-selected-links="repo_pulls checks /navassherif98/IBM_Data_Science_Professional_Certification/pulls" href="/navassherif98/IBM_Data_Science_Professional_Certification/pulls">
                  Pull requests
</a>              </li>
              <li data-menu-item="i3actions-tab" hidden>
                <a role="menuitem" class="js-selected-navigation-item dropdown-item" data-selected-links="repo_actions /navassherif98/IBM_Data_Science_Professional_Certification/actions" href="/navassherif98/IBM_Data_Science_Professional_Certification/actions">
                  Actions
</a>              </li>
              <li data-menu-item="i4projects-tab" hidden>
                <a role="menuitem" class="js-selected-navigation-item dropdown-item" data-selected-links="repo_projects new_repo_project repo_project /navassherif98/IBM_Data_Science_Professional_Certification/projects" href="/navassherif98/IBM_Data_Science_Professional_Certification/projects">
                  Projects
</a>              </li>
              <li data-menu-item="i5security-tab" hidden>
                <a role="menuitem" class="js-selected-navigation-item dropdown-item" data-selected-links="security overview alerts policy token_scanning code_scanning /navassherif98/IBM_Data_Science_Professional_Certification/security" href="/navassherif98/IBM_Data_Science_Professional_Certification/security">
                  Security
</a>              </li>
              <li data-menu-item="i6insights-tab" hidden>
                <a role="menuitem" class="js-selected-navigation-item dropdown-item" data-selected-links="repo_graphs repo_contributors dependency_graph dependabot_updates pulse people community /navassherif98/IBM_Data_Science_Professional_Certification/pulse" href="/navassherif98/IBM_Data_Science_Professional_Certification/pulse">
                  Insights
</a>              </li>
          </ul>
</details-menu>
</details></div>
</nav>
      </div>
</header>


      <div hidden="hidden" data-view-component="true" class="js-stale-session-flash flash flash-warn mb-3">
  
        <svg aria-hidden="true" height="16" viewBox="0 0 16 16" version="1.1" width="16" data-view-component="true" class="octicon octicon-alert">
    <path d="M6.457 1.047c.659-1.234 2.427-1.234 3.086 0l6.082 11.378A1.75 1.75 0 0 1 14.082 15H1.918a1.75 1.75 0 0 1-1.543-2.575Zm1.763.707a.25.25 0 0 0-.44 0L1.698 13.132a.25.25 0 0 0 .22.368h12.164a.25.25 0 0 0 .22-.368Zm.53 3.996v2.5a.75.75 0 0 1-1.5 0v-2.5a.75.75 0 0 1 1.5 0ZM9 11a1 1 0 1 1-2 0 1 1 0 0 1 2 0Z"></path>
</svg>
        <span class="js-stale-session-flash-signed-in" hidden>You signed in with another tab or window. <a href="">Reload</a> to refresh your session.</span>
        <span class="js-stale-session-flash-signed-out" hidden>You signed out in another tab or window. <a href="">Reload</a> to refresh your session.</span>
        <span class="js-stale-session-flash-switched" hidden>You switched accounts on another tab or window. <a href="">Reload</a> to refresh your session.</span>

    <button class="flash-close js-flash-close" type="button" aria-label="Close">
      <svg aria-hidden="true" height="16" viewBox="0 0 16 16" version="1.1" width="16" data-view-component="true" class="octicon octicon-x">
    <path d="M3.72 3.72a.75.75 0 0 1 1.06 0L8 6.94l3.22-3.22a.749.749 0 0 1 1.275.326.749.749 0 0 1-.215.734L9.06 8l3.22 3.22a.749.749 0 0 1-.326 1.275.749.749 0 0 1-.734-.215L8 9.06l-3.22 3.22a.751.751 0 0 1-1.042-.018.751.751 0 0 1-.018-1.042L6.94 8 3.72 4.78a.75.75 0 0 1 0-1.06Z"></path>
</svg>
    </button>

  
</div>
          
    </div>

  <div id="start-of-content" class="show-on-focus"></div>








    <div id="js-flash-container" data-turbo-replace>





  <template class="js-flash-template">
    
<div class="flash flash-full   {{ className }}">
  <div class="px-2" >
    <button autofocus class="flash-close js-flash-close" type="button" aria-label="Dismiss this message">
      <svg aria-hidden="true" height="16" viewBox="0 0 16 16" version="1.1" width="16" data-view-component="true" class="octicon octicon-x">
    <path d="M3.72 3.72a.75.75 0 0 1 1.06 0L8 6.94l3.22-3.22a.749.749 0 0 1 1.275.326.749.749 0 0 1-.215.734L9.06 8l3.22 3.22a.749.749 0 0 1-.326 1.275.749.749 0 0 1-.734-.215L8 9.06l-3.22 3.22a.751.751 0 0 1-1.042-.018.751.751 0 0 1-.018-1.042L6.94 8 3.72 4.78a.75.75 0 0 1 0-1.06Z"></path>
</svg>
    </button>
    <div aria-atomic="true" role="alert" class="js-flash-alert">
      
      <div>{{ message }}</div>

    </div>
  </div>
</div>
  </template>
</div>


    
    <notification-shelf-watcher data-base-url="https://github.com/notifications/beta/shelf" data-channel="eyJjIjoibm90aWZpY2F0aW9uLWNoYW5nZWQ6MTM5NjQ2MDIxIiwidCI6MTY5MDg5MTI2OX0=--52e47649f330cc8d782f9ff42038bfd3c67b3542888404662c2e5da0cab4ffc4" data-view-component="true" class="js-socket-channel"></notification-shelf-watcher>
  <div hidden data-initial data-target="notification-shelf-watcher.placeholder"></div>






      <details
  class="details-reset details-overlay details-overlay-dark js-command-palette-dialog"
  id="command-palette-pjax-container"
  data-turbo-replace
>
  <summary aria-label="command palette trigger" tabindex="-1"></summary>
  <details-dialog class="command-palette-details-dialog d-flex flex-column flex-justify-center height-fit" aria-label="command palette">
    <command-palette
      class="command-palette color-bg-default rounded-3 border color-shadow-small"
      return-to=/navassherif98/IBM_Data_Science_Professional_Certification/blob/master/10.Applied_Data_Science_Capstone/Week%204%20Predictive%20Analysis%20(Classification)/Machine%20Learning%20Prediction.ipynb
      user-id="139646021"
      activation-hotkey="Mod+k,Mod+Alt+k"
      command-mode-hotkey="Mod+Shift+k"
      data-action="
        command-palette-input-ready:command-palette#inputReady
        command-palette-page-stack-updated:command-palette#updateInputScope
        itemsUpdated:command-palette#itemsUpdated
        keydown:command-palette#onKeydown
        loadingStateChanged:command-palette#loadingStateChanged
        selectedItemChanged:command-palette#selectedItemChanged
        pageFetchError:command-palette#pageFetchError
      ">

        <command-palette-mode
          data-char="#"
            data-scope-types="[&quot;&quot;]"
            data-placeholder="Search issues and pull requests"
        ></command-palette-mode>
        <command-palette-mode
          data-char="#"
            data-scope-types="[&quot;owner&quot;,&quot;repository&quot;]"
            data-placeholder="Search issues, pull requests, discussions, and projects"
        ></command-palette-mode>
        <command-palette-mode
          data-char="!"
            data-scope-types="[&quot;owner&quot;,&quot;repository&quot;]"
            data-placeholder="Search projects"
        ></command-palette-mode>
        <command-palette-mode
          data-char="@"
            data-scope-types="[&quot;&quot;]"
            data-placeholder="Search or jump to a user, organization, or repository"
        ></command-palette-mode>
        <command-palette-mode
          data-char="@"
            data-scope-types="[&quot;owner&quot;]"
            data-placeholder="Search or jump to a repository"
        ></command-palette-mode>
        <command-palette-mode
          data-char="/"
            data-scope-types="[&quot;repository&quot;]"
            data-placeholder="Search files"
        ></command-palette-mode>
        <command-palette-mode
          data-char="?"
        ></command-palette-mode>
        <command-palette-mode
          data-char="&gt;"
            data-placeholder="Run a command"
        ></command-palette-mode>
        <command-palette-mode
          data-char=""
            data-scope-types="[&quot;&quot;]"
            data-placeholder="Search or jump to..."
        ></command-palette-mode>
        <command-palette-mode
          data-char=""
            data-scope-types="[&quot;owner&quot;]"
            data-placeholder="Search or jump to..."
        ></command-palette-mode>
      <command-palette-mode
        class="js-command-palette-default-mode"
        data-char=""
        data-placeholder="Search or jump to..."
      ></command-palette-mode>

      <command-palette-input placeholder="Search or jump to..."

        data-action="
          command-palette-input:command-palette#onInput
          command-palette-select:command-palette#onSelect
          command-palette-descope:command-palette#onDescope
          command-palette-cleared:command-palette#onInputClear
        "
      >
        <div class="js-search-icon d-flex flex-items-center mr-2" style="height: 26px">
          <svg aria-hidden="true" height="16" viewBox="0 0 16 16" version="1.1" width="16" data-view-component="true" class="octicon octicon-search color-fg-muted">
    <path d="M10.68 11.74a6 6 0 0 1-7.922-8.982 6 6 0 0 1 8.982 7.922l3.04 3.04a.749.749 0 0 1-.326 1.275.749.749 0 0 1-.734-.215ZM11.5 7a4.499 4.499 0 1 0-8.997 0A4.499 4.499 0 0 0 11.5 7Z"></path>
</svg>
        </div>
        <div class="js-spinner d-flex flex-items-center mr-2 color-fg-muted" hidden>
          <svg aria-label="Loading" class="anim-rotate" viewBox="0 0 16 16" fill="none" width="16" height="16">
            <circle
              cx="8"
              cy="8"
              r="7"
              stroke="currentColor"
              stroke-opacity="0.25"
              stroke-width="2"
              vector-effect="non-scaling-stroke"
            ></circle>
            <path
              d="M15 8a7.002 7.002 0 00-7-7"
              stroke="currentColor"
              stroke-width="2"
              stroke-linecap="round"
              vector-effect="non-scaling-stroke"
            ></path>
          </svg>
        </div>
        <command-palette-scope >
          <div data-target="command-palette-scope.placeholder" hidden class="color-fg-subtle">/&nbsp;&nbsp;<span class="text-semibold color-fg-default">...</span>&nbsp;&nbsp;/&nbsp;&nbsp;</div>
              <command-palette-token
                data-text="navassherif98"
                data-id="MDQ6VXNlcjU1NzU3NDE1"
                data-type="owner"
                data-value="navassherif98"
                data-targets="command-palette-scope.tokens"
                class="color-fg-default text-semibold"
                style="white-space:nowrap;line-height:20px;"
                >navassherif98<span class="color-fg-subtle text-normal">&nbsp;&nbsp;/&nbsp;&nbsp;</span></command-palette-token>
              <command-palette-token
                data-text="IBM_Data_Science_Professional_Certification"
                data-id="MDEwOlJlcG9zaXRvcnkzOTg3MjAzNzE="
                data-type="repository"
                data-value="IBM_Data_Science_Professional_Certification"
                data-targets="command-palette-scope.tokens"
                class="color-fg-default text-semibold"
                style="white-space:nowrap;line-height:20px;"
                >IBM_Data_Science_...<span class="color-fg-subtle text-normal">&nbsp;&nbsp;/&nbsp;&nbsp;</span></command-palette-token>
        </command-palette-scope>
        <div class="command-palette-input-group flex-1 form-control border-0 box-shadow-none" style="z-index: 0">
          <div class="command-palette-typeahead position-absolute d-flex flex-items-center Truncate">
            <span class="typeahead-segment input-mirror" data-target="command-palette-input.mirror"></span>
            <span class="Truncate-text" data-target="command-palette-input.typeaheadText"></span>
            <span class="typeahead-segment" data-target="command-palette-input.typeaheadPlaceholder"></span>
          </div>
          <input
            class="js-overlay-input typeahead-input d-none"
            disabled
            tabindex="-1"
            aria-label="Hidden input for typeahead"
          >
          <input
            type="text"
            autocomplete="off"
            autocorrect="off"
            autocapitalize="off"
            spellcheck="false"
            class="js-input typeahead-input form-control border-0 box-shadow-none input-block width-full no-focus-indicator"
            aria-label="Command palette input"
            aria-haspopup="listbox"
            aria-expanded="false"
            aria-autocomplete="list"
            aria-controls="command-palette-page-stack"
            role="combobox"
            data-action="
              input:command-palette-input#onInput
              keydown:command-palette-input#onKeydown
            "
          >
        </div>
          <div data-view-component="true" class="position-relative d-inline-block">
    <button aria-keyshortcuts="Control+Backspace" data-action="click:command-palette-input#onClear keypress:command-palette-input#onClear" data-target="command-palette-input.clearButton" id="command-palette-clear-button" hidden="hidden" type="button" data-view-component="true" class="btn-octicon command-palette-input-clear-button">      <svg aria-hidden="true" height="16" viewBox="0 0 16 16" version="1.1" width="16" data-view-component="true" class="octicon octicon-x-circle-fill">
    <path d="M2.343 13.657A8 8 0 1 1 13.658 2.343 8 8 0 0 1 2.343 13.657ZM6.03 4.97a.751.751 0 0 0-1.042.018.751.751 0 0 0-.018 1.042L6.94 8 4.97 9.97a.749.749 0 0 0 .326 1.275.749.749 0 0 0 .734-.215L8 9.06l1.97 1.97a.749.749 0 0 0 1.275-.326.749.749 0 0 0-.215-.734L9.06 8l1.97-1.97a.749.749 0 0 0-.326-1.275.749.749 0 0 0-.734.215L8 6.94Z"></path>
</svg>
</button>    <tool-tip id="tooltip-39168de8-a1b6-41a2-b53f-a29a66d48101" for="command-palette-clear-button" popover="manual" data-direction="w" data-type="label" data-view-component="true" class="sr-only position-absolute">Clear Command Palette</tool-tip>
</div>
      </command-palette-input>

      <command-palette-page-stack
        data-default-scope-id="MDEwOlJlcG9zaXRvcnkzOTg3MjAzNzE="
        data-default-scope-type="Repository"
        data-action="command-palette-page-octicons-cached:command-palette-page-stack#cacheOcticons"
      >
          <command-palette-tip
            class="color-fg-muted f6 px-3 py-1 my-2"
              data-scope-types="[&quot;&quot;,&quot;owner&quot;,&quot;repository&quot;]"
            data-mode=""
            data-value="">
            <div class="d-flex flex-items-start flex-justify-between">
              <div>
                <span class="text-bold">Tip:</span>
                  Type <kbd class="hx_kbd">#</kbd> to search pull requests
              </div>
              <div class="ml-2 flex-shrink-0">
                Type <kbd class="hx_kbd">?</kbd> for help and tips
              </div>
            </div>
          </command-palette-tip>
          <command-palette-tip
            class="color-fg-muted f6 px-3 py-1 my-2"
              data-scope-types="[&quot;&quot;,&quot;owner&quot;,&quot;repository&quot;]"
            data-mode=""
            data-value="">
            <div class="d-flex flex-items-start flex-justify-between">
              <div>
                <span class="text-bold">Tip:</span>
                  Type <kbd class="hx_kbd">#</kbd> to search issues
              </div>
              <div class="ml-2 flex-shrink-0">
                Type <kbd class="hx_kbd">?</kbd> for help and tips
              </div>
            </div>
          </command-palette-tip>
          <command-palette-tip
            class="color-fg-muted f6 px-3 py-1 my-2"
              data-scope-types="[&quot;owner&quot;,&quot;repository&quot;]"
            data-mode=""
            data-value="">
            <div class="d-flex flex-items-start flex-justify-between">
              <div>
                <span class="text-bold">Tip:</span>
                  Type <kbd class="hx_kbd">#</kbd> to search discussions
              </div>
              <div class="ml-2 flex-shrink-0">
                Type <kbd class="hx_kbd">?</kbd> for help and tips
              </div>
            </div>
          </command-palette-tip>
          <command-palette-tip
            class="color-fg-muted f6 px-3 py-1 my-2"
              data-scope-types="[&quot;owner&quot;,&quot;repository&quot;]"
            data-mode=""
            data-value="">
            <div class="d-flex flex-items-start flex-justify-between">
              <div>
                <span class="text-bold">Tip:</span>
                  Type <kbd class="hx_kbd">!</kbd> to search projects
              </div>
              <div class="ml-2 flex-shrink-0">
                Type <kbd class="hx_kbd">?</kbd> for help and tips
              </div>
            </div>
          </command-palette-tip>
          <command-palette-tip
            class="color-fg-muted f6 px-3 py-1 my-2"
              data-scope-types="[&quot;owner&quot;]"
            data-mode=""
            data-value="">
            <div class="d-flex flex-items-start flex-justify-between">
              <div>
                <span class="text-bold">Tip:</span>
                  Type <kbd class="hx_kbd">@</kbd> to search teams
              </div>
              <div class="ml-2 flex-shrink-0">
                Type <kbd class="hx_kbd">?</kbd> for help and tips
              </div>
            </div>
          </command-palette-tip>
          <command-palette-tip
            class="color-fg-muted f6 px-3 py-1 my-2"
              data-scope-types="[&quot;&quot;]"
            data-mode=""
            data-value="">
            <div class="d-flex flex-items-start flex-justify-between">
              <div>
                <span class="text-bold">Tip:</span>
                  Type <kbd class="hx_kbd">@</kbd> to search people and organizations
              </div>
              <div class="ml-2 flex-shrink-0">
                Type <kbd class="hx_kbd">?</kbd> for help and tips
              </div>
            </div>
          </command-palette-tip>
          <command-palette-tip
            class="color-fg-muted f6 px-3 py-1 my-2"
              data-scope-types="[&quot;&quot;,&quot;owner&quot;,&quot;repository&quot;]"
            data-mode=""
            data-value="">
            <div class="d-flex flex-items-start flex-justify-between">
              <div>
                <span class="text-bold">Tip:</span>
                  Type <kbd class="hx_kbd">&gt;</kbd> to activate command mode
              </div>
              <div class="ml-2 flex-shrink-0">
                Type <kbd class="hx_kbd">?</kbd> for help and tips
              </div>
            </div>
          </command-palette-tip>
          <command-palette-tip
            class="color-fg-muted f6 px-3 py-1 my-2"
              data-scope-types="[&quot;&quot;,&quot;owner&quot;,&quot;repository&quot;]"
            data-mode=""
            data-value="">
            <div class="d-flex flex-items-start flex-justify-between">
              <div>
                <span class="text-bold">Tip:</span>
                  Go to your accessibility settings to change your keyboard shortcuts
              </div>
              <div class="ml-2 flex-shrink-0">
                Type <kbd class="hx_kbd">?</kbd> for help and tips
              </div>
            </div>
          </command-palette-tip>
          <command-palette-tip
            class="color-fg-muted f6 px-3 py-1 my-2"
              data-scope-types="[&quot;&quot;,&quot;owner&quot;,&quot;repository&quot;]"
            data-mode="#"
            data-value="">
            <div class="d-flex flex-items-start flex-justify-between">
              <div>
                <span class="text-bold">Tip:</span>
                  Type author:@me to search your content
              </div>
              <div class="ml-2 flex-shrink-0">
                Type <kbd class="hx_kbd">?</kbd> for help and tips
              </div>
            </div>
          </command-palette-tip>
          <command-palette-tip
            class="color-fg-muted f6 px-3 py-1 my-2"
              data-scope-types="[&quot;&quot;,&quot;owner&quot;,&quot;repository&quot;]"
            data-mode="#"
            data-value="">
            <div class="d-flex flex-items-start flex-justify-between">
              <div>
                <span class="text-bold">Tip:</span>
                  Type is:pr to filter to pull requests
              </div>
              <div class="ml-2 flex-shrink-0">
                Type <kbd class="hx_kbd">?</kbd> for help and tips
              </div>
            </div>
          </command-palette-tip>
          <command-palette-tip
            class="color-fg-muted f6 px-3 py-1 my-2"
              data-scope-types="[&quot;&quot;,&quot;owner&quot;,&quot;repository&quot;]"
            data-mode="#"
            data-value="">
            <div class="d-flex flex-items-start flex-justify-between">
              <div>
                <span class="text-bold">Tip:</span>
                  Type is:issue to filter to issues
              </div>
              <div class="ml-2 flex-shrink-0">
                Type <kbd class="hx_kbd">?</kbd> for help and tips
              </div>
            </div>
          </command-palette-tip>
          <command-palette-tip
            class="color-fg-muted f6 px-3 py-1 my-2"
              data-scope-types="[&quot;owner&quot;,&quot;repository&quot;]"
            data-mode="#"
            data-value="">
            <div class="d-flex flex-items-start flex-justify-between">
              <div>
                <span class="text-bold">Tip:</span>
                  Type is:project to filter to projects
              </div>
              <div class="ml-2 flex-shrink-0">
                Type <kbd class="hx_kbd">?</kbd> for help and tips
              </div>
            </div>
          </command-palette-tip>
          <command-palette-tip
            class="color-fg-muted f6 px-3 py-1 my-2"
              data-scope-types="[&quot;&quot;,&quot;owner&quot;,&quot;repository&quot;]"
            data-mode="#"
            data-value="">
            <div class="d-flex flex-items-start flex-justify-between">
              <div>
                <span class="text-bold">Tip:</span>
                  Type is:open to filter to open content
              </div>
              <div class="ml-2 flex-shrink-0">
                Type <kbd class="hx_kbd">?</kbd> for help and tips
              </div>
            </div>
          </command-palette-tip>
        <command-palette-tip class="mx-3 my-2 flash flash-error d-flex flex-items-center" data-scope-types="*" data-on-error>
          <div>
            <svg aria-hidden="true" height="16" viewBox="0 0 16 16" version="1.1" width="16" data-view-component="true" class="octicon octicon-alert">
    <path d="M6.457 1.047c.659-1.234 2.427-1.234 3.086 0l6.082 11.378A1.75 1.75 0 0 1 14.082 15H1.918a1.75 1.75 0 0 1-1.543-2.575Zm1.763.707a.25.25 0 0 0-.44 0L1.698 13.132a.25.25 0 0 0 .22.368h12.164a.25.25 0 0 0 .22-.368Zm.53 3.996v2.5a.75.75 0 0 1-1.5 0v-2.5a.75.75 0 0 1 1.5 0ZM9 11a1 1 0 1 1-2 0 1 1 0 0 1 2 0Z"></path>
</svg>
          </div>
          <div class="px-2">
            We’ve encountered an error and some results aren't available at this time. Type a new search or try again later.
          </div>
        </command-palette-tip>
        <command-palette-tip class="h4 color-fg-default pl-3 pb-2 pt-3" data-on-empty data-scope-types="*" data-match-mode="[^?]|^$">
          No results matched your search
        </command-palette-tip>

        <div hidden>

            <div data-targets="command-palette-page-stack.localOcticons" data-octicon-id="arrow-right-color-fg-muted">
              <svg height="16" class="octicon octicon-arrow-right color-fg-muted" viewBox="0 0 16 16" version="1.1" width="16" aria-hidden="true"><path d="M8.22 2.97a.75.75 0 0 1 1.06 0l4.25 4.25a.75.75 0 0 1 0 1.06l-4.25 4.25a.751.751 0 0 1-1.042-.018.751.751 0 0 1-.018-1.042l2.97-2.97H3.75a.75.75 0 0 1 0-1.5h7.44L8.22 4.03a.75.75 0 0 1 0-1.06Z"></path></svg>
            </div>
            <div data-targets="command-palette-page-stack.localOcticons" data-octicon-id="arrow-right-color-fg-default">
              <svg height="16" class="octicon octicon-arrow-right color-fg-default" viewBox="0 0 16 16" version="1.1" width="16" aria-hidden="true"><path d="M8.22 2.97a.75.75 0 0 1 1.06 0l4.25 4.25a.75.75 0 0 1 0 1.06l-4.25 4.25a.751.751 0 0 1-1.042-.018.751.751 0 0 1-.018-1.042l2.97-2.97H3.75a.75.75 0 0 1 0-1.5h7.44L8.22 4.03a.75.75 0 0 1 0-1.06Z"></path></svg>
            </div>
            <div data-targets="command-palette-page-stack.localOcticons" data-octicon-id="codespaces-color-fg-muted">
              <svg height="16" class="octicon octicon-codespaces color-fg-muted" viewBox="0 0 16 16" version="1.1" width="16" aria-hidden="true"><path d="M0 11.25c0-.966.784-1.75 1.75-1.75h12.5c.966 0 1.75.784 1.75 1.75v3A1.75 1.75 0 0 1 14.25 16H1.75A1.75 1.75 0 0 1 0 14.25Zm2-9.5C2 .784 2.784 0 3.75 0h8.5C13.216 0 14 .784 14 1.75v5a1.75 1.75 0 0 1-1.75 1.75h-8.5A1.75 1.75 0 0 1 2 6.75Zm1.75-.25a.25.25 0 0 0-.25.25v5c0 .138.112.25.25.25h8.5a.25.25 0 0 0 .25-.25v-5a.25.25 0 0 0-.25-.25Zm-2 9.5a.25.25 0 0 0-.25.25v3c0 .138.112.25.25.25h12.5a.25.25 0 0 0 .25-.25v-3a.25.25 0 0 0-.25-.25Z"></path><path d="M7 12.75a.75.75 0 0 1 .75-.75h4.5a.75.75 0 0 1 0 1.5h-4.5a.75.75 0 0 1-.75-.75Zm-4 0a.75.75 0 0 1 .75-.75h.5a.75.75 0 0 1 0 1.5h-.5a.75.75 0 0 1-.75-.75Z"></path></svg>
            </div>
            <div data-targets="command-palette-page-stack.localOcticons" data-octicon-id="copy-color-fg-muted">
              <svg height="16" class="octicon octicon-copy color-fg-muted" viewBox="0 0 16 16" version="1.1" width="16" aria-hidden="true"><path d="M0 6.75C0 5.784.784 5 1.75 5h1.5a.75.75 0 0 1 0 1.5h-1.5a.25.25 0 0 0-.25.25v7.5c0 .138.112.25.25.25h7.5a.25.25 0 0 0 .25-.25v-1.5a.75.75 0 0 1 1.5 0v1.5A1.75 1.75 0 0 1 9.25 16h-7.5A1.75 1.75 0 0 1 0 14.25Z"></path><path d="M5 1.75C5 .784 5.784 0 6.75 0h7.5C15.216 0 16 .784 16 1.75v7.5A1.75 1.75 0 0 1 14.25 11h-7.5A1.75 1.75 0 0 1 5 9.25Zm1.75-.25a.25.25 0 0 0-.25.25v7.5c0 .138.112.25.25.25h7.5a.25.25 0 0 0 .25-.25v-7.5a.25.25 0 0 0-.25-.25Z"></path></svg>
            </div>
            <div data-targets="command-palette-page-stack.localOcticons" data-octicon-id="dash-color-fg-muted">
              <svg height="16" class="octicon octicon-dash color-fg-muted" viewBox="0 0 16 16" version="1.1" width="16" aria-hidden="true"><path d="M2 7.75A.75.75 0 0 1 2.75 7h10a.75.75 0 0 1 0 1.5h-10A.75.75 0 0 1 2 7.75Z"></path></svg>
            </div>
            <div data-targets="command-palette-page-stack.localOcticons" data-octicon-id="file-color-fg-muted">
              <svg height="16" class="octicon octicon-file color-fg-muted" viewBox="0 0 16 16" version="1.1" width="16" aria-hidden="true"><path d="M2 1.75C2 .784 2.784 0 3.75 0h6.586c.464 0 .909.184 1.237.513l2.914 2.914c.329.328.513.773.513 1.237v9.586A1.75 1.75 0 0 1 13.25 16h-9.5A1.75 1.75 0 0 1 2 14.25Zm1.75-.25a.25.25 0 0 0-.25.25v12.5c0 .138.112.25.25.25h9.5a.25.25 0 0 0 .25-.25V6h-2.75A1.75 1.75 0 0 1 9 4.25V1.5Zm6.75.062V4.25c0 .138.112.25.25.25h2.688l-.011-.013-2.914-2.914-.013-.011Z"></path></svg>
            </div>
            <div data-targets="command-palette-page-stack.localOcticons" data-octicon-id="gear-color-fg-muted">
              <svg height="16" class="octicon octicon-gear color-fg-muted" viewBox="0 0 16 16" version="1.1" width="16" aria-hidden="true"><path d="M8 0a8.2 8.2 0 0 1 .701.031C9.444.095 9.99.645 10.16 1.29l.288 1.107c.018.066.079.158.212.224.231.114.454.243.668.386.123.082.233.09.299.071l1.103-.303c.644-.176 1.392.021 1.82.63.27.385.506.792.704 1.218.315.675.111 1.422-.364 1.891l-.814.806c-.049.048-.098.147-.088.294.016.257.016.515 0 .772-.01.147.038.246.088.294l.814.806c.475.469.679 1.216.364 1.891a7.977 7.977 0 0 1-.704 1.217c-.428.61-1.176.807-1.82.63l-1.102-.302c-.067-.019-.177-.011-.3.071a5.909 5.909 0 0 1-.668.386c-.133.066-.194.158-.211.224l-.29 1.106c-.168.646-.715 1.196-1.458 1.26a8.006 8.006 0 0 1-1.402 0c-.743-.064-1.289-.614-1.458-1.26l-.289-1.106c-.018-.066-.079-.158-.212-.224a5.738 5.738 0 0 1-.668-.386c-.123-.082-.233-.09-.299-.071l-1.103.303c-.644.176-1.392-.021-1.82-.63a8.12 8.12 0 0 1-.704-1.218c-.315-.675-.111-1.422.363-1.891l.815-.806c.05-.048.098-.147.088-.294a6.214 6.214 0 0 1 0-.772c.01-.147-.038-.246-.088-.294l-.815-.806C.635 6.045.431 5.298.746 4.623a7.92 7.92 0 0 1 .704-1.217c.428-.61 1.176-.807 1.82-.63l1.102.302c.067.019.177.011.3-.071.214-.143.437-.272.668-.386.133-.066.194-.158.211-.224l.29-1.106C6.009.645 6.556.095 7.299.03 7.53.01 7.764 0 8 0Zm-.571 1.525c-.036.003-.108.036-.137.146l-.289 1.105c-.147.561-.549.967-.998 1.189-.173.086-.34.183-.5.29-.417.278-.97.423-1.529.27l-1.103-.303c-.109-.03-.175.016-.195.045-.22.312-.412.644-.573.99-.014.031-.021.11.059.19l.815.806c.411.406.562.957.53 1.456a4.709 4.709 0 0 0 0 .582c.032.499-.119 1.05-.53 1.456l-.815.806c-.081.08-.073.159-.059.19.162.346.353.677.573.989.02.03.085.076.195.046l1.102-.303c.56-.153 1.113-.008 1.53.27.161.107.328.204.501.29.447.222.85.629.997 1.189l.289 1.105c.029.109.101.143.137.146a6.6 6.6 0 0 0 1.142 0c.036-.003.108-.036.137-.146l.289-1.105c.147-.561.549-.967.998-1.189.173-.086.34-.183.5-.29.417-.278.97-.423 1.529-.27l1.103.303c.109.029.175-.016.195-.045.22-.313.411-.644.573-.99.014-.031.021-.11-.059-.19l-.815-.806c-.411-.406-.562-.957-.53-1.456a4.709 4.709 0 0 0 0-.582c-.032-.499.119-1.05.53-1.456l.815-.806c.081-.08.073-.159.059-.19a6.464 6.464 0 0 0-.573-.989c-.02-.03-.085-.076-.195-.046l-1.102.303c-.56.153-1.113.008-1.53-.27a4.44 4.44 0 0 0-.501-.29c-.447-.222-.85-.629-.997-1.189l-.289-1.105c-.029-.11-.101-.143-.137-.146a6.6 6.6 0 0 0-1.142 0ZM11 8a3 3 0 1 1-6 0 3 3 0 0 1 6 0ZM9.5 8a1.5 1.5 0 1 0-3.001.001A1.5 1.5 0 0 0 9.5 8Z"></path></svg>
            </div>
            <div data-targets="command-palette-page-stack.localOcticons" data-octicon-id="lock-color-fg-muted">
              <svg height="16" class="octicon octicon-lock color-fg-muted" viewBox="0 0 16 16" version="1.1" width="16" aria-hidden="true"><path d="M4 4a4 4 0 0 1 8 0v2h.25c.966 0 1.75.784 1.75 1.75v5.5A1.75 1.75 0 0 1 12.25 15h-8.5A1.75 1.75 0 0 1 2 13.25v-5.5C2 6.784 2.784 6 3.75 6H4Zm8.25 3.5h-8.5a.25.25 0 0 0-.25.25v5.5c0 .138.112.25.25.25h8.5a.25.25 0 0 0 .25-.25v-5.5a.25.25 0 0 0-.25-.25ZM10.5 6V4a2.5 2.5 0 1 0-5 0v2Z"></path></svg>
            </div>
            <div data-targets="command-palette-page-stack.localOcticons" data-octicon-id="moon-color-fg-muted">
              <svg height="16" class="octicon octicon-moon color-fg-muted" viewBox="0 0 16 16" version="1.1" width="16" aria-hidden="true"><path d="M9.598 1.591a.749.749 0 0 1 .785-.175 7.001 7.001 0 1 1-8.967 8.967.75.75 0 0 1 .961-.96 5.5 5.5 0 0 0 7.046-7.046.75.75 0 0 1 .175-.786Zm1.616 1.945a7 7 0 0 1-7.678 7.678 5.499 5.499 0 1 0 7.678-7.678Z"></path></svg>
            </div>
            <div data-targets="command-palette-page-stack.localOcticons" data-octicon-id="person-color-fg-muted">
              <svg height="16" class="octicon octicon-person color-fg-muted" viewBox="0 0 16 16" version="1.1" width="16" aria-hidden="true"><path d="M10.561 8.073a6.005 6.005 0 0 1 3.432 5.142.75.75 0 1 1-1.498.07 4.5 4.5 0 0 0-8.99 0 .75.75 0 0 1-1.498-.07 6.004 6.004 0 0 1 3.431-5.142 3.999 3.999 0 1 1 5.123 0ZM10.5 5a2.5 2.5 0 1 0-5 0 2.5 2.5 0 0 0 5 0Z"></path></svg>
            </div>
            <div data-targets="command-palette-page-stack.localOcticons" data-octicon-id="pencil-color-fg-muted">
              <svg height="16" class="octicon octicon-pencil color-fg-muted" viewBox="0 0 16 16" version="1.1" width="16" aria-hidden="true"><path d="M11.013 1.427a1.75 1.75 0 0 1 2.474 0l1.086 1.086a1.75 1.75 0 0 1 0 2.474l-8.61 8.61c-.21.21-.47.364-.756.445l-3.251.93a.75.75 0 0 1-.927-.928l.929-3.25c.081-.286.235-.547.445-.758l8.61-8.61Zm.176 4.823L9.75 4.81l-6.286 6.287a.253.253 0 0 0-.064.108l-.558 1.953 1.953-.558a.253.253 0 0 0 .108-.064Zm1.238-3.763a.25.25 0 0 0-.354 0L10.811 3.75l1.439 1.44 1.263-1.263a.25.25 0 0 0 0-.354Z"></path></svg>
            </div>
            <div data-targets="command-palette-page-stack.localOcticons" data-octicon-id="issue-opened-open">
              <svg height="16" class="octicon octicon-issue-opened open" viewBox="0 0 16 16" version="1.1" width="16" aria-hidden="true"><path d="M8 9.5a1.5 1.5 0 1 0 0-3 1.5 1.5 0 0 0 0 3Z"></path><path d="M8 0a8 8 0 1 1 0 16A8 8 0 0 1 8 0ZM1.5 8a6.5 6.5 0 1 0 13 0 6.5 6.5 0 0 0-13 0Z"></path></svg>
            </div>
            <div data-targets="command-palette-page-stack.localOcticons" data-octicon-id="git-pull-request-draft-color-fg-muted">
              <svg height="16" class="octicon octicon-git-pull-request-draft color-fg-muted" viewBox="0 0 16 16" version="1.1" width="16" aria-hidden="true"><path d="M3.25 1A2.25 2.25 0 0 1 4 5.372v5.256a2.251 2.251 0 1 1-1.5 0V5.372A2.251 2.251 0 0 1 3.25 1Zm9.5 14a2.25 2.25 0 1 1 0-4.5 2.25 2.25 0 0 1 0 4.5ZM2.5 3.25a.75.75 0 1 0 1.5 0 .75.75 0 0 0-1.5 0ZM3.25 12a.75.75 0 1 0 0 1.5.75.75 0 0 0 0-1.5Zm9.5 0a.75.75 0 1 0 0 1.5.75.75 0 0 0 0-1.5ZM14 7.5a1.25 1.25 0 1 1-2.5 0 1.25 1.25 0 0 1 2.5 0Zm0-4.25a1.25 1.25 0 1 1-2.5 0 1.25 1.25 0 0 1 2.5 0Z"></path></svg>
            </div>
            <div data-targets="command-palette-page-stack.localOcticons" data-octicon-id="search-color-fg-muted">
              <svg height="16" class="octicon octicon-search color-fg-muted" viewBox="0 0 16 16" version="1.1" width="16" aria-hidden="true"><path d="M10.68 11.74a6 6 0 0 1-7.922-8.982 6 6 0 0 1 8.982 7.922l3.04 3.04a.749.749 0 0 1-.326 1.275.749.749 0 0 1-.734-.215ZM11.5 7a4.499 4.499 0 1 0-8.997 0A4.499 4.499 0 0 0 11.5 7Z"></path></svg>
            </div>
            <div data-targets="command-palette-page-stack.localOcticons" data-octicon-id="sun-color-fg-muted">
              <svg height="16" class="octicon octicon-sun color-fg-muted" viewBox="0 0 16 16" version="1.1" width="16" aria-hidden="true"><path d="M8 12a4 4 0 1 1 0-8 4 4 0 0 1 0 8Zm0-1.5a2.5 2.5 0 1 0 0-5 2.5 2.5 0 0 0 0 5Zm5.657-8.157a.75.75 0 0 1 0 1.061l-1.061 1.06a.749.749 0 0 1-1.275-.326.749.749 0 0 1 .215-.734l1.06-1.06a.75.75 0 0 1 1.06 0Zm-9.193 9.193a.75.75 0 0 1 0 1.06l-1.06 1.061a.75.75 0 1 1-1.061-1.06l1.06-1.061a.75.75 0 0 1 1.061 0ZM8 0a.75.75 0 0 1 .75.75v1.5a.75.75 0 0 1-1.5 0V.75A.75.75 0 0 1 8 0ZM3 8a.75.75 0 0 1-.75.75H.75a.75.75 0 0 1 0-1.5h1.5A.75.75 0 0 1 3 8Zm13 0a.75.75 0 0 1-.75.75h-1.5a.75.75 0 0 1 0-1.5h1.5A.75.75 0 0 1 16 8Zm-8 5a.75.75 0 0 1 .75.75v1.5a.75.75 0 0 1-1.5 0v-1.5A.75.75 0 0 1 8 13Zm3.536-1.464a.75.75 0 0 1 1.06 0l1.061 1.06a.75.75 0 0 1-1.06 1.061l-1.061-1.06a.75.75 0 0 1 0-1.061ZM2.343 2.343a.75.75 0 0 1 1.061 0l1.06 1.061a.751.751 0 0 1-.018 1.042.751.751 0 0 1-1.042.018l-1.06-1.06a.75.75 0 0 1 0-1.06Z"></path></svg>
            </div>
            <div data-targets="command-palette-page-stack.localOcticons" data-octicon-id="sync-color-fg-muted">
              <svg height="16" class="octicon octicon-sync color-fg-muted" viewBox="0 0 16 16" version="1.1" width="16" aria-hidden="true"><path d="M1.705 8.005a.75.75 0 0 1 .834.656 5.5 5.5 0 0 0 9.592 2.97l-1.204-1.204a.25.25 0 0 1 .177-.427h3.646a.25.25 0 0 1 .25.25v3.646a.25.25 0 0 1-.427.177l-1.38-1.38A7.002 7.002 0 0 1 1.05 8.84a.75.75 0 0 1 .656-.834ZM8 2.5a5.487 5.487 0 0 0-4.131 1.869l1.204 1.204A.25.25 0 0 1 4.896 6H1.25A.25.25 0 0 1 1 5.75V2.104a.25.25 0 0 1 .427-.177l1.38 1.38A7.002 7.002 0 0 1 14.95 7.16a.75.75 0 0 1-1.49.178A5.5 5.5 0 0 0 8 2.5Z"></path></svg>
            </div>
            <div data-targets="command-palette-page-stack.localOcticons" data-octicon-id="trash-color-fg-muted">
              <svg height="16" class="octicon octicon-trash color-fg-muted" viewBox="0 0 16 16" version="1.1" width="16" aria-hidden="true"><path d="M11 1.75V3h2.25a.75.75 0 0 1 0 1.5H2.75a.75.75 0 0 1 0-1.5H5V1.75C5 .784 5.784 0 6.75 0h2.5C10.216 0 11 .784 11 1.75ZM4.496 6.675l.66 6.6a.25.25 0 0 0 .249.225h5.19a.25.25 0 0 0 .249-.225l.66-6.6a.75.75 0 0 1 1.492.149l-.66 6.6A1.748 1.748 0 0 1 10.595 15h-5.19a1.75 1.75 0 0 1-1.741-1.575l-.66-6.6a.75.75 0 1 1 1.492-.15ZM6.5 1.75V3h3V1.75a.25.25 0 0 0-.25-.25h-2.5a.25.25 0 0 0-.25.25Z"></path></svg>
            </div>
            <div data-targets="command-palette-page-stack.localOcticons" data-octicon-id="key-color-fg-muted">
              <svg height="16" class="octicon octicon-key color-fg-muted" viewBox="0 0 16 16" version="1.1" width="16" aria-hidden="true"><path d="M10.5 0a5.499 5.499 0 1 1-1.288 10.848l-.932.932a.749.749 0 0 1-.53.22H7v.75a.749.749 0 0 1-.22.53l-.5.5a.749.749 0 0 1-.53.22H5v.75a.749.749 0 0 1-.22.53l-.5.5a.749.749 0 0 1-.53.22h-2A1.75 1.75 0 0 1 0 14.25v-2c0-.199.079-.389.22-.53l4.932-4.932A5.5 5.5 0 0 1 10.5 0Zm-4 5.5c-.001.431.069.86.205 1.269a.75.75 0 0 1-.181.768L1.5 12.56v1.69c0 .138.112.25.25.25h1.69l.06-.06v-1.19a.75.75 0 0 1 .75-.75h1.19l.06-.06v-1.19a.75.75 0 0 1 .75-.75h1.19l1.023-1.025a.75.75 0 0 1 .768-.18A4 4 0 1 0 6.5 5.5ZM11 6a1 1 0 1 1 0-2 1 1 0 0 1 0 2Z"></path></svg>
            </div>
            <div data-targets="command-palette-page-stack.localOcticons" data-octicon-id="comment-discussion-color-fg-muted">
              <svg height="16" class="octicon octicon-comment-discussion color-fg-muted" viewBox="0 0 16 16" version="1.1" width="16" aria-hidden="true"><path d="M1.75 1h8.5c.966 0 1.75.784 1.75 1.75v5.5A1.75 1.75 0 0 1 10.25 10H7.061l-2.574 2.573A1.458 1.458 0 0 1 2 11.543V10h-.25A1.75 1.75 0 0 1 0 8.25v-5.5C0 1.784.784 1 1.75 1ZM1.5 2.75v5.5c0 .138.112.25.25.25h1a.75.75 0 0 1 .75.75v2.19l2.72-2.72a.749.749 0 0 1 .53-.22h3.5a.25.25 0 0 0 .25-.25v-5.5a.25.25 0 0 0-.25-.25h-8.5a.25.25 0 0 0-.25.25Zm13 2a.25.25 0 0 0-.25-.25h-.5a.75.75 0 0 1 0-1.5h.5c.966 0 1.75.784 1.75 1.75v5.5A1.75 1.75 0 0 1 14.25 12H14v1.543a1.458 1.458 0 0 1-2.487 1.03L9.22 12.28a.749.749 0 0 1 .326-1.275.749.749 0 0 1 .734.215l2.22 2.22v-2.19a.75.75 0 0 1 .75-.75h1a.25.25 0 0 0 .25-.25Z"></path></svg>
            </div>
            <div data-targets="command-palette-page-stack.localOcticons" data-octicon-id="bell-color-fg-muted">
              <svg height="16" class="octicon octicon-bell color-fg-muted" viewBox="0 0 16 16" version="1.1" width="16" aria-hidden="true"><path d="M8 16a2 2 0 0 0 1.985-1.75c.017-.137-.097-.25-.235-.25h-3.5c-.138 0-.252.113-.235.25A2 2 0 0 0 8 16ZM3 5a5 5 0 0 1 10 0v2.947c0 .05.015.098.042.139l1.703 2.555A1.519 1.519 0 0 1 13.482 13H2.518a1.516 1.516 0 0 1-1.263-2.36l1.703-2.554A.255.255 0 0 0 3 7.947Zm5-3.5A3.5 3.5 0 0 0 4.5 5v2.947c0 .346-.102.683-.294.97l-1.703 2.556a.017.017 0 0 0-.003.01l.001.006c0 .002.002.004.004.006l.006.004.007.001h10.964l.007-.001.006-.004.004-.006.001-.007a.017.017 0 0 0-.003-.01l-1.703-2.554a1.745 1.745 0 0 1-.294-.97V5A3.5 3.5 0 0 0 8 1.5Z"></path></svg>
            </div>
            <div data-targets="command-palette-page-stack.localOcticons" data-octicon-id="bell-slash-color-fg-muted">
              <svg height="16" class="octicon octicon-bell-slash color-fg-muted" viewBox="0 0 16 16" version="1.1" width="16" aria-hidden="true"><path d="m4.182 4.31.016.011 10.104 7.316.013.01 1.375.996a.75.75 0 1 1-.88 1.214L13.626 13H2.518a1.516 1.516 0 0 1-1.263-2.36l1.703-2.554A.255.255 0 0 0 3 7.947V5.305L.31 3.357a.75.75 0 1 1 .88-1.214Zm7.373 7.19L4.5 6.391v1.556c0 .346-.102.683-.294.97l-1.703 2.556a.017.017 0 0 0-.003.01c0 .005.002.009.005.012l.006.004.007.001ZM8 1.5c-.997 0-1.895.416-2.534 1.086A.75.75 0 1 1 4.38 1.55 5 5 0 0 1 13 5v2.373a.75.75 0 0 1-1.5 0V5A3.5 3.5 0 0 0 8 1.5ZM8 16a2 2 0 0 1-1.985-1.75c-.017-.137.097-.25.235-.25h3.5c.138 0 .252.113.235.25A2 2 0 0 1 8 16Z"></path></svg>
            </div>
            <div data-targets="command-palette-page-stack.localOcticons" data-octicon-id="paintbrush-color-fg-muted">
              <svg height="16" class="octicon octicon-paintbrush color-fg-muted" viewBox="0 0 16 16" version="1.1" width="16" aria-hidden="true"><path d="M11.134 1.535c.7-.509 1.416-.942 2.076-1.155.649-.21 1.463-.267 2.069.34.603.601.568 1.411.368 2.07-.202.668-.624 1.39-1.125 2.096-1.011 1.424-2.496 2.987-3.775 4.249-1.098 1.084-2.132 1.839-3.04 2.3a3.744 3.744 0 0 1-1.055 3.217c-.431.431-1.065.691-1.657.861-.614.177-1.294.287-1.914.357A21.151 21.151 0 0 1 .797 16H.743l.007-.75H.749L.742 16a.75.75 0 0 1-.743-.742l.743-.008-.742.007v-.054a21.25 21.25 0 0 1 .13-2.284c.067-.647.187-1.287.358-1.914.17-.591.43-1.226.86-1.657a3.746 3.746 0 0 1 3.227-1.054c.466-.893 1.225-1.907 2.314-2.982 1.271-1.255 2.833-2.75 4.245-3.777ZM1.62 13.089c-.051.464-.086.929-.104 1.395.466-.018.932-.053 1.396-.104a10.511 10.511 0 0 0 1.668-.309c.526-.151.856-.325 1.011-.48a2.25 2.25 0 1 0-3.182-3.182c-.155.155-.329.485-.48 1.01a10.515 10.515 0 0 0-.309 1.67Zm10.396-10.34c-1.224.89-2.605 2.189-3.822 3.384l1.718 1.718c1.21-1.205 2.51-2.597 3.387-3.833.47-.662.78-1.227.912-1.662.134-.444.032-.551.009-.575h-.001V1.78c-.014-.014-.113-.113-.548.027-.432.14-.995.462-1.655.942Zm-4.832 7.266-.001.001a9.859 9.859 0 0 0 1.63-1.142L7.155 7.216a9.7 9.7 0 0 0-1.161 1.607c.482.302.889.71 1.19 1.192Z"></path></svg>
            </div>

            <command-palette-item-group
              data-group-id="top"
              data-group-title="Top result"
              data-group-hint=""
              data-group-limits="{}"
              data-default-priority="0"
            >
            </command-palette-item-group>
            <command-palette-item-group
              data-group-id="commands"
              data-group-title="Commands"
              data-group-hint="Type &gt; to filter"
              data-group-limits="{&quot;static_items_page&quot;:50,&quot;issue&quot;:50,&quot;pull_request&quot;:50,&quot;discussion&quot;:50}"
              data-default-priority="1"
            >
            </command-palette-item-group>
            <command-palette-item-group
              data-group-id="global_commands"
              data-group-title="Global Commands"
              data-group-hint="Type &gt; to filter"
              data-group-limits="{&quot;issue&quot;:0,&quot;pull_request&quot;:0,&quot;discussion&quot;:0}"
              data-default-priority="2"
            >
            </command-palette-item-group>
            <command-palette-item-group
              data-group-id="this_page"
              data-group-title="This Page"
              data-group-hint=""
              data-group-limits="{}"
              data-default-priority="3"
            >
            </command-palette-item-group>
            <command-palette-item-group
              data-group-id="files"
              data-group-title="Files"
              data-group-hint=""
              data-group-limits="{}"
              data-default-priority="4"
            >
            </command-palette-item-group>
            <command-palette-item-group
              data-group-id="default"
              data-group-title="Default"
              data-group-hint=""
              data-group-limits="{&quot;static_items_page&quot;:50}"
              data-default-priority="5"
            >
            </command-palette-item-group>
            <command-palette-item-group
              data-group-id="pages"
              data-group-title="Pages"
              data-group-hint=""
              data-group-limits="{&quot;repository&quot;:10}"
              data-default-priority="6"
            >
            </command-palette-item-group>
            <command-palette-item-group
              data-group-id="access_policies"
              data-group-title="Access Policies"
              data-group-hint=""
              data-group-limits="{}"
              data-default-priority="7"
            >
            </command-palette-item-group>
            <command-palette-item-group
              data-group-id="organizations"
              data-group-title="Organizations"
              data-group-hint=""
              data-group-limits="{}"
              data-default-priority="8"
            >
            </command-palette-item-group>
            <command-palette-item-group
              data-group-id="repositories"
              data-group-title="Repositories"
              data-group-hint=""
              data-group-limits="{}"
              data-default-priority="9"
            >
            </command-palette-item-group>
            <command-palette-item-group
              data-group-id="references"
              data-group-title="Issues, pull requests, and discussions"
              data-group-hint="Type # to filter"
              data-group-limits="{}"
              data-default-priority="10"
            >
            </command-palette-item-group>
            <command-palette-item-group
              data-group-id="teams"
              data-group-title="Teams"
              data-group-hint=""
              data-group-limits="{}"
              data-default-priority="11"
            >
            </command-palette-item-group>
            <command-palette-item-group
              data-group-id="users"
              data-group-title="Users"
              data-group-hint=""
              data-group-limits="{}"
              data-default-priority="12"
            >
            </command-palette-item-group>
            <command-palette-item-group
              data-group-id="memex_projects"
              data-group-title="Projects"
              data-group-hint=""
              data-group-limits="{}"
              data-default-priority="13"
            >
            </command-palette-item-group>
            <command-palette-item-group
              data-group-id="projects"
              data-group-title="Projects (classic)"
              data-group-hint=""
              data-group-limits="{}"
              data-default-priority="14"
            >
            </command-palette-item-group>
            <command-palette-item-group
              data-group-id="footer"
              data-group-title="Footer"
              data-group-hint=""
              data-group-limits="{}"
              data-default-priority="15"
            >
            </command-palette-item-group>
            <command-palette-item-group
              data-group-id="modes_help"
              data-group-title="Modes"
              data-group-hint=""
              data-group-limits="{}"
              data-default-priority="16"
            >
            </command-palette-item-group>
            <command-palette-item-group
              data-group-id="filters_help"
              data-group-title="Use filters in issues, pull requests, discussions, and projects"
              data-group-hint=""
              data-group-limits="{}"
              data-default-priority="17"
            >
            </command-palette-item-group>

            <command-palette-page
              data-page-title="navassherif98"
              data-scope-id="MDQ6VXNlcjU1NzU3NDE1"
              data-scope-type="owner"
              data-targets="command-palette-page-stack.defaultPages"
              hidden
            >
            </command-palette-page>
            <command-palette-page
              data-page-title="IBM_Data_Science_Professional_Certification"
              data-scope-id="MDEwOlJlcG9zaXRvcnkzOTg3MjAzNzE="
              data-scope-type="repository"
              data-targets="command-palette-page-stack.defaultPages"
              hidden
            >
            </command-palette-page>
        </div>

        <command-palette-page data-is-root>
        </command-palette-page>
          <command-palette-page
            data-page-title="navassherif98"
            data-scope-id="MDQ6VXNlcjU1NzU3NDE1"
            data-scope-type="owner"
          >
          </command-palette-page>
          <command-palette-page
            data-page-title="IBM_Data_Science_Professional_Certification"
            data-scope-id="MDEwOlJlcG9zaXRvcnkzOTg3MjAzNzE="
            data-scope-type="repository"
          >
          </command-palette-page>
      </command-palette-page-stack>

      <server-defined-provider data-type="search-links" data-targets="command-palette.serverDefinedProviderElements"></server-defined-provider>
      <server-defined-provider data-type="help" data-targets="command-palette.serverDefinedProviderElements">
          <command-palette-help
            data-group="modes_help"
              data-prefix="#"
              data-scope-types="[&quot;&quot;]"
          >
            <span data-target="command-palette-help.titleElement">Search for <strong>issues</strong> and <strong>pull requests</strong></span>
              <span data-target="command-palette-help.hintElement">
                <kbd class="hx_kbd">#</kbd>
              </span>
          </command-palette-help>
          <command-palette-help
            data-group="modes_help"
              data-prefix="#"
              data-scope-types="[&quot;owner&quot;,&quot;repository&quot;]"
          >
            <span data-target="command-palette-help.titleElement">Search for <strong>issues, pull requests, discussions,</strong> and <strong>projects</strong></span>
              <span data-target="command-palette-help.hintElement">
                <kbd class="hx_kbd">#</kbd>
              </span>
          </command-palette-help>
          <command-palette-help
            data-group="modes_help"
              data-prefix="@"
              data-scope-types="[&quot;&quot;]"
          >
            <span data-target="command-palette-help.titleElement">Search for <strong>organizations, repositories,</strong> and <strong>users</strong></span>
              <span data-target="command-palette-help.hintElement">
                <kbd class="hx_kbd">@</kbd>
              </span>
          </command-palette-help>
          <command-palette-help
            data-group="modes_help"
              data-prefix="!"
              data-scope-types="[&quot;owner&quot;,&quot;repository&quot;]"
          >
            <span data-target="command-palette-help.titleElement">Search for <strong>projects</strong></span>
              <span data-target="command-palette-help.hintElement">
                <kbd class="hx_kbd">!</kbd>
              </span>
          </command-palette-help>
          <command-palette-help
            data-group="modes_help"
              data-prefix="/"
              data-scope-types="[&quot;repository&quot;]"
          >
            <span data-target="command-palette-help.titleElement">Search for <strong>files</strong></span>
              <span data-target="command-palette-help.hintElement">
                <kbd class="hx_kbd">/</kbd>
              </span>
          </command-palette-help>
          <command-palette-help
            data-group="modes_help"
              data-prefix="&gt;"
          >
            <span data-target="command-palette-help.titleElement">Activate <strong>command mode</strong></span>
              <span data-target="command-palette-help.hintElement">
                <kbd class="hx_kbd">&gt;</kbd>
              </span>
          </command-palette-help>
          <command-palette-help
            data-group="filters_help"
              data-prefix="# author:@me"
          >
            <span data-target="command-palette-help.titleElement">Search your issues, pull requests, and discussions</span>
              <span data-target="command-palette-help.hintElement">
                <kbd class="hx_kbd"># author:@me</kbd>
              </span>
          </command-palette-help>
          <command-palette-help
            data-group="filters_help"
              data-prefix="# author:@me"
          >
            <span data-target="command-palette-help.titleElement">Search your issues, pull requests, and discussions</span>
              <span data-target="command-palette-help.hintElement">
                <kbd class="hx_kbd"># author:@me</kbd>
              </span>
          </command-palette-help>
          <command-palette-help
            data-group="filters_help"
              data-prefix="# is:pr"
          >
            <span data-target="command-palette-help.titleElement">Filter to pull requests</span>
              <span data-target="command-palette-help.hintElement">
                <kbd class="hx_kbd"># is:pr</kbd>
              </span>
          </command-palette-help>
          <command-palette-help
            data-group="filters_help"
              data-prefix="# is:issue"
          >
            <span data-target="command-palette-help.titleElement">Filter to issues</span>
              <span data-target="command-palette-help.hintElement">
                <kbd class="hx_kbd"># is:issue</kbd>
              </span>
          </command-palette-help>
          <command-palette-help
            data-group="filters_help"
              data-prefix="# is:discussion"
              data-scope-types="[&quot;owner&quot;,&quot;repository&quot;]"
          >
            <span data-target="command-palette-help.titleElement">Filter to discussions</span>
              <span data-target="command-palette-help.hintElement">
                <kbd class="hx_kbd"># is:discussion</kbd>
              </span>
          </command-palette-help>
          <command-palette-help
            data-group="filters_help"
              data-prefix="# is:project"
              data-scope-types="[&quot;owner&quot;,&quot;repository&quot;]"
          >
            <span data-target="command-palette-help.titleElement">Filter to projects</span>
              <span data-target="command-palette-help.hintElement">
                <kbd class="hx_kbd"># is:project</kbd>
              </span>
          </command-palette-help>
          <command-palette-help
            data-group="filters_help"
              data-prefix="# is:open"
          >
            <span data-target="command-palette-help.titleElement">Filter to open issues, pull requests, and discussions</span>
              <span data-target="command-palette-help.hintElement">
                <kbd class="hx_kbd"># is:open</kbd>
              </span>
          </command-palette-help>
      </server-defined-provider>

        <server-defined-provider
          data-type="commands"
          data-fetch-debounce="0"
            data-src="/command_palette/commands"
          data-supported-modes="[]"
            data-supports-commands
          
          data-targets="command-palette.serverDefinedProviderElements"
          ></server-defined-provider>
        <server-defined-provider
          data-type="prefetched"
          data-fetch-debounce="0"
            data-src="/command_palette/jump_to_page_navigation"
          data-supported-modes="[&quot;&quot;]"
            data-supported-scope-types="[&quot;&quot;,&quot;owner&quot;,&quot;repository&quot;]"
          
          data-targets="command-palette.serverDefinedProviderElements"
          ></server-defined-provider>
        <server-defined-provider
          data-type="remote"
          data-fetch-debounce="200"
            data-src="/command_palette/issues"
          data-supported-modes="[&quot;#&quot;,&quot;#&quot;]"
            data-supported-scope-types="[&quot;owner&quot;,&quot;repository&quot;,&quot;&quot;]"
          
          data-targets="command-palette.serverDefinedProviderElements"
          ></server-defined-provider>
        <server-defined-provider
          data-type="remote"
          data-fetch-debounce="200"
            data-src="/command_palette/jump_to"
          data-supported-modes="[&quot;@&quot;,&quot;@&quot;]"
            data-supported-scope-types="[&quot;&quot;,&quot;owner&quot;]"
          
          data-targets="command-palette.serverDefinedProviderElements"
          ></server-defined-provider>
        <server-defined-provider
          data-type="remote"
          data-fetch-debounce="200"
            data-src="/command_palette/jump_to_members_only"
          data-supported-modes="[&quot;@&quot;,&quot;@&quot;,&quot;&quot;,&quot;&quot;]"
            data-supported-scope-types="[&quot;&quot;,&quot;owner&quot;]"
          
          data-targets="command-palette.serverDefinedProviderElements"
          ></server-defined-provider>
        <server-defined-provider
          data-type="prefetched"
          data-fetch-debounce="0"
            data-src="/command_palette/jump_to_members_only_prefetched"
          data-supported-modes="[&quot;@&quot;,&quot;@&quot;,&quot;&quot;,&quot;&quot;]"
            data-supported-scope-types="[&quot;&quot;,&quot;owner&quot;]"
          
          data-targets="command-palette.serverDefinedProviderElements"
          ></server-defined-provider>
        <server-defined-provider
          data-type="files"
          data-fetch-debounce="0"
            data-src="/command_palette/files"
          data-supported-modes="[&quot;/&quot;]"
            data-supported-scope-types="[&quot;repository&quot;]"
          
          data-targets="command-palette.serverDefinedProviderElements"
          ></server-defined-provider>
        <server-defined-provider
          data-type="remote"
          data-fetch-debounce="200"
            data-src="/command_palette/discussions"
          data-supported-modes="[&quot;#&quot;]"
            data-supported-scope-types="[&quot;owner&quot;,&quot;repository&quot;]"
          
          data-targets="command-palette.serverDefinedProviderElements"
          ></server-defined-provider>
        <server-defined-provider
          data-type="remote"
          data-fetch-debounce="200"
            data-src="/command_palette/projects"
          data-supported-modes="[&quot;#&quot;,&quot;!&quot;]"
            data-supported-scope-types="[&quot;owner&quot;,&quot;repository&quot;]"
          
          data-targets="command-palette.serverDefinedProviderElements"
          ></server-defined-provider>
        <server-defined-provider
          data-type="prefetched"
          data-fetch-debounce="0"
            data-src="/command_palette/recent_issues"
          data-supported-modes="[&quot;#&quot;,&quot;#&quot;]"
            data-supported-scope-types="[&quot;owner&quot;,&quot;repository&quot;,&quot;&quot;]"
          
          data-targets="command-palette.serverDefinedProviderElements"
          ></server-defined-provider>
        <server-defined-provider
          data-type="remote"
          data-fetch-debounce="200"
            data-src="/command_palette/teams"
          data-supported-modes="[&quot;@&quot;,&quot;&quot;]"
            data-supported-scope-types="[&quot;owner&quot;]"
          
          data-targets="command-palette.serverDefinedProviderElements"
          ></server-defined-provider>
        <server-defined-provider
          data-type="remote"
          data-fetch-debounce="200"
            data-src="/command_palette/name_with_owner_repository"
          data-supported-modes="[&quot;@&quot;,&quot;@&quot;,&quot;&quot;,&quot;&quot;]"
            data-supported-scope-types="[&quot;&quot;,&quot;owner&quot;]"
          
          data-targets="command-palette.serverDefinedProviderElements"
          ></server-defined-provider>
    </command-palette>
  </details-dialog>
</details>

<div class="position-fixed bottom-0 left-0 ml-5 mb-5 js-command-palette-toasts" style="z-index: 1000">
  <div hidden class="Toast Toast--loading">
    <span class="Toast-icon">
      <svg class="Toast--spinner" viewBox="0 0 32 32" width="18" height="18" aria-hidden="true">
        <path
          fill="#959da5"
          d="M16 0 A16 16 0 0 0 16 32 A16 16 0 0 0 16 0 M16 4 A12 12 0 0 1 16 28 A12 12 0 0 1 16 4"
        />
        <path fill="#ffffff" d="M16 0 A16 16 0 0 1 32 16 L28 16 A12 12 0 0 0 16 4z"></path>
      </svg>
    </span>
    <span class="Toast-content"></span>
  </div>

  <div hidden class="anim-fade-in fast Toast Toast--error">
    <span class="Toast-icon">
      <svg aria-hidden="true" height="16" viewBox="0 0 16 16" version="1.1" width="16" data-view-component="true" class="octicon octicon-stop">
    <path d="M4.47.22A.749.749 0 0 1 5 0h6c.199 0 .389.079.53.22l4.25 4.25c.141.14.22.331.22.53v6a.749.749 0 0 1-.22.53l-4.25 4.25A.749.749 0 0 1 11 16H5a.749.749 0 0 1-.53-.22L.22 11.53A.749.749 0 0 1 0 11V5c0-.199.079-.389.22-.53Zm.84 1.28L1.5 5.31v5.38l3.81 3.81h5.38l3.81-3.81V5.31L10.69 1.5ZM8 4a.75.75 0 0 1 .75.75v3.5a.75.75 0 0 1-1.5 0v-3.5A.75.75 0 0 1 8 4Zm0 8a1 1 0 1 1 0-2 1 1 0 0 1 0 2Z"></path>
</svg>
    </span>
    <span class="Toast-content"></span>
  </div>

  <div hidden class="anim-fade-in fast Toast Toast--warning">
    <span class="Toast-icon">
      <svg aria-hidden="true" height="16" viewBox="0 0 16 16" version="1.1" width="16" data-view-component="true" class="octicon octicon-alert">
    <path d="M6.457 1.047c.659-1.234 2.427-1.234 3.086 0l6.082 11.378A1.75 1.75 0 0 1 14.082 15H1.918a1.75 1.75 0 0 1-1.543-2.575Zm1.763.707a.25.25 0 0 0-.44 0L1.698 13.132a.25.25 0 0 0 .22.368h12.164a.25.25 0 0 0 .22-.368Zm.53 3.996v2.5a.75.75 0 0 1-1.5 0v-2.5a.75.75 0 0 1 1.5 0ZM9 11a1 1 0 1 1-2 0 1 1 0 0 1 2 0Z"></path>
</svg>
    </span>
    <span class="Toast-content"></span>
  </div>


  <div hidden class="anim-fade-in fast Toast Toast--success">
    <span class="Toast-icon">
      <svg aria-hidden="true" height="16" viewBox="0 0 16 16" version="1.1" width="16" data-view-component="true" class="octicon octicon-check">
    <path d="M13.78 4.22a.75.75 0 0 1 0 1.06l-7.25 7.25a.75.75 0 0 1-1.06 0L2.22 9.28a.751.751 0 0 1 .018-1.042.751.751 0 0 1 1.042-.018L6 10.94l6.72-6.72a.75.75 0 0 1 1.06 0Z"></path>
</svg>
    </span>
    <span class="Toast-content"></span>
  </div>

  <div hidden class="anim-fade-in fast Toast">
    <span class="Toast-icon">
      <svg aria-hidden="true" height="16" viewBox="0 0 16 16" version="1.1" width="16" data-view-component="true" class="octicon octicon-info">
    <path d="M0 8a8 8 0 1 1 16 0A8 8 0 0 1 0 8Zm8-6.5a6.5 6.5 0 1 0 0 13 6.5 6.5 0 0 0 0-13ZM6.5 7.75A.75.75 0 0 1 7.25 7h1a.75.75 0 0 1 .75.75v2.75h.25a.75.75 0 0 1 0 1.5h-2a.75.75 0 0 1 0-1.5h.25v-2h-.25a.75.75 0 0 1-.75-.75ZM8 6a1 1 0 1 1 0-2 1 1 0 0 1 0 2Z"></path>
</svg>
    </span>
    <span class="Toast-content"></span>
  </div>
</div>


  <div
    class="application-main "
    data-commit-hovercards-enabled
    data-discussion-hovercards-enabled
    data-issue-and-pr-hovercards-enabled
  >
        <div itemscope itemtype="http://schema.org/SoftwareSourceCode" class="">
    <main id="js-repo-pjax-container" >
      
      






    
  <div id="repository-container-header" data-turbo-replace hidden></div>




<turbo-frame id="repo-content-turbo-frame" target="_top" data-turbo-action="advance" class="">
    <div id="repo-content-pjax-container" class="repository-content " >
      <a href="https://github.dev/" class="d-none js-github-dev-shortcut" data-hotkey=".,Meta+Shift+/">Open in github.dev</a>
  <a href="https://github.dev/" class="d-none js-github-dev-new-tab-shortcut" data-hotkey="Shift+.,Shift+&gt;,&gt;" target="_blank" rel="noopener noreferrer">Open in a new github.dev tab</a>
    <a class="d-none" data-hotkey=",,Meta+Shift+&#39;" target="_blank" href="/codespaces/new/navassherif98/IBM_Data_Science_Professional_Certification/tree/master?resume=1">Open in codespace</a>



    
      
    





<react-app
  app-name="react-code-view"
  initial-path="/navassherif98/IBM_Data_Science_Professional_Certification/blob/master/10.Applied_Data_Science_Capstone/Week%204%20Predictive%20Analysis%20(Classification)/Machine%20Learning%20Prediction.ipynb"
  style="min-height: calc(100vh - 62px)"
  data-ssr="false"
  data-lazy="false"
  data-alternate="false"
>
  
  <script type="application/json" data-target="react-app.embeddedData">{"payload":{"allShortcutsEnabled":true,"fileTree":{"10.Applied_Data_Science_Capstone/Week 4 Predictive Analysis (Classification)":{"items":[{"name":".ipynb_checkpoints","path":"10.Applied_Data_Science_Capstone/Week 4 Predictive Analysis (Classification)/.ipynb_checkpoints","contentType":"directory"},{"name":"Graded Quiz","path":"10.Applied_Data_Science_Capstone/Week 4 Predictive Analysis (Classification)/Graded Quiz","contentType":"directory"},{"name":"Machine Learning Prediction.ipynb","path":"10.Applied_Data_Science_Capstone/Week 4 Predictive Analysis (Classification)/Machine Learning Prediction.ipynb","contentType":"file"}],"totalCount":3},"10.Applied_Data_Science_Capstone":{"items":[{"name":"Week 1 Introduction","path":"10.Applied_Data_Science_Capstone/Week 1 Introduction","contentType":"directory"},{"name":"Week 2 EDA","path":"10.Applied_Data_Science_Capstone/Week 2 EDA","contentType":"directory"},{"name":"Week 3 Interactive Visual Analytics and Dashboard","path":"10.Applied_Data_Science_Capstone/Week 3 Interactive Visual Analytics and Dashboard","contentType":"directory"},{"name":"Week 4 Predictive Analysis (Classification)","path":"10.Applied_Data_Science_Capstone/Week 4 Predictive Analysis (Classification)","contentType":"directory"},{"name":"Week 5 Present Your Data-Driven Insights","path":"10.Applied_Data_Science_Capstone/Week 5 Present Your Data-Driven Insights","contentType":"directory"}],"totalCount":5},"":{"items":[{"name":"1.What is Data Science","path":"1.What is Data Science","contentType":"directory"},{"name":"10.Applied_Data_Science_Capstone","path":"10.Applied_Data_Science_Capstone","contentType":"directory"},{"name":"2.Tools for Data Science","path":"2.Tools for Data Science","contentType":"directory"},{"name":"3.Data Science Methodology","path":"3.Data Science Methodology","contentType":"directory"},{"name":"4.Python for Data Science, AI \u0026 Development","path":"4.Python for Data Science, AI \u0026 Development","contentType":"directory"},{"name":"5.Python Project for Data Science","path":"5.Python Project for Data Science","contentType":"directory"},{"name":"6.Databases and SQL for Data Science with Python","path":"6.Databases and SQL for Data Science with Python","contentType":"directory"},{"name":"7.Data Analysis with Python","path":"7.Data Analysis with Python","contentType":"directory"},{"name":"8.Data Visualization with Python","path":"8.Data Visualization with Python","contentType":"directory"},{"name":"9.Machine Learning with Python","path":"9.Machine Learning with Python","contentType":"directory"},{"name":"assets","path":"assets","contentType":"directory"},{"name":"Financial Aid.pdf","path":"Financial Aid.pdf","contentType":"file"},{"name":"README.md","path":"README.md","contentType":"file"},{"name":"index.html","path":"index.html","contentType":"file"}],"totalCount":14}},"fileTreeProcessingTime":8.346689,"foldersToFetch":[],"reducedMotionEnabled":"system","repo":{"id":398720371,"defaultBranch":"master","name":"IBM_Data_Science_Professional_Certification","ownerLogin":"navassherif98","currentUserCanPush":false,"isFork":false,"isEmpty":false,"createdAt":"2021-08-22T10:48:02.000+05:30","ownerAvatar":"https://avatars.githubusercontent.com/u/55757415?v=4","public":true,"private":false,"isOrgOwned":false},"refInfo":{"name":"master","listCacheKey":"v0:1629996443.4495811","canEdit":true,"refType":"branch","currentOid":"4b9853f907a045130eb46d4bb8bac7ccb2bede42"},"path":"10.Applied_Data_Science_Capstone/Week 4 Predictive Analysis (Classification)/Machine Learning Prediction.ipynb","currentUser":{"id":139646021,"login":"RedFoxSR","userEmail":"sharusr9@gmail.com"},"blob":{"rawLines":["{"," \"cells\": [","  {","   \"cell_type\": \"markdown\",","   \"metadata\": {},","   \"source\": [","    \"\u003ccenter\u003e\\n\",","    \"    \u003cimg src=\\\"https://gitlab.com/ibm/skills-network/courses/placeholder101/-/raw/master/labs/module%201/images/IDSNlogo.png\\\" width=\\\"300\\\" alt=\\\"cognitiveclass.ai logo\\\"  /\u003e\\n\",","    \"\u003c/center\u003e\\n\"","   ]","  },","  {","   \"cell_type\": \"markdown\",","   \"metadata\": {},","   \"source\": [","    \"# **Space X  Falcon 9 First Stage Landing Prediction**\\n\"","   ]","  },","  {","   \"cell_type\": \"markdown\",","   \"metadata\": {},","   \"source\": [","    \"## Assignment:  Machine Learning Prediction\\n\"","   ]","  },","  {","   \"cell_type\": \"markdown\",","   \"metadata\": {},","   \"source\": [","    \"Estimated time needed: **60** minutes\\n\"","   ]","  },","  {","   \"cell_type\": \"markdown\",","   \"metadata\": {},","   \"source\": [","    \"Space X advertises Falcon 9 rocket launches on its website with a cost of 62 million dollars; other providers cost upward of 165 million dollars each, much of the savings is because Space X can reuse the first stage. Therefore if we can determine if the first stage will land, we can determine the cost of a launch. This information can be used if an alternate company wants to bid against space X for a rocket launch.   In this lab, you will create a machine learning pipeline  to predict if the first stage will land given the data from the preceding labs.\\n\"","   ]","  },","  {","   \"cell_type\": \"markdown\",","   \"metadata\": {},","   \"source\": [","    \"![](https://cf-courses-data.s3.us.cloud-object-storage.appdomain.cloud/IBMDeveloperSkillsNetwork-DS0701EN-SkillsNetwork/api/Images/landing\\\\_1.gif)\\n\"","   ]","  },","  {","   \"cell_type\": \"markdown\",","   \"metadata\": {},","   \"source\": [","    \"Several examples of an unsuccessful landing are shown here:\\n\"","   ]","  },","  {","   \"cell_type\": \"markdown\",","   \"metadata\": {},","   \"source\": [","    \"![](https://cf-courses-data.s3.us.cloud-object-storage.appdomain.cloud/IBMDeveloperSkillsNetwork-DS0701EN-SkillsNetwork/api/Images/crash.gif)\\n\"","   ]","  },","  {","   \"cell_type\": \"markdown\",","   \"metadata\": {},","   \"source\": [","    \"Most unsuccessful landings are planed. Space X; performs a controlled landing in the oceans.\\n\"","   ]","  },","  {","   \"cell_type\": \"markdown\",","   \"metadata\": {},","   \"source\": [","    \"## Objectives\\n\"","   ]","  },","  {","   \"cell_type\": \"markdown\",","   \"metadata\": {},","   \"source\": [","    \"Perform exploratory  Data Analysis and determine Training Labels\\n\",","    \"\\n\",","    \"*   create a column for the class\\n\",","    \"*   Standardize the data\\n\",","    \"*   Split into training data and test data\\n\",","    \"\\n\",","    \"\\\\-Find best Hyperparameter for SVM, Classification Trees and Logistic Regression\\n\",","    \"\\n\",","    \"*   Find the method performs best using test data\\n\"","   ]","  },","  {","   \"cell_type\": \"markdown\",","   \"metadata\": {},","   \"source\": []","  },","  {","   \"cell_type\": \"markdown\",","   \"metadata\": {},","   \"source\": [","    \"***\\n\"","   ]","  },","  {","   \"cell_type\": \"markdown\",","   \"metadata\": {},","   \"source\": [","    \"## Import Libraries and Define Auxiliary Functions\\n\"","   ]","  },","  {","   \"cell_type\": \"markdown\",","   \"metadata\": {},","   \"source\": [","    \"We will import the following libraries for the lab\\n\"","   ]","  },","  {","   \"cell_type\": \"code\",","   \"execution_count\": 1,","   \"metadata\": {},","   \"outputs\": [],","   \"source\": [","    \"# Pandas is a software library written for the Python programming language for data manipulation and analysis.\\n\",","    \"import pandas as pd\\n\",","    \"# NumPy is a library for the Python programming language, adding support for large, multi-dimensional arrays and matrices, along with a large collection of high-level mathematical functions to operate on these arrays\\n\",","    \"import numpy as np\\n\",","    \"# Matplotlib is a plotting library for python and pyplot gives us a MatLab like plotting framework. We will use this in our plotter function to plot data.\\n\",","    \"import matplotlib.pyplot as plt\\n\",","    \"#Seaborn is a Python data visualization library based on matplotlib. It provides a high-level interface for drawing attractive and informative statistical graphics\\n\",","    \"import seaborn as sns\\n\",","    \"# Preprocessing allows us to standarsize our data\\n\",","    \"from sklearn import preprocessing\\n\",","    \"# Allows us to split our data into training and testing data\\n\",","    \"from sklearn.model_selection import train_test_split\\n\",","    \"# Allows us to test parameters of classification algorithms and find the best one\\n\",","    \"from sklearn.model_selection import GridSearchCV\\n\",","    \"# Logistic Regression classification algorithm\\n\",","    \"from sklearn.linear_model import LogisticRegression\\n\",","    \"# Support Vector Machine classification algorithm\\n\",","    \"from sklearn.svm import SVC\\n\",","    \"# Decision Tree classification algorithm\\n\",","    \"from sklearn.tree import DecisionTreeClassifier\\n\",","    \"# K Nearest Neighbors classification algorithm\\n\",","    \"from sklearn.neighbors import KNeighborsClassifier\"","   ]","  },","  {","   \"cell_type\": \"markdown\",","   \"metadata\": {},","   \"source\": [","    \"This function is to plot the confusion matrix.\\n\"","   ]","  },","  {","   \"cell_type\": \"code\",","   \"execution_count\": 2,","   \"metadata\": {},","   \"outputs\": [],","   \"source\": [","    \"def plot_confusion_matrix(y,y_predict):\\n\",","    \"    \\\"this function plots the confusion matrix\\\"\\n\",","    \"    from sklearn.metrics import confusion_matrix\\n\",","    \"\\n\",","    \"    cm = confusion_matrix(y, y_predict)\\n\",","    \"    ax= plt.subplot()\\n\",","    \"    sns.heatmap(cm, annot=True, ax = ax); #annot=True to annotate cells\\n\",","    \"    ax.set_xlabel('Predicted labels')\\n\",","    \"    ax.set_ylabel('True labels')\\n\",","    \"    ax.set_title('Confusion Matrix'); \\n\",","    \"    ax.xaxis.set_ticklabels(['did not land', 'land']); ax.yaxis.set_ticklabels(['did not land', 'landed'])\"","   ]","  },","  {","   \"cell_type\": \"markdown\",","   \"metadata\": {},","   \"source\": [","    \"## Load the dataframe\\n\"","   ]","  },","  {","   \"cell_type\": \"markdown\",","   \"metadata\": {},","   \"source\": [","    \"Load the data\\n\"","   ]","  },","  {","   \"cell_type\": \"code\",","   \"execution_count\": 3,","   \"metadata\": {},","   \"outputs\": [","    {","     \"data\": {","      \"text/html\": [","       \"\u003cdiv\u003e\\n\",","       \"\u003cstyle scoped\u003e\\n\",","       \"    .dataframe tbody tr th:only-of-type {\\n\",","       \"        vertical-align: middle;\\n\",","       \"    }\\n\",","       \"\\n\",","       \"    .dataframe tbody tr th {\\n\",","       \"        vertical-align: top;\\n\",","       \"    }\\n\",","       \"\\n\",","       \"    .dataframe thead th {\\n\",","       \"        text-align: right;\\n\",","       \"    }\\n\",","       \"\u003c/style\u003e\\n\",","       \"\u003ctable border=\\\"1\\\" class=\\\"dataframe\\\"\u003e\\n\",","       \"  \u003cthead\u003e\\n\",","       \"    \u003ctr style=\\\"text-align: right;\\\"\u003e\\n\",","       \"      \u003cth\u003e\u003c/th\u003e\\n\",","       \"      \u003cth\u003eFlightNumber\u003c/th\u003e\\n\",","       \"      \u003cth\u003eDate\u003c/th\u003e\\n\",","       \"      \u003cth\u003eBoosterVersion\u003c/th\u003e\\n\",","       \"      \u003cth\u003ePayloadMass\u003c/th\u003e\\n\",","       \"      \u003cth\u003eOrbit\u003c/th\u003e\\n\",","       \"      \u003cth\u003eLaunchSite\u003c/th\u003e\\n\",","       \"      \u003cth\u003eOutcome\u003c/th\u003e\\n\",","       \"      \u003cth\u003eFlights\u003c/th\u003e\\n\",","       \"      \u003cth\u003eGridFins\u003c/th\u003e\\n\",","       \"      \u003cth\u003eReused\u003c/th\u003e\\n\",","       \"      \u003cth\u003eLegs\u003c/th\u003e\\n\",","       \"      \u003cth\u003eLandingPad\u003c/th\u003e\\n\",","       \"      \u003cth\u003eBlock\u003c/th\u003e\\n\",","       \"      \u003cth\u003eReusedCount\u003c/th\u003e\\n\",","       \"      \u003cth\u003eSerial\u003c/th\u003e\\n\",","       \"      \u003cth\u003eLongitude\u003c/th\u003e\\n\",","       \"      \u003cth\u003eLatitude\u003c/th\u003e\\n\",","       \"      \u003cth\u003eClass\u003c/th\u003e\\n\",","       \"    \u003c/tr\u003e\\n\",","       \"  \u003c/thead\u003e\\n\",","       \"  \u003ctbody\u003e\\n\",","       \"    \u003ctr\u003e\\n\",","       \"      \u003cth\u003e0\u003c/th\u003e\\n\",","       \"      \u003ctd\u003e1\u003c/td\u003e\\n\",","       \"      \u003ctd\u003e2010-06-04\u003c/td\u003e\\n\",","       \"      \u003ctd\u003eFalcon 9\u003c/td\u003e\\n\",","       \"      \u003ctd\u003e6104.959412\u003c/td\u003e\\n\",","       \"      \u003ctd\u003eLEO\u003c/td\u003e\\n\",","       \"      \u003ctd\u003eCCAFS SLC 40\u003c/td\u003e\\n\",","       \"      \u003ctd\u003eNone None\u003c/td\u003e\\n\",","       \"      \u003ctd\u003e1\u003c/td\u003e\\n\",","       \"      \u003ctd\u003eFalse\u003c/td\u003e\\n\",","       \"      \u003ctd\u003eFalse\u003c/td\u003e\\n\",","       \"      \u003ctd\u003eFalse\u003c/td\u003e\\n\",","       \"      \u003ctd\u003eNaN\u003c/td\u003e\\n\",","       \"      \u003ctd\u003e1.0\u003c/td\u003e\\n\",","       \"      \u003ctd\u003e0\u003c/td\u003e\\n\",","       \"      \u003ctd\u003eB0003\u003c/td\u003e\\n\",","       \"      \u003ctd\u003e-80.577366\u003c/td\u003e\\n\",","       \"      \u003ctd\u003e28.561857\u003c/td\u003e\\n\",","       \"      \u003ctd\u003e0\u003c/td\u003e\\n\",","       \"    \u003c/tr\u003e\\n\",","       \"    \u003ctr\u003e\\n\",","       \"      \u003cth\u003e1\u003c/th\u003e\\n\",","       \"      \u003ctd\u003e2\u003c/td\u003e\\n\",","       \"      \u003ctd\u003e2012-05-22\u003c/td\u003e\\n\",","       \"      \u003ctd\u003eFalcon 9\u003c/td\u003e\\n\",","       \"      \u003ctd\u003e525.000000\u003c/td\u003e\\n\",","       \"      \u003ctd\u003eLEO\u003c/td\u003e\\n\",","       \"      \u003ctd\u003eCCAFS SLC 40\u003c/td\u003e\\n\",","       \"      \u003ctd\u003eNone None\u003c/td\u003e\\n\",","       \"      \u003ctd\u003e1\u003c/td\u003e\\n\",","       \"      \u003ctd\u003eFalse\u003c/td\u003e\\n\",","       \"      \u003ctd\u003eFalse\u003c/td\u003e\\n\",","       \"      \u003ctd\u003eFalse\u003c/td\u003e\\n\",","       \"      \u003ctd\u003eNaN\u003c/td\u003e\\n\",","       \"      \u003ctd\u003e1.0\u003c/td\u003e\\n\",","       \"      \u003ctd\u003e0\u003c/td\u003e\\n\",","       \"      \u003ctd\u003eB0005\u003c/td\u003e\\n\",","       \"      \u003ctd\u003e-80.577366\u003c/td\u003e\\n\",","       \"      \u003ctd\u003e28.561857\u003c/td\u003e\\n\",","       \"      \u003ctd\u003e0\u003c/td\u003e\\n\",","       \"    \u003c/tr\u003e\\n\",","       \"    \u003ctr\u003e\\n\",","       \"      \u003cth\u003e2\u003c/th\u003e\\n\",","       \"      \u003ctd\u003e3\u003c/td\u003e\\n\",","       \"      \u003ctd\u003e2013-03-01\u003c/td\u003e\\n\",","       \"      \u003ctd\u003eFalcon 9\u003c/td\u003e\\n\",","       \"      \u003ctd\u003e677.000000\u003c/td\u003e\\n\",","       \"      \u003ctd\u003eISS\u003c/td\u003e\\n\",","       \"      \u003ctd\u003eCCAFS SLC 40\u003c/td\u003e\\n\",","       \"      \u003ctd\u003eNone None\u003c/td\u003e\\n\",","       \"      \u003ctd\u003e1\u003c/td\u003e\\n\",","       \"      \u003ctd\u003eFalse\u003c/td\u003e\\n\",","       \"      \u003ctd\u003eFalse\u003c/td\u003e\\n\",","       \"      \u003ctd\u003eFalse\u003c/td\u003e\\n\",","       \"      \u003ctd\u003eNaN\u003c/td\u003e\\n\",","       \"      \u003ctd\u003e1.0\u003c/td\u003e\\n\",","       \"      \u003ctd\u003e0\u003c/td\u003e\\n\",","       \"      \u003ctd\u003eB0007\u003c/td\u003e\\n\",","       \"      \u003ctd\u003e-80.577366\u003c/td\u003e\\n\",","       \"      \u003ctd\u003e28.561857\u003c/td\u003e\\n\",","       \"      \u003ctd\u003e0\u003c/td\u003e\\n\",","       \"    \u003c/tr\u003e\\n\",","       \"    \u003ctr\u003e\\n\",","       \"      \u003cth\u003e3\u003c/th\u003e\\n\",","       \"      \u003ctd\u003e4\u003c/td\u003e\\n\",","       \"      \u003ctd\u003e2013-09-29\u003c/td\u003e\\n\",","       \"      \u003ctd\u003eFalcon 9\u003c/td\u003e\\n\",","       \"      \u003ctd\u003e500.000000\u003c/td\u003e\\n\",","       \"      \u003ctd\u003ePO\u003c/td\u003e\\n\",","       \"      \u003ctd\u003eVAFB SLC 4E\u003c/td\u003e\\n\",","       \"      \u003ctd\u003eFalse Ocean\u003c/td\u003e\\n\",","       \"      \u003ctd\u003e1\u003c/td\u003e\\n\",","       \"      \u003ctd\u003eFalse\u003c/td\u003e\\n\",","       \"      \u003ctd\u003eFalse\u003c/td\u003e\\n\",","       \"      \u003ctd\u003eFalse\u003c/td\u003e\\n\",","       \"      \u003ctd\u003eNaN\u003c/td\u003e\\n\",","       \"      \u003ctd\u003e1.0\u003c/td\u003e\\n\",","       \"      \u003ctd\u003e0\u003c/td\u003e\\n\",","       \"      \u003ctd\u003eB1003\u003c/td\u003e\\n\",","       \"      \u003ctd\u003e-120.610829\u003c/td\u003e\\n\",","       \"      \u003ctd\u003e34.632093\u003c/td\u003e\\n\",","       \"      \u003ctd\u003e0\u003c/td\u003e\\n\",","       \"    \u003c/tr\u003e\\n\",","       \"    \u003ctr\u003e\\n\",","       \"      \u003cth\u003e4\u003c/th\u003e\\n\",","       \"      \u003ctd\u003e5\u003c/td\u003e\\n\",","       \"      \u003ctd\u003e2013-12-03\u003c/td\u003e\\n\",","       \"      \u003ctd\u003eFalcon 9\u003c/td\u003e\\n\",","       \"      \u003ctd\u003e3170.000000\u003c/td\u003e\\n\",","       \"      \u003ctd\u003eGTO\u003c/td\u003e\\n\",","       \"      \u003ctd\u003eCCAFS SLC 40\u003c/td\u003e\\n\",","       \"      \u003ctd\u003eNone None\u003c/td\u003e\\n\",","       \"      \u003ctd\u003e1\u003c/td\u003e\\n\",","       \"      \u003ctd\u003eFalse\u003c/td\u003e\\n\",","       \"      \u003ctd\u003eFalse\u003c/td\u003e\\n\",","       \"      \u003ctd\u003eFalse\u003c/td\u003e\\n\",","       \"      \u003ctd\u003eNaN\u003c/td\u003e\\n\",","       \"      \u003ctd\u003e1.0\u003c/td\u003e\\n\",","       \"      \u003ctd\u003e0\u003c/td\u003e\\n\",","       \"      \u003ctd\u003eB1004\u003c/td\u003e\\n\",","       \"      \u003ctd\u003e-80.577366\u003c/td\u003e\\n\",","       \"      \u003ctd\u003e28.561857\u003c/td\u003e\\n\",","       \"      \u003ctd\u003e0\u003c/td\u003e\\n\",","       \"    \u003c/tr\u003e\\n\",","       \"  \u003c/tbody\u003e\\n\",","       \"\u003c/table\u003e\\n\",","       \"\u003c/div\u003e\"","      ],","      \"text/plain\": [","       \"   FlightNumber        Date BoosterVersion  PayloadMass Orbit    LaunchSite  \\\\\\n\",","       \"0             1  2010-06-04       Falcon 9  6104.959412   LEO  CCAFS SLC 40   \\n\",","       \"1             2  2012-05-22       Falcon 9   525.000000   LEO  CCAFS SLC 40   \\n\",","       \"2             3  2013-03-01       Falcon 9   677.000000   ISS  CCAFS SLC 40   \\n\",","       \"3             4  2013-09-29       Falcon 9   500.000000    PO   VAFB SLC 4E   \\n\",","       \"4             5  2013-12-03       Falcon 9  3170.000000   GTO  CCAFS SLC 40   \\n\",","       \"\\n\",","       \"       Outcome  Flights  GridFins  Reused   Legs LandingPad  Block  \\\\\\n\",","       \"0    None None        1     False   False  False        NaN    1.0   \\n\",","       \"1    None None        1     False   False  False        NaN    1.0   \\n\",","       \"2    None None        1     False   False  False        NaN    1.0   \\n\",","       \"3  False Ocean        1     False   False  False        NaN    1.0   \\n\",","       \"4    None None        1     False   False  False        NaN    1.0   \\n\",","       \"\\n\",","       \"   ReusedCount Serial   Longitude   Latitude  Class  \\n\",","       \"0            0  B0003  -80.577366  28.561857      0  \\n\",","       \"1            0  B0005  -80.577366  28.561857      0  \\n\",","       \"2            0  B0007  -80.577366  28.561857      0  \\n\",","       \"3            0  B1003 -120.610829  34.632093      0  \\n\",","       \"4            0  B1004  -80.577366  28.561857      0  \"","      ]","     },","     \"execution_count\": 3,","     \"metadata\": {},","     \"output_type\": \"execute_result\"","    }","   ],","   \"source\": [","    \"#data = pd.read_csv(\\\"https://cf-courses-data.s3.us.cloud-object-storage.appdomain.cloud/IBM-DS0321EN-SkillsNetwork/datasets/dataset_part_2.csv\\\")\\n\",","    \"\\n\",","    \"# If you were unable to complete the previous lab correctly you can uncomment and load this csv\\n\",","    \"\\n\",","    \"data = pd.read_csv('https://cf-courses-data.s3.us.cloud-object-storage.appdomain.cloud/IBMDeveloperSkillsNetwork-DS0701EN-SkillsNetwork/api/dataset_part_2.csv')\\n\",","    \"\\n\",","    \"data.head()\"","   ]","  },","  {","   \"cell_type\": \"code\",","   \"execution_count\": 4,","   \"metadata\": {},","   \"outputs\": [","    {","     \"data\": {","      \"text/html\": [","       \"\u003cdiv\u003e\\n\",","       \"\u003cstyle scoped\u003e\\n\",","       \"    .dataframe tbody tr th:only-of-type {\\n\",","       \"        vertical-align: middle;\\n\",","       \"    }\\n\",","       \"\\n\",","       \"    .dataframe tbody tr th {\\n\",","       \"        vertical-align: top;\\n\",","       \"    }\\n\",","       \"\\n\",","       \"    .dataframe thead th {\\n\",","       \"        text-align: right;\\n\",","       \"    }\\n\",","       \"\u003c/style\u003e\\n\",","       \"\u003ctable border=\\\"1\\\" class=\\\"dataframe\\\"\u003e\\n\",","       \"  \u003cthead\u003e\\n\",","       \"    \u003ctr style=\\\"text-align: right;\\\"\u003e\\n\",","       \"      \u003cth\u003e\u003c/th\u003e\\n\",","       \"      \u003cth\u003eFlightNumber\u003c/th\u003e\\n\",","       \"      \u003cth\u003ePayloadMass\u003c/th\u003e\\n\",","       \"      \u003cth\u003eFlights\u003c/th\u003e\\n\",","       \"      \u003cth\u003eBlock\u003c/th\u003e\\n\",","       \"      \u003cth\u003eReusedCount\u003c/th\u003e\\n\",","       \"      \u003cth\u003eOrbit_ES-L1\u003c/th\u003e\\n\",","       \"      \u003cth\u003eOrbit_GEO\u003c/th\u003e\\n\",","       \"      \u003cth\u003eOrbit_GTO\u003c/th\u003e\\n\",","       \"      \u003cth\u003eOrbit_HEO\u003c/th\u003e\\n\",","       \"      \u003cth\u003eOrbit_ISS\u003c/th\u003e\\n\",","       \"      \u003cth\u003e...\u003c/th\u003e\\n\",","       \"      \u003cth\u003eSerial_B1058\u003c/th\u003e\\n\",","       \"      \u003cth\u003eSerial_B1059\u003c/th\u003e\\n\",","       \"      \u003cth\u003eSerial_B1060\u003c/th\u003e\\n\",","       \"      \u003cth\u003eSerial_B1062\u003c/th\u003e\\n\",","       \"      \u003cth\u003eGridFins_False\u003c/th\u003e\\n\",","       \"      \u003cth\u003eGridFins_True\u003c/th\u003e\\n\",","       \"      \u003cth\u003eReused_False\u003c/th\u003e\\n\",","       \"      \u003cth\u003eReused_True\u003c/th\u003e\\n\",","       \"      \u003cth\u003eLegs_False\u003c/th\u003e\\n\",","       \"      \u003cth\u003eLegs_True\u003c/th\u003e\\n\",","       \"    \u003c/tr\u003e\\n\",","       \"  \u003c/thead\u003e\\n\",","       \"  \u003ctbody\u003e\\n\",","       \"    \u003ctr\u003e\\n\",","       \"      \u003cth\u003e0\u003c/th\u003e\\n\",","       \"      \u003ctd\u003e1.0\u003c/td\u003e\\n\",","       \"      \u003ctd\u003e6104.959412\u003c/td\u003e\\n\",","       \"      \u003ctd\u003e1.0\u003c/td\u003e\\n\",","       \"      \u003ctd\u003e1.0\u003c/td\u003e\\n\",","       \"      \u003ctd\u003e0.0\u003c/td\u003e\\n\",","       \"      \u003ctd\u003e0.0\u003c/td\u003e\\n\",","       \"      \u003ctd\u003e0.0\u003c/td\u003e\\n\",","       \"      \u003ctd\u003e0.0\u003c/td\u003e\\n\",","       \"      \u003ctd\u003e0.0\u003c/td\u003e\\n\",","       \"      \u003ctd\u003e0.0\u003c/td\u003e\\n\",","       \"      \u003ctd\u003e...\u003c/td\u003e\\n\",","       \"      \u003ctd\u003e0.0\u003c/td\u003e\\n\",","       \"      \u003ctd\u003e0.0\u003c/td\u003e\\n\",","       \"      \u003ctd\u003e0.0\u003c/td\u003e\\n\",","       \"      \u003ctd\u003e0.0\u003c/td\u003e\\n\",","       \"      \u003ctd\u003e1.0\u003c/td\u003e\\n\",","       \"      \u003ctd\u003e0.0\u003c/td\u003e\\n\",","       \"      \u003ctd\u003e1.0\u003c/td\u003e\\n\",","       \"      \u003ctd\u003e0.0\u003c/td\u003e\\n\",","       \"      \u003ctd\u003e1.0\u003c/td\u003e\\n\",","       \"      \u003ctd\u003e0.0\u003c/td\u003e\\n\",","       \"    \u003c/tr\u003e\\n\",","       \"    \u003ctr\u003e\\n\",","       \"      \u003cth\u003e1\u003c/th\u003e\\n\",","       \"      \u003ctd\u003e2.0\u003c/td\u003e\\n\",","       \"      \u003ctd\u003e525.000000\u003c/td\u003e\\n\",","       \"      \u003ctd\u003e1.0\u003c/td\u003e\\n\",","       \"      \u003ctd\u003e1.0\u003c/td\u003e\\n\",","       \"      \u003ctd\u003e0.0\u003c/td\u003e\\n\",","       \"      \u003ctd\u003e0.0\u003c/td\u003e\\n\",","       \"      \u003ctd\u003e0.0\u003c/td\u003e\\n\",","       \"      \u003ctd\u003e0.0\u003c/td\u003e\\n\",","       \"      \u003ctd\u003e0.0\u003c/td\u003e\\n\",","       \"      \u003ctd\u003e0.0\u003c/td\u003e\\n\",","       \"      \u003ctd\u003e...\u003c/td\u003e\\n\",","       \"      \u003ctd\u003e0.0\u003c/td\u003e\\n\",","       \"      \u003ctd\u003e0.0\u003c/td\u003e\\n\",","       \"      \u003ctd\u003e0.0\u003c/td\u003e\\n\",","       \"      \u003ctd\u003e0.0\u003c/td\u003e\\n\",","       \"      \u003ctd\u003e1.0\u003c/td\u003e\\n\",","       \"      \u003ctd\u003e0.0\u003c/td\u003e\\n\",","       \"      \u003ctd\u003e1.0\u003c/td\u003e\\n\",","       \"      \u003ctd\u003e0.0\u003c/td\u003e\\n\",","       \"      \u003ctd\u003e1.0\u003c/td\u003e\\n\",","       \"      \u003ctd\u003e0.0\u003c/td\u003e\\n\",","       \"    \u003c/tr\u003e\\n\",","       \"    \u003ctr\u003e\\n\",","       \"      \u003cth\u003e2\u003c/th\u003e\\n\",","       \"      \u003ctd\u003e3.0\u003c/td\u003e\\n\",","       \"      \u003ctd\u003e677.000000\u003c/td\u003e\\n\",","       \"      \u003ctd\u003e1.0\u003c/td\u003e\\n\",","       \"      \u003ctd\u003e1.0\u003c/td\u003e\\n\",","       \"      \u003ctd\u003e0.0\u003c/td\u003e\\n\",","       \"      \u003ctd\u003e0.0\u003c/td\u003e\\n\",","       \"      \u003ctd\u003e0.0\u003c/td\u003e\\n\",","       \"      \u003ctd\u003e0.0\u003c/td\u003e\\n\",","       \"      \u003ctd\u003e0.0\u003c/td\u003e\\n\",","       \"      \u003ctd\u003e1.0\u003c/td\u003e\\n\",","       \"      \u003ctd\u003e...\u003c/td\u003e\\n\",","       \"      \u003ctd\u003e0.0\u003c/td\u003e\\n\",","       \"      \u003ctd\u003e0.0\u003c/td\u003e\\n\",","       \"      \u003ctd\u003e0.0\u003c/td\u003e\\n\",","       \"      \u003ctd\u003e0.0\u003c/td\u003e\\n\",","       \"      \u003ctd\u003e1.0\u003c/td\u003e\\n\",","       \"      \u003ctd\u003e0.0\u003c/td\u003e\\n\",","       \"      \u003ctd\u003e1.0\u003c/td\u003e\\n\",","       \"      \u003ctd\u003e0.0\u003c/td\u003e\\n\",","       \"      \u003ctd\u003e1.0\u003c/td\u003e\\n\",","       \"      \u003ctd\u003e0.0\u003c/td\u003e\\n\",","       \"    \u003c/tr\u003e\\n\",","       \"    \u003ctr\u003e\\n\",","       \"      \u003cth\u003e3\u003c/th\u003e\\n\",","       \"      \u003ctd\u003e4.0\u003c/td\u003e\\n\",","       \"      \u003ctd\u003e500.000000\u003c/td\u003e\\n\",","       \"      \u003ctd\u003e1.0\u003c/td\u003e\\n\",","       \"      \u003ctd\u003e1.0\u003c/td\u003e\\n\",","       \"      \u003ctd\u003e0.0\u003c/td\u003e\\n\",","       \"      \u003ctd\u003e0.0\u003c/td\u003e\\n\",","       \"      \u003ctd\u003e0.0\u003c/td\u003e\\n\",","       \"      \u003ctd\u003e0.0\u003c/td\u003e\\n\",","       \"      \u003ctd\u003e0.0\u003c/td\u003e\\n\",","       \"      \u003ctd\u003e0.0\u003c/td\u003e\\n\",","       \"      \u003ctd\u003e...\u003c/td\u003e\\n\",","       \"      \u003ctd\u003e0.0\u003c/td\u003e\\n\",","       \"      \u003ctd\u003e0.0\u003c/td\u003e\\n\",","       \"      \u003ctd\u003e0.0\u003c/td\u003e\\n\",","       \"      \u003ctd\u003e0.0\u003c/td\u003e\\n\",","       \"      \u003ctd\u003e1.0\u003c/td\u003e\\n\",","       \"      \u003ctd\u003e0.0\u003c/td\u003e\\n\",","       \"      \u003ctd\u003e1.0\u003c/td\u003e\\n\",","       \"      \u003ctd\u003e0.0\u003c/td\u003e\\n\",","       \"      \u003ctd\u003e1.0\u003c/td\u003e\\n\",","       \"      \u003ctd\u003e0.0\u003c/td\u003e\\n\",","       \"    \u003c/tr\u003e\\n\",","       \"    \u003ctr\u003e\\n\",","       \"      \u003cth\u003e4\u003c/th\u003e\\n\",","       \"      \u003ctd\u003e5.0\u003c/td\u003e\\n\",","       \"      \u003ctd\u003e3170.000000\u003c/td\u003e\\n\",","       \"      \u003ctd\u003e1.0\u003c/td\u003e\\n\",","       \"      \u003ctd\u003e1.0\u003c/td\u003e\\n\",","       \"      \u003ctd\u003e0.0\u003c/td\u003e\\n\",","       \"      \u003ctd\u003e0.0\u003c/td\u003e\\n\",","       \"      \u003ctd\u003e0.0\u003c/td\u003e\\n\",","       \"      \u003ctd\u003e1.0\u003c/td\u003e\\n\",","       \"      \u003ctd\u003e0.0\u003c/td\u003e\\n\",","       \"      \u003ctd\u003e0.0\u003c/td\u003e\\n\",","       \"      \u003ctd\u003e...\u003c/td\u003e\\n\",","       \"      \u003ctd\u003e0.0\u003c/td\u003e\\n\",","       \"      \u003ctd\u003e0.0\u003c/td\u003e\\n\",","       \"      \u003ctd\u003e0.0\u003c/td\u003e\\n\",","       \"      \u003ctd\u003e0.0\u003c/td\u003e\\n\",","       \"      \u003ctd\u003e1.0\u003c/td\u003e\\n\",","       \"      \u003ctd\u003e0.0\u003c/td\u003e\\n\",","       \"      \u003ctd\u003e1.0\u003c/td\u003e\\n\",","       \"      \u003ctd\u003e0.0\u003c/td\u003e\\n\",","       \"      \u003ctd\u003e1.0\u003c/td\u003e\\n\",","       \"      \u003ctd\u003e0.0\u003c/td\u003e\\n\",","       \"    \u003c/tr\u003e\\n\",","       \"    \u003ctr\u003e\\n\",","       \"      \u003cth\u003e...\u003c/th\u003e\\n\",","       \"      \u003ctd\u003e...\u003c/td\u003e\\n\",","       \"      \u003ctd\u003e...\u003c/td\u003e\\n\",","       \"      \u003ctd\u003e...\u003c/td\u003e\\n\",","       \"      \u003ctd\u003e...\u003c/td\u003e\\n\",","       \"      \u003ctd\u003e...\u003c/td\u003e\\n\",","       \"      \u003ctd\u003e...\u003c/td\u003e\\n\",","       \"      \u003ctd\u003e...\u003c/td\u003e\\n\",","       \"      \u003ctd\u003e...\u003c/td\u003e\\n\",","       \"      \u003ctd\u003e...\u003c/td\u003e\\n\",","       \"      \u003ctd\u003e...\u003c/td\u003e\\n\",","       \"      \u003ctd\u003e...\u003c/td\u003e\\n\",","       \"      \u003ctd\u003e...\u003c/td\u003e\\n\",","       \"      \u003ctd\u003e...\u003c/td\u003e\\n\",","       \"      \u003ctd\u003e...\u003c/td\u003e\\n\",","       \"      \u003ctd\u003e...\u003c/td\u003e\\n\",","       \"      \u003ctd\u003e...\u003c/td\u003e\\n\",","       \"      \u003ctd\u003e...\u003c/td\u003e\\n\",","       \"      \u003ctd\u003e...\u003c/td\u003e\\n\",","       \"      \u003ctd\u003e...\u003c/td\u003e\\n\",","       \"      \u003ctd\u003e...\u003c/td\u003e\\n\",","       \"      \u003ctd\u003e...\u003c/td\u003e\\n\",","       \"    \u003c/tr\u003e\\n\",","       \"    \u003ctr\u003e\\n\",","       \"      \u003cth\u003e85\u003c/th\u003e\\n\",","       \"      \u003ctd\u003e86.0\u003c/td\u003e\\n\",","       \"      \u003ctd\u003e15400.000000\u003c/td\u003e\\n\",","       \"      \u003ctd\u003e2.0\u003c/td\u003e\\n\",","       \"      \u003ctd\u003e5.0\u003c/td\u003e\\n\",","       \"      \u003ctd\u003e2.0\u003c/td\u003e\\n\",","       \"      \u003ctd\u003e0.0\u003c/td\u003e\\n\",","       \"      \u003ctd\u003e0.0\u003c/td\u003e\\n\",","       \"      \u003ctd\u003e0.0\u003c/td\u003e\\n\",","       \"      \u003ctd\u003e0.0\u003c/td\u003e\\n\",","       \"      \u003ctd\u003e0.0\u003c/td\u003e\\n\",","       \"      \u003ctd\u003e...\u003c/td\u003e\\n\",","       \"      \u003ctd\u003e0.0\u003c/td\u003e\\n\",","       \"      \u003ctd\u003e0.0\u003c/td\u003e\\n\",","       \"      \u003ctd\u003e1.0\u003c/td\u003e\\n\",","       \"      \u003ctd\u003e0.0\u003c/td\u003e\\n\",","       \"      \u003ctd\u003e0.0\u003c/td\u003e\\n\",","       \"      \u003ctd\u003e1.0\u003c/td\u003e\\n\",","       \"      \u003ctd\u003e0.0\u003c/td\u003e\\n\",","       \"      \u003ctd\u003e1.0\u003c/td\u003e\\n\",","       \"      \u003ctd\u003e0.0\u003c/td\u003e\\n\",","       \"      \u003ctd\u003e1.0\u003c/td\u003e\\n\",","       \"    \u003c/tr\u003e\\n\",","       \"    \u003ctr\u003e\\n\",","       \"      \u003cth\u003e86\u003c/th\u003e\\n\",","       \"      \u003ctd\u003e87.0\u003c/td\u003e\\n\",","       \"      \u003ctd\u003e15400.000000\u003c/td\u003e\\n\",","       \"      \u003ctd\u003e3.0\u003c/td\u003e\\n\",","       \"      \u003ctd\u003e5.0\u003c/td\u003e\\n\",","       \"      \u003ctd\u003e2.0\u003c/td\u003e\\n\",","       \"      \u003ctd\u003e0.0\u003c/td\u003e\\n\",","       \"      \u003ctd\u003e0.0\u003c/td\u003e\\n\",","       \"      \u003ctd\u003e0.0\u003c/td\u003e\\n\",","       \"      \u003ctd\u003e0.0\u003c/td\u003e\\n\",","       \"      \u003ctd\u003e0.0\u003c/td\u003e\\n\",","       \"      \u003ctd\u003e...\u003c/td\u003e\\n\",","       \"      \u003ctd\u003e1.0\u003c/td\u003e\\n\",","       \"      \u003ctd\u003e0.0\u003c/td\u003e\\n\",","       \"      \u003ctd\u003e0.0\u003c/td\u003e\\n\",","       \"      \u003ctd\u003e0.0\u003c/td\u003e\\n\",","       \"      \u003ctd\u003e0.0\u003c/td\u003e\\n\",","       \"      \u003ctd\u003e1.0\u003c/td\u003e\\n\",","       \"      \u003ctd\u003e0.0\u003c/td\u003e\\n\",","       \"      \u003ctd\u003e1.0\u003c/td\u003e\\n\",","       \"      \u003ctd\u003e0.0\u003c/td\u003e\\n\",","       \"      \u003ctd\u003e1.0\u003c/td\u003e\\n\",","       \"    \u003c/tr\u003e\\n\",","       \"    \u003ctr\u003e\\n\",","       \"      \u003cth\u003e87\u003c/th\u003e\\n\",","       \"      \u003ctd\u003e88.0\u003c/td\u003e\\n\",","       \"      \u003ctd\u003e15400.000000\u003c/td\u003e\\n\",","       \"      \u003ctd\u003e6.0\u003c/td\u003e\\n\",","       \"      \u003ctd\u003e5.0\u003c/td\u003e\\n\",","       \"      \u003ctd\u003e5.0\u003c/td\u003e\\n\",","       \"      \u003ctd\u003e0.0\u003c/td\u003e\\n\",","       \"      \u003ctd\u003e0.0\u003c/td\u003e\\n\",","       \"      \u003ctd\u003e0.0\u003c/td\u003e\\n\",","       \"      \u003ctd\u003e0.0\u003c/td\u003e\\n\",","       \"      \u003ctd\u003e0.0\u003c/td\u003e\\n\",","       \"      \u003ctd\u003e...\u003c/td\u003e\\n\",","       \"      \u003ctd\u003e0.0\u003c/td\u003e\\n\",","       \"      \u003ctd\u003e0.0\u003c/td\u003e\\n\",","       \"      \u003ctd\u003e0.0\u003c/td\u003e\\n\",","       \"      \u003ctd\u003e0.0\u003c/td\u003e\\n\",","       \"      \u003ctd\u003e0.0\u003c/td\u003e\\n\",","       \"      \u003ctd\u003e1.0\u003c/td\u003e\\n\",","       \"      \u003ctd\u003e0.0\u003c/td\u003e\\n\",","       \"      \u003ctd\u003e1.0\u003c/td\u003e\\n\",","       \"      \u003ctd\u003e0.0\u003c/td\u003e\\n\",","       \"      \u003ctd\u003e1.0\u003c/td\u003e\\n\",","       \"    \u003c/tr\u003e\\n\",","       \"    \u003ctr\u003e\\n\",","       \"      \u003cth\u003e88\u003c/th\u003e\\n\",","       \"      \u003ctd\u003e89.0\u003c/td\u003e\\n\",","       \"      \u003ctd\u003e15400.000000\u003c/td\u003e\\n\",","       \"      \u003ctd\u003e3.0\u003c/td\u003e\\n\",","       \"      \u003ctd\u003e5.0\u003c/td\u003e\\n\",","       \"      \u003ctd\u003e2.0\u003c/td\u003e\\n\",","       \"      \u003ctd\u003e0.0\u003c/td\u003e\\n\",","       \"      \u003ctd\u003e0.0\u003c/td\u003e\\n\",","       \"      \u003ctd\u003e0.0\u003c/td\u003e\\n\",","       \"      \u003ctd\u003e0.0\u003c/td\u003e\\n\",","       \"      \u003ctd\u003e0.0\u003c/td\u003e\\n\",","       \"      \u003ctd\u003e...\u003c/td\u003e\\n\",","       \"      \u003ctd\u003e0.0\u003c/td\u003e\\n\",","       \"      \u003ctd\u003e0.0\u003c/td\u003e\\n\",","       \"      \u003ctd\u003e1.0\u003c/td\u003e\\n\",","       \"      \u003ctd\u003e0.0\u003c/td\u003e\\n\",","       \"      \u003ctd\u003e0.0\u003c/td\u003e\\n\",","       \"      \u003ctd\u003e1.0\u003c/td\u003e\\n\",","       \"      \u003ctd\u003e0.0\u003c/td\u003e\\n\",","       \"      \u003ctd\u003e1.0\u003c/td\u003e\\n\",","       \"      \u003ctd\u003e0.0\u003c/td\u003e\\n\",","       \"      \u003ctd\u003e1.0\u003c/td\u003e\\n\",","       \"    \u003c/tr\u003e\\n\",","       \"    \u003ctr\u003e\\n\",","       \"      \u003cth\u003e89\u003c/th\u003e\\n\",","       \"      \u003ctd\u003e90.0\u003c/td\u003e\\n\",","       \"      \u003ctd\u003e3681.000000\u003c/td\u003e\\n\",","       \"      \u003ctd\u003e1.0\u003c/td\u003e\\n\",","       \"      \u003ctd\u003e5.0\u003c/td\u003e\\n\",","       \"      \u003ctd\u003e0.0\u003c/td\u003e\\n\",","       \"      \u003ctd\u003e0.0\u003c/td\u003e\\n\",","       \"      \u003ctd\u003e0.0\u003c/td\u003e\\n\",","       \"      \u003ctd\u003e0.0\u003c/td\u003e\\n\",","       \"      \u003ctd\u003e0.0\u003c/td\u003e\\n\",","       \"      \u003ctd\u003e0.0\u003c/td\u003e\\n\",","       \"      \u003ctd\u003e...\u003c/td\u003e\\n\",","       \"      \u003ctd\u003e0.0\u003c/td\u003e\\n\",","       \"      \u003ctd\u003e0.0\u003c/td\u003e\\n\",","       \"      \u003ctd\u003e0.0\u003c/td\u003e\\n\",","       \"      \u003ctd\u003e1.0\u003c/td\u003e\\n\",","       \"      \u003ctd\u003e0.0\u003c/td\u003e\\n\",","       \"      \u003ctd\u003e1.0\u003c/td\u003e\\n\",","       \"      \u003ctd\u003e1.0\u003c/td\u003e\\n\",","       \"      \u003ctd\u003e0.0\u003c/td\u003e\\n\",","       \"      \u003ctd\u003e0.0\u003c/td\u003e\\n\",","       \"      \u003ctd\u003e1.0\u003c/td\u003e\\n\",","       \"    \u003c/tr\u003e\\n\",","       \"  \u003c/tbody\u003e\\n\",","       \"\u003c/table\u003e\\n\",","       \"\u003cp\u003e90 rows × 83 columns\u003c/p\u003e\\n\",","       \"\u003c/div\u003e\"","      ],","      \"text/plain\": [","       \"    FlightNumber   PayloadMass  Flights  Block  ReusedCount  Orbit_ES-L1  \\\\\\n\",","       \"0            1.0   6104.959412      1.0    1.0          0.0          0.0   \\n\",","       \"1            2.0    525.000000      1.0    1.0          0.0          0.0   \\n\",","       \"2            3.0    677.000000      1.0    1.0          0.0          0.0   \\n\",","       \"3            4.0    500.000000      1.0    1.0          0.0          0.0   \\n\",","       \"4            5.0   3170.000000      1.0    1.0          0.0          0.0   \\n\",","       \"..           ...           ...      ...    ...          ...          ...   \\n\",","       \"85          86.0  15400.000000      2.0    5.0          2.0          0.0   \\n\",","       \"86          87.0  15400.000000      3.0    5.0          2.0          0.0   \\n\",","       \"87          88.0  15400.000000      6.0    5.0          5.0          0.0   \\n\",","       \"88          89.0  15400.000000      3.0    5.0          2.0          0.0   \\n\",","       \"89          90.0   3681.000000      1.0    5.0          0.0          0.0   \\n\",","       \"\\n\",","       \"    Orbit_GEO  Orbit_GTO  Orbit_HEO  Orbit_ISS  ...  Serial_B1058  \\\\\\n\",","       \"0         0.0        0.0        0.0        0.0  ...           0.0   \\n\",","       \"1         0.0        0.0        0.0        0.0  ...           0.0   \\n\",","       \"2         0.0        0.0        0.0        1.0  ...           0.0   \\n\",","       \"3         0.0        0.0        0.0        0.0  ...           0.0   \\n\",","       \"4         0.0        1.0        0.0        0.0  ...           0.0   \\n\",","       \"..        ...        ...        ...        ...  ...           ...   \\n\",","       \"85        0.0        0.0        0.0        0.0  ...           0.0   \\n\",","       \"86        0.0        0.0        0.0        0.0  ...           1.0   \\n\",","       \"87        0.0        0.0        0.0        0.0  ...           0.0   \\n\",","       \"88        0.0        0.0        0.0        0.0  ...           0.0   \\n\",","       \"89        0.0        0.0        0.0        0.0  ...           0.0   \\n\",","       \"\\n\",","       \"    Serial_B1059  Serial_B1060  Serial_B1062  GridFins_False  GridFins_True  \\\\\\n\",","       \"0            0.0           0.0           0.0             1.0            0.0   \\n\",","       \"1            0.0           0.0           0.0             1.0            0.0   \\n\",","       \"2            0.0           0.0           0.0             1.0            0.0   \\n\",","       \"3            0.0           0.0           0.0             1.0            0.0   \\n\",","       \"4            0.0           0.0           0.0             1.0            0.0   \\n\",","       \"..           ...           ...           ...             ...            ...   \\n\",","       \"85           0.0           1.0           0.0             0.0            1.0   \\n\",","       \"86           0.0           0.0           0.0             0.0            1.0   \\n\",","       \"87           0.0           0.0           0.0             0.0            1.0   \\n\",","       \"88           0.0           1.0           0.0             0.0            1.0   \\n\",","       \"89           0.0           0.0           1.0             0.0            1.0   \\n\",","       \"\\n\",","       \"    Reused_False  Reused_True  Legs_False  Legs_True  \\n\",","       \"0            1.0          0.0         1.0        0.0  \\n\",","       \"1            1.0          0.0         1.0        0.0  \\n\",","       \"2            1.0          0.0         1.0        0.0  \\n\",","       \"3            1.0          0.0         1.0        0.0  \\n\",","       \"4            1.0          0.0         1.0        0.0  \\n\",","       \"..           ...          ...         ...        ...  \\n\",","       \"85           0.0          1.0         0.0        1.0  \\n\",","       \"86           0.0          1.0         0.0        1.0  \\n\",","       \"87           0.0          1.0         0.0        1.0  \\n\",","       \"88           0.0          1.0         0.0        1.0  \\n\",","       \"89           1.0          0.0         0.0        1.0  \\n\",","       \"\\n\",","       \"[90 rows x 83 columns]\"","      ]","     },","     \"execution_count\": 4,","     \"metadata\": {},","     \"output_type\": \"execute_result\"","    }","   ],","   \"source\": [","    \"#X = pd.read_csv('https://cf-courses-data.s3.us.cloud-object-storage.appdomain.cloud/IBM-DS0321EN-SkillsNetwork/datasets/dataset_part_3.csv')\\n\",","    \"\\n\",","    \"# If you were unable to complete the previous lab correctly you can uncomment and load this csv\\n\",","    \"\\n\",","    \"X = pd.read_csv('https://cf-courses-data.s3.us.cloud-object-storage.appdomain.cloud/IBMDeveloperSkillsNetwork-DS0701EN-SkillsNetwork/api/dataset_part_3.csv')\\n\",","    \"\\n\",","    \"X.head(100)\"","   ]","  },","  {","   \"cell_type\": \"markdown\",","   \"metadata\": {},","   \"source\": [","    \"## TASK  1\\n\"","   ]","  },","  {","   \"cell_type\": \"markdown\",","   \"metadata\": {},","   \"source\": [","    \"Create a NumPy array from the column \u003ccode\u003eClass\u003c/code\u003e in \u003ccode\u003edata\u003c/code\u003e, by applying the method \u003ccode\u003eto_numpy()\u003c/code\u003e  then\\n\",","    \"assign it  to the variable \u003ccode\u003eY\u003c/code\u003e,make sure the output is a  Pandas series (only one bracket df\\\\['name of  column']).\\n\"","   ]","  },","  {","   \"cell_type\": \"code\",","   \"execution_count\": 5,","   \"metadata\": {},","   \"outputs\": [],","   \"source\": [","    \"Y = data[\\\"Class\\\"].to_numpy()\"","   ]","  },","  {","   \"cell_type\": \"markdown\",","   \"metadata\": {},","   \"source\": [","    \"## TASK  2\\n\"","   ]","  },","  {","   \"cell_type\": \"markdown\",","   \"metadata\": {},","   \"source\": [","    \"Standardize the data in \u003ccode\u003eX\u003c/code\u003e then reassign it to the variable  \u003ccode\u003eX\u003c/code\u003e using the transform provided below.\\n\"","   ]","  },","  {","   \"cell_type\": \"code\",","   \"execution_count\": 6,","   \"metadata\": {},","   \"outputs\": [","    {","     \"data\": {","      \"text/html\": [","       \"\u003cdiv\u003e\\n\",","       \"\u003cstyle scoped\u003e\\n\",","       \"    .dataframe tbody tr th:only-of-type {\\n\",","       \"        vertical-align: middle;\\n\",","       \"    }\\n\",","       \"\\n\",","       \"    .dataframe tbody tr th {\\n\",","       \"        vertical-align: top;\\n\",","       \"    }\\n\",","       \"\\n\",","       \"    .dataframe thead th {\\n\",","       \"        text-align: right;\\n\",","       \"    }\\n\",","       \"\u003c/style\u003e\\n\",","       \"\u003ctable border=\\\"1\\\" class=\\\"dataframe\\\"\u003e\\n\",","       \"  \u003cthead\u003e\\n\",","       \"    \u003ctr style=\\\"text-align: right;\\\"\u003e\\n\",","       \"      \u003cth\u003e\u003c/th\u003e\\n\",","       \"      \u003cth\u003e0\u003c/th\u003e\\n\",","       \"      \u003cth\u003e1\u003c/th\u003e\\n\",","       \"      \u003cth\u003e2\u003c/th\u003e\\n\",","       \"      \u003cth\u003e3\u003c/th\u003e\\n\",","       \"      \u003cth\u003e4\u003c/th\u003e\\n\",","       \"      \u003cth\u003e5\u003c/th\u003e\\n\",","       \"      \u003cth\u003e6\u003c/th\u003e\\n\",","       \"      \u003cth\u003e7\u003c/th\u003e\\n\",","       \"      \u003cth\u003e8\u003c/th\u003e\\n\",","       \"      \u003cth\u003e9\u003c/th\u003e\\n\",","       \"      \u003cth\u003e...\u003c/th\u003e\\n\",","       \"      \u003cth\u003e73\u003c/th\u003e\\n\",","       \"      \u003cth\u003e74\u003c/th\u003e\\n\",","       \"      \u003cth\u003e75\u003c/th\u003e\\n\",","       \"      \u003cth\u003e76\u003c/th\u003e\\n\",","       \"      \u003cth\u003e77\u003c/th\u003e\\n\",","       \"      \u003cth\u003e78\u003c/th\u003e\\n\",","       \"      \u003cth\u003e79\u003c/th\u003e\\n\",","       \"      \u003cth\u003e80\u003c/th\u003e\\n\",","       \"      \u003cth\u003e81\u003c/th\u003e\\n\",","       \"      \u003cth\u003e82\u003c/th\u003e\\n\",","       \"    \u003c/tr\u003e\\n\",","       \"  \u003c/thead\u003e\\n\",","       \"  \u003ctbody\u003e\\n\",","       \"    \u003ctr\u003e\\n\",","       \"      \u003cth\u003e0\u003c/th\u003e\\n\",","       \"      \u003ctd\u003e-1.712912\u003c/td\u003e\\n\",","       \"      \u003ctd\u003e-1.948145e-16\u003c/td\u003e\\n\",","       \"      \u003ctd\u003e-0.653913\u003c/td\u003e\\n\",","       \"      \u003ctd\u003e-1.575895\u003c/td\u003e\\n\",","       \"      \u003ctd\u003e-0.973440\u003c/td\u003e\\n\",","       \"      \u003ctd\u003e-0.106\u003c/td\u003e\\n\",","       \"      \u003ctd\u003e-0.106\u003c/td\u003e\\n\",","       \"      \u003ctd\u003e-0.654654\u003c/td\u003e\\n\",","       \"      \u003ctd\u003e-0.106\u003c/td\u003e\\n\",","       \"      \u003ctd\u003e-0.551677\u003c/td\u003e\\n\",","       \"      \u003ctd\u003e...\u003c/td\u003e\\n\",","       \"      \u003ctd\u003e-0.185695\u003c/td\u003e\\n\",","       \"      \u003ctd\u003e-0.215666\u003c/td\u003e\\n\",","       \"      \u003ctd\u003e-0.185695\u003c/td\u003e\\n\",","       \"      \u003ctd\u003e-0.106000\u003c/td\u003e\\n\",","       \"      \u003ctd\u003e1.870829\u003c/td\u003e\\n\",","       \"      \u003ctd\u003e-1.870829\u003c/td\u003e\\n\",","       \"      \u003ctd\u003e0.835532\u003c/td\u003e\\n\",","       \"      \u003ctd\u003e-0.835532\u003c/td\u003e\\n\",","       \"      \u003ctd\u003e1.933091\u003c/td\u003e\\n\",","       \"      \u003ctd\u003e-1.933091\u003c/td\u003e\\n\",","       \"    \u003c/tr\u003e\\n\",","       \"    \u003ctr\u003e\\n\",","       \"      \u003cth\u003e1\u003c/th\u003e\\n\",","       \"      \u003ctd\u003e-1.674419\u003c/td\u003e\\n\",","       \"      \u003ctd\u003e-1.195232e+00\u003c/td\u003e\\n\",","       \"      \u003ctd\u003e-0.653913\u003c/td\u003e\\n\",","       \"      \u003ctd\u003e-1.575895\u003c/td\u003e\\n\",","       \"      \u003ctd\u003e-0.973440\u003c/td\u003e\\n\",","       \"      \u003ctd\u003e-0.106\u003c/td\u003e\\n\",","       \"      \u003ctd\u003e-0.106\u003c/td\u003e\\n\",","       \"      \u003ctd\u003e-0.654654\u003c/td\u003e\\n\",","       \"      \u003ctd\u003e-0.106\u003c/td\u003e\\n\",","       \"      \u003ctd\u003e-0.551677\u003c/td\u003e\\n\",","       \"      \u003ctd\u003e...\u003c/td\u003e\\n\",","       \"      \u003ctd\u003e-0.185695\u003c/td\u003e\\n\",","       \"      \u003ctd\u003e-0.215666\u003c/td\u003e\\n\",","       \"      \u003ctd\u003e-0.185695\u003c/td\u003e\\n\",","       \"      \u003ctd\u003e-0.106000\u003c/td\u003e\\n\",","       \"      \u003ctd\u003e1.870829\u003c/td\u003e\\n\",","       \"      \u003ctd\u003e-1.870829\u003c/td\u003e\\n\",","       \"      \u003ctd\u003e0.835532\u003c/td\u003e\\n\",","       \"      \u003ctd\u003e-0.835532\u003c/td\u003e\\n\",","       \"      \u003ctd\u003e1.933091\u003c/td\u003e\\n\",","       \"      \u003ctd\u003e-1.933091\u003c/td\u003e\\n\",","       \"    \u003c/tr\u003e\\n\",","       \"    \u003ctr\u003e\\n\",","       \"      \u003cth\u003e2\u003c/th\u003e\\n\",","       \"      \u003ctd\u003e-1.635927\u003c/td\u003e\\n\",","       \"      \u003ctd\u003e-1.162673e+00\u003c/td\u003e\\n\",","       \"      \u003ctd\u003e-0.653913\u003c/td\u003e\\n\",","       \"      \u003ctd\u003e-1.575895\u003c/td\u003e\\n\",","       \"      \u003ctd\u003e-0.973440\u003c/td\u003e\\n\",","       \"      \u003ctd\u003e-0.106\u003c/td\u003e\\n\",","       \"      \u003ctd\u003e-0.106\u003c/td\u003e\\n\",","       \"      \u003ctd\u003e-0.654654\u003c/td\u003e\\n\",","       \"      \u003ctd\u003e-0.106\u003c/td\u003e\\n\",","       \"      \u003ctd\u003e1.812654\u003c/td\u003e\\n\",","       \"      \u003ctd\u003e...\u003c/td\u003e\\n\",","       \"      \u003ctd\u003e-0.185695\u003c/td\u003e\\n\",","       \"      \u003ctd\u003e-0.215666\u003c/td\u003e\\n\",","       \"      \u003ctd\u003e-0.185695\u003c/td\u003e\\n\",","       \"      \u003ctd\u003e-0.106000\u003c/td\u003e\\n\",","       \"      \u003ctd\u003e1.870829\u003c/td\u003e\\n\",","       \"      \u003ctd\u003e-1.870829\u003c/td\u003e\\n\",","       \"      \u003ctd\u003e0.835532\u003c/td\u003e\\n\",","       \"      \u003ctd\u003e-0.835532\u003c/td\u003e\\n\",","       \"      \u003ctd\u003e1.933091\u003c/td\u003e\\n\",","       \"      \u003ctd\u003e-1.933091\u003c/td\u003e\\n\",","       \"    \u003c/tr\u003e\\n\",","       \"    \u003ctr\u003e\\n\",","       \"      \u003cth\u003e3\u003c/th\u003e\\n\",","       \"      \u003ctd\u003e-1.597434\u003c/td\u003e\\n\",","       \"      \u003ctd\u003e-1.200587e+00\u003c/td\u003e\\n\",","       \"      \u003ctd\u003e-0.653913\u003c/td\u003e\\n\",","       \"      \u003ctd\u003e-1.575895\u003c/td\u003e\\n\",","       \"      \u003ctd\u003e-0.973440\u003c/td\u003e\\n\",","       \"      \u003ctd\u003e-0.106\u003c/td\u003e\\n\",","       \"      \u003ctd\u003e-0.106\u003c/td\u003e\\n\",","       \"      \u003ctd\u003e-0.654654\u003c/td\u003e\\n\",","       \"      \u003ctd\u003e-0.106\u003c/td\u003e\\n\",","       \"      \u003ctd\u003e-0.551677\u003c/td\u003e\\n\",","       \"      \u003ctd\u003e...\u003c/td\u003e\\n\",","       \"      \u003ctd\u003e-0.185695\u003c/td\u003e\\n\",","       \"      \u003ctd\u003e-0.215666\u003c/td\u003e\\n\",","       \"      \u003ctd\u003e-0.185695\u003c/td\u003e\\n\",","       \"      \u003ctd\u003e-0.106000\u003c/td\u003e\\n\",","       \"      \u003ctd\u003e1.870829\u003c/td\u003e\\n\",","       \"      \u003ctd\u003e-1.870829\u003c/td\u003e\\n\",","       \"      \u003ctd\u003e0.835532\u003c/td\u003e\\n\",","       \"      \u003ctd\u003e-0.835532\u003c/td\u003e\\n\",","       \"      \u003ctd\u003e1.933091\u003c/td\u003e\\n\",","       \"      \u003ctd\u003e-1.933091\u003c/td\u003e\\n\",","       \"    \u003c/tr\u003e\\n\",","       \"    \u003ctr\u003e\\n\",","       \"      \u003cth\u003e4\u003c/th\u003e\\n\",","       \"      \u003ctd\u003e-1.558942\u003c/td\u003e\\n\",","       \"      \u003ctd\u003e-6.286706e-01\u003c/td\u003e\\n\",","       \"      \u003ctd\u003e-0.653913\u003c/td\u003e\\n\",","       \"      \u003ctd\u003e-1.575895\u003c/td\u003e\\n\",","       \"      \u003ctd\u003e-0.973440\u003c/td\u003e\\n\",","       \"      \u003ctd\u003e-0.106\u003c/td\u003e\\n\",","       \"      \u003ctd\u003e-0.106\u003c/td\u003e\\n\",","       \"      \u003ctd\u003e1.527525\u003c/td\u003e\\n\",","       \"      \u003ctd\u003e-0.106\u003c/td\u003e\\n\",","       \"      \u003ctd\u003e-0.551677\u003c/td\u003e\\n\",","       \"      \u003ctd\u003e...\u003c/td\u003e\\n\",","       \"      \u003ctd\u003e-0.185695\u003c/td\u003e\\n\",","       \"      \u003ctd\u003e-0.215666\u003c/td\u003e\\n\",","       \"      \u003ctd\u003e-0.185695\u003c/td\u003e\\n\",","       \"      \u003ctd\u003e-0.106000\u003c/td\u003e\\n\",","       \"      \u003ctd\u003e1.870829\u003c/td\u003e\\n\",","       \"      \u003ctd\u003e-1.870829\u003c/td\u003e\\n\",","       \"      \u003ctd\u003e0.835532\u003c/td\u003e\\n\",","       \"      \u003ctd\u003e-0.835532\u003c/td\u003e\\n\",","       \"      \u003ctd\u003e1.933091\u003c/td\u003e\\n\",","       \"      \u003ctd\u003e-1.933091\u003c/td\u003e\\n\",","       \"    \u003c/tr\u003e\\n\",","       \"    \u003ctr\u003e\\n\",","       \"      \u003cth\u003e...\u003c/th\u003e\\n\",","       \"      \u003ctd\u003e...\u003c/td\u003e\\n\",","       \"      \u003ctd\u003e...\u003c/td\u003e\\n\",","       \"      \u003ctd\u003e...\u003c/td\u003e\\n\",","       \"      \u003ctd\u003e...\u003c/td\u003e\\n\",","       \"      \u003ctd\u003e...\u003c/td\u003e\\n\",","       \"      \u003ctd\u003e...\u003c/td\u003e\\n\",","       \"      \u003ctd\u003e...\u003c/td\u003e\\n\",","       \"      \u003ctd\u003e...\u003c/td\u003e\\n\",","       \"      \u003ctd\u003e...\u003c/td\u003e\\n\",","       \"      \u003ctd\u003e...\u003c/td\u003e\\n\",","       \"      \u003ctd\u003e...\u003c/td\u003e\\n\",","       \"      \u003ctd\u003e...\u003c/td\u003e\\n\",","       \"      \u003ctd\u003e...\u003c/td\u003e\\n\",","       \"      \u003ctd\u003e...\u003c/td\u003e\\n\",","       \"      \u003ctd\u003e...\u003c/td\u003e\\n\",","       \"      \u003ctd\u003e...\u003c/td\u003e\\n\",","       \"      \u003ctd\u003e...\u003c/td\u003e\\n\",","       \"      \u003ctd\u003e...\u003c/td\u003e\\n\",","       \"      \u003ctd\u003e...\u003c/td\u003e\\n\",","       \"      \u003ctd\u003e...\u003c/td\u003e\\n\",","       \"      \u003ctd\u003e...\u003c/td\u003e\\n\",","       \"    \u003c/tr\u003e\\n\",","       \"    \u003ctr\u003e\\n\",","       \"      \u003cth\u003e85\u003c/th\u003e\\n\",","       \"      \u003ctd\u003e1.558942\u003c/td\u003e\\n\",","       \"      \u003ctd\u003e1.991005e+00\u003c/td\u003e\\n\",","       \"      \u003ctd\u003e0.174991\u003c/td\u003e\\n\",","       \"      \u003ctd\u003e0.945537\u003c/td\u003e\\n\",","       \"      \u003ctd\u003e0.202528\u003c/td\u003e\\n\",","       \"      \u003ctd\u003e-0.106\u003c/td\u003e\\n\",","       \"      \u003ctd\u003e-0.106\u003c/td\u003e\\n\",","       \"      \u003ctd\u003e-0.654654\u003c/td\u003e\\n\",","       \"      \u003ctd\u003e-0.106\u003c/td\u003e\\n\",","       \"      \u003ctd\u003e-0.551677\u003c/td\u003e\\n\",","       \"      \u003ctd\u003e...\u003c/td\u003e\\n\",","       \"      \u003ctd\u003e-0.185695\u003c/td\u003e\\n\",","       \"      \u003ctd\u003e-0.215666\u003c/td\u003e\\n\",","       \"      \u003ctd\u003e5.385165\u003c/td\u003e\\n\",","       \"      \u003ctd\u003e-0.106000\u003c/td\u003e\\n\",","       \"      \u003ctd\u003e-0.534522\u003c/td\u003e\\n\",","       \"      \u003ctd\u003e0.534522\u003c/td\u003e\\n\",","       \"      \u003ctd\u003e-1.196843\u003c/td\u003e\\n\",","       \"      \u003ctd\u003e1.196843\u003c/td\u003e\\n\",","       \"      \u003ctd\u003e-0.517306\u003c/td\u003e\\n\",","       \"      \u003ctd\u003e0.517306\u003c/td\u003e\\n\",","       \"    \u003c/tr\u003e\\n\",","       \"    \u003ctr\u003e\\n\",","       \"      \u003cth\u003e86\u003c/th\u003e\\n\",","       \"      \u003ctd\u003e1.597434\u003c/td\u003e\\n\",","       \"      \u003ctd\u003e1.991005e+00\u003c/td\u003e\\n\",","       \"      \u003ctd\u003e1.003894\u003c/td\u003e\\n\",","       \"      \u003ctd\u003e0.945537\u003c/td\u003e\\n\",","       \"      \u003ctd\u003e0.202528\u003c/td\u003e\\n\",","       \"      \u003ctd\u003e-0.106\u003c/td\u003e\\n\",","       \"      \u003ctd\u003e-0.106\u003c/td\u003e\\n\",","       \"      \u003ctd\u003e-0.654654\u003c/td\u003e\\n\",","       \"      \u003ctd\u003e-0.106\u003c/td\u003e\\n\",","       \"      \u003ctd\u003e-0.551677\u003c/td\u003e\\n\",","       \"      \u003ctd\u003e...\u003c/td\u003e\\n\",","       \"      \u003ctd\u003e5.385165\u003c/td\u003e\\n\",","       \"      \u003ctd\u003e-0.215666\u003c/td\u003e\\n\",","       \"      \u003ctd\u003e-0.185695\u003c/td\u003e\\n\",","       \"      \u003ctd\u003e-0.106000\u003c/td\u003e\\n\",","       \"      \u003ctd\u003e-0.534522\u003c/td\u003e\\n\",","       \"      \u003ctd\u003e0.534522\u003c/td\u003e\\n\",","       \"      \u003ctd\u003e-1.196843\u003c/td\u003e\\n\",","       \"      \u003ctd\u003e1.196843\u003c/td\u003e\\n\",","       \"      \u003ctd\u003e-0.517306\u003c/td\u003e\\n\",","       \"      \u003ctd\u003e0.517306\u003c/td\u003e\\n\",","       \"    \u003c/tr\u003e\\n\",","       \"    \u003ctr\u003e\\n\",","       \"      \u003cth\u003e87\u003c/th\u003e\\n\",","       \"      \u003ctd\u003e1.635927\u003c/td\u003e\\n\",","       \"      \u003ctd\u003e1.991005e+00\u003c/td\u003e\\n\",","       \"      \u003ctd\u003e3.490605\u003c/td\u003e\\n\",","       \"      \u003ctd\u003e0.945537\u003c/td\u003e\\n\",","       \"      \u003ctd\u003e1.966480\u003c/td\u003e\\n\",","       \"      \u003ctd\u003e-0.106\u003c/td\u003e\\n\",","       \"      \u003ctd\u003e-0.106\u003c/td\u003e\\n\",","       \"      \u003ctd\u003e-0.654654\u003c/td\u003e\\n\",","       \"      \u003ctd\u003e-0.106\u003c/td\u003e\\n\",","       \"      \u003ctd\u003e-0.551677\u003c/td\u003e\\n\",","       \"      \u003ctd\u003e...\u003c/td\u003e\\n\",","       \"      \u003ctd\u003e-0.185695\u003c/td\u003e\\n\",","       \"      \u003ctd\u003e-0.215666\u003c/td\u003e\\n\",","       \"      \u003ctd\u003e-0.185695\u003c/td\u003e\\n\",","       \"      \u003ctd\u003e-0.106000\u003c/td\u003e\\n\",","       \"      \u003ctd\u003e-0.534522\u003c/td\u003e\\n\",","       \"      \u003ctd\u003e0.534522\u003c/td\u003e\\n\",","       \"      \u003ctd\u003e-1.196843\u003c/td\u003e\\n\",","       \"      \u003ctd\u003e1.196843\u003c/td\u003e\\n\",","       \"      \u003ctd\u003e-0.517306\u003c/td\u003e\\n\",","       \"      \u003ctd\u003e0.517306\u003c/td\u003e\\n\",","       \"    \u003c/tr\u003e\\n\",","       \"    \u003ctr\u003e\\n\",","       \"      \u003cth\u003e88\u003c/th\u003e\\n\",","       \"      \u003ctd\u003e1.674419\u003c/td\u003e\\n\",","       \"      \u003ctd\u003e1.991005e+00\u003c/td\u003e\\n\",","       \"      \u003ctd\u003e1.003894\u003c/td\u003e\\n\",","       \"      \u003ctd\u003e0.945537\u003c/td\u003e\\n\",","       \"      \u003ctd\u003e0.202528\u003c/td\u003e\\n\",","       \"      \u003ctd\u003e-0.106\u003c/td\u003e\\n\",","       \"      \u003ctd\u003e-0.106\u003c/td\u003e\\n\",","       \"      \u003ctd\u003e-0.654654\u003c/td\u003e\\n\",","       \"      \u003ctd\u003e-0.106\u003c/td\u003e\\n\",","       \"      \u003ctd\u003e-0.551677\u003c/td\u003e\\n\",","       \"      \u003ctd\u003e...\u003c/td\u003e\\n\",","       \"      \u003ctd\u003e-0.185695\u003c/td\u003e\\n\",","       \"      \u003ctd\u003e-0.215666\u003c/td\u003e\\n\",","       \"      \u003ctd\u003e5.385165\u003c/td\u003e\\n\",","       \"      \u003ctd\u003e-0.106000\u003c/td\u003e\\n\",","       \"      \u003ctd\u003e-0.534522\u003c/td\u003e\\n\",","       \"      \u003ctd\u003e0.534522\u003c/td\u003e\\n\",","       \"      \u003ctd\u003e-1.196843\u003c/td\u003e\\n\",","       \"      \u003ctd\u003e1.196843\u003c/td\u003e\\n\",","       \"      \u003ctd\u003e-0.517306\u003c/td\u003e\\n\",","       \"      \u003ctd\u003e0.517306\u003c/td\u003e\\n\",","       \"    \u003c/tr\u003e\\n\",","       \"    \u003ctr\u003e\\n\",","       \"      \u003cth\u003e89\u003c/th\u003e\\n\",","       \"      \u003ctd\u003e1.712912\u003c/td\u003e\\n\",","       \"      \u003ctd\u003e-5.192140e-01\u003c/td\u003e\\n\",","       \"      \u003ctd\u003e-0.653913\u003c/td\u003e\\n\",","       \"      \u003ctd\u003e0.945537\u003c/td\u003e\\n\",","       \"      \u003ctd\u003e-0.973440\u003c/td\u003e\\n\",","       \"      \u003ctd\u003e-0.106\u003c/td\u003e\\n\",","       \"      \u003ctd\u003e-0.106\u003c/td\u003e\\n\",","       \"      \u003ctd\u003e-0.654654\u003c/td\u003e\\n\",","       \"      \u003ctd\u003e-0.106\u003c/td\u003e\\n\",","       \"      \u003ctd\u003e-0.551677\u003c/td\u003e\\n\",","       \"      \u003ctd\u003e...\u003c/td\u003e\\n\",","       \"      \u003ctd\u003e-0.185695\u003c/td\u003e\\n\",","       \"      \u003ctd\u003e-0.215666\u003c/td\u003e\\n\",","       \"      \u003ctd\u003e-0.185695\u003c/td\u003e\\n\",","       \"      \u003ctd\u003e9.433981\u003c/td\u003e\\n\",","       \"      \u003ctd\u003e-0.534522\u003c/td\u003e\\n\",","       \"      \u003ctd\u003e0.534522\u003c/td\u003e\\n\",","       \"      \u003ctd\u003e0.835532\u003c/td\u003e\\n\",","       \"      \u003ctd\u003e-0.835532\u003c/td\u003e\\n\",","       \"      \u003ctd\u003e-0.517306\u003c/td\u003e\\n\",","       \"      \u003ctd\u003e0.517306\u003c/td\u003e\\n\",","       \"    \u003c/tr\u003e\\n\",","       \"  \u003c/tbody\u003e\\n\",","       \"\u003c/table\u003e\\n\",","       \"\u003cp\u003e90 rows × 83 columns\u003c/p\u003e\\n\",","       \"\u003c/div\u003e\"","      ],","      \"text/plain\": [","       \"          0             1         2         3         4      5      6   \\\\\\n\",","       \"0  -1.712912 -1.948145e-16 -0.653913 -1.575895 -0.973440 -0.106 -0.106   \\n\",","       \"1  -1.674419 -1.195232e+00 -0.653913 -1.575895 -0.973440 -0.106 -0.106   \\n\",","       \"2  -1.635927 -1.162673e+00 -0.653913 -1.575895 -0.973440 -0.106 -0.106   \\n\",","       \"3  -1.597434 -1.200587e+00 -0.653913 -1.575895 -0.973440 -0.106 -0.106   \\n\",","       \"4  -1.558942 -6.286706e-01 -0.653913 -1.575895 -0.973440 -0.106 -0.106   \\n\",","       \"..       ...           ...       ...       ...       ...    ...    ...   \\n\",","       \"85  1.558942  1.991005e+00  0.174991  0.945537  0.202528 -0.106 -0.106   \\n\",","       \"86  1.597434  1.991005e+00  1.003894  0.945537  0.202528 -0.106 -0.106   \\n\",","       \"87  1.635927  1.991005e+00  3.490605  0.945537  1.966480 -0.106 -0.106   \\n\",","       \"88  1.674419  1.991005e+00  1.003894  0.945537  0.202528 -0.106 -0.106   \\n\",","       \"89  1.712912 -5.192140e-01 -0.653913  0.945537 -0.973440 -0.106 -0.106   \\n\",","       \"\\n\",","       \"          7      8         9   ...        73        74        75        76  \\\\\\n\",","       \"0  -0.654654 -0.106 -0.551677  ... -0.185695 -0.215666 -0.185695 -0.106000   \\n\",","       \"1  -0.654654 -0.106 -0.551677  ... -0.185695 -0.215666 -0.185695 -0.106000   \\n\",","       \"2  -0.654654 -0.106  1.812654  ... -0.185695 -0.215666 -0.185695 -0.106000   \\n\",","       \"3  -0.654654 -0.106 -0.551677  ... -0.185695 -0.215666 -0.185695 -0.106000   \\n\",","       \"4   1.527525 -0.106 -0.551677  ... -0.185695 -0.215666 -0.185695 -0.106000   \\n\",","       \"..       ...    ...       ...  ...       ...       ...       ...       ...   \\n\",","       \"85 -0.654654 -0.106 -0.551677  ... -0.185695 -0.215666  5.385165 -0.106000   \\n\",","       \"86 -0.654654 -0.106 -0.551677  ...  5.385165 -0.215666 -0.185695 -0.106000   \\n\",","       \"87 -0.654654 -0.106 -0.551677  ... -0.185695 -0.215666 -0.185695 -0.106000   \\n\",","       \"88 -0.654654 -0.106 -0.551677  ... -0.185695 -0.215666  5.385165 -0.106000   \\n\",","       \"89 -0.654654 -0.106 -0.551677  ... -0.185695 -0.215666 -0.185695  9.433981   \\n\",","       \"\\n\",","       \"          77        78        79        80        81        82  \\n\",","       \"0   1.870829 -1.870829  0.835532 -0.835532  1.933091 -1.933091  \\n\",","       \"1   1.870829 -1.870829  0.835532 -0.835532  1.933091 -1.933091  \\n\",","       \"2   1.870829 -1.870829  0.835532 -0.835532  1.933091 -1.933091  \\n\",","       \"3   1.870829 -1.870829  0.835532 -0.835532  1.933091 -1.933091  \\n\",","       \"4   1.870829 -1.870829  0.835532 -0.835532  1.933091 -1.933091  \\n\",","       \"..       ...       ...       ...       ...       ...       ...  \\n\",","       \"85 -0.534522  0.534522 -1.196843  1.196843 -0.517306  0.517306  \\n\",","       \"86 -0.534522  0.534522 -1.196843  1.196843 -0.517306  0.517306  \\n\",","       \"87 -0.534522  0.534522 -1.196843  1.196843 -0.517306  0.517306  \\n\",","       \"88 -0.534522  0.534522 -1.196843  1.196843 -0.517306  0.517306  \\n\",","       \"89 -0.534522  0.534522  0.835532 -0.835532 -0.517306  0.517306  \\n\",","       \"\\n\",","       \"[90 rows x 83 columns]\"","      ]","     },","     \"execution_count\": 6,","     \"metadata\": {},","     \"output_type\": \"execute_result\"","    }","   ],","   \"source\": [","    \"# students get this \\n\",","    \"transform = preprocessing.StandardScaler()\\n\",","    \"x_scaled = transform.fit_transform(X)\\n\",","    \"X = pd.DataFrame(x_scaled)\\n\",","    \"X\"","   ]","  },","  {","   \"cell_type\": \"markdown\",","   \"metadata\": {},","   \"source\": [","    \"We split the data into training and testing data using the  function  \u003ccode\u003etrain_test_split\u003c/code\u003e.   The training data is divided into validation data, a second set used for training  data; then the models are trained and hyperparameters are selected using the function \u003ccode\u003eGridSearchCV\u003c/code\u003e.\\n\"","   ]","  },","  {","   \"cell_type\": \"markdown\",","   \"metadata\": {},","   \"source\": [","    \"## TASK  3\\n\"","   ]","  },","  {","   \"cell_type\": \"markdown\",","   \"metadata\": {},","   \"source\": [","    \"Use the function train_test_split to split the data X and Y into training and test data. Set the parameter test_size to  0.2 and random_state to 2. The training data and test data should be assigned to the following labels.\\n\"","   ]","  },","  {","   \"cell_type\": \"markdown\",","   \"metadata\": {},","   \"source\": [","    \"\u003ccode\u003eX_train, X_test, Y_train, Y_test\u003c/code\u003e\\n\"","   ]","  },","  {","   \"cell_type\": \"code\",","   \"execution_count\": 7,","   \"metadata\": {},","   \"outputs\": [],","   \"source\": [","    \"X_train, X_test, Y_train, Y_test = train_test_split(X, Y, test_size=0.2, random_state=2)\"","   ]","  },","  {","   \"cell_type\": \"markdown\",","   \"metadata\": {},","   \"source\": [","    \"we can see we only have 18 test samples.\\n\"","   ]","  },","  {","   \"cell_type\": \"code\",","   \"execution_count\": 8,","   \"metadata\": {},","   \"outputs\": [","    {","     \"data\": {","      \"text/plain\": [","       \"(18,)\"","      ]","     },","     \"execution_count\": 8,","     \"metadata\": {},","     \"output_type\": \"execute_result\"","    }","   ],","   \"source\": [","    \"Y_test.shape\"","   ]","  },","  {","   \"cell_type\": \"markdown\",","   \"metadata\": {},","   \"source\": [","    \"## TASK  4\\n\"","   ]","  },","  {","   \"cell_type\": \"markdown\",","   \"metadata\": {},","   \"source\": [","    \"Create a logistic regression object using then create a  GridSearchCV object  \u003ccode\u003elogreg_cv\u003c/code\u003e with cv = 10.  Fit the object to find the best parameters from the dictionary \u003ccode\u003eparameters\u003c/code\u003e.\\n\"","   ]","  },","  {","   \"cell_type\": \"code\",","   \"execution_count\": 9,","   \"metadata\": {},","   \"outputs\": [],","   \"source\": [","    \"parameters ={'C':[0.01,0.1,1],\\n\",","    \"             'penalty':['l2'],\\n\",","    \"             'solver':['lbfgs']}\"","   ]","  },","  {","   \"cell_type\": \"code\",","   \"execution_count\": 10,","   \"metadata\": {},","   \"outputs\": [","    {","     \"data\": {","      \"text/plain\": [","       \"GridSearchCV(cv=10, estimator=LogisticRegression(),\\n\",","       \"             param_grid={'C': [0.01, 0.1, 1], 'penalty': ['l2'],\\n\",","       \"                         'solver': ['lbfgs']})\"","      ]","     },","     \"execution_count\": 10,","     \"metadata\": {},","     \"output_type\": \"execute_result\"","    }","   ],","   \"source\": [","    \"parameters ={\\\"C\\\":[0.01,0.1,1],'penalty':['l2'], 'solver':['lbfgs']}# l1 lasso l2 ridge\\n\",","    \"lr=LogisticRegression()\\n\",","    \"logreg_cv = GridSearchCV(lr, parameters, cv = 10)\\n\",","    \"logreg_cv.fit(X_train, Y_train)\"","   ]","  },","  {","   \"cell_type\": \"markdown\",","   \"metadata\": {},","   \"source\": [","    \"We output the \u003ccode\u003eGridSearchCV\u003c/code\u003e object for logistic regression. We display the best parameters using the data attribute \u003ccode\u003ebest_params\\\\_\u003c/code\u003e and the accuracy on the validation data using the data attribute \u003ccode\u003ebest_score\\\\_\u003c/code\u003e.\\n\"","   ]","  },","  {","   \"cell_type\": \"code\",","   \"execution_count\": 11,","   \"metadata\": {},","   \"outputs\": [","    {","     \"name\": \"stdout\",","     \"output_type\": \"stream\",","     \"text\": [","      \"tuned hpyerparameters :(best parameters)  {'C': 0.01, 'penalty': 'l2', 'solver': 'lbfgs'}\\n\",","      \"accuracy : 0.8464285714285713\\n\"","     ]","    }","   ],","   \"source\": [","    \"print(\\\"tuned hpyerparameters :(best parameters) \\\",logreg_cv.best_params_)\\n\",","    \"print(\\\"accuracy :\\\",logreg_cv.best_score_)\"","   ]","  },","  {","   \"cell_type\": \"markdown\",","   \"metadata\": {},","   \"source\": [","    \"## TASK  5\\n\"","   ]","  },","  {","   \"cell_type\": \"markdown\",","   \"metadata\": {},","   \"source\": [","    \"Calculate the accuracy on the test data using the method \u003ccode\u003escore\u003c/code\u003e:\\n\"","   ]","  },","  {","   \"cell_type\": \"code\",","   \"execution_count\": 12,","   \"metadata\": {},","   \"outputs\": [","    {","     \"data\": {","      \"text/plain\": [","       \"0.8333333333333334\"","      ]","     },","     \"execution_count\": 12,","     \"metadata\": {},","     \"output_type\": \"execute_result\"","    }","   ],","   \"source\": [","    \"accu=[]\\n\",","    \"methods=[]\\n\",","    \"accu.append(logreg_cv.score(X_test,Y_test))\\n\",","    \"methods.append('logistic regression')\\n\",","    \"logreg_cv.score(X_test,Y_test)\"","   ]","  },","  {","   \"cell_type\": \"markdown\",","   \"metadata\": {},","   \"source\": [","    \"Lets look at the confusion matrix:\\n\"","   ]","  },","  {","   \"cell_type\": \"code\",","   \"execution_count\": 13,","   \"metadata\": {},","   \"outputs\": [","    {","     \"data\": {","      \"image/png\": \"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\\n\",","      \"text/plain\": [","       \"\u003cFigure size 432x288 with 2 Axes\u003e\"","      ]","     },","     \"metadata\": {","      \"needs_background\": \"light\"","     },","     \"output_type\": \"display_data\"","    }","   ],","   \"source\": [","    \"yhat=logreg_cv.predict(X_test)\\n\",","    \"plot_confusion_matrix(Y_test,yhat)\"","   ]","  },","  {","   \"cell_type\": \"markdown\",","   \"metadata\": {},","   \"source\": [","    \"Examining the confusion matrix, we see that logistic regression can distinguish between the different classes.  We see that the major problem is false positives.\\n\"","   ]","  },","  {","   \"cell_type\": \"markdown\",","   \"metadata\": {},","   \"source\": [","    \"## TASK  6\\n\"","   ]","  },","  {","   \"cell_type\": \"markdown\",","   \"metadata\": {},","   \"source\": [","    \"Create a support vector machine object then  create a  \u003ccode\u003eGridSearchCV\u003c/code\u003e object  \u003ccode\u003esvm_cv\u003c/code\u003e with cv - 10.  Fit the object to find the best parameters from the dictionary \u003ccode\u003eparameters\u003c/code\u003e.\\n\"","   ]","  },","  {","   \"cell_type\": \"code\",","   \"execution_count\": 14,","   \"metadata\": {},","   \"outputs\": [],","   \"source\": [","    \"parameters = {'kernel':('linear', 'rbf','poly','rbf', 'sigmoid'),\\n\",","    \"              'C': np.logspace(-3, 3, 5),\\n\",","    \"              'gamma':np.logspace(-3, 3, 5)}\\n\",","    \"svm = SVC()\"","   ]","  },","  {","   \"cell_type\": \"code\",","   \"execution_count\": 15,","   \"metadata\": {},","   \"outputs\": [","    {","     \"data\": {","      \"text/plain\": [","       \"GridSearchCV(cv=10, estimator=SVC(),\\n\",","       \"             param_grid={'C': array([1.00000000e-03, 3.16227766e-02, 1.00000000e+00, 3.16227766e+01,\\n\",","       \"       1.00000000e+03]),\\n\",","       \"                         'gamma': array([1.00000000e-03, 3.16227766e-02, 1.00000000e+00, 3.16227766e+01,\\n\",","       \"       1.00000000e+03]),\\n\",","       \"                         'kernel': ('linear', 'rbf', 'poly', 'rbf', 'sigmoid')})\"","      ]","     },","     \"execution_count\": 15,","     \"metadata\": {},","     \"output_type\": \"execute_result\"","    }","   ],","   \"source\": [","    \"svm_cv = GridSearchCV(svm, parameters, cv = 10)\\n\",","    \"svm_cv.fit(X_train, Y_train)\"","   ]","  },","  {","   \"cell_type\": \"code\",","   \"execution_count\": 16,","   \"metadata\": {},","   \"outputs\": [","    {","     \"name\": \"stdout\",","     \"output_type\": \"stream\",","     \"text\": [","      \"tuned hpyerparameters :(best parameters)  {'C': 1.0, 'gamma': 0.03162277660168379, 'kernel': 'sigmoid'}\\n\",","      \"accuracy : 0.8482142857142856\\n\"","     ]","    }","   ],","   \"source\": [","    \"print(\\\"tuned hpyerparameters :(best parameters) \\\",svm_cv.best_params_)\\n\",","    \"print(\\\"accuracy :\\\",svm_cv.best_score_)\"","   ]","  },","  {","   \"cell_type\": \"markdown\",","   \"metadata\": {},","   \"source\": [","    \"## TASK  7\\n\"","   ]","  },","  {","   \"cell_type\": \"markdown\",","   \"metadata\": {},","   \"source\": [","    \"Calculate the accuracy on the test data using the method \u003ccode\u003escore\u003c/code\u003e:\\n\"","   ]","  },","  {","   \"cell_type\": \"code\",","   \"execution_count\": 17,","   \"metadata\": {},","   \"outputs\": [","    {","     \"data\": {","      \"text/plain\": [","       \"0.8333333333333334\"","      ]","     },","     \"execution_count\": 17,","     \"metadata\": {},","     \"output_type\": \"execute_result\"","    }","   ],","   \"source\": [","    \"accu.append(svm_cv.score(X_test,Y_test))\\n\",","    \"methods.append('support vector machine')\\n\",","    \"svm_cv.score(X_test,Y_test)\"","   ]","  },","  {","   \"cell_type\": \"markdown\",","   \"metadata\": {},","   \"source\": [","    \"We can plot the confusion matrix\\n\"","   ]","  },","  {","   \"cell_type\": \"code\",","   \"execution_count\": 18,","   \"metadata\": {},","   \"outputs\": [","    {","     \"data\": {","      \"image/png\": \"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\\n\",","      \"text/plain\": [","       \"\u003cFigure size 432x288 with 2 Axes\u003e\"","      ]","     },","     \"metadata\": {","      \"needs_background\": \"light\"","     },","     \"output_type\": \"display_data\"","    }","   ],","   \"source\": [","    \"yhat=svm_cv.predict(X_test)\\n\",","    \"plot_confusion_matrix(Y_test,yhat)\"","   ]","  },","  {","   \"cell_type\": \"markdown\",","   \"metadata\": {},","   \"source\": [","    \"## TASK  8\\n\"","   ]","  },","  {","   \"cell_type\": \"markdown\",","   \"metadata\": {},","   \"source\": [","    \"Create a decision tree classifier object then  create a  \u003ccode\u003eGridSearchCV\u003c/code\u003e object  \u003ccode\u003etree_cv\u003c/code\u003e with cv = 10.  Fit the object to find the best parameters from the dictionary \u003ccode\u003eparameters\u003c/code\u003e.\\n\"","   ]","  },","  {","   \"cell_type\": \"code\",","   \"execution_count\": 19,","   \"metadata\": {},","   \"outputs\": [],","   \"source\": [","    \"parameters = {'criterion': ['gini', 'entropy'],\\n\",","    \"     'splitter': ['best', 'random'],\\n\",","    \"     'max_depth': [2*n for n in range(1,10)],\\n\",","    \"     'max_features': ['auto', 'sqrt'],\\n\",","    \"     'min_samples_leaf': [1, 2, 4],\\n\",","    \"     'min_samples_split': [2, 5, 10]}\\n\",","    \"\\n\",","    \"tree = DecisionTreeClassifier()\"","   ]","  },","  {","   \"cell_type\": \"code\",","   \"execution_count\": 20,","   \"metadata\": {},","   \"outputs\": [","    {","     \"data\": {","      \"text/plain\": [","       \"GridSearchCV(cv=10, estimator=DecisionTreeClassifier(),\\n\",","       \"             param_grid={'criterion': ['gini', 'entropy'],\\n\",","       \"                         'max_depth': [2, 4, 6, 8, 10, 12, 14, 16, 18],\\n\",","       \"                         'max_features': ['auto', 'sqrt'],\\n\",","       \"                         'min_samples_leaf': [1, 2, 4],\\n\",","       \"                         'min_samples_split': [2, 5, 10],\\n\",","       \"                         'splitter': ['best', 'random']})\"","      ]","     },","     \"execution_count\": 20,","     \"metadata\": {},","     \"output_type\": \"execute_result\"","    }","   ],","   \"source\": [","    \"tree_cv = GridSearchCV(tree, parameters, cv = 10)\\n\",","    \"tree_cv.fit(X_train, Y_train)\"","   ]","  },","  {","   \"cell_type\": \"code\",","   \"execution_count\": 21,","   \"metadata\": {},","   \"outputs\": [","    {","     \"name\": \"stdout\",","     \"output_type\": \"stream\",","     \"text\": [","      \"tuned hpyerparameters :(best parameters)  {'criterion': 'gini', 'max_depth': 12, 'max_features': 'sqrt', 'min_samples_leaf': 2, 'min_samples_split': 10, 'splitter': 'best'}\\n\",","      \"accuracy : 0.8767857142857143\\n\"","     ]","    }","   ],","   \"source\": [","    \"print(\\\"tuned hpyerparameters :(best parameters) \\\",tree_cv.best_params_)\\n\",","    \"print(\\\"accuracy :\\\",tree_cv.best_score_)\"","   ]","  },","  {","   \"cell_type\": \"markdown\",","   \"metadata\": {},","   \"source\": [","    \"## TASK  9\\n\"","   ]","  },","  {","   \"cell_type\": \"markdown\",","   \"metadata\": {},","   \"source\": [","    \"Calculate the accuracy of tree_cv on the test data using the method \u003ccode\u003escore\u003c/code\u003e:\\n\"","   ]","  },","  {","   \"cell_type\": \"code\",","   \"execution_count\": 22,","   \"metadata\": {},","   \"outputs\": [","    {","     \"data\": {","      \"text/plain\": [","       \"0.7777777777777778\"","      ]","     },","     \"execution_count\": 22,","     \"metadata\": {},","     \"output_type\": \"execute_result\"","    }","   ],","   \"source\": [","    \"accu.append(tree_cv.score(X_test,Y_test))\\n\",","    \"methods.append('decision tree classifier')\\n\",","    \"tree_cv.score(X_test,Y_test)\"","   ]","  },","  {","   \"cell_type\": \"markdown\",","   \"metadata\": {},","   \"source\": [","    \"We can plot the confusion matrix\\n\"","   ]","  },","  {","   \"cell_type\": \"code\",","   \"execution_count\": 23,","   \"metadata\": {},","   \"outputs\": [","    {","     \"data\": {","      \"image/png\": \"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\\n\",","      \"text/plain\": [","       \"\u003cFigure size 432x288 with 2 Axes\u003e\"","      ]","     },","     \"metadata\": {","      \"needs_background\": \"light\"","     },","     \"output_type\": \"display_data\"","    }","   ],","   \"source\": [","    \"yhat = svm_cv.predict(X_test)\\n\",","    \"plot_confusion_matrix(Y_test,yhat)\"","   ]","  },","  {","   \"cell_type\": \"markdown\",","   \"metadata\": {},","   \"source\": [","    \"## TASK  10\\n\"","   ]","  },","  {","   \"cell_type\": \"markdown\",","   \"metadata\": {},","   \"source\": [","    \"Create a k nearest neighbors object then  create a  \u003ccode\u003eGridSearchCV\u003c/code\u003e object  \u003ccode\u003eknn_cv\u003c/code\u003e with cv = 10.  Fit the object to find the best parameters from the dictionary \u003ccode\u003eparameters\u003c/code\u003e.\\n\"","   ]","  },","  {","   \"cell_type\": \"code\",","   \"execution_count\": 24,","   \"metadata\": {},","   \"outputs\": [],","   \"source\": [","    \"parameters = {'n_neighbors': [1, 2, 3, 4, 5, 6, 7, 8, 9, 10],\\n\",","    \"              'algorithm': ['auto', 'ball_tree', 'kd_tree', 'brute'],\\n\",","    \"              'p': [1,2]}\\n\",","    \"\\n\",","    \"KNN = KNeighborsClassifier()\"","   ]","  },","  {","   \"cell_type\": \"code\",","   \"execution_count\": 25,","   \"metadata\": {},","   \"outputs\": [","    {","     \"data\": {","      \"text/plain\": [","       \"GridSearchCV(cv=10, estimator=KNeighborsClassifier(),\\n\",","       \"             param_grid={'algorithm': ['auto', 'ball_tree', 'kd_tree', 'brute'],\\n\",","       \"                         'n_neighbors': [1, 2, 3, 4, 5, 6, 7, 8, 9, 10],\\n\",","       \"                         'p': [1, 2]})\"","      ]","     },","     \"execution_count\": 25,","     \"metadata\": {},","     \"output_type\": \"execute_result\"","    }","   ],","   \"source\": [","    \"knn_cv = GridSearchCV(KNN, parameters, cv = 10)\\n\",","    \"knn_cv.fit(X_train, Y_train)\"","   ]","  },","  {","   \"cell_type\": \"code\",","   \"execution_count\": 26,","   \"metadata\": {},","   \"outputs\": [","    {","     \"name\": \"stdout\",","     \"output_type\": \"stream\",","     \"text\": [","      \"tuned hpyerparameters :(best parameters)  {'algorithm': 'auto', 'n_neighbors': 10, 'p': 1}\\n\",","      \"accuracy : 0.8482142857142858\\n\"","     ]","    }","   ],","   \"source\": [","    \"print(\\\"tuned hpyerparameters :(best parameters) \\\",knn_cv.best_params_)\\n\",","    \"print(\\\"accuracy :\\\",knn_cv.best_score_)\"","   ]","  },","  {","   \"cell_type\": \"markdown\",","   \"metadata\": {},","   \"source\": [","    \"## TASK  11\\n\"","   ]","  },","  {","   \"cell_type\": \"markdown\",","   \"metadata\": {},","   \"source\": [","    \"Calculate the accuracy of tree_cv on the test data using the method \u003ccode\u003escore\u003c/code\u003e:\\n\"","   ]","  },","  {","   \"cell_type\": \"code\",","   \"execution_count\": 27,","   \"metadata\": {},","   \"outputs\": [","    {","     \"data\": {","      \"text/plain\": [","       \"0.8333333333333334\"","      ]","     },","     \"execution_count\": 27,","     \"metadata\": {},","     \"output_type\": \"execute_result\"","    }","   ],","   \"source\": [","    \"accu.append(knn_cv.score(X_test,Y_test))\\n\",","    \"methods.append('k nearest neighbors')\\n\",","    \"knn_cv.score(X_test,Y_test)\"","   ]","  },","  {","   \"cell_type\": \"markdown\",","   \"metadata\": {},","   \"source\": [","    \"We can plot the confusion matrix\\n\"","   ]","  },","  {","   \"cell_type\": \"code\",","   \"execution_count\": 28,","   \"metadata\": {},","   \"outputs\": [","    {","     \"data\": {","      \"image/png\": \"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\\n\",","      \"text/plain\": [","       \"\u003cFigure size 432x288 with 2 Axes\u003e\"","      ]","     },","     \"metadata\": {","      \"needs_background\": \"light\"","     },","     \"output_type\": \"display_data\"","    }","   ],","   \"source\": [","    \"yhat = knn_cv.predict(X_test)\\n\",","    \"plot_confusion_matrix(Y_test,yhat)\"","   ]","  },","  {","   \"cell_type\": \"markdown\",","   \"metadata\": {},","   \"source\": [","    \"## TASK  12\\n\"","   ]","  },","  {","   \"cell_type\": \"markdown\",","   \"metadata\": {},","   \"source\": [","    \"Find the method performs best:\\n\"","   ]","  },","  {","   \"cell_type\": \"markdown\",","   \"metadata\": {},","   \"source\": [","    \"##### They all return the same accuracy on the test data\"","   ]","  },","  {","   \"cell_type\": \"code\",","   \"execution_count\": 29,","   \"metadata\": {},","   \"outputs\": [","    {","     \"name\": \"stdout\",","     \"output_type\": \"stream\",","     \"text\": [","      \"['logistic regression', 'support vector machine', 'decision tree classifier', 'k nearest neighbors']\\n\",","      \"[0.8333333333333334, 0.8333333333333334, 0.7777777777777778, 0.8333333333333334]\\n\"","     ]","    }","   ],","   \"source\": [","    \"print(methods)\\n\",","    \"print(accu)\"","   ]","  },","  {","   \"cell_type\": \"code\",","   \"execution_count\": 30,","   \"metadata\": {},","   \"outputs\": [","    {","     \"data\": {","      \"image/png\": \"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\\n\",","      \"text/plain\": [","       \"\u003cFigure size 720x360 with 1 Axes\u003e\"","      ]","     },","     \"metadata\": {","      \"needs_background\": \"light\"","     },","     \"output_type\": \"display_data\"","    }","   ],","   \"source\": [","    \"import numpy as np\\n\",","    \"import matplotlib.pyplot as plt\\n\",","    \" \\n\",","    \"  \\n\",","    \"fig = plt.figure(figsize = (10, 5))\\n\",","    \" \\n\",","    \"# creating the bar plot\\n\",","    \"plt.bar(methods, accu, color ='maroon',\\n\",","    \"        width = 0.4)\\n\",","    \" \\n\",","    \"plt.xlabel(\\\"Methods\\\")\\n\",","    \"plt.ylabel(\\\"Accuracy\\\")\\n\",","    \"plt.title(\\\"Best Perfomed Method\\\")\\n\",","    \"plt.show()\"","   ]","  },","  {","   \"cell_type\": \"markdown\",","   \"metadata\": {},","   \"source\": [","    \"## Authors\\n\"","   ]","  },","  {","   \"cell_type\": \"markdown\",","   \"metadata\": {},","   \"source\": [","    \"\u003ca href=\\\"https://www.linkedin.com/in/joseph-s-50398b136/?utm_medium=Exinfluencer\u0026utm_source=Exinfluencer\u0026utm_content=000026UJ\u0026utm_term=10006555\u0026utm_id=NA-SkillsNetwork-Channel-SkillsNetworkCoursesIBMDS0321ENSkillsNetwork26802033-2021-01-01\\\"\u003eJoseph Santarcangelo\u003c/a\u003e has a PhD in Electrical Engineering, his research focused on using machine learning, signal processing, and computer vision to determine how videos impact human cognition. Joseph has been working for IBM since he completed his PhD.\\n\"","   ]","  },","  {","   \"cell_type\": \"markdown\",","   \"metadata\": {},","   \"source\": [","    \"## Change Log\\n\"","   ]","  },","  {","   \"cell_type\": \"markdown\",","   \"metadata\": {},","   \"source\": [","    \"| Date (YYYY-MM-DD) | Version | Changed By | Change Description      |\\n\",","    \"| ----------------- | ------- | ---------- | ----------------------- |\\n\",","    \"| 2020-09-20        | 1.0     | Joseph     | Modified Multiple Areas |\\n\"","   ]","  },","  {","   \"cell_type\": \"markdown\",","   \"metadata\": {},","   \"source\": [","    \"Copyright © 2020 IBM Corporation. All rights reserved.\\n\"","   ]","  }"," ],"," \"metadata\": {","  \"kernelspec\": {","   \"display_name\": \"Python 3\",","   \"language\": \"python\",","   \"name\": \"python3\"","  },","  \"language_info\": {","   \"codemirror_mode\": {","    \"name\": \"ipython\",","    \"version\": 3","   },","   \"file_extension\": \".py\",","   \"mimetype\": \"text/x-python\",","   \"name\": \"python\",","   \"nbconvert_exporter\": \"python\",","   \"pygments_lexer\": \"ipython3\",","   \"version\": \"3.8.3\"","  }"," },"," \"nbformat\": 4,"," \"nbformat_minor\": 4","}"],"stylingDirectives":null,"csv":null,"csvError":null,"dependabotInfo":{"showConfigurationBanner":false,"configFilePath":null,"networkDependabotPath":"/navassherif98/IBM_Data_Science_Professional_Certification/network/updates","dismissConfigurationNoticePath":"/settings/dismiss-notice/dependabot_configuration_notice","configurationNoticeDismissed":false,"repoAlertsPath":"/navassherif98/IBM_Data_Science_Professional_Certification/security/dependabot","repoSecurityAndAnalysisPath":"/navassherif98/IBM_Data_Science_Professional_Certification/settings/security_analysis","repoOwnerIsOrg":false,"currentUserCanAdminRepo":false},"displayName":"Machine Learning Prediction.ipynb","displayUrl":"https://notebooks.githubusercontent.com/view/ipynb?browser=chrome\u0026bypass_fastly=true\u0026color_mode=auto\u0026commit=4b9853f907a045130eb46d4bb8bac7ccb2bede42\u0026device=unknown_device\u0026docs_host=https%3A%2F%2Fdocs.github.com\u0026enc_url=68747470733a2f2f7261772e67697468756275736572636f6e74656e742e636f6d2f6e6176617373686572696639382f49424d5f446174615f536369656e63655f50726f66657373696f6e616c5f43657274696669636174696f6e2f346239383533663930376130343531333065623436643462623862616337636362326265646534322f31302e4170706c6965645f446174615f536369656e63655f43617073746f6e652f5765656b2532303425323050726564696374697665253230416e616c7973697325323028436c617373696669636174696f6e292f4d616368696e652532304c6561726e696e6725323050726564696374696f6e2e6970796e62\u0026logged_in=true\u0026nwo=navassherif98%2FIBM_Data_Science_Professional_Certification\u0026path=10.Applied_Data_Science_Capstone%2FWeek+4+Predictive+Analysis+%28Classification%29%2FMachine+Learning+Prediction.ipynb\u0026platform=windows\u0026repository_id=398720371\u0026repository_type=Repository\u0026version=115","headerInfo":{"blobSize":"116 KB","deleteInfo":{"deletePath":"https://github.com/navassherif98/IBM_Data_Science_Professional_Certification/delete/master/10.Applied_Data_Science_Capstone/Week%204%20Predictive%20Analysis%20(Classification)/Machine%20Learning%20Prediction.ipynb","deleteTooltip":"Fork this repository and delete the file"},"editInfo":{"editTooltip":"Fork this repository and edit the file"},"ghDesktopPath":"https://desktop.github.com","gitLfsPath":null,"onBranch":true,"shortPath":"86665cd","siteNavLoginPath":"/login?return_to=https%3A%2F%2Fgithub.com%2Fnavassherif98%2FIBM_Data_Science_Professional_Certification%2Fblob%2Fmaster%2F10.Applied_Data_Science_Capstone%2FWeek%25204%2520Predictive%2520Analysis%2520%28Classification%29%2FMachine%2520Learning%2520Prediction.ipynb","isCSV":false,"isRichtext":false,"toc":null,"lineInfo":{"truncatedLoc":"1947","truncatedSloc":"1947"},"mode":"file"},"image":false,"isCodeownersFile":null,"isValidLegacyIssueTemplate":false,"issueTemplateHelpUrl":"https://docs.github.com/articles/about-issue-and-pull-request-templates","issueTemplate":null,"discussionTemplate":null,"language":"Jupyter Notebook","large":false,"loggedIn":true,"newDiscussionPath":"/navassherif98/IBM_Data_Science_Professional_Certification/discussions/new","newIssuePath":"/navassherif98/IBM_Data_Science_Professional_Certification/issues/new","planSupportInfo":{"repoIsFork":null,"repoOwnedByCurrentUser":null,"requestFullPath":"/navassherif98/IBM_Data_Science_Professional_Certification/blob/master/10.Applied_Data_Science_Capstone/Week%204%20Predictive%20Analysis%20(Classification)/Machine%20Learning%20Prediction.ipynb","showFreeOrgGatedFeatureMessage":null,"showPlanSupportBanner":null,"upgradeDataAttributes":null,"upgradePath":null},"publishBannersInfo":{"dismissActionNoticePath":"/settings/dismiss-notice/publish_action_from_dockerfile","dismissStackNoticePath":"/settings/dismiss-notice/publish_stack_from_file","releasePath":"/navassherif98/IBM_Data_Science_Professional_Certification/releases/new?marketplace=true","showPublishActionBanner":false,"showPublishStackBanner":false},"renderImageOrRaw":false,"richText":null,"renderedFileInfo":{"identityUUID":"44c7309b-8ad3-4801-b60e-8cfc0c5b1025","renderFileType":"ipynb","size":118925},"tabSize":8,"topBannersInfo":{"overridingGlobalFundingFile":false,"globalPreferredFundingPath":null,"repoOwner":"navassherif98","repoName":"IBM_Data_Science_Professional_Certification","showInvalidCitationWarning":false,"citationHelpUrl":"https://docs.github.com/en/github/creating-cloning-and-archiving-repositories/creating-a-repository-on-github/about-citation-files","showDependabotConfigurationBanner":false,"actionsOnboardingTip":null},"truncated":false,"viewable":true,"workflowRedirectUrl":null,"symbols":{"timedOut":false,"notAnalyzed":true,"symbols":[]}},"copilotAccessInfo":{"accessAllowed":false,"hasSubscriptionEnded":false,"orgHasCFBAccess":false,"userHasCFIAccess":false,"userIsOrgAdmin":false,"userIsOrgMember":false,"business":null},"csrf_tokens":{"/navassherif98/IBM_Data_Science_Professional_Certification/branches":{"post":"loWp2xrr9UNmWc58mQ8qXRPWRyzur1ezf3f1qeMX5r--hW5DoLWPWbanEib6hdQstqTYxVAidNjlNvbvEkrOeQ"}}},"title":"IBM_Data_Science_Professional_Certification/10.Applied_Data_Science_Capstone/Week 4 Predictive Analysis (Classification)/Machine Learning Prediction.ipynb at master · navassherif98/IBM_Data_Science_Professional_Certification","locale":"en","appPayload":{"helpUrl":"https://docs.github.com","findFileWorkerPath":"/assets-cdn/worker/find-file-worker-848bb9a5da17.js","findInFileWorkerPath":"/assets-cdn/worker/find-in-file-worker-4b57095adfc5.js","githubDevUrl":"https://github.dev/","enabled_features":{"virtualize_file_tree":true,"react_repos_overview":true,"code_nav_ui_events":false,"ref_selector_v2":false,"codeview_codemirror_next_editors":false,"blob_firefox_separate_characters":true,"column_symbol_auto_select":true,"copilot_conversational_ux":false,"copilot_conversational_ux_symbols":false,"copilot_popover_file_editor_header":false,"lfs_download_button":true}}}</script>
  <div data-target="react-app.reactRoot"></div>
</react-app>
</turbo-frame>



  </div>

</turbo-frame>

    </main>
  </div>

  </div>

          <footer class="footer width-full container-xl p-responsive" role="contentinfo">
  <h2 class='sr-only'>Footer</h2>

  <div class="position-relative d-flex flex-items-center pb-2 f6 color-fg-muted border-top color-border-muted flex-column-reverse flex-lg-row flex-wrap flex-lg-nowrap mt-6 pt-6">
    <div class="list-style-none d-flex flex-wrap col-0 col-lg-2 flex-justify-start flex-lg-justify-between mb-2 mb-lg-0">
      <div class="mt-2 mt-lg-0 d-flex flex-items-center">
        <a aria-label="Homepage" title="GitHub" class="footer-octicon mr-2" href="https://github.com">
          <svg aria-hidden="true" height="24" viewBox="0 0 16 16" version="1.1" width="24" data-view-component="true" class="octicon octicon-mark-github">
    <path d="M8 0c4.42 0 8 3.58 8 8a8.013 8.013 0 0 1-5.45 7.59c-.4.08-.55-.17-.55-.38 0-.27.01-1.13.01-2.2 0-.75-.25-1.23-.54-1.48 1.78-.2 3.65-.88 3.65-3.95 0-.88-.31-1.59-.82-2.15.08-.2.36-1.02-.08-2.12 0 0-.67-.22-2.2.82-.64-.18-1.32-.27-2-.27-.68 0-1.36.09-2 .27-1.53-1.03-2.2-.82-2.2-.82-.44 1.1-.16 1.92-.08 2.12-.51.56-.82 1.28-.82 2.15 0 3.06 1.86 3.75 3.64 3.95-.23.2-.44.55-.51 1.07-.46.21-1.61.55-2.33-.66-.15-.24-.6-.83-1.23-.82-.67.01-.27.38.01.53.34.19.73.9.82 1.13.16.45.68 1.31 2.69.94 0 .67.01 1.3.01 1.49 0 .21-.15.45-.55.38A7.995 7.995 0 0 1 0 8c0-4.42 3.58-8 8-8Z"></path>
</svg>
</a>        <span>
        &copy; 2023 GitHub, Inc.
        </span>
      </div>
    </div>

    <nav aria-label='Footer' class="col-12 col-lg-8">
      <h3 class='sr-only' id='sr-footer-heading'>Footer navigation</h3>
      <ul class="list-style-none d-flex flex-wrap col-12 flex-justify-center flex-lg-justify-between mb-2 mb-lg-0" aria-labelledby='sr-footer-heading'>
          <li class="mr-3 mr-lg-0"><a href="https://docs.github.com/site-policy/github-terms/github-terms-of-service" data-analytics-event="{&quot;category&quot;:&quot;Footer&quot;,&quot;action&quot;:&quot;go to terms&quot;,&quot;label&quot;:&quot;text:terms&quot;}">Terms</a></li>
          <li class="mr-3 mr-lg-0"><a href="https://docs.github.com/site-policy/privacy-policies/github-privacy-statement" data-analytics-event="{&quot;category&quot;:&quot;Footer&quot;,&quot;action&quot;:&quot;go to privacy&quot;,&quot;label&quot;:&quot;text:privacy&quot;}">Privacy</a></li>
          <li class="mr-3 mr-lg-0"><a data-analytics-event="{&quot;category&quot;:&quot;Footer&quot;,&quot;action&quot;:&quot;go to security&quot;,&quot;label&quot;:&quot;text:security&quot;}" href="https://github.com/security">Security</a></li>
          <li class="mr-3 mr-lg-0"><a href="https://www.githubstatus.com/" data-analytics-event="{&quot;category&quot;:&quot;Footer&quot;,&quot;action&quot;:&quot;go to status&quot;,&quot;label&quot;:&quot;text:status&quot;}">Status</a></li>
          <li class="mr-3 mr-lg-0"><a data-ga-click="Footer, go to help, text:Docs" href="https://docs.github.com">Docs</a></li>
          <li class="mr-3 mr-lg-0"><a href="https://support.github.com?tags=dotcom-footer" data-analytics-event="{&quot;category&quot;:&quot;Footer&quot;,&quot;action&quot;:&quot;go to contact&quot;,&quot;label&quot;:&quot;text:contact&quot;}">Contact GitHub</a></li>
          <li class="mr-3 mr-lg-0"><a href="https://github.com/pricing" data-analytics-event="{&quot;category&quot;:&quot;Footer&quot;,&quot;action&quot;:&quot;go to Pricing&quot;,&quot;label&quot;:&quot;text:Pricing&quot;}">Pricing</a></li>
        <li class="mr-3 mr-lg-0"><a href="https://docs.github.com" data-analytics-event="{&quot;category&quot;:&quot;Footer&quot;,&quot;action&quot;:&quot;go to api&quot;,&quot;label&quot;:&quot;text:api&quot;}">API</a></li>
        <li class="mr-3 mr-lg-0"><a href="https://services.github.com" data-analytics-event="{&quot;category&quot;:&quot;Footer&quot;,&quot;action&quot;:&quot;go to training&quot;,&quot;label&quot;:&quot;text:training&quot;}">Training</a></li>
          <li class="mr-3 mr-lg-0"><a href="https://github.blog" data-analytics-event="{&quot;category&quot;:&quot;Footer&quot;,&quot;action&quot;:&quot;go to blog&quot;,&quot;label&quot;:&quot;text:blog&quot;}">Blog</a></li>
          <li><a data-ga-click="Footer, go to about, text:about" href="https://github.com/about">About</a></li>
      </ul>
    </nav>
  </div>

  <div class="d-flex flex-justify-center pb-6">
    <span class="f6 color-fg-muted"></span>
  </div>
</footer>




  <div id="ajax-error-message" class="ajax-error-message flash flash-error" hidden>
    <svg aria-hidden="true" height="16" viewBox="0 0 16 16" version="1.1" width="16" data-view-component="true" class="octicon octicon-alert">
    <path d="M6.457 1.047c.659-1.234 2.427-1.234 3.086 0l6.082 11.378A1.75 1.75 0 0 1 14.082 15H1.918a1.75 1.75 0 0 1-1.543-2.575Zm1.763.707a.25.25 0 0 0-.44 0L1.698 13.132a.25.25 0 0 0 .22.368h12.164a.25.25 0 0 0 .22-.368Zm.53 3.996v2.5a.75.75 0 0 1-1.5 0v-2.5a.75.75 0 0 1 1.5 0ZM9 11a1 1 0 1 1-2 0 1 1 0 0 1 2 0Z"></path>
</svg>
    <button type="button" class="flash-close js-ajax-error-dismiss" aria-label="Dismiss error">
      <svg aria-hidden="true" height="16" viewBox="0 0 16 16" version="1.1" width="16" data-view-component="true" class="octicon octicon-x">
    <path d="M3.72 3.72a.75.75 0 0 1 1.06 0L8 6.94l3.22-3.22a.749.749 0 0 1 1.275.326.749.749 0 0 1-.215.734L9.06 8l3.22 3.22a.749.749 0 0 1-.326 1.275.749.749 0 0 1-.734-.215L8 9.06l-3.22 3.22a.751.751 0 0 1-1.042-.018.751.751 0 0 1-.018-1.042L6.94 8 3.72 4.78a.75.75 0 0 1 0-1.06Z"></path>
</svg>
    </button>
    You can’t perform that action at this time.
  </div>

    <template id="site-details-dialog">
  <details class="details-reset details-overlay details-overlay-dark lh-default color-fg-default hx_rsm" open>
    <summary role="button" aria-label="Close dialog"></summary>
    <details-dialog class="Box Box--overlay d-flex flex-column anim-fade-in fast hx_rsm-dialog hx_rsm-modal">
      <button class="Box-btn-octicon m-0 btn-octicon position-absolute right-0 top-0" type="button" aria-label="Close dialog" data-close-dialog>
        <svg aria-hidden="true" height="16" viewBox="0 0 16 16" version="1.1" width="16" data-view-component="true" class="octicon octicon-x">
    <path d="M3.72 3.72a.75.75 0 0 1 1.06 0L8 6.94l3.22-3.22a.749.749 0 0 1 1.275.326.749.749 0 0 1-.215.734L9.06 8l3.22 3.22a.749.749 0 0 1-.326 1.275.749.749 0 0 1-.734-.215L8 9.06l-3.22 3.22a.751.751 0 0 1-1.042-.018.751.751 0 0 1-.018-1.042L6.94 8 3.72 4.78a.75.75 0 0 1 0-1.06Z"></path>
</svg>
      </button>
      <div class="octocat-spinner my-6 js-details-dialog-spinner"></div>
    </details-dialog>
  </details>
</template>

    <div class="Popover js-hovercard-content position-absolute" style="display: none; outline: none;" tabindex="0">
  <div class="Popover-message Popover-message--bottom-left Popover-message--large Box color-shadow-large" style="width:360px;">
  </div>
</div>

    <template id="snippet-clipboard-copy-button">
  <div class="zeroclipboard-container position-absolute right-0 top-0">
    <clipboard-copy aria-label="Copy" class="ClipboardButton btn js-clipboard-copy m-2 p-0 tooltipped-no-delay" data-copy-feedback="Copied!" data-tooltip-direction="w">
      <svg aria-hidden="true" height="16" viewBox="0 0 16 16" version="1.1" width="16" data-view-component="true" class="octicon octicon-copy js-clipboard-copy-icon m-2">
    <path d="M0 6.75C0 5.784.784 5 1.75 5h1.5a.75.75 0 0 1 0 1.5h-1.5a.25.25 0 0 0-.25.25v7.5c0 .138.112.25.25.25h7.5a.25.25 0 0 0 .25-.25v-1.5a.75.75 0 0 1 1.5 0v1.5A1.75 1.75 0 0 1 9.25 16h-7.5A1.75 1.75 0 0 1 0 14.25Z"></path><path d="M5 1.75C5 .784 5.784 0 6.75 0h7.5C15.216 0 16 .784 16 1.75v7.5A1.75 1.75 0 0 1 14.25 11h-7.5A1.75 1.75 0 0 1 5 9.25Zm1.75-.25a.25.25 0 0 0-.25.25v7.5c0 .138.112.25.25.25h7.5a.25.25 0 0 0 .25-.25v-7.5a.25.25 0 0 0-.25-.25Z"></path>
</svg>
      <svg aria-hidden="true" height="16" viewBox="0 0 16 16" version="1.1" width="16" data-view-component="true" class="octicon octicon-check js-clipboard-check-icon color-fg-success d-none m-2">
    <path d="M13.78 4.22a.75.75 0 0 1 0 1.06l-7.25 7.25a.75.75 0 0 1-1.06 0L2.22 9.28a.751.751 0 0 1 .018-1.042.751.751 0 0 1 1.042-.018L6 10.94l6.72-6.72a.75.75 0 0 1 1.06 0Z"></path>
</svg>
    </clipboard-copy>
  </div>
</template>
<template id="snippet-clipboard-copy-button-unpositioned">
  <div class="zeroclipboard-container">
    <clipboard-copy aria-label="Copy" class="ClipboardButton btn btn-invisible js-clipboard-copy m-2 p-0 tooltipped-no-delay d-flex flex-justify-center flex-items-center" data-copy-feedback="Copied!" data-tooltip-direction="w">
      <svg aria-hidden="true" height="16" viewBox="0 0 16 16" version="1.1" width="16" data-view-component="true" class="octicon octicon-copy js-clipboard-copy-icon">
    <path d="M0 6.75C0 5.784.784 5 1.75 5h1.5a.75.75 0 0 1 0 1.5h-1.5a.25.25 0 0 0-.25.25v7.5c0 .138.112.25.25.25h7.5a.25.25 0 0 0 .25-.25v-1.5a.75.75 0 0 1 1.5 0v1.5A1.75 1.75 0 0 1 9.25 16h-7.5A1.75 1.75 0 0 1 0 14.25Z"></path><path d="M5 1.75C5 .784 5.784 0 6.75 0h7.5C15.216 0 16 .784 16 1.75v7.5A1.75 1.75 0 0 1 14.25 11h-7.5A1.75 1.75 0 0 1 5 9.25Zm1.75-.25a.25.25 0 0 0-.25.25v7.5c0 .138.112.25.25.25h7.5a.25.25 0 0 0 .25-.25v-7.5a.25.25 0 0 0-.25-.25Z"></path>
</svg>
      <svg aria-hidden="true" height="16" viewBox="0 0 16 16" version="1.1" width="16" data-view-component="true" class="octicon octicon-check js-clipboard-check-icon color-fg-success d-none">
    <path d="M13.78 4.22a.75.75 0 0 1 0 1.06l-7.25 7.25a.75.75 0 0 1-1.06 0L2.22 9.28a.751.751 0 0 1 .018-1.042.751.751 0 0 1 1.042-.018L6 10.94l6.72-6.72a.75.75 0 0 1 1.06 0Z"></path>
</svg>
    </clipboard-copy>
  </div>
</template>


    <style>
      .user-mention[href$="/RedFoxSR"] {
        color: var(--color-user-mention-fg);
        background-color: var(--color-user-mention-bg);
        border-radius: 2px;
        margin-left: -2px;
        margin-right: -2px;
        padding: 0 2px;
      }
    </style>


    </div>

    <div id="js-global-screen-reader-notice" class="sr-only" aria-live="polite" ></div>
  </body>
</html>



